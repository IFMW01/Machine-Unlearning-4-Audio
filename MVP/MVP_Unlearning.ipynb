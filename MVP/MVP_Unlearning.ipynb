{
  "cells": [
    {
      "cell_type": "markdown",
      "metadata": {
        "id": "73M5cPJn5E7Q"
      },
      "source": [
        "\n",
        "# Speech Command Classification with torchaudio\n",
        "\n"
      ]
    },
    {
      "cell_type": "code",
      "execution_count": null,
      "metadata": {
        "id": "CypQj2ab5E7R"
      },
      "outputs": [],
      "source": [
        "import torch\n",
        "import torch.nn as nn\n",
        "import torch.nn.functional as F\n",
        "import torch.optim as optim\n",
        "import torchaudio\n",
        "import sys\n",
        "import matplotlib.pyplot as plt\n",
        "import IPython.display as ipd\n",
        "import random\n",
        "import numpy as np\n",
        "import librosa\n",
        "import pandas as pd\n",
        "import torchaudio.models as tm\n",
        "\n",
        "from random import sample\n",
        "from tqdm import tqdm\n",
        "from sklearn.model_selection import train_test_split\n",
        "from tqdm import tqdm\n",
        "from copy import deepcopy\n",
        "import torch.nn.utils.prune as prune\n",
        "\n",
        "import pandas as pd\n",
        "from sklearn.model_selection import train_test_split\n",
        "from xgboost import XGBClassifier\n",
        "from sklearn.metrics import accuracy_score, precision_score, recall_score, f1_score\n",
        "from torchvision.models import vision_transformer\n"
      ]
    },
    {
      "cell_type": "code",
      "execution_count": null,
      "metadata": {
        "colab": {
          "base_uri": "https://localhost:8080/"
        },
        "id": "Ktw49Gav5E7R",
        "outputId": "c75cade3-5b75-42aa-c971-d8b21011e1a7"
      },
      "outputs": [
        {
          "name": "stdout",
          "output_type": "stream",
          "text": [
            "cuda\n"
          ]
        }
      ],
      "source": [
        "device = torch.device(\"cuda\" if torch.cuda.is_available() else \"cpu\")\n",
        "print(device)"
      ]
    },
    {
      "cell_type": "code",
      "execution_count": null,
      "metadata": {
        "id": "4zyLsNZw5E7S"
      },
      "outputs": [],
      "source": [
        "from torchaudio.datasets import SPEECHCOMMANDS\n",
        "import os\n",
        "\n",
        "class SubsetSC(SPEECHCOMMANDS):\n",
        "    def __init__(self, subset: str = None):\n",
        "        super().__init__(\"./\", download=True)\n",
        "\n",
        "        def load_list(filename):\n",
        "            filepath = os.path.join(self._path, filename)\n",
        "            with open(filepath) as fileobj:\n",
        "                return [os.path.normpath(os.path.join(self._path, line.strip())) for line in fileobj]\n",
        "\n",
        "        if subset == \"validation\":\n",
        "            self._walker = load_list(\"validation_list.txt\")\n",
        "        elif subset == \"testing\":\n",
        "            self._walker = load_list(\"testing_list.txt\")\n",
        "        elif subset == \"training\":\n",
        "            excludes = load_list(\"validation_list.txt\") + load_list(\"testing_list.txt\")\n",
        "            excludes = set(excludes)\n",
        "            filepath = os.path.join(self._path, 'training_list.txt')\n",
        "            self._walker = [w for w in self._walker if w not in excludes]\n",
        "            \n",
        "        elif subset == \"all\":\n",
        "            self._walker = [w for w in self._walker]\n",
        "\n"
      ]
    },
    {
      "cell_type": "code",
      "execution_count": null,
      "metadata": {
        "id": "cDr7KhyBzMDa"
      },
      "outputs": [],
      "source": [
        "class WavToSpec(torch.nn.Module):\n",
        "    def __init__(\n",
        "        self,\n",
        "        input_freq=16000,\n",
        "        resample_freq=16000,\n",
        "        n_fft=1024,\n",
        "        n_mel=32,\n",
        "        stretch_factor=0.8,\n",
        "    ):\n",
        "        super().__init__()\n",
        "\n",
        "        self.spec = torchaudio.transforms.Spectrogram(n_fft=n_fft, power=2)\n",
        "\n",
        "        self.mel_scale = torchaudio.transforms.MelScale(\n",
        "            n_mels=n_mel, sample_rate=resample_freq, n_stft=n_fft // 2 + 1)\n",
        "\n",
        "    def forward(self, waveform: torch.Tensor) -> torch.Tensor:\n",
        "        spec = self.spec(waveform)\n",
        "        spec = torch.from_numpy(librosa.power_to_db(spec))\n",
        "\n",
        "        return spec"
      ]
    },
    {
      "cell_type": "code",
      "execution_count": null,
      "metadata": {
        "id": "oGvtVB0tzOoL"
      },
      "outputs": [],
      "source": [
        "class MelSpectogram(torch.nn.Module):\n",
        "    def __init__(\n",
        "        self,\n",
        "        input_freq=16000,\n",
        "        resample_freq=16000,\n",
        "        n_fft=1024,\n",
        "        n_mel=32,\n",
        "        stretch_factor=0.8,\n",
        "    ):\n",
        "        super().__init__()\n",
        "\n",
        "        self.spec = torchaudio.transforms.Spectrogram(n_fft=n_fft, power=2)\n",
        "\n",
        "        self.mel_scale = torchaudio.transforms.MelScale(\n",
        "            n_mels=n_mel, sample_rate=resample_freq, n_stft=n_fft // 2 + 1)\n",
        "\n",
        "    def forward(self, waveform: torch.Tensor) -> torch.Tensor:\n",
        "        spec = self.spec(waveform)\n",
        "\n",
        "        mel = self.mel_scale(spec)\n",
        "\n",
        "        return mel"
      ]
    },
    {
      "cell_type": "code",
      "execution_count": null,
      "metadata": {
        "id": "BuRBYPnZzRhw"
      },
      "outputs": [],
      "source": [
        "pipeline_to_mel = MelSpectogram()"
      ]
    },
    {
      "cell_type": "code",
      "execution_count": null,
      "metadata": {
        "id": "dQup0UoUpBeX"
      },
      "outputs": [],
      "source": [
        "transform = torchaudio.transforms.Resample(orig_freq=16000, new_freq=8000)"
      ]
    },
    {
      "cell_type": "code",
      "execution_count": null,
      "metadata": {
        "colab": {
          "base_uri": "https://localhost:8080/"
        },
        "id": "BQ9mZinEzevX",
        "outputId": "4d846bb7-db40-42b0-94c9-d016fcd0fb1e"
      },
      "outputs": [
        {
          "name": "stderr",
          "output_type": "stream",
          "text": [
            "100%|██████████| 2.26G/2.26G [01:41<00:00, 23.9MB/s]\n"
          ]
        }
      ],
      "source": [
        "train_set = SubsetSC(\"training\")\n",
        "test_set = SubsetSC(\"testing\")\n",
        "valid_set = SubsetSC(\"validation\")\n",
        "all_set = SubsetSC(\"all\")"
      ]
    },
    {
      "cell_type": "code",
      "execution_count": null,
      "metadata": {
        "id": "ypXyPL-MvOWA"
      },
      "outputs": [],
      "source": [
        "def pad_dataset(dataset,max):\n",
        "  max = max\n",
        "  converted_datset = []\n",
        "  for datum in tqdm(dataset):\n",
        "    if datum[0].shape[1]<max:\n",
        "        pad_datum =nn.ConstantPad1d((0, max - datum[0].shape[1]), 0)(datum[0])\n",
        "        converted_datset.append((transform(pad_datum),datum[1], datum[2],datum[3], datum[4] ))\n",
        "    else:\n",
        "      converted_datset.append((transform(datum[0]),datum[1], datum[2],datum[3], datum[4] ))\n",
        "  return converted_datset"
      ]
    },
    {
      "cell_type": "code",
      "execution_count": null,
      "metadata": {
        "colab": {
          "base_uri": "https://localhost:8080/"
        },
        "id": "hC9CIaj-vXb0",
        "outputId": "c358b91b-c185-456d-9d42-82581f27daed"
      },
      "outputs": [
        {
          "name": "stderr",
          "output_type": "stream",
          "text": [
            "100%|██████████| 84843/84843 [06:31<00:00, 216.68it/s]\n",
            "100%|██████████| 11005/11005 [00:58<00:00, 189.01it/s]\n",
            "100%|██████████| 9981/9981 [00:52<00:00, 188.46it/s]\n"
          ]
        }
      ],
      "source": [
        "# train_set_pad = pad_dataset(train_set,16000)\n",
        "# test_set_pad = pad_dataset(test_set,16000)\n",
        "# valid_set_pad = pad_dataset(valid_set,16000)"
      ]
    },
    {
      "cell_type": "code",
      "execution_count": null,
      "metadata": {
        "id": "Zlyh5iQinl6s"
      },
      "outputs": [],
      "source": [
        "def convert_waveform(dataset,pipeline,max):\n",
        "  max = max\n",
        "  converted_datset = []\n",
        "  for datum in tqdm(dataset):\n",
        "    if datum[0].shape[1]<max:\n",
        "        pad_datum =nn.ConstantPad1d((0, max - datum[0].shape[1]), 0)(datum[0])\n",
        "        converted_datset.append((pipeline(transform(pad_datum)),datum[1], datum[2],datum[3], datum[4] ))\n",
        "    else:\n",
        "      converted_datset.append((pipeline(transform(datum[0])),datum[1], datum[2],datum[3], datum[4] ))\n",
        "  return converted_datset\n"
      ]
    },
    {
      "cell_type": "code",
      "execution_count": null,
      "metadata": {
        "colab": {
          "base_uri": "https://localhost:8080/"
        },
        "id": "mJxFZcg4xIYC",
        "outputId": "33fe578a-a016-4f5a-e44b-bf5194c502c8"
      },
      "outputs": [
        {
          "name": "stderr",
          "output_type": "stream",
          "text": [
            "100%|██████████| 84843/84843 [07:18<00:00, 193.67it/s]\n",
            "100%|██████████| 11005/11005 [00:54<00:00, 200.41it/s]\n",
            "100%|██████████| 9981/9981 [01:15<00:00, 131.41it/s]\n"
          ]
        }
      ],
      "source": [
        "train_mel = convert_waveform(train_set,pipeline_to_mel,16000)\n",
        "test_mel = convert_waveform(test_set,pipeline_to_mel,16000)\n",
        "valid_mel = convert_waveform(valid_set,pipeline_to_mel,16000)"
      ]
    },
    {
      "cell_type": "code",
      "execution_count": null,
      "metadata": {
        "id": "zwamob8bd5jf"
      },
      "outputs": [],
      "source": [
        "# labels = sorted(list(set(datapoint[2] for datapoint in train_set)))\n",
        "labels = ['backward','bed','bird','cat','dog','down','eight','five','follow','forward','four',\n",
        "          'go','happy','house','learn','left','marvin','nine','no','off','on','one','right',\n",
        "          'seven','sheila','six','stop','three','tree','two','up','visual','wow','yes','zero']"
      ]
    },
    {
      "cell_type": "code",
      "execution_count": null,
      "metadata": {
        "id": "Lar9Bdiql_x6"
      },
      "outputs": [],
      "source": [
        "def label_to_index(word):\n",
        "    return torch.tensor(labels.index(word))\n",
        "\n",
        "def index_to_label(index):\n",
        "    return labels[index]"
      ]
    },
    {
      "cell_type": "markdown",
      "metadata": {
        "id": "lEsJPA37m4fv"
      },
      "source": [
        "# Getting train and test loaders"
      ]
    },
    {
      "cell_type": "code",
      "execution_count": null,
      "metadata": {
        "id": "39Odzbxsm73-"
      },
      "outputs": [],
      "source": [
        "def collate_fn(batch):\n",
        "\n",
        "    tensors, targets = [], []\n",
        "\n",
        "    for waveform, _, label, *_ in batch:\n",
        "        tensors += [waveform]\n",
        "        targets += [label_to_index(label)]\n",
        "    targets = torch.stack(targets)\n",
        "    tensors = torch.stack(tensors)\n",
        "    return tensors, targets"
      ]
    },
    {
      "cell_type": "code",
      "execution_count": null,
      "metadata": {
        "id": "kMZSxqL1k2lj"
      },
      "outputs": [],
      "source": [
        "def loaders(batch_size,train_mel,valid_mel,test_mel):\n",
        "  train_loader = torch.utils.data.DataLoader(\n",
        "      train_mel,\n",
        "      batch_size=batch_size,\n",
        "      shuffle=True,\n",
        "      num_workers=2,\n",
        "      pin_memory=True,\n",
        "      collate_fn = collate_fn\n",
        "  )\n",
        "\n",
        "  valid_loader = torch.utils.data.DataLoader(\n",
        "      valid_mel,\n",
        "      batch_size=batch_size,\n",
        "      shuffle=False,\n",
        "      num_workers=2,\n",
        "      pin_memory=True,\n",
        "      collate_fn = collate_fn\n",
        "  )\n",
        "\n",
        "  test_loader = torch.utils.data.DataLoader(\n",
        "      test_mel,\n",
        "      batch_size=batch_size,\n",
        "      shuffle=False,\n",
        "      drop_last=False,\n",
        "      num_workers=2,\n",
        "      pin_memory=True,\n",
        "      collate_fn = collate_fn\n",
        "  )\n",
        "  return train_loader,valid_loader,test_loader"
      ]
    },
    {
      "cell_type": "markdown",
      "metadata": {
        "id": "s5wUNG9_t_TP"
      },
      "source": [
        "# Model Architecture"
      ]
    },
    {
      "cell_type": "code",
      "execution_count": null,
      "metadata": {
        "id": "FsDEG9Me4_a5"
      },
      "outputs": [],
      "source": [
        "class VGGish(nn.Module):\n",
        "    def __init__(self,num_classes):\n",
        "        super(VGGish, self).__init__()\n",
        "        self.features = nn.Sequential(\n",
        "            nn.Conv2d(1, 64, kernel_size=3, padding=1),\n",
        "            nn.ReLU(inplace=True),\n",
        "            nn.MaxPool2d(2, 2),\n",
        "            nn.Conv2d(64, 128, kernel_size=3, padding=1),\n",
        "            nn.ReLU(inplace=True),\n",
        "            nn.MaxPool2d(2, 2),\n",
        "            nn.Conv2d(128, 256, kernel_size=3, padding=1),\n",
        "            nn.ReLU(inplace=True),\n",
        "            nn.Conv2d(256, 256, kernel_size=3, padding=1),\n",
        "            nn.ReLU(inplace=True),\n",
        "            nn.MaxPool2d(2, 2),\n",
        "            nn.Conv2d(256, 512, kernel_size=3, padding=1),\n",
        "            nn.ReLU(inplace=True),\n",
        "            nn.Conv2d(512, 512, kernel_size=3, padding=1),\n",
        "            nn.ReLU(inplace=True),\n",
        "            nn.MaxPool2d(2, 2))\n",
        "        self.embeddings = nn.Sequential(\n",
        "            nn.Linear(1024, 2048),\n",
        "            nn.ReLU(inplace=True),\n",
        "            nn.Linear(2048, 4096),\n",
        "            nn.ReLU(inplace=True),\n",
        "            nn.Linear(4096, num_classes))\n",
        "\n",
        "    def forward(self, x):\n",
        "        x = self.features(x)\n",
        "        x = torch.flatten(x, 1)\n",
        "        x = self.embeddings(x)\n",
        "        return x"
      ]
    },
    {
      "cell_type": "code",
      "execution_count": null,
      "metadata": {
        "id": "eUow6qLlx617"
      },
      "outputs": [],
      "source": [
        "class VGG9(nn.Module):\n",
        "    def __init__(self, in_channels, num_classes):\n",
        "        super(VGG9, self).__init__()\n",
        "        self.features = nn.Sequential(\n",
        "            nn.Conv2d(in_channels, 64, kernel_size=3, padding=1),\n",
        "            nn.ReLU(inplace=True),\n",
        "            nn.MaxPool2d(kernel_size=2, stride=2),\n",
        "            nn.Conv2d(64, 128, kernel_size=3, padding=1),\n",
        "            nn.ReLU(inplace=True),\n",
        "            nn.MaxPool2d(kernel_size=2, stride=2),\n",
        "            nn.Conv2d(128, 256, kernel_size=3, padding=1),\n",
        "            nn.ReLU(inplace=True),\n",
        "            nn.Conv2d(256, 256, kernel_size=3, padding=1),\n",
        "            nn.ReLU(inplace=True),\n",
        "            nn.MaxPool2d(kernel_size=2, stride=2),\n",
        "            nn.Conv2d(256, 512, kernel_size=3, padding=1),\n",
        "            nn.ReLU(inplace=True),\n",
        "            nn.Conv2d(512, 512, kernel_size=3, padding=1),\n",
        "            nn.ReLU(inplace=True),\n",
        "            nn.MaxPool2d(kernel_size=2, stride=2)\n",
        "        )\n",
        "        self.classifier = nn.Sequential(\n",
        "            nn.Linear(256 * 32 * 32, 4096),\n",
        "            nn.ReLU(inplace=True),\n",
        "            nn.Dropout(),\n",
        "            nn.Linear(4096, 4096),\n",
        "            nn.ReLU(inplace=True),\n",
        "            nn.Dropout(),\n",
        "            nn.Linear(4096, num_classes),\n",
        "        )\n",
        "\n",
        "    def forward(self, x):\n",
        "        x = self.features(x)\n",
        "        x = torch.flatten(x, 1)\n",
        "        x = self.classifier(x)\n",
        "        return x\n",
        "\n"
      ]
    },
    {
      "cell_type": "markdown",
      "metadata": {
        "id": "1D3JpVhjJhe4"
      },
      "source": [
        "# WAV2VEC 2.0"
      ]
    },
    {
      "cell_type": "markdown",
      "metadata": {
        "id": "Ht6Qc4y3wOGu"
      },
      "source": [
        "https://juliusruseckas.github.io/ml/audio-transformer.html"
      ]
    },
    {
      "cell_type": "code",
      "execution_count": null,
      "metadata": {
        "id": "5-5E4eUVc-a3"
      },
      "outputs": [],
      "source": [
        "class ModelConfig:\n",
        "    input_dim = 1\n",
        "    dim = 32\n",
        "    mlp_dim = 128\n",
        "    n_transformer_blocks = 8\n",
        "    heads = 8\n",
        "    feature_extractor_layers = [(10, 5)] + [(3, 2)] * 4\n",
        "    pos_kernel_size = 65\n",
        "    num_classes = len(labels)\n",
        "    feature_extractor_p_drop = 0.1\n",
        "    pos_p_drop = 0.1\n",
        "    attn_p_drop = 0.1\n",
        "    head_p_drop = 0.1\n",
        "\n",
        "    def __init__(self, **kwargs):\n",
        "        for k, v in kwargs.items():\n",
        "            setattr(self, k, v)\n",
        "class TransposeLast(nn.Module):\n",
        "    def forward(self, x):\n",
        "        return x.transpose(-2, -1)\n",
        "class ConvBlock(nn.Sequential):\n",
        "    def __init__(self, input_dim, output_dim, kernel_size, stride, p_drop=0.):\n",
        "        super().__init__(\n",
        "            nn.Conv1d(input_dim, output_dim, kernel_size=kernel_size, stride=stride, bias=False),\n",
        "            nn.Dropout(p_drop),\n",
        "            TransposeLast(),\n",
        "            nn.LayerNorm(output_dim),\n",
        "            TransposeLast(),\n",
        "            nn.GELU()\n",
        "        )\n",
        "class ConvFeatureExtractor(nn.Sequential):\n",
        "    def __init__(self, cfg):\n",
        "        dim = cfg.dim\n",
        "        p_drop = cfg.feature_extractor_p_drop\n",
        "\n",
        "        layers = []\n",
        "        in_dim = cfg.input_dim\n",
        "        for kernel_size, stride in cfg.feature_extractor_layers:\n",
        "            layers.append(ConvBlock(in_dim, dim, kernel_size, stride, p_drop))\n",
        "            in_dim = dim\n",
        "        super().__init__(*layers)\n",
        "\n",
        "# TRANSFORMER ENCODER\n",
        "class Residual(nn.Module):\n",
        "    def __init__(self, *layers):\n",
        "        super().__init__()\n",
        "        self.residual = nn.Sequential(*layers)\n",
        "\n",
        "    def forward(self, x):\n",
        "        return x + self.residual(x)\n",
        "class FeedForward(nn.Sequential):\n",
        "    def __init__(self, dim, hidden_dim, p_drop=0.):\n",
        "        super().__init__(\n",
        "            nn.Linear(dim, hidden_dim),\n",
        "            nn.GELU(),\n",
        "            nn.Dropout(p_drop),\n",
        "            nn.Linear(hidden_dim, dim),\n",
        "            nn.Dropout(p_drop)\n",
        "        )\n",
        "class SelfAttention(nn.Module):\n",
        "    def __init__(self, dim, heads=8, p_drop=0.):\n",
        "        super().__init__()\n",
        "        self.heads = heads\n",
        "\n",
        "        self.to_keys = nn.Linear(dim, dim)\n",
        "        self.to_queries = nn.Linear(dim, dim)\n",
        "        self.to_values = nn.Linear(dim, dim)\n",
        "        self.unifyheads = nn.Linear(dim, dim)\n",
        "\n",
        "        self.attn_drop = nn.Dropout(p_drop)\n",
        "        self.resid_drop = nn.Dropout(p_drop)\n",
        "\n",
        "    def forward(self, x):\n",
        "        b, t, d = x.size()\n",
        "        h, d_q = self.heads, d // self.heads\n",
        "\n",
        "        keys = self.to_keys(x).view(b, t, h, d_q).transpose(1, 2) # move head forward to the batch dim\n",
        "        queries = self.to_queries(x).view(b, t, h, d_q).transpose(1, 2)\n",
        "        values = self.to_values(x).view(b, t, h, d_q).transpose(1, 2)\n",
        "\n",
        "        att = queries @ keys.transpose(-2, -1)\n",
        "        att = F.softmax(att * d_q**-0.5, dim=-1)\n",
        "        att = self.attn_drop(att)\n",
        "\n",
        "        out = att @ values\n",
        "        out = out.transpose(1, 2).contiguous().view(b, t, d) # move head back\n",
        "        out = self.unifyheads(out)\n",
        "        out = self.resid_drop(out)\n",
        "        return out\n",
        "class Block(nn.Sequential):\n",
        "    def __init__(self, dim, heads, mlp_dim, p_drop):\n",
        "        super().__init__(\n",
        "            Residual(nn.LayerNorm(dim), SelfAttention(dim, heads, p_drop)),\n",
        "            Residual(nn.LayerNorm(dim), FeedForward(dim, mlp_dim, p_drop))\n",
        "        )\n",
        "class TransformerBlocks(nn.Sequential):\n",
        "    def __init__(self, dim, depth, heads, mlp_dim, p_drop):\n",
        "        layers = [Block(dim, heads, mlp_dim, p_drop) for _ in range(depth)]\n",
        "        super().__init__(*layers)\n",
        "class PositionEncoding(nn.Module):\n",
        "    def __init__(self, dim, kernel_size, p_drop=0.):\n",
        "        super().__init__()\n",
        "        padding = (kernel_size - 1) // 2\n",
        "        self.pos_conv = nn.Sequential(\n",
        "            nn.Conv1d(dim, dim, kernel_size=kernel_size, padding=padding),\n",
        "            nn.GELU()\n",
        "        )\n",
        "        self.dropout = nn.Dropout(p_drop)\n",
        "\n",
        "    def forward(self, x):\n",
        "        x = x + self.pos_conv(x)\n",
        "        x = x.transpose(1, 2)\n",
        "        x = self.dropout(x)\n",
        "        return x\n",
        "class TransformerEncoder(nn.Sequential):\n",
        "    def __init__(self, cfg):\n",
        "        dim = cfg.dim\n",
        "        super().__init__(\n",
        "            PositionEncoding(dim, cfg.pos_kernel_size, cfg.pos_p_drop),\n",
        "            TransformerBlocks(dim, cfg.n_transformer_blocks, cfg.heads, cfg.mlp_dim, cfg.attn_p_drop)\n",
        "        )\n",
        "\n",
        "# MODEL\n",
        "\n",
        "class Head(nn.Sequential):\n",
        "    def __init__(self, dim, hidden_dim, num_classes, p_drop=0.):\n",
        "        super().__init__(\n",
        "            nn.LayerNorm(dim),\n",
        "            TransposeLast(),\n",
        "            nn.AdaptiveAvgPool1d(1),\n",
        "            nn.Flatten(),\n",
        "            nn.Linear(dim, hidden_dim),\n",
        "            nn.GELU(),\n",
        "            nn.Dropout(p_drop),\n",
        "            nn.Linear(hidden_dim, num_classes)\n",
        "        )\n",
        "\n",
        "class TransformerModel(nn.Sequential):\n",
        "    def __init__(self, cfg):\n",
        "        super().__init__(\n",
        "            ConvFeatureExtractor(cfg),\n",
        "            TransformerEncoder(cfg),\n",
        "            Head(cfg.dim, cfg.mlp_dim, cfg.num_classes, cfg.head_p_drop)\n",
        "        )\n",
        "        self.reset_parameters()\n",
        "\n",
        "    def reset_parameters(self):\n",
        "        for m in self.modules():\n",
        "            if isinstance(m, nn.Linear):\n",
        "                nn.init.normal_(m.weight, mean=0.0, std=0.02)\n",
        "                if m.bias is not None: nn.init.zeros_(m.bias)\n",
        "            elif isinstance(m, nn.LayerNorm):\n",
        "                nn.init.constant_(m.weight, 1.)\n",
        "                nn.init.zeros_(m.bias)\n",
        "            elif isinstance(m, nn.Conv1d):\n",
        "                nn.init.kaiming_normal_(m.weight)\n",
        "                if m.bias is not None: nn.init.zeros_(m.bias)\n",
        "\n",
        "    def separate_parameters(self):\n",
        "        # biases, and layernorm weights will not be decayed for regularization\n",
        "        parameters_decay = set()\n",
        "        parameters_no_decay = set()\n",
        "        modules_weight_decay = (nn.Linear, nn.Conv1d)\n",
        "        modules_no_weight_decay = (nn.LayerNorm, )\n",
        "\n",
        "        for m_name, m in self.named_modules():\n",
        "            for param_name, param in m.named_parameters():\n",
        "                full_param_name = f\"{m_name}.{param_name}\" if m_name else param_name\n",
        "\n",
        "                if isinstance(m, modules_no_weight_decay):\n",
        "                    parameters_no_decay.add(full_param_name)\n",
        "                elif param_name.endswith(\"bias\"):\n",
        "                    parameters_no_decay.add(full_param_name)\n",
        "                elif isinstance(m, modules_weight_decay):\n",
        "                    parameters_decay.add(full_param_name)\n",
        "\n",
        "        return parameters_decay, parameters_no_decay"
      ]
    },
    {
      "cell_type": "code",
      "execution_count": null,
      "metadata": {
        "id": "vGv2YrN7q-Ir"
      },
      "outputs": [],
      "source": [
        "my_conf = ModelConfig()\n",
        "model_vit = TransformerModel(my_conf)\n",
        "model_vit.to(device);"
      ]
    },
    {
      "cell_type": "markdown",
      "metadata": {
        "id": "64yT-pcCOYYD"
      },
      "source": [
        "# Basic Vision Transformer"
      ]
    },
    {
      "cell_type": "code",
      "execution_count": null,
      "metadata": {
        "colab": {
          "base_uri": "https://localhost:8080/"
        },
        "id": "C4kN_CtEO64a",
        "outputId": "43e286ec-28ff-4af2-93aa-847b61d1b7db"
      },
      "outputs": [
        {
          "name": "stdout",
          "output_type": "stream",
          "text": [
            "Collecting vit-pytorch\n",
            "  Downloading vit_pytorch-1.6.5-py3-none-any.whl (100 kB)\n",
            "\u001b[?25l     \u001b[90m━━━━━━━━━━━━━━━━━━━━━━━━━━━━━━━━━━━━━━━━\u001b[0m \u001b[32m0.0/100.3 kB\u001b[0m \u001b[31m?\u001b[0m eta \u001b[36m-:--:--\u001b[0m\r\u001b[2K     \u001b[91m━━━━━━━━━━━━━━━━━━━━━━━━\u001b[0m\u001b[91m╸\u001b[0m\u001b[90m━━━━━━━━━━━━━━━\u001b[0m \u001b[32m61.4/100.3 kB\u001b[0m \u001b[31m1.7 MB/s\u001b[0m eta \u001b[36m0:00:01\u001b[0m\r\u001b[2K     \u001b[90m━━━━━━━━━━━━━━━━━━━━━━━━━━━━━━━━━━━━━━━━\u001b[0m \u001b[32m100.3/100.3 kB\u001b[0m \u001b[31m2.0 MB/s\u001b[0m eta \u001b[36m0:00:00\u001b[0m\n",
            "\u001b[?25hCollecting einops>=0.7.0 (from vit-pytorch)\n",
            "  Downloading einops-0.7.0-py3-none-any.whl (44 kB)\n",
            "\u001b[?25l     \u001b[90m━━━━━━━━━━━━━━━━━━━━━━━━━━━━━━━━━━━━━━━━\u001b[0m \u001b[32m0.0/44.6 kB\u001b[0m \u001b[31m?\u001b[0m eta \u001b[36m-:--:--\u001b[0m\r\u001b[2K     \u001b[90m━━━━━━━━━━━━━━━━━━━━━━━━━━━━━━━━━━━━━━━━\u001b[0m \u001b[32m44.6/44.6 kB\u001b[0m \u001b[31m6.2 MB/s\u001b[0m eta \u001b[36m0:00:00\u001b[0m\n",
            "\u001b[?25hRequirement already satisfied: torch>=1.10 in /usr/local/lib/python3.10/dist-packages (from vit-pytorch) (2.2.1+cu121)\n",
            "Requirement already satisfied: torchvision in /usr/local/lib/python3.10/dist-packages (from vit-pytorch) (0.17.1+cu121)\n",
            "Requirement already satisfied: filelock in /usr/local/lib/python3.10/dist-packages (from torch>=1.10->vit-pytorch) (3.13.3)\n",
            "Requirement already satisfied: typing-extensions>=4.8.0 in /usr/local/lib/python3.10/dist-packages (from torch>=1.10->vit-pytorch) (4.10.0)\n",
            "Requirement already satisfied: sympy in /usr/local/lib/python3.10/dist-packages (from torch>=1.10->vit-pytorch) (1.12)\n",
            "Requirement already satisfied: networkx in /usr/local/lib/python3.10/dist-packages (from torch>=1.10->vit-pytorch) (3.2.1)\n",
            "Requirement already satisfied: jinja2 in /usr/local/lib/python3.10/dist-packages (from torch>=1.10->vit-pytorch) (3.1.3)\n",
            "Requirement already satisfied: fsspec in /usr/local/lib/python3.10/dist-packages (from torch>=1.10->vit-pytorch) (2023.6.0)\n",
            "Collecting nvidia-cuda-nvrtc-cu12==12.1.105 (from torch>=1.10->vit-pytorch)\n",
            "  Downloading nvidia_cuda_nvrtc_cu12-12.1.105-py3-none-manylinux1_x86_64.whl (23.7 MB)\n",
            "\u001b[2K     \u001b[90m━━━━━━━━━━━━━━━━━━━━━━━━━━━━━━━━━━━━━━━━\u001b[0m \u001b[32m23.7/23.7 MB\u001b[0m \u001b[31m38.1 MB/s\u001b[0m eta \u001b[36m0:00:00\u001b[0m\n",
            "\u001b[?25hCollecting nvidia-cuda-runtime-cu12==12.1.105 (from torch>=1.10->vit-pytorch)\n",
            "  Downloading nvidia_cuda_runtime_cu12-12.1.105-py3-none-manylinux1_x86_64.whl (823 kB)\n",
            "\u001b[2K     \u001b[90m━━━━━━━━━━━━━━━━━━━━━━━━━━━━━━━━━━━━━━━━\u001b[0m \u001b[32m823.6/823.6 kB\u001b[0m \u001b[31m18.7 MB/s\u001b[0m eta \u001b[36m0:00:00\u001b[0m\n",
            "\u001b[?25hCollecting nvidia-cuda-cupti-cu12==12.1.105 (from torch>=1.10->vit-pytorch)\n",
            "  Downloading nvidia_cuda_cupti_cu12-12.1.105-py3-none-manylinux1_x86_64.whl (14.1 MB)\n",
            "\u001b[2K     \u001b[90m━━━━━━━━━━━━━━━━━━━━━━━━━━━━━━━━━━━━━━━━\u001b[0m \u001b[32m14.1/14.1 MB\u001b[0m \u001b[31m39.4 MB/s\u001b[0m eta \u001b[36m0:00:00\u001b[0m\n",
            "\u001b[?25hCollecting nvidia-cudnn-cu12==8.9.2.26 (from torch>=1.10->vit-pytorch)\n",
            "  Downloading nvidia_cudnn_cu12-8.9.2.26-py3-none-manylinux1_x86_64.whl (731.7 MB)\n",
            "\u001b[2K     \u001b[90m━━━━━━━━━━━━━━━━━━━━━━━━━━━━━━━━━━━━━━━━\u001b[0m \u001b[32m731.7/731.7 MB\u001b[0m \u001b[31m2.2 MB/s\u001b[0m eta \u001b[36m0:00:00\u001b[0m\n",
            "\u001b[?25hCollecting nvidia-cublas-cu12==12.1.3.1 (from torch>=1.10->vit-pytorch)\n",
            "  Downloading nvidia_cublas_cu12-12.1.3.1-py3-none-manylinux1_x86_64.whl (410.6 MB)\n",
            "\u001b[2K     \u001b[90m━━━━━━━━━━━━━━━━━━━━━━━━━━━━━━━━━━━━━━━━\u001b[0m \u001b[32m410.6/410.6 MB\u001b[0m \u001b[31m2.5 MB/s\u001b[0m eta \u001b[36m0:00:00\u001b[0m\n",
            "\u001b[?25hCollecting nvidia-cufft-cu12==11.0.2.54 (from torch>=1.10->vit-pytorch)\n",
            "  Downloading nvidia_cufft_cu12-11.0.2.54-py3-none-manylinux1_x86_64.whl (121.6 MB)\n",
            "\u001b[2K     \u001b[90m━━━━━━━━━━━━━━━━━━━━━━━━━━━━━━━━━━━━━━━━\u001b[0m \u001b[32m121.6/121.6 MB\u001b[0m \u001b[31m10.5 MB/s\u001b[0m eta \u001b[36m0:00:00\u001b[0m\n",
            "\u001b[?25hCollecting nvidia-curand-cu12==10.3.2.106 (from torch>=1.10->vit-pytorch)\n",
            "  Downloading nvidia_curand_cu12-10.3.2.106-py3-none-manylinux1_x86_64.whl (56.5 MB)\n",
            "\u001b[2K     \u001b[90m━━━━━━━━━━━━━━━━━━━━━━━━━━━━━━━━━━━━━━━━\u001b[0m \u001b[32m56.5/56.5 MB\u001b[0m \u001b[31m14.7 MB/s\u001b[0m eta \u001b[36m0:00:00\u001b[0m\n",
            "\u001b[?25hCollecting nvidia-cusolver-cu12==11.4.5.107 (from torch>=1.10->vit-pytorch)\n",
            "  Downloading nvidia_cusolver_cu12-11.4.5.107-py3-none-manylinux1_x86_64.whl (124.2 MB)\n",
            "\u001b[2K     \u001b[90m━━━━━━━━━━━━━━━━━━━━━━━━━━━━━━━━━━━━━━━━\u001b[0m \u001b[32m124.2/124.2 MB\u001b[0m \u001b[31m10.4 MB/s\u001b[0m eta \u001b[36m0:00:00\u001b[0m\n",
            "\u001b[?25hCollecting nvidia-cusparse-cu12==12.1.0.106 (from torch>=1.10->vit-pytorch)\n",
            "  Downloading nvidia_cusparse_cu12-12.1.0.106-py3-none-manylinux1_x86_64.whl (196.0 MB)\n",
            "\u001b[2K     \u001b[90m━━━━━━━━━━━━━━━━━━━━━━━━━━━━━━━━━━━━━━━━\u001b[0m \u001b[32m196.0/196.0 MB\u001b[0m \u001b[31m5.6 MB/s\u001b[0m eta \u001b[36m0:00:00\u001b[0m\n",
            "\u001b[?25hCollecting nvidia-nccl-cu12==2.19.3 (from torch>=1.10->vit-pytorch)\n",
            "  Downloading nvidia_nccl_cu12-2.19.3-py3-none-manylinux1_x86_64.whl (166.0 MB)\n",
            "\u001b[2K     \u001b[90m━━━━━━━━━━━━━━━━━━━━━━━━━━━━━━━━━━━━━━━━\u001b[0m \u001b[32m166.0/166.0 MB\u001b[0m \u001b[31m7.9 MB/s\u001b[0m eta \u001b[36m0:00:00\u001b[0m\n",
            "\u001b[?25hCollecting nvidia-nvtx-cu12==12.1.105 (from torch>=1.10->vit-pytorch)\n",
            "  Downloading nvidia_nvtx_cu12-12.1.105-py3-none-manylinux1_x86_64.whl (99 kB)\n",
            "\u001b[2K     \u001b[90m━━━━━━━━━━━━━━━━━━━━━━━━━━━━━━━━━━━━━━━━\u001b[0m \u001b[32m99.1/99.1 kB\u001b[0m \u001b[31m15.7 MB/s\u001b[0m eta \u001b[36m0:00:00\u001b[0m\n",
            "\u001b[?25hRequirement already satisfied: triton==2.2.0 in /usr/local/lib/python3.10/dist-packages (from torch>=1.10->vit-pytorch) (2.2.0)\n",
            "Collecting nvidia-nvjitlink-cu12 (from nvidia-cusolver-cu12==11.4.5.107->torch>=1.10->vit-pytorch)\n",
            "  Downloading nvidia_nvjitlink_cu12-12.4.99-py3-none-manylinux2014_x86_64.whl (21.1 MB)\n",
            "\u001b[2K     \u001b[90m━━━━━━━━━━━━━━━━━━━━━━━━━━━━━━━━━━━━━━━━\u001b[0m \u001b[32m21.1/21.1 MB\u001b[0m \u001b[31m74.4 MB/s\u001b[0m eta \u001b[36m0:00:00\u001b[0m\n",
            "\u001b[?25hRequirement already satisfied: numpy in /usr/local/lib/python3.10/dist-packages (from torchvision->vit-pytorch) (1.25.2)\n",
            "Requirement already satisfied: pillow!=8.3.*,>=5.3.0 in /usr/local/lib/python3.10/dist-packages (from torchvision->vit-pytorch) (9.4.0)\n",
            "Requirement already satisfied: MarkupSafe>=2.0 in /usr/local/lib/python3.10/dist-packages (from jinja2->torch>=1.10->vit-pytorch) (2.1.5)\n",
            "Requirement already satisfied: mpmath>=0.19 in /usr/local/lib/python3.10/dist-packages (from sympy->torch>=1.10->vit-pytorch) (1.3.0)\n",
            "Installing collected packages: nvidia-nvtx-cu12, nvidia-nvjitlink-cu12, nvidia-nccl-cu12, nvidia-curand-cu12, nvidia-cufft-cu12, nvidia-cuda-runtime-cu12, nvidia-cuda-nvrtc-cu12, nvidia-cuda-cupti-cu12, nvidia-cublas-cu12, einops, nvidia-cusparse-cu12, nvidia-cudnn-cu12, nvidia-cusolver-cu12, vit-pytorch\n",
            "Successfully installed einops-0.7.0 nvidia-cublas-cu12-12.1.3.1 nvidia-cuda-cupti-cu12-12.1.105 nvidia-cuda-nvrtc-cu12-12.1.105 nvidia-cuda-runtime-cu12-12.1.105 nvidia-cudnn-cu12-8.9.2.26 nvidia-cufft-cu12-11.0.2.54 nvidia-curand-cu12-10.3.2.106 nvidia-cusolver-cu12-11.4.5.107 nvidia-cusparse-cu12-12.1.0.106 nvidia-nccl-cu12-2.19.3 nvidia-nvjitlink-cu12-12.4.99 nvidia-nvtx-cu12-12.1.105 vit-pytorch-1.6.5\n"
          ]
        }
      ],
      "source": [
        "! pip install vit-pytorch"
      ]
    },
    {
      "cell_type": "code",
      "execution_count": null,
      "metadata": {
        "id": "ObNEXGftXcD-"
      },
      "outputs": [],
      "source": [
        "import torch\n",
        "from torch import nn\n",
        "\n",
        "from einops import rearrange\n",
        "from einops.layers.torch import Rearrange\n",
        "\n",
        "# helpers\n",
        "\n",
        "def pair(t):\n",
        "    return t if isinstance(t, tuple) else (t, t)\n",
        "\n",
        "def posemb_sincos_2d(h, w, dim, temperature: int = 10000, dtype = torch.float32):\n",
        "    y, x = torch.meshgrid(torch.arange(h), torch.arange(w), indexing=\"ij\")\n",
        "    assert (dim % 4) == 0, \"feature dimension must be multiple of 4 for sincos emb\"\n",
        "    omega = torch.arange(dim // 4) / (dim // 4 - 1)\n",
        "    omega = 1.0 / (temperature ** omega)\n",
        "\n",
        "    y = y.flatten()[:, None] * omega[None, :]\n",
        "    x = x.flatten()[:, None] * omega[None, :]\n",
        "    pe = torch.cat((x.sin(), x.cos(), y.sin(), y.cos()), dim=1)\n",
        "    return pe.type(dtype)\n",
        "\n",
        "# classes\n",
        "\n",
        "class FeedForward(nn.Module):\n",
        "    def __init__(self, dim, hidden_dim):\n",
        "        super().__init__()\n",
        "        self.net = nn.Sequential(\n",
        "            nn.LayerNorm(dim),\n",
        "            nn.Linear(dim, hidden_dim),\n",
        "            nn.GELU(),\n",
        "            nn.Linear(hidden_dim, dim),\n",
        "        )\n",
        "    def forward(self, x):\n",
        "        return self.net(x)\n",
        "\n",
        "class Attention(nn.Module):\n",
        "    def __init__(self, dim, heads = 8, dim_head = 64):\n",
        "        super().__init__()\n",
        "        inner_dim = dim_head *  heads\n",
        "        self.heads = heads\n",
        "        self.scale = dim_head ** -0.5\n",
        "        self.norm = nn.LayerNorm(dim)\n",
        "\n",
        "        self.attend = nn.Softmax(dim = -1)\n",
        "\n",
        "        self.to_qkv = nn.Linear(dim, inner_dim * 3, bias = False)\n",
        "        self.to_out = nn.Linear(inner_dim, dim, bias = False)\n",
        "\n",
        "    def forward(self, x):\n",
        "        x = self.norm(x)\n",
        "\n",
        "        qkv = self.to_qkv(x).chunk(3, dim = -1)\n",
        "        q, k, v = map(lambda t: rearrange(t, 'b n (h d) -> b h n d', h = self.heads), qkv)\n",
        "\n",
        "        dots = torch.matmul(q, k.transpose(-1, -2)) * self.scale\n",
        "\n",
        "        attn = self.attend(dots)\n",
        "\n",
        "        out = torch.matmul(attn, v)\n",
        "        out = rearrange(out, 'b h n d -> b n (h d)')\n",
        "        return self.to_out(out)\n",
        "\n",
        "class Transformer(nn.Module):\n",
        "    def __init__(self, dim, depth, heads, dim_head, mlp_dim):\n",
        "        super().__init__()\n",
        "        self.norm = nn.LayerNorm(dim)\n",
        "        self.layers = nn.ModuleList([])\n",
        "        for _ in range(depth):\n",
        "            self.layers.append(nn.ModuleList([\n",
        "                Attention(dim, heads = heads, dim_head = dim_head),\n",
        "                FeedForward(dim, mlp_dim)\n",
        "            ]))\n",
        "    def forward(self, x):\n",
        "        for attn, ff in self.layers:\n",
        "            x = attn(x) + x\n",
        "            x = ff(x) + x\n",
        "        return self.norm(x)\n",
        "\n",
        "class SimpleViT(nn.Module):\n",
        "    def __init__(self, *, image_size, patch_size, num_classes, dim, depth, heads, mlp_dim, channels = 1, dim_head = 64):\n",
        "        super().__init__()\n",
        "        image_height, image_width = pair(image_size)\n",
        "        patch_height, patch_width = pair(patch_size)\n",
        "\n",
        "        assert image_height % patch_height == 0 and image_width % patch_width == 0, 'Image dimensions must be divisible by the patch size.'\n",
        "\n",
        "        patch_dim = channels * patch_height * patch_width\n",
        "\n",
        "        self.to_patch_embedding = nn.Sequential(\n",
        "            Rearrange(\"b c (h p1) (w p2) -> b (h w) (p1 p2 c)\", p1 = patch_height, p2 = patch_width),\n",
        "            nn.LayerNorm(patch_dim),\n",
        "            nn.Linear(patch_dim, dim),\n",
        "            nn.LayerNorm(dim),\n",
        "        )\n",
        "\n",
        "        self.pos_embedding = posemb_sincos_2d(\n",
        "            h = image_height // patch_height,\n",
        "            w = image_width // patch_width,\n",
        "            dim = dim,\n",
        "        )\n",
        "\n",
        "        self.transformer = Transformer(dim, depth, heads, dim_head, mlp_dim)\n",
        "\n",
        "        self.pool = \"mean\"\n",
        "        self.to_latent = nn.Identity()\n",
        "\n",
        "        self.linear_head = nn.Linear(dim, num_classes)\n",
        "\n",
        "    def forward(self, img):\n",
        "        device = img.device\n",
        "\n",
        "        x = self.to_patch_embedding(img)\n",
        "        x += self.pos_embedding.to(device, dtype=x.dtype)\n",
        "\n",
        "        x = self.transformer(x)\n",
        "        x = x.mean(dim = 1)\n",
        "\n",
        "        x = self.to_latent(x)\n",
        "        return self.linear_head(x)"
      ]
    },
    {
      "cell_type": "code",
      "execution_count": null,
      "metadata": {
        "id": "TN7Gega_Pa37"
      },
      "outputs": [],
      "source": [
        "model_vit = SimpleViT(\n",
        "    image_size = 32,\n",
        "    patch_size = 32,\n",
        "    num_classes = len(labels),\n",
        "    dim = 1024,\n",
        "    depth = 6,\n",
        "    heads = 16,\n",
        "    mlp_dim = 2048\n",
        ")\n"
      ]
    },
    {
      "cell_type": "markdown",
      "metadata": {
        "id": "TwpJxbk3MPq7"
      },
      "source": [
        "# Covolover"
      ]
    },
    {
      "cell_type": "code",
      "execution_count": null,
      "metadata": {
        "id": "ahXQB7MKMRMQ"
      },
      "outputs": [],
      "source": [
        "conformer = tm.Conformer(input_dim=80,num_heads=4,ffn_dim=128,num_layers=4,depthwise_conv_kernel_size=31)"
      ]
    },
    {
      "cell_type": "code",
      "execution_count": null,
      "metadata": {
        "id": "Sh8p7QBI9UvQ"
      },
      "outputs": [],
      "source": [
        "torch.ones(size = [1,1,32,32])\n"
      ]
    },
    {
      "cell_type": "markdown",
      "metadata": {
        "id": "jaJQgkH-5E7U"
      },
      "source": [
        "## Training and Testing the Network\n",
        "\n",
        "\n",
        "\n"
      ]
    },
    {
      "cell_type": "code",
      "execution_count": null,
      "metadata": {
        "id": "T8mfhIjLuE_N"
      },
      "outputs": [],
      "source": [
        "def set_seed(seed):\n",
        "    random.seed(seed)\n",
        "    np.random.seed(seed)\n",
        "    torch.manual_seed(seed)\n",
        "    torch.cuda.manual_seed_all(seed)\n",
        "    torch.backends.cudnn.deterministic = True\n",
        "    torch.backends.cudnn.benchmark = False"
      ]
    },
    {
      "cell_type": "code",
      "execution_count": null,
      "metadata": {
        "id": "UIaor3iRuU5O"
      },
      "outputs": [],
      "source": [
        "def evaluate(model, dataloader, device):\n",
        "    model.eval()\n",
        "    correct = 0\n",
        "    total = 0\n",
        "\n",
        "    with torch.no_grad():\n",
        "        for data, target in dataloader:\n",
        "            data = data.to(device)\n",
        "            target = target.to(device)\n",
        "            output = model(data)\n",
        "            _, predicted = torch.max(output, 1)\n",
        "            total += target.size(0)\n",
        "            correct += (predicted == target).sum().item()\n",
        "\n",
        "    accuracy = 100 * correct / total\n",
        "    return accuracy\n",
        "\n",
        "def evaluate_test(model, test_loader, criterion, device):\n",
        "    model.eval()\n",
        "    test_loss = 0.0\n",
        "    correct = 0\n",
        "    total = 0\n",
        "\n",
        "    with torch.no_grad():\n",
        "        for data, target in test_loader:\n",
        "            data = data.to(device)\n",
        "            target = target.to(device)\n",
        "            output = model(data)\n",
        "            loss = criterion(output, target)\n",
        "            test_loss += loss.item()\n",
        "            _, predicted = torch.max(output, 1)\n",
        "            total += target.size(0)\n",
        "            correct += (predicted == target).sum().item()\n",
        "\n",
        "    test_loss /= len(test_loader)\n",
        "    test_accuracy = 100 * correct / total\n",
        "    return test_loss, test_accuracy"
      ]
    },
    {
      "cell_type": "code",
      "execution_count": null,
      "metadata": {
        "id": "BG_PlIgvqhKk"
      },
      "outputs": [],
      "source": [
        "def train(model, train_loader,valid_loader, test_loader, optimizer, criterion, device, n_epoch, log_interval, seed):\n",
        "    set_seed(seed)\n",
        "    best_model = None\n",
        "    best_accuracy = 0.0\n",
        "    best_model_epoch = 0\n",
        "    best_test_accuracy = 0,\n",
        "    best_test_loss = float('inf'),\n",
        "    best_valid_accuracy = 0,\n",
        "    best_valid_loss = float('inf')\n",
        "    early_stop_accuracy = 0\n",
        "\n",
        "\n",
        "    losses = []\n",
        "    accuracies = []\n",
        "\n",
        "    for epoch in tqdm(range(1, n_epoch + 1)):\n",
        "      model.train()\n",
        "      epoch_loss = 0.0\n",
        "\n",
        "      for batch_idx, (data, target) in enumerate(train_loader):\n",
        "        data = data.to(device)\n",
        "        target = target.to(device)\n",
        "\n",
        "        optimizer.zero_grad()\n",
        "        output = model(data)\n",
        "        loss = criterion(output, target)\n",
        "        loss.backward()\n",
        "        optimizer.step()\n",
        "\n",
        "        epoch_loss += loss.item()\n",
        "\n",
        "      accuracy = evaluate(model, train_loader, device)\n",
        "      accuracies.append(accuracy)\n",
        "\n",
        "      valid_accuracy = evaluate(model, valid_loader, device)\n",
        "      if valid_accuracy > best_accuracy:\n",
        "          best_accuracy = valid_accuracy\n",
        "          best_model = deepcopy(model)\n",
        "          best_model_epoch = epoch\n",
        "          best_test_loss, best_test_accuracy = evaluate_test(best_model, test_loader, criterion, device)\n",
        "          early_stop_accuracy = accuracy\n",
        "\n",
        "      epoch_loss /= len(train_loader)\n",
        "      losses.append(epoch_loss)\n",
        "      print(f\"Epoch: {epoch}/{n_epoch}\\tTrain Loss: {epoch_loss:.6f}\\tTrain Accuracy: {accuracy:.2f}%\")\n",
        "      test_loss, test_accuracy = evaluate_test(model, test_loader, criterion, device)\n",
        "      print(f'Test Loss: {test_loss:.6f}, Test Accuracy: {test_accuracy:.2f}%')\n",
        "\n",
        "    print(f\"Best model achieved at epoch: {best_model_epoch}\\t Train accuracy: {early_stop_accuracy:.2f}\\t Valid accuracy: {best_accuracy:.2f}\\t Test accuracy: {best_test_accuracy:.2f}\")\n",
        "    plt.plot(losses)\n",
        "    plt.title(\"Training Loss\")\n",
        "    plt.xlabel(\"Epoch\")\n",
        "    plt.ylabel(\"Loss\")\n",
        "    plt.show()\n",
        "\n",
        "    return best_model,accuracies\n"
      ]
    },
    {
      "cell_type": "code",
      "execution_count": null,
      "metadata": {
        "colab": {
          "base_uri": "https://localhost:8080/"
        },
        "id": "KuatciPnrOE1",
        "outputId": "5ff1a553-82b9-43bc-d11a-c02a22397c72"
      },
      "outputs": [
        {
          "name": "stdout",
          "output_type": "stream",
          "text": [
            "VGGish(\n",
            "  (features): Sequential(\n",
            "    (0): Conv2d(1, 64, kernel_size=(3, 3), stride=(1, 1), padding=(1, 1))\n",
            "    (1): ReLU(inplace=True)\n",
            "    (2): MaxPool2d(kernel_size=2, stride=2, padding=0, dilation=1, ceil_mode=False)\n",
            "    (3): Conv2d(64, 128, kernel_size=(3, 3), stride=(1, 1), padding=(1, 1))\n",
            "    (4): ReLU(inplace=True)\n",
            "    (5): MaxPool2d(kernel_size=2, stride=2, padding=0, dilation=1, ceil_mode=False)\n",
            "    (6): Conv2d(128, 256, kernel_size=(3, 3), stride=(1, 1), padding=(1, 1))\n",
            "    (7): ReLU(inplace=True)\n",
            "    (8): Conv2d(256, 256, kernel_size=(3, 3), stride=(1, 1), padding=(1, 1))\n",
            "    (9): ReLU(inplace=True)\n",
            "    (10): MaxPool2d(kernel_size=2, stride=2, padding=0, dilation=1, ceil_mode=False)\n",
            "    (11): Conv2d(256, 512, kernel_size=(3, 3), stride=(1, 1), padding=(1, 1))\n",
            "    (12): ReLU(inplace=True)\n",
            "    (13): Conv2d(512, 512, kernel_size=(3, 3), stride=(1, 1), padding=(1, 1))\n",
            "    (14): ReLU(inplace=True)\n",
            "    (15): MaxPool2d(kernel_size=2, stride=2, padding=0, dilation=1, ceil_mode=False)\n",
            "  )\n",
            "  (embeddings): Sequential(\n",
            "    (0): Linear(in_features=1024, out_features=2048, bias=True)\n",
            "    (1): ReLU(inplace=True)\n",
            "    (2): Linear(in_features=2048, out_features=4096, bias=True)\n",
            "    (3): ReLU(inplace=True)\n",
            "    (4): Linear(in_features=4096, out_features=35, bias=True)\n",
            "  )\n",
            ")\n",
            "Number of parameters: 15135011\n"
          ]
        }
      ],
      "source": [
        "# model = VGG9(in_channels =1, num_classes=len(labels))\n",
        "model = VGGish(num_classes = len(labels))\n",
        "print(model)\n",
        "\n",
        "def count_parameters(model):\n",
        "    return sum(p.numel() for p in model.parameters() if p.requires_grad)\n",
        "\n",
        "n = count_parameters(model)\n",
        "print(\"Number of parameters: %s\" % n)"
      ]
    },
    {
      "cell_type": "code",
      "execution_count": null,
      "metadata": {
        "id": "bmzmyqih-iGV"
      },
      "outputs": [],
      "source": [
        "# train_mel = convert_waveform(train_set,pipeline_to_mel,16000)\n",
        "# train_loader,valid_loader,test_loader =  loaders(256,train_set_pad,valid_set_pad,test_set_pad)\n",
        "train_loader,valid_loader,test_loader =  loaders(256,train_mel,valid_mel,test_mel)"
      ]
    },
    {
      "cell_type": "code",
      "execution_count": null,
      "metadata": {
        "colab": {
          "base_uri": "https://localhost:8080/",
          "height": 1000
        },
        "id": "bfXoR0qfq1i4",
        "outputId": "fcc25d1d-b0c8-45c6-dda8-e7534ba9dc5a"
      },
      "outputs": [
        {
          "name": "stderr",
          "output_type": "stream",
          "text": [
            "\r  0%|          | 0/40 [00:00<?, ?it/s]"
          ]
        },
        {
          "name": "stdout",
          "output_type": "stream",
          "text": [
            "Epoch: 1/40\tTrain Loss: 3.343563\tTrain Accuracy: 20.09%\n"
          ]
        },
        {
          "name": "stderr",
          "output_type": "stream",
          "text": [
            "\r  2%|▎         | 1/40 [00:20<13:07, 20.18s/it]"
          ]
        },
        {
          "name": "stdout",
          "output_type": "stream",
          "text": [
            "Test Loss: 2.977130, Test Accuracy: 19.86%\n",
            "Epoch: 2/40\tTrain Loss: 2.777954\tTrain Accuracy: 32.17%\n"
          ]
        },
        {
          "name": "stderr",
          "output_type": "stream",
          "text": [
            "\r  5%|▌         | 2/40 [00:37<11:44, 18.54s/it]"
          ]
        },
        {
          "name": "stdout",
          "output_type": "stream",
          "text": [
            "Test Loss: 2.505171, Test Accuracy: 31.44%\n",
            "Epoch: 3/40\tTrain Loss: 2.053890\tTrain Accuracy: 53.35%\n"
          ]
        },
        {
          "name": "stderr",
          "output_type": "stream",
          "text": [
            "\r  8%|▊         | 3/40 [00:53<10:50, 17.57s/it]"
          ]
        },
        {
          "name": "stdout",
          "output_type": "stream",
          "text": [
            "Test Loss: 1.707672, Test Accuracy: 52.09%\n",
            "Epoch: 4/40\tTrain Loss: 1.371783\tTrain Accuracy: 66.63%\n"
          ]
        },
        {
          "name": "stderr",
          "output_type": "stream",
          "text": [
            "\r 10%|█         | 4/40 [01:11<10:34, 17.62s/it]"
          ]
        },
        {
          "name": "stdout",
          "output_type": "stream",
          "text": [
            "Test Loss: 1.245634, Test Accuracy: 64.43%\n",
            "Epoch: 5/40\tTrain Loss: 1.088795\tTrain Accuracy: 72.85%\n"
          ]
        },
        {
          "name": "stderr",
          "output_type": "stream",
          "text": [
            "\r 12%|█▎        | 5/40 [01:28<10:12, 17.51s/it]"
          ]
        },
        {
          "name": "stdout",
          "output_type": "stream",
          "text": [
            "Test Loss: 1.059291, Test Accuracy: 69.13%\n",
            "Epoch: 6/40\tTrain Loss: 0.901421\tTrain Accuracy: 73.82%\n"
          ]
        },
        {
          "name": "stderr",
          "output_type": "stream",
          "text": [
            "\r 15%|█▌        | 6/40 [01:47<10:03, 17.74s/it]"
          ]
        },
        {
          "name": "stdout",
          "output_type": "stream",
          "text": [
            "Test Loss: 1.055340, Test Accuracy: 69.73%\n",
            "Epoch: 7/40\tTrain Loss: 0.782876\tTrain Accuracy: 78.99%\n"
          ]
        },
        {
          "name": "stderr",
          "output_type": "stream",
          "text": [
            "\r 18%|█▊        | 7/40 [02:05<09:47, 17.81s/it]"
          ]
        },
        {
          "name": "stdout",
          "output_type": "stream",
          "text": [
            "Test Loss: 0.955425, Test Accuracy: 72.19%\n",
            "Epoch: 8/40\tTrain Loss: 0.686340\tTrain Accuracy: 79.39%\n"
          ]
        },
        {
          "name": "stderr",
          "output_type": "stream",
          "text": [
            "\r 20%|██        | 8/40 [02:22<09:24, 17.64s/it]"
          ]
        },
        {
          "name": "stdout",
          "output_type": "stream",
          "text": [
            "Test Loss: 0.985430, Test Accuracy: 72.76%\n",
            "Epoch: 9/40\tTrain Loss: 0.632327\tTrain Accuracy: 82.77%\n"
          ]
        },
        {
          "name": "stderr",
          "output_type": "stream",
          "text": [
            "\r 22%|██▎       | 9/40 [02:40<09:09, 17.72s/it]"
          ]
        },
        {
          "name": "stdout",
          "output_type": "stream",
          "text": [
            "Test Loss: 0.869929, Test Accuracy: 74.49%\n",
            "Epoch: 10/40\tTrain Loss: 0.555280\tTrain Accuracy: 84.67%\n"
          ]
        },
        {
          "name": "stderr",
          "output_type": "stream",
          "text": [
            "\r 25%|██▌       | 10/40 [02:57<08:46, 17.56s/it]"
          ]
        },
        {
          "name": "stdout",
          "output_type": "stream",
          "text": [
            "Test Loss: 0.865020, Test Accuracy: 75.49%\n",
            "Epoch: 11/40\tTrain Loss: 0.504953\tTrain Accuracy: 86.65%\n"
          ]
        },
        {
          "name": "stderr",
          "output_type": "stream",
          "text": [
            "\r 28%|██▊       | 11/40 [03:15<08:32, 17.68s/it]"
          ]
        },
        {
          "name": "stdout",
          "output_type": "stream",
          "text": [
            "Test Loss: 0.852742, Test Accuracy: 76.62%\n",
            "Epoch: 12/40\tTrain Loss: 0.471204\tTrain Accuracy: 87.22%\n"
          ]
        },
        {
          "name": "stderr",
          "output_type": "stream",
          "text": [
            "\r 30%|███       | 12/40 [03:32<08:13, 17.62s/it]"
          ]
        },
        {
          "name": "stdout",
          "output_type": "stream",
          "text": [
            "Test Loss: 0.907388, Test Accuracy: 76.29%\n",
            "Epoch: 13/40\tTrain Loss: 0.435144\tTrain Accuracy: 85.97%\n"
          ]
        },
        {
          "name": "stderr",
          "output_type": "stream",
          "text": [
            "\r 32%|███▎      | 13/40 [03:49<07:45, 17.25s/it]"
          ]
        },
        {
          "name": "stdout",
          "output_type": "stream",
          "text": [
            "Test Loss: 0.966773, Test Accuracy: 75.38%\n",
            "Epoch: 14/40\tTrain Loss: 0.412555\tTrain Accuracy: 88.79%\n"
          ]
        },
        {
          "name": "stderr",
          "output_type": "stream",
          "text": [
            "\r 35%|███▌      | 14/40 [04:06<07:26, 17.16s/it]"
          ]
        },
        {
          "name": "stdout",
          "output_type": "stream",
          "text": [
            "Test Loss: 0.936913, Test Accuracy: 76.15%\n",
            "Epoch: 15/40\tTrain Loss: 0.362510\tTrain Accuracy: 89.39%\n"
          ]
        },
        {
          "name": "stderr",
          "output_type": "stream",
          "text": [
            "\r 38%|███▊      | 15/40 [04:22<07:01, 16.84s/it]"
          ]
        },
        {
          "name": "stdout",
          "output_type": "stream",
          "text": [
            "Test Loss: 1.014768, Test Accuracy: 76.18%\n",
            "Epoch: 16/40\tTrain Loss: 0.348034\tTrain Accuracy: 91.61%\n"
          ]
        },
        {
          "name": "stderr",
          "output_type": "stream",
          "text": [
            "\r 40%|████      | 16/40 [04:39<06:48, 17.02s/it]"
          ]
        },
        {
          "name": "stdout",
          "output_type": "stream",
          "text": [
            "Test Loss: 0.875117, Test Accuracy: 77.28%\n",
            "Epoch: 17/40\tTrain Loss: 0.324154\tTrain Accuracy: 89.26%\n"
          ]
        },
        {
          "name": "stderr",
          "output_type": "stream",
          "text": [
            "\r 42%|████▎     | 17/40 [04:57<06:32, 17.08s/it]"
          ]
        },
        {
          "name": "stdout",
          "output_type": "stream",
          "text": [
            "Test Loss: 1.072377, Test Accuracy: 76.34%\n",
            "Epoch: 18/40\tTrain Loss: 0.310720\tTrain Accuracy: 91.01%\n"
          ]
        },
        {
          "name": "stderr",
          "output_type": "stream",
          "text": [
            "\r 45%|████▌     | 18/40 [05:13<06:10, 16.84s/it]"
          ]
        },
        {
          "name": "stdout",
          "output_type": "stream",
          "text": [
            "Test Loss: 1.041502, Test Accuracy: 75.76%\n",
            "Epoch: 19/40\tTrain Loss: 0.288517\tTrain Accuracy: 93.14%\n"
          ]
        },
        {
          "name": "stderr",
          "output_type": "stream",
          "text": [
            "\r 48%|████▊     | 19/40 [05:31<06:01, 17.21s/it]"
          ]
        },
        {
          "name": "stdout",
          "output_type": "stream",
          "text": [
            "Test Loss: 0.966268, Test Accuracy: 77.67%\n",
            "Epoch: 20/40\tTrain Loss: 0.279082\tTrain Accuracy: 93.02%\n"
          ]
        },
        {
          "name": "stderr",
          "output_type": "stream",
          "text": [
            "\r 50%|█████     | 20/40 [05:49<05:47, 17.39s/it]"
          ]
        },
        {
          "name": "stdout",
          "output_type": "stream",
          "text": [
            "Test Loss: 1.071641, Test Accuracy: 76.65%\n",
            "Epoch: 21/40\tTrain Loss: 0.279217\tTrain Accuracy: 94.05%\n"
          ]
        },
        {
          "name": "stderr",
          "output_type": "stream",
          "text": [
            "\r 52%|█████▎    | 21/40 [06:06<05:27, 17.22s/it]"
          ]
        },
        {
          "name": "stdout",
          "output_type": "stream",
          "text": [
            "Test Loss: 1.114801, Test Accuracy: 77.33%\n",
            "Epoch: 22/40\tTrain Loss: 0.284248\tTrain Accuracy: 92.24%\n"
          ]
        },
        {
          "name": "stderr",
          "output_type": "stream",
          "text": [
            "\r 55%|█████▌    | 22/40 [06:23<05:09, 17.20s/it]"
          ]
        },
        {
          "name": "stdout",
          "output_type": "stream",
          "text": [
            "Test Loss: 1.112589, Test Accuracy: 76.16%\n",
            "Epoch: 23/40\tTrain Loss: 0.289259\tTrain Accuracy: 93.72%\n"
          ]
        },
        {
          "name": "stderr",
          "output_type": "stream",
          "text": [
            "\r 57%|█████▊    | 23/40 [06:39<04:47, 16.93s/it]"
          ]
        },
        {
          "name": "stdout",
          "output_type": "stream",
          "text": [
            "Test Loss: 1.026505, Test Accuracy: 77.26%\n",
            "Epoch: 24/40\tTrain Loss: 0.222637\tTrain Accuracy: 93.10%\n"
          ]
        },
        {
          "name": "stderr",
          "output_type": "stream",
          "text": [
            "\r 60%|██████    | 24/40 [06:56<04:32, 17.00s/it]"
          ]
        },
        {
          "name": "stdout",
          "output_type": "stream",
          "text": [
            "Test Loss: 1.256748, Test Accuracy: 75.63%\n",
            "Epoch: 25/40\tTrain Loss: 0.260270\tTrain Accuracy: 93.48%\n"
          ]
        },
        {
          "name": "stderr",
          "output_type": "stream",
          "text": [
            "\r 62%|██████▎   | 25/40 [07:13<04:14, 17.00s/it]"
          ]
        },
        {
          "name": "stdout",
          "output_type": "stream",
          "text": [
            "Test Loss: 1.159241, Test Accuracy: 76.62%\n",
            "Epoch: 26/40\tTrain Loss: 0.221368\tTrain Accuracy: 94.80%\n"
          ]
        },
        {
          "name": "stderr",
          "output_type": "stream",
          "text": [
            "\r 65%|██████▌   | 26/40 [07:30<03:58, 17.07s/it]"
          ]
        },
        {
          "name": "stdout",
          "output_type": "stream",
          "text": [
            "Test Loss: 1.216020, Test Accuracy: 76.81%\n",
            "Epoch: 27/40\tTrain Loss: 0.215570\tTrain Accuracy: 94.47%\n"
          ]
        },
        {
          "name": "stderr",
          "output_type": "stream",
          "text": [
            "\r 68%|██████▊   | 27/40 [07:48<03:43, 17.16s/it]"
          ]
        },
        {
          "name": "stdout",
          "output_type": "stream",
          "text": [
            "Test Loss: 1.243415, Test Accuracy: 76.60%\n",
            "Epoch: 28/40\tTrain Loss: 0.278999\tTrain Accuracy: 92.04%\n"
          ]
        },
        {
          "name": "stderr",
          "output_type": "stream",
          "text": [
            "\r 70%|███████   | 28/40 [08:04<03:23, 16.97s/it]"
          ]
        },
        {
          "name": "stdout",
          "output_type": "stream",
          "text": [
            "Test Loss: 1.103453, Test Accuracy: 74.67%\n",
            "Epoch: 29/40\tTrain Loss: 0.211381\tTrain Accuracy: 95.22%\n"
          ]
        },
        {
          "name": "stderr",
          "output_type": "stream",
          "text": [
            "\r 72%|███████▎  | 29/40 [08:21<03:04, 16.75s/it]"
          ]
        },
        {
          "name": "stdout",
          "output_type": "stream",
          "text": [
            "Test Loss: 1.393420, Test Accuracy: 77.38%\n",
            "Epoch: 30/40\tTrain Loss: 0.190216\tTrain Accuracy: 94.87%\n"
          ]
        },
        {
          "name": "stderr",
          "output_type": "stream",
          "text": [
            "\r 75%|███████▌  | 30/40 [08:38<02:48, 16.89s/it]"
          ]
        },
        {
          "name": "stdout",
          "output_type": "stream",
          "text": [
            "Test Loss: 1.432826, Test Accuracy: 76.28%\n",
            "Epoch: 31/40\tTrain Loss: 0.194459\tTrain Accuracy: 94.59%\n"
          ]
        },
        {
          "name": "stderr",
          "output_type": "stream",
          "text": [
            "\r 78%|███████▊  | 31/40 [08:54<02:31, 16.84s/it]"
          ]
        },
        {
          "name": "stdout",
          "output_type": "stream",
          "text": [
            "Test Loss: 1.379475, Test Accuracy: 75.67%\n",
            "Epoch: 32/40\tTrain Loss: 0.213798\tTrain Accuracy: 93.57%\n"
          ]
        },
        {
          "name": "stderr",
          "output_type": "stream",
          "text": [
            "\r 80%|████████  | 32/40 [09:11<02:14, 16.76s/it]"
          ]
        },
        {
          "name": "stdout",
          "output_type": "stream",
          "text": [
            "Test Loss: 1.340121, Test Accuracy: 75.88%\n",
            "Epoch: 33/40\tTrain Loss: 0.201960\tTrain Accuracy: 89.49%\n"
          ]
        },
        {
          "name": "stderr",
          "output_type": "stream",
          "text": [
            "\r 82%|████████▎ | 33/40 [09:28<01:58, 16.92s/it]"
          ]
        },
        {
          "name": "stdout",
          "output_type": "stream",
          "text": [
            "Test Loss: 1.155368, Test Accuracy: 73.45%\n",
            "Epoch: 34/40\tTrain Loss: 0.240064\tTrain Accuracy: 94.01%\n"
          ]
        },
        {
          "name": "stderr",
          "output_type": "stream",
          "text": [
            "\r 85%|████████▌ | 34/40 [09:45<01:40, 16.75s/it]"
          ]
        },
        {
          "name": "stdout",
          "output_type": "stream",
          "text": [
            "Test Loss: 1.213887, Test Accuracy: 76.73%\n",
            "Epoch: 35/40\tTrain Loss: 0.200088\tTrain Accuracy: 96.07%\n"
          ]
        },
        {
          "name": "stderr",
          "output_type": "stream",
          "text": [
            "\r 88%|████████▊ | 35/40 [10:03<01:25, 17.14s/it]"
          ]
        },
        {
          "name": "stdout",
          "output_type": "stream",
          "text": [
            "Test Loss: 1.375835, Test Accuracy: 76.89%\n",
            "Epoch: 36/40\tTrain Loss: 0.236242\tTrain Accuracy: 95.20%\n"
          ]
        },
        {
          "name": "stderr",
          "output_type": "stream",
          "text": [
            "\r 90%|█████████ | 36/40 [10:20<01:08, 17.06s/it]"
          ]
        },
        {
          "name": "stdout",
          "output_type": "stream",
          "text": [
            "Test Loss: 1.482182, Test Accuracy: 76.20%\n",
            "Epoch: 37/40\tTrain Loss: 0.189432\tTrain Accuracy: 97.06%\n"
          ]
        },
        {
          "name": "stderr",
          "output_type": "stream",
          "text": [
            "\r 92%|█████████▎| 37/40 [10:36<00:50, 16.85s/it]"
          ]
        },
        {
          "name": "stdout",
          "output_type": "stream",
          "text": [
            "Test Loss: 1.394057, Test Accuracy: 77.14%\n",
            "Epoch: 38/40\tTrain Loss: 0.158397\tTrain Accuracy: 96.36%\n"
          ]
        },
        {
          "name": "stderr",
          "output_type": "stream",
          "text": [
            "\r 95%|█████████▌| 38/40 [10:53<00:33, 16.93s/it]"
          ]
        },
        {
          "name": "stdout",
          "output_type": "stream",
          "text": [
            "Test Loss: 1.457558, Test Accuracy: 77.26%\n",
            "Epoch: 39/40\tTrain Loss: 0.154309\tTrain Accuracy: 97.60%\n"
          ]
        },
        {
          "name": "stderr",
          "output_type": "stream",
          "text": [
            "\r 98%|█████████▊| 39/40 [11:11<00:17, 17.13s/it]"
          ]
        },
        {
          "name": "stdout",
          "output_type": "stream",
          "text": [
            "Test Loss: 1.579266, Test Accuracy: 77.70%\n",
            "Epoch: 40/40\tTrain Loss: 0.138386\tTrain Accuracy: 96.22%\n"
          ]
        },
        {
          "name": "stderr",
          "output_type": "stream",
          "text": [
            "100%|██████████| 40/40 [11:27<00:00, 17.19s/it]"
          ]
        },
        {
          "name": "stdout",
          "output_type": "stream",
          "text": [
            "Test Loss: 1.265586, Test Accuracy: 77.06%\n",
            "Best model achieved at epoch: 39\t Train accuracy: 97.60\t Valid accuracy: 79.06\t Test accuracy: 77.70\n"
          ]
        },
        {
          "name": "stderr",
          "output_type": "stream",
          "text": [
            "\n"
          ]
        },
        {
          "data": {
            "image/png": "[encoded data removed]",
            "text/plain": [
              "<Figure size 640x480 with 1 Axes>"
            ]
          },
          "metadata": {},
          "output_type": "display_data"
        }
      ],
      "source": [
        "optimizer = optim.SGD(model.parameters(), lr=0.01,momentum=0.9)\n",
        "scheduler = optim.lr_scheduler.StepLR(optimizer, step_size=20, gamma=0.1)\n",
        "criterion = torch.nn.CrossEntropyLoss()\n",
        "model.to(device)\n",
        "n_epoch = 40\n",
        "log_interval = 1\n",
        "seed = 42\n",
        "best_model,acc = train(model, train_loader,valid_loader, test_loader, optimizer, criterion, device, n_epoch, log_interval, seed)"
      ]
    },
    {
      "cell_type": "code",
      "execution_count": null,
      "metadata": {
        "id": "Qa8zG0QYEcCA"
      },
      "outputs": [],
      "source": [
        "torch.save(best_model.state_dict(), 'SpeechCommands_VGGish.pth')"
      ]
    },
    {
      "cell_type": "code",
      "execution_count": null,
      "metadata": {
        "colab": {
          "base_uri": "https://localhost:8080/"
        },
        "id": "uVGqVJuIFKF8",
        "outputId": "f10b6f74-bacc-4b4d-ad37-de97265dad51"
      },
      "outputs": [
        {
          "name": "stderr",
          "output_type": "stream",
          "text": [
            "  0%|          | 0/332 [00:00<?, ?it/s]<ipython-input-27-f032b52d8ce3>:18: FutureWarning: The frame.append method is deprecated and will be removed from pandas in a future version. Use pandas.concat instead.\n",
            "  df_train = df_train.append(df_logit_train, ignore_index=True)\n",
            "100%|██████████| 332/332 [00:07<00:00, 44.56it/s]\n",
            "<ipython-input-27-f032b52d8ce3>:29: FutureWarning: The frame.append method is deprecated and will be removed from pandas in a future version. Use pandas.concat instead.\n",
            "  df_test = df_test.append(df_logit_test, ignore_index=True)\n",
            "<ipython-input-27-f032b52d8ce3>:32: FutureWarning: The frame.append method is deprecated and will be removed from pandas in a future version. Use pandas.concat instead.\n",
            "  df_all = df_train.append(df_test,ignore_index=True)\n"
          ]
        }
      ],
      "source": [
        "df_train, df_test, df_all = mai_logits(model,train_loader,test_loader)"
      ]
    },
    {
      "cell_type": "code",
      "execution_count": null,
      "metadata": {
        "id": "0hal2hUWFc0B"
      },
      "outputs": [],
      "source": [
        "df_all.to_csv('SpeechCommands_VGGish_logits.csv',index = False)"
      ]
    },
    {
      "cell_type": "markdown",
      "metadata": {
        "id": "Rez5K_LpbnDy"
      },
      "source": [
        "# Getting raw outputs for MIA"
      ]
    },
    {
      "cell_type": "code",
      "execution_count": null,
      "metadata": {
        "colab": {
          "base_uri": "https://localhost:8080/"
        },
        "id": "jz3IyCm2Uq95",
        "outputId": "fd99507a-7717-4514-d61f-445a222cab66"
      },
      "outputs": [
        {
          "name": "stderr",
          "output_type": "stream",
          "text": [
            "100%|██████████| 105829/105829 [08:41<00:00, 203.02it/s]\n"
          ]
        }
      ],
      "source": [
        "all_mel = convert_waveform(all_set,pipeline_to_mel,16000)"
      ]
    },
    {
      "cell_type": "code",
      "execution_count": null,
      "metadata": {
        "id": "iMxQ2PVKHy9Z"
      },
      "outputs": [],
      "source": [
        "all_mel"
      ]
    },
    {
      "cell_type": "code",
      "execution_count": null,
      "metadata": {
        "id": "9ggyAVnnUtOM"
      },
      "outputs": [],
      "source": [
        "def create_membership_inference_dataset(all_mel,seed):\n",
        "  train, test_valid = train_test_split(all_mel,train_size = 0.5, test_size=0.5, random_state=seed)\n",
        "  valid, test = train_test_split(test_valid,train_size = 0.5, test_size=0.5, random_state=seed)\n",
        "  return train,valid,test"
      ]
    },
    {
      "cell_type": "code",
      "execution_count": null,
      "metadata": {
        "id": "0pOckNrEVu_Q"
      },
      "outputs": [],
      "source": [
        "def mai_logits(model, train_loader, test_loader):\n",
        "    device = torch.device(\"cuda\" if torch.cuda.is_available() else \"cpu\")\n",
        "    model.to(device)\n",
        "\n",
        "    model.eval()\n",
        "    df_train = pd.DataFrame()\n",
        "    df_test = pd.DataFrame()\n",
        "    df_all = pd.DataFrame()\n",
        "\n",
        "    # Process training set\n",
        "    for batch_idx, (data, target) in enumerate(tqdm(train_loader)):\n",
        "        data, target = data.to(device), target.to(device)\n",
        "        with torch.no_grad():\n",
        "            logits_train = model(data)\n",
        "            logits_softmax = nn.Softmax(dim=1)(logits_train)\n",
        "            numpy_logits_train = logits_softmax.cpu().numpy()\n",
        "            df_logit_train = pd.DataFrame(numpy_logits_train)\n",
        "            df_train = df_train.append(df_logit_train, ignore_index=True)\n",
        "    df_train['label'] = 0\n",
        "\n",
        "    # Process test set\n",
        "    for data, target in test_loader:\n",
        "        data, target = data.to(device), target.to(device)\n",
        "        with torch.no_grad():\n",
        "            logits_test = model(data)\n",
        "            logit_test_softmax = nn.Softmax(dim=1)(logits_test)\n",
        "            numpy_logits_test = logit_test_softmax.cpu().numpy()\n",
        "            df_logit_test = pd.DataFrame(numpy_logits_test)\n",
        "            df_test = df_test.append(df_logit_test, ignore_index=True)\n",
        "    df_test['label'] = 1\n",
        "\n",
        "    df_all = df_train.append(df_test,ignore_index=True)\n",
        "\n",
        "    return df_train, df_test, df_all"
      ]
    },
    {
      "cell_type": "markdown",
      "metadata": {
        "id": "_C39bdGGUIlW"
      },
      "source": [
        "# MAI"
      ]
    },
    {
      "cell_type": "code",
      "execution_count": null,
      "metadata": {
        "id": "0kB7TZn_UJzD"
      },
      "outputs": [],
      "source": [
        "def membership_inference_attack(all_mel):\n",
        "  for i in range(10):\n",
        "    train_set_mia,valid_set_mia,test_set_mia = create_membership_inference_dataset(all_mel,i)\n",
        "    train_loader_mia,valid_loader_mia,test_loader_mia =  loaders(256,train_set_mia,valid_set_mia,test_set_mia)\n",
        "    model = VGGish(num_classes = len(labels))\n",
        "\n",
        "    optimizer = optim.SGD(model.parameters(), lr=0.01, momentum = 0.9)\n",
        "    scheduler = optim.lr_scheduler.StepLR(optimizer, step_size=20, gamma=0.1)\n",
        "    criterion = torch.nn.CrossEntropyLoss()\n",
        "    model.to(device)\n",
        "    n_epoch = 50\n",
        "    log_interval = 1\n",
        "    patience = 50\n",
        "    seed = i\n",
        "    best_model,acc = train(model, train_loader_mia, optimizer, criterion, device, n_epoch, log_interval ,seed, valid_loader_mia, test_loader_mia)\n",
        "\n",
        "    train_df, test_df, all_df = mai_logits(model, train_loader_mia, test_loader_mia)\n",
        "    filename = (f\"MAI {i}.csv\")\n",
        "    train_df.to_csv(('train' + filename), index = False)\n",
        "    test_df.to_csv(('test' + filename), index = False)\n",
        "    all_df.to_csv(filename, index = False)\n",
        "    print(filename +\" saved\")\n",
        "\n"
      ]
    },
    {
      "cell_type": "code",
      "execution_count": null,
      "metadata": {
        "colab": {
          "base_uri": "https://localhost:8080/",
          "height": 1000
        },
        "id": "MrMIjns-UH58",
        "outputId": "b39ed304-41a0-4999-a526-766416792f33"
      },
      "outputs": [
        {
          "name": "stderr",
          "output_type": "stream",
          "text": [
            "\r  0%|          | 0/50 [00:00<?, ?it/s]"
          ]
        },
        {
          "name": "stdout",
          "output_type": "stream",
          "text": [
            "Epoch: 1/50\tLoss: 3.412893\tAccuracy: 18.32%\n"
          ]
        },
        {
          "name": "stderr",
          "output_type": "stream",
          "text": [
            "\r  2%|▏         | 1/50 [00:16<13:51, 16.97s/it]"
          ]
        },
        {
          "name": "stdout",
          "output_type": "stream",
          "text": [
            "Test Loss: 3.081493, Test Accuracy: 18.91%\n",
            "Epoch: 2/50\tLoss: 2.923644\tAccuracy: 34.89%\n"
          ]
        },
        {
          "name": "stderr",
          "output_type": "stream",
          "text": [
            "\r  4%|▍         | 2/50 [00:34<13:36, 17.02s/it]"
          ]
        },
        {
          "name": "stdout",
          "output_type": "stream",
          "text": [
            "Test Loss: 2.653704, Test Accuracy: 34.78%\n",
            "Epoch: 3/50\tLoss: 2.427415\tAccuracy: 42.81%\n"
          ]
        },
        {
          "name": "stderr",
          "output_type": "stream",
          "text": [
            "\r  6%|▌         | 3/50 [00:50<13:11, 16.84s/it]"
          ]
        },
        {
          "name": "stdout",
          "output_type": "stream",
          "text": [
            "Test Loss: 2.248040, Test Accuracy: 43.19%\n",
            "Epoch: 4/50\tLoss: 1.753163\tAccuracy: 61.20%\n"
          ]
        },
        {
          "name": "stderr",
          "output_type": "stream",
          "text": [
            "\r  8%|▊         | 4/50 [01:07<12:56, 16.89s/it]"
          ]
        },
        {
          "name": "stdout",
          "output_type": "stream",
          "text": [
            "Test Loss: 1.379979, Test Accuracy: 61.36%\n",
            "Epoch: 5/50\tLoss: 1.103374\tAccuracy: 70.59%\n"
          ]
        },
        {
          "name": "stderr",
          "output_type": "stream",
          "text": [
            "\r 10%|█         | 5/50 [01:24<12:36, 16.81s/it]"
          ]
        },
        {
          "name": "stdout",
          "output_type": "stream",
          "text": [
            "Test Loss: 1.008609, Test Accuracy: 70.75%\n",
            "Epoch: 6/50\tLoss: 0.816998\tAccuracy: 75.38%\n"
          ]
        },
        {
          "name": "stderr",
          "output_type": "stream",
          "text": [
            "\r 12%|█▏        | 6/50 [01:40<12:09, 16.58s/it]"
          ]
        },
        {
          "name": "stdout",
          "output_type": "stream",
          "text": [
            "Test Loss: 0.833503, Test Accuracy: 75.33%\n",
            "Epoch: 7/50\tLoss: 0.644419\tAccuracy: 75.97%\n"
          ]
        },
        {
          "name": "stderr",
          "output_type": "stream",
          "text": [
            "\r 14%|█▍        | 7/50 [01:56<11:52, 16.57s/it]"
          ]
        },
        {
          "name": "stdout",
          "output_type": "stream",
          "text": [
            "Test Loss: 0.822799, Test Accuracy: 75.69%\n",
            "Epoch: 8/50\tLoss: 0.555858\tAccuracy: 80.62%\n"
          ]
        },
        {
          "name": "stderr",
          "output_type": "stream",
          "text": [
            "\r 16%|█▌        | 8/50 [02:13<11:41, 16.71s/it]"
          ]
        },
        {
          "name": "stdout",
          "output_type": "stream",
          "text": [
            "Test Loss: 0.681078, Test Accuracy: 80.52%\n",
            "Epoch: 9/50\tLoss: 0.478135\tAccuracy: 81.38%\n"
          ]
        },
        {
          "name": "stderr",
          "output_type": "stream",
          "text": [
            "\r 18%|█▊        | 9/50 [02:30<11:20, 16.60s/it]"
          ]
        },
        {
          "name": "stdout",
          "output_type": "stream",
          "text": [
            "Test Loss: 0.671414, Test Accuracy: 81.32%\n",
            "Epoch: 10/50\tLoss: 0.421649\tAccuracy: 80.84%\n"
          ]
        },
        {
          "name": "stderr",
          "output_type": "stream",
          "text": [
            "\r 20%|██        | 10/50 [02:46<11:03, 16.59s/it]"
          ]
        },
        {
          "name": "stdout",
          "output_type": "stream",
          "text": [
            "Test Loss: 0.671414, Test Accuracy: 81.32%\n",
            "Epoch: 11/50\tLoss: 0.372020\tAccuracy: 82.33%\n"
          ]
        },
        {
          "name": "stderr",
          "output_type": "stream",
          "text": [
            "\r 22%|██▏       | 11/50 [03:03<10:50, 16.69s/it]"
          ]
        },
        {
          "name": "stdout",
          "output_type": "stream",
          "text": [
            "Test Loss: 0.710270, Test Accuracy: 81.82%\n",
            "Epoch: 12/50\tLoss: 0.341521\tAccuracy: 81.17%\n"
          ]
        },
        {
          "name": "stderr",
          "output_type": "stream",
          "text": [
            "\r 24%|██▍       | 12/50 [03:20<10:29, 16.57s/it]"
          ]
        },
        {
          "name": "stdout",
          "output_type": "stream",
          "text": [
            "Test Loss: 0.710270, Test Accuracy: 81.82%\n",
            "Epoch: 13/50\tLoss: 0.331902\tAccuracy: 81.12%\n"
          ]
        },
        {
          "name": "stderr",
          "output_type": "stream",
          "text": [
            "\r 26%|██▌       | 13/50 [03:36<10:12, 16.55s/it]"
          ]
        },
        {
          "name": "stdout",
          "output_type": "stream",
          "text": [
            "Test Loss: 0.710270, Test Accuracy: 81.82%\n",
            "Epoch: 14/50\tLoss: 0.287270\tAccuracy: 82.73%\n"
          ]
        },
        {
          "name": "stderr",
          "output_type": "stream",
          "text": [
            "\r 28%|██▊       | 14/50 [03:53<10:00, 16.67s/it]"
          ]
        },
        {
          "name": "stdout",
          "output_type": "stream",
          "text": [
            "Test Loss: 0.711835, Test Accuracy: 82.26%\n",
            "Epoch: 15/50\tLoss: 0.249696\tAccuracy: 83.17%\n"
          ]
        },
        {
          "name": "stderr",
          "output_type": "stream",
          "text": [
            "\r 30%|███       | 15/50 [04:09<09:40, 16.58s/it]"
          ]
        },
        {
          "name": "stdout",
          "output_type": "stream",
          "text": [
            "Test Loss: 0.724863, Test Accuracy: 82.80%\n",
            "Epoch: 16/50\tLoss: 0.224238\tAccuracy: 83.73%\n"
          ]
        },
        {
          "name": "stderr",
          "output_type": "stream",
          "text": [
            "\r 32%|███▏      | 16/50 [04:26<09:22, 16.54s/it]"
          ]
        },
        {
          "name": "stdout",
          "output_type": "stream",
          "text": [
            "Test Loss: 0.764939, Test Accuracy: 83.67%\n",
            "Epoch: 17/50\tLoss: 0.218346\tAccuracy: 82.92%\n"
          ]
        },
        {
          "name": "stderr",
          "output_type": "stream",
          "text": [
            "\r 34%|███▍      | 17/50 [04:43<09:09, 16.65s/it]"
          ]
        },
        {
          "name": "stdout",
          "output_type": "stream",
          "text": [
            "Test Loss: 0.764939, Test Accuracy: 83.67%\n",
            "Epoch: 18/50\tLoss: 0.181744\tAccuracy: 83.18%\n"
          ]
        },
        {
          "name": "stderr",
          "output_type": "stream",
          "text": [
            "\r 36%|███▌      | 18/50 [04:59<08:50, 16.57s/it]"
          ]
        },
        {
          "name": "stdout",
          "output_type": "stream",
          "text": [
            "Test Loss: 0.764939, Test Accuracy: 83.67%\n",
            "Epoch: 19/50\tLoss: 0.216726\tAccuracy: 84.07%\n"
          ]
        },
        {
          "name": "stderr",
          "output_type": "stream",
          "text": [
            "\r 38%|███▊      | 19/50 [05:16<08:33, 16.55s/it]"
          ]
        },
        {
          "name": "stdout",
          "output_type": "stream",
          "text": [
            "Test Loss: 0.778810, Test Accuracy: 83.86%\n",
            "Epoch: 20/50\tLoss: 0.164888\tAccuracy: 83.74%\n"
          ]
        },
        {
          "name": "stderr",
          "output_type": "stream",
          "text": [
            "\r 40%|████      | 20/50 [05:33<08:20, 16.67s/it]"
          ]
        },
        {
          "name": "stdout",
          "output_type": "stream",
          "text": [
            "Test Loss: 0.778810, Test Accuracy: 83.86%\n",
            "Epoch: 21/50\tLoss: 0.166261\tAccuracy: 82.74%\n"
          ]
        },
        {
          "name": "stderr",
          "output_type": "stream",
          "text": [
            "\r 42%|████▏     | 21/50 [05:49<08:00, 16.55s/it]"
          ]
        },
        {
          "name": "stdout",
          "output_type": "stream",
          "text": [
            "Test Loss: 0.778810, Test Accuracy: 83.86%\n",
            "Epoch: 22/50\tLoss: 0.125893\tAccuracy: 84.20%\n"
          ]
        },
        {
          "name": "stderr",
          "output_type": "stream",
          "text": [
            "\r 44%|████▍     | 22/50 [06:05<07:41, 16.50s/it]"
          ]
        },
        {
          "name": "stdout",
          "output_type": "stream",
          "text": [
            "Test Loss: 0.831753, Test Accuracy: 83.88%\n",
            "Epoch: 23/50\tLoss: 0.102850\tAccuracy: 83.86%\n"
          ]
        },
        {
          "name": "stderr",
          "output_type": "stream",
          "text": [
            "\r 46%|████▌     | 23/50 [06:22<07:29, 16.66s/it]"
          ]
        },
        {
          "name": "stdout",
          "output_type": "stream",
          "text": [
            "Test Loss: 0.831753, Test Accuracy: 83.88%\n",
            "Epoch: 24/50\tLoss: 0.104437\tAccuracy: 84.33%\n"
          ]
        },
        {
          "name": "stderr",
          "output_type": "stream",
          "text": [
            "\r 48%|████▊     | 24/50 [06:39<07:15, 16.75s/it]"
          ]
        },
        {
          "name": "stdout",
          "output_type": "stream",
          "text": [
            "Test Loss: 0.902811, Test Accuracy: 84.29%\n",
            "Epoch: 25/50\tLoss: 0.121087\tAccuracy: 84.19%\n"
          ]
        },
        {
          "name": "stderr",
          "output_type": "stream",
          "text": [
            "\r 50%|█████     | 25/50 [06:56<06:55, 16.62s/it]"
          ]
        },
        {
          "name": "stdout",
          "output_type": "stream",
          "text": [
            "Test Loss: 0.902811, Test Accuracy: 84.29%\n",
            "Epoch: 26/50\tLoss: 0.118841\tAccuracy: 82.61%\n"
          ]
        },
        {
          "name": "stderr",
          "output_type": "stream",
          "text": [
            "\r 52%|█████▏    | 26/50 [07:13<06:41, 16.72s/it]"
          ]
        },
        {
          "name": "stdout",
          "output_type": "stream",
          "text": [
            "Test Loss: 0.902811, Test Accuracy: 84.29%\n",
            "Epoch: 27/50\tLoss: 0.112476\tAccuracy: 84.60%\n"
          ]
        },
        {
          "name": "stderr",
          "output_type": "stream",
          "text": [
            "\r 54%|█████▍    | 27/50 [07:29<06:23, 16.67s/it]"
          ]
        },
        {
          "name": "stdout",
          "output_type": "stream",
          "text": [
            "Test Loss: 0.847668, Test Accuracy: 84.31%\n",
            "Epoch: 28/50\tLoss: 0.092752\tAccuracy: 83.04%\n"
          ]
        },
        {
          "name": "stderr",
          "output_type": "stream",
          "text": [
            "\r 56%|█████▌    | 28/50 [07:45<06:04, 16.56s/it]"
          ]
        },
        {
          "name": "stdout",
          "output_type": "stream",
          "text": [
            "Test Loss: 0.847668, Test Accuracy: 84.31%\n",
            "Epoch: 29/50\tLoss: 0.078116\tAccuracy: 83.72%\n"
          ]
        },
        {
          "name": "stderr",
          "output_type": "stream",
          "text": [
            "\r 58%|█████▊    | 29/50 [08:02<05:49, 16.63s/it]"
          ]
        },
        {
          "name": "stdout",
          "output_type": "stream",
          "text": [
            "Test Loss: 0.847668, Test Accuracy: 84.31%\n",
            "Epoch: 30/50\tLoss: 0.074250\tAccuracy: 84.62%\n"
          ]
        },
        {
          "name": "stderr",
          "output_type": "stream",
          "text": [
            "\r 60%|██████    | 30/50 [08:19<05:32, 16.61s/it]"
          ]
        },
        {
          "name": "stdout",
          "output_type": "stream",
          "text": [
            "Test Loss: 1.062899, Test Accuracy: 84.41%\n",
            "Epoch: 31/50\tLoss: 0.060146\tAccuracy: 84.02%\n"
          ]
        },
        {
          "name": "stderr",
          "output_type": "stream",
          "text": [
            "\r 62%|██████▏   | 31/50 [08:35<05:13, 16.52s/it]"
          ]
        },
        {
          "name": "stdout",
          "output_type": "stream",
          "text": [
            "Test Loss: 1.062899, Test Accuracy: 84.41%\n",
            "Epoch: 32/50\tLoss: 0.066718\tAccuracy: 82.53%\n"
          ]
        },
        {
          "name": "stderr",
          "output_type": "stream",
          "text": [
            "\r 64%|██████▍   | 32/50 [08:52<04:58, 16.57s/it]"
          ]
        },
        {
          "name": "stdout",
          "output_type": "stream",
          "text": [
            "Test Loss: 1.062899, Test Accuracy: 84.41%\n",
            "Epoch: 33/50\tLoss: 0.073828\tAccuracy: 84.40%\n"
          ]
        },
        {
          "name": "stderr",
          "output_type": "stream",
          "text": [
            "\r 66%|██████▌   | 33/50 [09:09<04:42, 16.64s/it]"
          ]
        },
        {
          "name": "stdout",
          "output_type": "stream",
          "text": [
            "Test Loss: 1.062899, Test Accuracy: 84.41%\n",
            "Epoch: 34/50\tLoss: 0.120368\tAccuracy: 83.89%\n"
          ]
        },
        {
          "name": "stderr",
          "output_type": "stream",
          "text": [
            "\r 68%|██████▊   | 34/50 [09:25<04:27, 16.72s/it]"
          ]
        },
        {
          "name": "stdout",
          "output_type": "stream",
          "text": [
            "Test Loss: 1.062899, Test Accuracy: 84.41%\n",
            "Epoch: 35/50\tLoss: 0.061406\tAccuracy: 84.91%\n"
          ]
        },
        {
          "name": "stderr",
          "output_type": "stream",
          "text": [
            "\r 70%|███████   | 35/50 [09:42<04:11, 16.74s/it]"
          ]
        },
        {
          "name": "stdout",
          "output_type": "stream",
          "text": [
            "Test Loss: 1.088104, Test Accuracy: 84.61%\n",
            "Epoch: 36/50\tLoss: 0.069064\tAccuracy: 84.41%\n"
          ]
        },
        {
          "name": "stderr",
          "output_type": "stream",
          "text": [
            "\r 72%|███████▏  | 36/50 [09:59<03:54, 16.72s/it]"
          ]
        },
        {
          "name": "stdout",
          "output_type": "stream",
          "text": [
            "Test Loss: 1.088104, Test Accuracy: 84.61%\n",
            "Epoch: 37/50\tLoss: 0.050670\tAccuracy: 84.43%\n"
          ]
        },
        {
          "name": "stderr",
          "output_type": "stream",
          "text": [
            "\r 74%|███████▍  | 37/50 [10:15<03:35, 16.61s/it]"
          ]
        },
        {
          "name": "stdout",
          "output_type": "stream",
          "text": [
            "Test Loss: 1.088104, Test Accuracy: 84.61%\n",
            "Epoch: 38/50\tLoss: 0.042146\tAccuracy: 84.52%\n"
          ]
        },
        {
          "name": "stderr",
          "output_type": "stream",
          "text": [
            "\r 76%|███████▌  | 38/50 [10:32<03:19, 16.66s/it]"
          ]
        },
        {
          "name": "stdout",
          "output_type": "stream",
          "text": [
            "Test Loss: 1.088104, Test Accuracy: 84.61%\n",
            "Epoch: 39/50\tLoss: 0.055903\tAccuracy: 83.65%\n"
          ]
        },
        {
          "name": "stderr",
          "output_type": "stream",
          "text": [
            "\r 78%|███████▊  | 39/50 [10:49<03:03, 16.66s/it]"
          ]
        },
        {
          "name": "stdout",
          "output_type": "stream",
          "text": [
            "Test Loss: 1.088104, Test Accuracy: 84.61%\n",
            "Epoch: 40/50\tLoss: 0.060897\tAccuracy: 84.31%\n"
          ]
        },
        {
          "name": "stderr",
          "output_type": "stream",
          "text": [
            "\r 80%|████████  | 40/50 [11:05<02:45, 16.53s/it]"
          ]
        },
        {
          "name": "stdout",
          "output_type": "stream",
          "text": [
            "Test Loss: 1.088104, Test Accuracy: 84.61%\n",
            "Epoch: 41/50\tLoss: 0.043640\tAccuracy: 84.27%\n"
          ]
        },
        {
          "name": "stderr",
          "output_type": "stream",
          "text": [
            "\r 82%|████████▏ | 41/50 [11:22<02:29, 16.60s/it]"
          ]
        },
        {
          "name": "stdout",
          "output_type": "stream",
          "text": [
            "Test Loss: 1.088104, Test Accuracy: 84.61%\n",
            "Epoch: 42/50\tLoss: 0.056643\tAccuracy: 84.71%\n"
          ]
        },
        {
          "name": "stderr",
          "output_type": "stream",
          "text": [
            "\r 84%|████████▍ | 42/50 [11:38<02:13, 16.65s/it]"
          ]
        },
        {
          "name": "stdout",
          "output_type": "stream",
          "text": [
            "Test Loss: 1.088104, Test Accuracy: 84.61%\n",
            "Epoch: 43/50\tLoss: 0.050067\tAccuracy: 84.48%\n"
          ]
        },
        {
          "name": "stderr",
          "output_type": "stream",
          "text": [
            "\r 86%|████████▌ | 43/50 [11:55<01:55, 16.53s/it]"
          ]
        },
        {
          "name": "stdout",
          "output_type": "stream",
          "text": [
            "Test Loss: 1.088104, Test Accuracy: 84.61%\n",
            "Epoch: 44/50\tLoss: 0.029576\tAccuracy: 84.91%\n"
          ]
        },
        {
          "name": "stderr",
          "output_type": "stream",
          "text": [
            "\r 88%|████████▊ | 44/50 [12:12<01:39, 16.63s/it]"
          ]
        },
        {
          "name": "stdout",
          "output_type": "stream",
          "text": [
            "Test Loss: 1.088104, Test Accuracy: 84.61%\n",
            "Epoch: 45/50\tLoss: 0.053437\tAccuracy: 84.46%\n"
          ]
        },
        {
          "name": "stderr",
          "output_type": "stream",
          "text": [
            "\r 90%|█████████ | 45/50 [12:29<01:23, 16.74s/it]"
          ]
        },
        {
          "name": "stdout",
          "output_type": "stream",
          "text": [
            "Test Loss: 1.088104, Test Accuracy: 84.61%\n",
            "Epoch: 46/50\tLoss: 0.057227\tAccuracy: 84.11%\n"
          ]
        },
        {
          "name": "stderr",
          "output_type": "stream",
          "text": [
            "\r 92%|█████████▏| 46/50 [12:45<01:06, 16.59s/it]"
          ]
        },
        {
          "name": "stdout",
          "output_type": "stream",
          "text": [
            "Test Loss: 1.088104, Test Accuracy: 84.61%\n",
            "Epoch: 47/50\tLoss: 0.044516\tAccuracy: 84.12%\n"
          ]
        },
        {
          "name": "stderr",
          "output_type": "stream",
          "text": [
            "\r 94%|█████████▍| 47/50 [13:01<00:49, 16.54s/it]"
          ]
        },
        {
          "name": "stdout",
          "output_type": "stream",
          "text": [
            "Test Loss: 1.088104, Test Accuracy: 84.61%\n",
            "Epoch: 48/50\tLoss: 0.046466\tAccuracy: 83.42%\n"
          ]
        },
        {
          "name": "stderr",
          "output_type": "stream",
          "text": [
            "\r 96%|█████████▌| 48/50 [13:18<00:33, 16.67s/it]"
          ]
        },
        {
          "name": "stdout",
          "output_type": "stream",
          "text": [
            "Test Loss: 1.088104, Test Accuracy: 84.61%\n",
            "Epoch: 49/50\tLoss: 0.047620\tAccuracy: 84.80%\n"
          ]
        },
        {
          "name": "stderr",
          "output_type": "stream",
          "text": [
            "\r 98%|█████████▊| 49/50 [13:34<00:16, 16.55s/it]"
          ]
        },
        {
          "name": "stdout",
          "output_type": "stream",
          "text": [
            "Test Loss: 1.088104, Test Accuracy: 84.61%\n",
            "Epoch: 50/50\tLoss: 0.028021\tAccuracy: 84.73%\n"
          ]
        },
        {
          "name": "stderr",
          "output_type": "stream",
          "text": [
            "100%|██████████| 50/50 [13:51<00:00, 16.63s/it]"
          ]
        },
        {
          "name": "stdout",
          "output_type": "stream",
          "text": [
            "Test Loss: 1.088104, Test Accuracy: 84.61%\n"
          ]
        },
        {
          "name": "stderr",
          "output_type": "stream",
          "text": [
            "\n"
          ]
        },
        {
          "data": {
            "image/png": "[encoded data removed]",
            "text/plain": [
              "<Figure size 640x480 with 1 Axes>"
            ]
          },
          "metadata": {},
          "output_type": "display_data"
        },
        {
          "name": "stderr",
          "output_type": "stream",
          "text": [
            "  0%|          | 0/207 [00:00<?, ?it/s]<ipython-input-27-f032b52d8ce3>:18: FutureWarning: The frame.append method is deprecated and will be removed from pandas in a future version. Use pandas.concat instead.\n",
            "  df_train = df_train.append(df_logit_train, ignore_index=True)\n",
            "100%|██████████| 207/207 [00:05<00:00, 39.18it/s]\n",
            "<ipython-input-27-f032b52d8ce3>:29: FutureWarning: The frame.append method is deprecated and will be removed from pandas in a future version. Use pandas.concat instead.\n",
            "  df_test = df_test.append(df_logit_test, ignore_index=True)\n",
            "<ipython-input-27-f032b52d8ce3>:32: FutureWarning: The frame.append method is deprecated and will be removed from pandas in a future version. Use pandas.concat instead.\n",
            "  df_all = df_train.append(df_test,ignore_index=True)\n"
          ]
        },
        {
          "name": "stdout",
          "output_type": "stream",
          "text": [
            "MAI 0.csv saved\n"
          ]
        },
        {
          "name": "stderr",
          "output_type": "stream",
          "text": [
            "\r  0%|          | 0/50 [00:00<?, ?it/s]"
          ]
        },
        {
          "name": "stdout",
          "output_type": "stream",
          "text": [
            "Epoch: 1/50\tLoss: 3.442772\tAccuracy: 14.56%\n"
          ]
        },
        {
          "name": "stderr",
          "output_type": "stream",
          "text": [
            "\r  2%|▏         | 1/50 [00:16<13:47, 16.88s/it]"
          ]
        },
        {
          "name": "stdout",
          "output_type": "stream",
          "text": [
            "Test Loss: 3.192447, Test Accuracy: 14.51%\n",
            "Epoch: 2/50\tLoss: 2.963712\tAccuracy: 29.47%\n"
          ]
        },
        {
          "name": "stderr",
          "output_type": "stream",
          "text": [
            "\r  4%|▍         | 2/50 [00:33<13:20, 16.69s/it]"
          ]
        },
        {
          "name": "stdout",
          "output_type": "stream",
          "text": [
            "Test Loss: 2.737128, Test Accuracy: 29.67%\n",
            "Epoch: 3/50\tLoss: 2.427955\tAccuracy: 43.76%\n"
          ]
        },
        {
          "name": "stderr",
          "output_type": "stream",
          "text": [
            "\r  6%|▌         | 3/50 [00:49<12:57, 16.54s/it]"
          ]
        },
        {
          "name": "stdout",
          "output_type": "stream",
          "text": [
            "Test Loss: 2.213773, Test Accuracy: 44.33%\n",
            "Epoch: 4/50\tLoss: 1.796079\tAccuracy: 59.31%\n"
          ]
        },
        {
          "name": "stderr",
          "output_type": "stream",
          "text": [
            "\r  8%|▊         | 4/50 [01:06<12:52, 16.79s/it]"
          ]
        },
        {
          "name": "stdout",
          "output_type": "stream",
          "text": [
            "Test Loss: 1.560396, Test Accuracy: 59.37%\n",
            "Epoch: 5/50\tLoss: 1.249354\tAccuracy: 66.85%\n"
          ]
        },
        {
          "name": "stderr",
          "output_type": "stream",
          "text": [
            "\r 10%|█         | 5/50 [01:23<12:37, 16.83s/it]"
          ]
        },
        {
          "name": "stdout",
          "output_type": "stream",
          "text": [
            "Test Loss: 1.133613, Test Accuracy: 67.90%\n",
            "Epoch: 6/50\tLoss: 0.907263\tAccuracy: 74.52%\n"
          ]
        },
        {
          "name": "stderr",
          "output_type": "stream",
          "text": [
            "\r 12%|█▏        | 6/50 [01:40<12:12, 16.65s/it]"
          ]
        },
        {
          "name": "stdout",
          "output_type": "stream",
          "text": [
            "Test Loss: 0.889110, Test Accuracy: 74.71%\n",
            "Epoch: 7/50\tLoss: 0.744361\tAccuracy: 78.01%\n"
          ]
        },
        {
          "name": "stderr",
          "output_type": "stream",
          "text": [
            "\r 14%|█▍        | 7/50 [01:56<11:54, 16.62s/it]"
          ]
        },
        {
          "name": "stdout",
          "output_type": "stream",
          "text": [
            "Test Loss: 0.752715, Test Accuracy: 78.09%\n",
            "Epoch: 8/50\tLoss: 0.615826\tAccuracy: 79.50%\n"
          ]
        },
        {
          "name": "stderr",
          "output_type": "stream",
          "text": [
            "\r 16%|█▌        | 8/50 [02:13<11:45, 16.80s/it]"
          ]
        },
        {
          "name": "stdout",
          "output_type": "stream",
          "text": [
            "Test Loss: 0.729776, Test Accuracy: 79.32%\n",
            "Epoch: 9/50\tLoss: 0.520726\tAccuracy: 80.47%\n"
          ]
        },
        {
          "name": "stderr",
          "output_type": "stream",
          "text": [
            "\r 18%|█▊        | 9/50 [02:30<11:24, 16.69s/it]"
          ]
        },
        {
          "name": "stdout",
          "output_type": "stream",
          "text": [
            "Test Loss: 0.727437, Test Accuracy: 80.14%\n",
            "Epoch: 10/50\tLoss: 0.481168\tAccuracy: 81.94%\n"
          ]
        },
        {
          "name": "stderr",
          "output_type": "stream",
          "text": [
            "\r 20%|██        | 10/50 [02:46<11:03, 16.59s/it]"
          ]
        },
        {
          "name": "stdout",
          "output_type": "stream",
          "text": [
            "Test Loss: 0.645787, Test Accuracy: 81.68%\n",
            "Epoch: 11/50\tLoss: 0.418212\tAccuracy: 82.37%\n"
          ]
        },
        {
          "name": "stderr",
          "output_type": "stream",
          "text": [
            "\r 22%|██▏       | 11/50 [03:03<10:51, 16.71s/it]"
          ]
        },
        {
          "name": "stdout",
          "output_type": "stream",
          "text": [
            "Test Loss: 0.671821, Test Accuracy: 82.04%\n",
            "Epoch: 12/50\tLoss: 0.359086\tAccuracy: 83.35%\n"
          ]
        },
        {
          "name": "stderr",
          "output_type": "stream",
          "text": [
            "\r 24%|██▍       | 12/50 [03:20<10:39, 16.82s/it]"
          ]
        },
        {
          "name": "stdout",
          "output_type": "stream",
          "text": [
            "Test Loss: 0.662359, Test Accuracy: 83.21%\n",
            "Epoch: 13/50\tLoss: 0.339134\tAccuracy: 81.81%\n"
          ]
        },
        {
          "name": "stderr",
          "output_type": "stream",
          "text": [
            "\r 26%|██▌       | 13/50 [03:37<10:16, 16.67s/it]"
          ]
        },
        {
          "name": "stdout",
          "output_type": "stream",
          "text": [
            "Test Loss: 0.662359, Test Accuracy: 83.21%\n",
            "Epoch: 14/50\tLoss: 0.290913\tAccuracy: 83.02%\n"
          ]
        },
        {
          "name": "stderr",
          "output_type": "stream",
          "text": [
            "\r 28%|██▊       | 14/50 [03:53<09:59, 16.65s/it]"
          ]
        },
        {
          "name": "stdout",
          "output_type": "stream",
          "text": [
            "Test Loss: 0.662359, Test Accuracy: 83.21%\n",
            "Epoch: 15/50\tLoss: 0.272625\tAccuracy: 83.58%\n"
          ]
        },
        {
          "name": "stderr",
          "output_type": "stream",
          "text": [
            "\r 30%|███       | 15/50 [04:10<09:47, 16.79s/it]"
          ]
        },
        {
          "name": "stdout",
          "output_type": "stream",
          "text": [
            "Test Loss: 0.653669, Test Accuracy: 83.48%\n",
            "Epoch: 16/50\tLoss: 0.257399\tAccuracy: 83.10%\n"
          ]
        },
        {
          "name": "stderr",
          "output_type": "stream",
          "text": [
            "\r 32%|███▏      | 16/50 [04:27<09:30, 16.79s/it]"
          ]
        },
        {
          "name": "stdout",
          "output_type": "stream",
          "text": [
            "Test Loss: 0.653669, Test Accuracy: 83.48%\n",
            "Epoch: 17/50\tLoss: 0.275024\tAccuracy: 83.07%\n"
          ]
        },
        {
          "name": "stderr",
          "output_type": "stream",
          "text": [
            "\r 34%|███▍      | 17/50 [04:44<09:10, 16.68s/it]"
          ]
        },
        {
          "name": "stdout",
          "output_type": "stream",
          "text": [
            "Test Loss: 0.653669, Test Accuracy: 83.48%\n",
            "Epoch: 18/50\tLoss: 0.229607\tAccuracy: 82.72%\n"
          ]
        },
        {
          "name": "stderr",
          "output_type": "stream",
          "text": [
            "\r 36%|███▌      | 18/50 [05:00<08:53, 16.67s/it]"
          ]
        },
        {
          "name": "stdout",
          "output_type": "stream",
          "text": [
            "Test Loss: 0.653669, Test Accuracy: 83.48%\n",
            "Epoch: 19/50\tLoss: 0.209401\tAccuracy: 84.22%\n"
          ]
        },
        {
          "name": "stderr",
          "output_type": "stream",
          "text": [
            "\r 38%|███▊      | 19/50 [05:17<08:41, 16.82s/it]"
          ]
        },
        {
          "name": "stdout",
          "output_type": "stream",
          "text": [
            "Test Loss: 0.789721, Test Accuracy: 84.04%\n",
            "Epoch: 20/50\tLoss: 0.175970\tAccuracy: 80.55%\n"
          ]
        },
        {
          "name": "stderr",
          "output_type": "stream",
          "text": [
            "\r 40%|████      | 20/50 [05:34<08:21, 16.72s/it]"
          ]
        },
        {
          "name": "stdout",
          "output_type": "stream",
          "text": [
            "Test Loss: 0.789721, Test Accuracy: 84.04%\n",
            "Epoch: 21/50\tLoss: 0.216810\tAccuracy: 81.88%\n"
          ]
        },
        {
          "name": "stderr",
          "output_type": "stream",
          "text": [
            "\r 42%|████▏     | 21/50 [05:50<08:02, 16.62s/it]"
          ]
        },
        {
          "name": "stdout",
          "output_type": "stream",
          "text": [
            "Test Loss: 0.789721, Test Accuracy: 84.04%\n",
            "Epoch: 22/50\tLoss: 0.246072\tAccuracy: 82.21%\n"
          ]
        },
        {
          "name": "stderr",
          "output_type": "stream",
          "text": [
            "\r 44%|████▍     | 22/50 [06:07<07:47, 16.69s/it]"
          ]
        },
        {
          "name": "stdout",
          "output_type": "stream",
          "text": [
            "Test Loss: 0.789721, Test Accuracy: 84.04%\n",
            "Epoch: 23/50\tLoss: 0.154475\tAccuracy: 83.99%\n"
          ]
        },
        {
          "name": "stderr",
          "output_type": "stream",
          "text": [
            "\r 46%|████▌     | 23/50 [06:24<07:35, 16.85s/it]"
          ]
        },
        {
          "name": "stdout",
          "output_type": "stream",
          "text": [
            "Test Loss: 0.789721, Test Accuracy: 84.04%\n",
            "Epoch: 24/50\tLoss: 0.135880\tAccuracy: 83.57%\n"
          ]
        },
        {
          "name": "stderr",
          "output_type": "stream",
          "text": [
            "\r 48%|████▊     | 24/50 [06:41<07:16, 16.77s/it]"
          ]
        },
        {
          "name": "stdout",
          "output_type": "stream",
          "text": [
            "Test Loss: 0.789721, Test Accuracy: 84.04%\n",
            "Epoch: 25/50\tLoss: 0.149171\tAccuracy: 84.91%\n"
          ]
        },
        {
          "name": "stderr",
          "output_type": "stream",
          "text": [
            "\r 50%|█████     | 25/50 [06:57<06:56, 16.65s/it]"
          ]
        },
        {
          "name": "stdout",
          "output_type": "stream",
          "text": [
            "Test Loss: 0.823297, Test Accuracy: 84.83%\n",
            "Epoch: 26/50\tLoss: 0.134274\tAccuracy: 84.81%\n"
          ]
        },
        {
          "name": "stderr",
          "output_type": "stream",
          "text": [
            "\r 52%|█████▏    | 26/50 [07:14<06:43, 16.82s/it]"
          ]
        },
        {
          "name": "stdout",
          "output_type": "stream",
          "text": [
            "Test Loss: 0.823297, Test Accuracy: 84.83%\n",
            "Epoch: 27/50\tLoss: 0.130417\tAccuracy: 84.48%\n"
          ]
        },
        {
          "name": "stderr",
          "output_type": "stream",
          "text": [
            "\r 54%|█████▍    | 27/50 [07:32<06:30, 16.99s/it]"
          ]
        },
        {
          "name": "stdout",
          "output_type": "stream",
          "text": [
            "Test Loss: 0.823297, Test Accuracy: 84.83%\n",
            "Epoch: 28/50\tLoss: 0.101148\tAccuracy: 84.16%\n"
          ]
        },
        {
          "name": "stderr",
          "output_type": "stream",
          "text": [
            "\r 56%|█████▌    | 28/50 [07:48<06:09, 16.80s/it]"
          ]
        },
        {
          "name": "stdout",
          "output_type": "stream",
          "text": [
            "Test Loss: 0.823297, Test Accuracy: 84.83%\n",
            "Epoch: 29/50\tLoss: 0.113864\tAccuracy: 83.54%\n"
          ]
        },
        {
          "name": "stderr",
          "output_type": "stream",
          "text": [
            "\r 58%|█████▊    | 29/50 [08:05<05:52, 16.78s/it]"
          ]
        },
        {
          "name": "stdout",
          "output_type": "stream",
          "text": [
            "Test Loss: 0.823297, Test Accuracy: 84.83%\n",
            "Epoch: 30/50\tLoss: 0.158016\tAccuracy: 83.80%\n"
          ]
        },
        {
          "name": "stderr",
          "output_type": "stream",
          "text": [
            "\r 60%|██████    | 30/50 [08:22<05:36, 16.84s/it]"
          ]
        },
        {
          "name": "stdout",
          "output_type": "stream",
          "text": [
            "Test Loss: 0.823297, Test Accuracy: 84.83%\n",
            "Epoch: 31/50\tLoss: 0.142464\tAccuracy: 84.59%\n"
          ]
        },
        {
          "name": "stderr",
          "output_type": "stream",
          "text": [
            "\r 62%|██████▏   | 31/50 [08:38<05:17, 16.69s/it]"
          ]
        },
        {
          "name": "stdout",
          "output_type": "stream",
          "text": [
            "Test Loss: 0.823297, Test Accuracy: 84.83%\n",
            "Epoch: 32/50\tLoss: 0.114969\tAccuracy: 84.35%\n"
          ]
        },
        {
          "name": "stderr",
          "output_type": "stream",
          "text": [
            "\r 64%|██████▍   | 32/50 [08:55<04:58, 16.60s/it]"
          ]
        },
        {
          "name": "stdout",
          "output_type": "stream",
          "text": [
            "Test Loss: 0.823297, Test Accuracy: 84.83%\n",
            "Epoch: 33/50\tLoss: 0.113351\tAccuracy: 84.95%\n"
          ]
        },
        {
          "name": "stderr",
          "output_type": "stream",
          "text": [
            "\r 66%|██████▌   | 33/50 [09:12<04:44, 16.74s/it]"
          ]
        },
        {
          "name": "stdout",
          "output_type": "stream",
          "text": [
            "Test Loss: 0.875072, Test Accuracy: 84.63%\n",
            "Epoch: 34/50\tLoss: 0.092229\tAccuracy: 84.03%\n"
          ]
        },
        {
          "name": "stderr",
          "output_type": "stream",
          "text": [
            "\r 68%|██████▊   | 34/50 [09:29<04:30, 16.88s/it]"
          ]
        },
        {
          "name": "stdout",
          "output_type": "stream",
          "text": [
            "Test Loss: 0.875072, Test Accuracy: 84.63%\n",
            "Epoch: 35/50\tLoss: 0.074959\tAccuracy: 84.84%\n"
          ]
        },
        {
          "name": "stderr",
          "output_type": "stream",
          "text": [
            "\r 70%|███████   | 35/50 [09:45<04:10, 16.71s/it]"
          ]
        },
        {
          "name": "stdout",
          "output_type": "stream",
          "text": [
            "Test Loss: 0.875072, Test Accuracy: 84.63%\n",
            "Epoch: 36/50\tLoss: 0.073729\tAccuracy: 85.07%\n"
          ]
        },
        {
          "name": "stderr",
          "output_type": "stream",
          "text": [
            "\r 72%|███████▏  | 36/50 [10:02<03:53, 16.69s/it]"
          ]
        },
        {
          "name": "stdout",
          "output_type": "stream",
          "text": [
            "Test Loss: 1.083918, Test Accuracy: 84.61%\n",
            "Epoch: 37/50\tLoss: 0.058775\tAccuracy: 84.53%\n"
          ]
        },
        {
          "name": "stderr",
          "output_type": "stream",
          "text": [
            "\r 74%|███████▍  | 37/50 [10:19<03:38, 16.81s/it]"
          ]
        },
        {
          "name": "stdout",
          "output_type": "stream",
          "text": [
            "Test Loss: 1.083918, Test Accuracy: 84.61%\n",
            "Epoch: 38/50\tLoss: 0.053279\tAccuracy: 84.27%\n"
          ]
        },
        {
          "name": "stderr",
          "output_type": "stream",
          "text": [
            "\r 76%|███████▌  | 38/50 [10:35<03:19, 16.66s/it]"
          ]
        },
        {
          "name": "stdout",
          "output_type": "stream",
          "text": [
            "Test Loss: 1.083918, Test Accuracy: 84.61%\n",
            "Epoch: 39/50\tLoss: 0.077587\tAccuracy: 85.13%\n"
          ]
        },
        {
          "name": "stderr",
          "output_type": "stream",
          "text": [
            "\r 78%|███████▊  | 39/50 [10:52<03:02, 16.56s/it]"
          ]
        },
        {
          "name": "stdout",
          "output_type": "stream",
          "text": [
            "Test Loss: 1.042308, Test Accuracy: 85.15%\n",
            "Epoch: 40/50\tLoss: 0.054836\tAccuracy: 85.56%\n"
          ]
        },
        {
          "name": "stderr",
          "output_type": "stream",
          "text": [
            "\r 80%|████████  | 40/50 [11:09<02:47, 16.74s/it]"
          ]
        },
        {
          "name": "stdout",
          "output_type": "stream",
          "text": [
            "Test Loss: 0.998424, Test Accuracy: 85.18%\n",
            "Epoch: 41/50\tLoss: 0.045894\tAccuracy: 84.62%\n"
          ]
        },
        {
          "name": "stderr",
          "output_type": "stream",
          "text": [
            "\r 82%|████████▏ | 41/50 [11:26<02:30, 16.75s/it]"
          ]
        },
        {
          "name": "stdout",
          "output_type": "stream",
          "text": [
            "Test Loss: 0.998424, Test Accuracy: 85.18%\n",
            "Epoch: 42/50\tLoss: 0.051339\tAccuracy: 84.02%\n"
          ]
        },
        {
          "name": "stderr",
          "output_type": "stream",
          "text": [
            "\r 84%|████████▍ | 42/50 [11:42<02:12, 16.62s/it]"
          ]
        },
        {
          "name": "stdout",
          "output_type": "stream",
          "text": [
            "Test Loss: 0.998424, Test Accuracy: 85.18%\n",
            "Epoch: 43/50\tLoss: 0.060559\tAccuracy: 84.71%\n"
          ]
        },
        {
          "name": "stderr",
          "output_type": "stream",
          "text": [
            "\r 86%|████████▌ | 43/50 [11:58<01:56, 16.58s/it]"
          ]
        },
        {
          "name": "stdout",
          "output_type": "stream",
          "text": [
            "Test Loss: 0.998424, Test Accuracy: 85.18%\n",
            "Epoch: 44/50\tLoss: 0.061290\tAccuracy: 85.23%\n"
          ]
        },
        {
          "name": "stderr",
          "output_type": "stream",
          "text": [
            "\r 88%|████████▊ | 44/50 [12:16<01:40, 16.82s/it]"
          ]
        },
        {
          "name": "stdout",
          "output_type": "stream",
          "text": [
            "Test Loss: 0.998424, Test Accuracy: 85.18%\n",
            "Epoch: 45/50\tLoss: 0.095581\tAccuracy: 83.00%\n"
          ]
        },
        {
          "name": "stderr",
          "output_type": "stream",
          "text": [
            "\r 90%|█████████ | 45/50 [12:32<01:23, 16.70s/it]"
          ]
        },
        {
          "name": "stdout",
          "output_type": "stream",
          "text": [
            "Test Loss: 0.998424, Test Accuracy: 85.18%\n",
            "Epoch: 46/50\tLoss: 0.102643\tAccuracy: 85.50%\n"
          ]
        },
        {
          "name": "stderr",
          "output_type": "stream",
          "text": [
            "\r 92%|█████████▏| 46/50 [12:48<01:06, 16.58s/it]"
          ]
        },
        {
          "name": "stdout",
          "output_type": "stream",
          "text": [
            "Test Loss: 0.998424, Test Accuracy: 85.18%\n",
            "Epoch: 47/50\tLoss: 0.049874\tAccuracy: 84.70%\n"
          ]
        },
        {
          "name": "stderr",
          "output_type": "stream",
          "text": [
            "\r 94%|█████████▍| 47/50 [13:05<00:49, 16.63s/it]"
          ]
        },
        {
          "name": "stdout",
          "output_type": "stream",
          "text": [
            "Test Loss: 0.998424, Test Accuracy: 85.18%\n",
            "Epoch: 48/50\tLoss: 0.045644\tAccuracy: 84.70%\n"
          ]
        },
        {
          "name": "stderr",
          "output_type": "stream",
          "text": [
            "\r 96%|█████████▌| 48/50 [13:22<00:33, 16.78s/it]"
          ]
        },
        {
          "name": "stdout",
          "output_type": "stream",
          "text": [
            "Test Loss: 0.998424, Test Accuracy: 85.18%\n",
            "Epoch: 49/50\tLoss: 0.047172\tAccuracy: 85.14%\n"
          ]
        },
        {
          "name": "stderr",
          "output_type": "stream",
          "text": [
            "\r 98%|█████████▊| 49/50 [13:39<00:16, 16.65s/it]"
          ]
        },
        {
          "name": "stdout",
          "output_type": "stream",
          "text": [
            "Test Loss: 0.998424, Test Accuracy: 85.18%\n",
            "Epoch: 50/50\tLoss: 0.058779\tAccuracy: 85.27%\n"
          ]
        },
        {
          "name": "stderr",
          "output_type": "stream",
          "text": [
            "100%|██████████| 50/50 [13:55<00:00, 16.71s/it]"
          ]
        },
        {
          "name": "stdout",
          "output_type": "stream",
          "text": [
            "Test Loss: 0.998424, Test Accuracy: 85.18%\n"
          ]
        },
        {
          "name": "stderr",
          "output_type": "stream",
          "text": [
            "\n"
          ]
        },
        {
          "data": {
            "image/png": "[encoded data removed]",
            "text/plain": [
              "<Figure size 640x480 with 1 Axes>"
            ]
          },
          "metadata": {},
          "output_type": "display_data"
        },
        {
          "name": "stderr",
          "output_type": "stream",
          "text": [
            "  0%|          | 0/207 [00:00<?, ?it/s]<ipython-input-27-f032b52d8ce3>:18: FutureWarning: The frame.append method is deprecated and will be removed from pandas in a future version. Use pandas.concat instead.\n",
            "  df_train = df_train.append(df_logit_train, ignore_index=True)\n",
            "100%|██████████| 207/207 [00:05<00:00, 38.25it/s]\n",
            "<ipython-input-27-f032b52d8ce3>:29: FutureWarning: The frame.append method is deprecated and will be removed from pandas in a future version. Use pandas.concat instead.\n",
            "  df_test = df_test.append(df_logit_test, ignore_index=True)\n",
            "<ipython-input-27-f032b52d8ce3>:32: FutureWarning: The frame.append method is deprecated and will be removed from pandas in a future version. Use pandas.concat instead.\n",
            "  df_all = df_train.append(df_test,ignore_index=True)\n"
          ]
        },
        {
          "name": "stdout",
          "output_type": "stream",
          "text": [
            "MAI 1.csv saved\n"
          ]
        },
        {
          "name": "stderr",
          "output_type": "stream",
          "text": [
            "\r  0%|          | 0/50 [00:00<?, ?it/s]"
          ]
        },
        {
          "name": "stdout",
          "output_type": "stream",
          "text": [
            "Epoch: 1/50\tLoss: 3.551511\tAccuracy: 4.70%\n"
          ]
        },
        {
          "name": "stderr",
          "output_type": "stream",
          "text": [
            "\r  2%|▏         | 1/50 [00:17<13:59, 17.13s/it]"
          ]
        },
        {
          "name": "stdout",
          "output_type": "stream",
          "text": [
            "Test Loss: 3.506669, Test Accuracy: 4.43%\n",
            "Epoch: 2/50\tLoss: 3.382396\tAccuracy: 13.18%\n"
          ]
        },
        {
          "name": "stderr",
          "output_type": "stream",
          "text": [
            "\r  4%|▍         | 2/50 [00:33<13:27, 16.82s/it]"
          ]
        },
        {
          "name": "stdout",
          "output_type": "stream",
          "text": [
            "Test Loss: 3.177112, Test Accuracy: 13.18%\n",
            "Epoch: 3/50\tLoss: 3.088121\tAccuracy: 23.51%\n"
          ]
        },
        {
          "name": "stderr",
          "output_type": "stream",
          "text": [
            "\r  6%|▌         | 3/50 [00:50<13:05, 16.71s/it]"
          ]
        },
        {
          "name": "stdout",
          "output_type": "stream",
          "text": [
            "Test Loss: 2.873460, Test Accuracy: 24.00%\n",
            "Epoch: 4/50\tLoss: 2.693670\tAccuracy: 36.98%\n"
          ]
        },
        {
          "name": "stderr",
          "output_type": "stream",
          "text": [
            "\r  8%|▊         | 4/50 [01:06<12:41, 16.55s/it]"
          ]
        },
        {
          "name": "stdout",
          "output_type": "stream",
          "text": [
            "Test Loss: 2.408024, Test Accuracy: 37.27%\n",
            "Epoch: 5/50\tLoss: 2.085652\tAccuracy: 54.79%\n"
          ]
        },
        {
          "name": "stderr",
          "output_type": "stream",
          "text": [
            "\r 10%|█         | 5/50 [01:23<12:30, 16.69s/it]"
          ]
        },
        {
          "name": "stdout",
          "output_type": "stream",
          "text": [
            "Test Loss: 1.644826, Test Accuracy: 55.07%\n",
            "Epoch: 6/50\tLoss: 1.474495\tAccuracy: 63.76%\n"
          ]
        },
        {
          "name": "stderr",
          "output_type": "stream",
          "text": [
            "\r 12%|█▏        | 6/50 [01:40<12:22, 16.89s/it]"
          ]
        },
        {
          "name": "stdout",
          "output_type": "stream",
          "text": [
            "Test Loss: 1.247868, Test Accuracy: 63.94%\n",
            "Epoch: 7/50\tLoss: 1.034024\tAccuracy: 70.73%\n"
          ]
        },
        {
          "name": "stderr",
          "output_type": "stream",
          "text": [
            "\r 14%|█▍        | 7/50 [01:57<11:59, 16.72s/it]"
          ]
        },
        {
          "name": "stdout",
          "output_type": "stream",
          "text": [
            "Test Loss: 1.000024, Test Accuracy: 70.95%\n",
            "Epoch: 8/50\tLoss: 0.835205\tAccuracy: 76.07%\n"
          ]
        },
        {
          "name": "stderr",
          "output_type": "stream",
          "text": [
            "\r 16%|█▌        | 8/50 [02:13<11:38, 16.62s/it]"
          ]
        },
        {
          "name": "stdout",
          "output_type": "stream",
          "text": [
            "Test Loss: 0.885912, Test Accuracy: 75.80%\n",
            "Epoch: 9/50\tLoss: 0.682323\tAccuracy: 77.68%\n"
          ]
        },
        {
          "name": "stderr",
          "output_type": "stream",
          "text": [
            "\r 18%|█▊        | 9/50 [02:30<11:25, 16.73s/it]"
          ]
        },
        {
          "name": "stdout",
          "output_type": "stream",
          "text": [
            "Test Loss: 0.758728, Test Accuracy: 77.97%\n",
            "Epoch: 10/50\tLoss: 0.584491\tAccuracy: 78.46%\n"
          ]
        },
        {
          "name": "stderr",
          "output_type": "stream",
          "text": [
            "\r 20%|██        | 10/50 [02:47<11:15, 16.89s/it]"
          ]
        },
        {
          "name": "stdout",
          "output_type": "stream",
          "text": [
            "Test Loss: 0.728583, Test Accuracy: 78.91%\n",
            "Epoch: 11/50\tLoss: 0.506604\tAccuracy: 80.51%\n"
          ]
        },
        {
          "name": "stderr",
          "output_type": "stream",
          "text": [
            "\r 22%|██▏       | 11/50 [03:04<10:52, 16.73s/it]"
          ]
        },
        {
          "name": "stdout",
          "output_type": "stream",
          "text": [
            "Test Loss: 0.717090, Test Accuracy: 80.63%\n",
            "Epoch: 12/50\tLoss: 0.457925\tAccuracy: 80.14%\n"
          ]
        },
        {
          "name": "stderr",
          "output_type": "stream",
          "text": [
            "\r 24%|██▍       | 12/50 [03:20<10:33, 16.67s/it]"
          ]
        },
        {
          "name": "stdout",
          "output_type": "stream",
          "text": [
            "Test Loss: 0.717090, Test Accuracy: 80.63%\n",
            "Epoch: 13/50\tLoss: 0.410474\tAccuracy: 82.56%\n"
          ]
        },
        {
          "name": "stderr",
          "output_type": "stream",
          "text": [
            "\r 26%|██▌       | 13/50 [03:37<10:22, 16.82s/it]"
          ]
        },
        {
          "name": "stdout",
          "output_type": "stream",
          "text": [
            "Test Loss: 0.658466, Test Accuracy: 82.53%\n",
            "Epoch: 14/50\tLoss: 0.369516\tAccuracy: 81.64%\n"
          ]
        },
        {
          "name": "stderr",
          "output_type": "stream",
          "text": [
            "\r 28%|██▊       | 14/50 [03:55<10:10, 16.96s/it]"
          ]
        },
        {
          "name": "stdout",
          "output_type": "stream",
          "text": [
            "Test Loss: 0.658466, Test Accuracy: 82.53%\n",
            "Epoch: 15/50\tLoss: 0.342840\tAccuracy: 78.98%\n"
          ]
        },
        {
          "name": "stderr",
          "output_type": "stream",
          "text": [
            "\r 30%|███       | 15/50 [04:11<09:48, 16.82s/it]"
          ]
        },
        {
          "name": "stdout",
          "output_type": "stream",
          "text": [
            "Test Loss: 0.658466, Test Accuracy: 82.53%\n",
            "Epoch: 16/50\tLoss: 0.352586\tAccuracy: 83.03%\n"
          ]
        },
        {
          "name": "stderr",
          "output_type": "stream",
          "text": [
            "\r 32%|███▏      | 16/50 [04:28<09:27, 16.70s/it]"
          ]
        },
        {
          "name": "stdout",
          "output_type": "stream",
          "text": [
            "Test Loss: 0.641204, Test Accuracy: 83.46%\n",
            "Epoch: 17/50\tLoss: 0.268857\tAccuracy: 81.98%\n"
          ]
        },
        {
          "name": "stderr",
          "output_type": "stream",
          "text": [
            "\r 34%|███▍      | 17/50 [04:44<09:11, 16.72s/it]"
          ]
        },
        {
          "name": "stdout",
          "output_type": "stream",
          "text": [
            "Test Loss: 0.641204, Test Accuracy: 83.46%\n",
            "Epoch: 18/50\tLoss: 0.257772\tAccuracy: 83.39%\n"
          ]
        },
        {
          "name": "stderr",
          "output_type": "stream",
          "text": [
            "\r 36%|███▌      | 18/50 [05:02<09:00, 16.90s/it]"
          ]
        },
        {
          "name": "stdout",
          "output_type": "stream",
          "text": [
            "Test Loss: 0.699780, Test Accuracy: 83.22%\n",
            "Epoch: 19/50\tLoss: 0.243536\tAccuracy: 81.64%\n"
          ]
        },
        {
          "name": "stderr",
          "output_type": "stream",
          "text": [
            "\r 38%|███▊      | 19/50 [05:18<08:41, 16.84s/it]"
          ]
        },
        {
          "name": "stdout",
          "output_type": "stream",
          "text": [
            "Test Loss: 0.699780, Test Accuracy: 83.22%\n",
            "Epoch: 20/50\tLoss: 0.222821\tAccuracy: 81.65%\n"
          ]
        },
        {
          "name": "stderr",
          "output_type": "stream",
          "text": [
            "\r 40%|████      | 20/50 [05:35<08:21, 16.71s/it]"
          ]
        },
        {
          "name": "stdout",
          "output_type": "stream",
          "text": [
            "Test Loss: 0.699780, Test Accuracy: 83.22%\n",
            "Epoch: 21/50\tLoss: 0.198337\tAccuracy: 83.88%\n"
          ]
        },
        {
          "name": "stderr",
          "output_type": "stream",
          "text": [
            "\r 42%|████▏     | 21/50 [05:51<08:03, 16.68s/it]"
          ]
        },
        {
          "name": "stdout",
          "output_type": "stream",
          "text": [
            "Test Loss: 0.663812, Test Accuracy: 84.00%\n",
            "Epoch: 22/50\tLoss: 0.199121\tAccuracy: 82.58%\n"
          ]
        },
        {
          "name": "stderr",
          "output_type": "stream",
          "text": [
            "\r 44%|████▍     | 22/50 [06:09<07:53, 16.92s/it]"
          ]
        },
        {
          "name": "stdout",
          "output_type": "stream",
          "text": [
            "Test Loss: 0.663812, Test Accuracy: 84.00%\n",
            "Epoch: 23/50\tLoss: 0.208166\tAccuracy: 83.66%\n"
          ]
        },
        {
          "name": "stderr",
          "output_type": "stream",
          "text": [
            "\r 46%|████▌     | 23/50 [06:26<07:37, 16.96s/it]"
          ]
        },
        {
          "name": "stdout",
          "output_type": "stream",
          "text": [
            "Test Loss: 0.663812, Test Accuracy: 84.00%\n",
            "Epoch: 24/50\tLoss: 0.187630\tAccuracy: 83.23%\n"
          ]
        },
        {
          "name": "stderr",
          "output_type": "stream",
          "text": [
            "\r 48%|████▊     | 24/50 [06:42<07:16, 16.80s/it]"
          ]
        },
        {
          "name": "stdout",
          "output_type": "stream",
          "text": [
            "Test Loss: 0.663812, Test Accuracy: 84.00%\n",
            "Epoch: 25/50\tLoss: 0.143858\tAccuracy: 83.33%\n"
          ]
        },
        {
          "name": "stderr",
          "output_type": "stream",
          "text": [
            "\r 50%|█████     | 25/50 [06:59<06:57, 16.72s/it]"
          ]
        },
        {
          "name": "stdout",
          "output_type": "stream",
          "text": [
            "Test Loss: 0.663812, Test Accuracy: 84.00%\n",
            "Epoch: 26/50\tLoss: 0.155529\tAccuracy: 84.79%\n"
          ]
        },
        {
          "name": "stderr",
          "output_type": "stream",
          "text": [
            "\r 52%|█████▏    | 26/50 [07:16<06:45, 16.91s/it]"
          ]
        },
        {
          "name": "stdout",
          "output_type": "stream",
          "text": [
            "Test Loss: 0.926795, Test Accuracy: 84.83%\n",
            "Epoch: 27/50\tLoss: 0.125012\tAccuracy: 83.58%\n"
          ]
        },
        {
          "name": "stderr",
          "output_type": "stream",
          "text": [
            "\r 54%|█████▍    | 27/50 [07:33<06:28, 16.91s/it]"
          ]
        },
        {
          "name": "stdout",
          "output_type": "stream",
          "text": [
            "Test Loss: 0.926795, Test Accuracy: 84.83%\n",
            "Epoch: 28/50\tLoss: 0.104373\tAccuracy: 83.67%\n"
          ]
        },
        {
          "name": "stderr",
          "output_type": "stream",
          "text": [
            "\r 56%|█████▌    | 28/50 [07:50<06:08, 16.76s/it]"
          ]
        },
        {
          "name": "stdout",
          "output_type": "stream",
          "text": [
            "Test Loss: 0.926795, Test Accuracy: 84.83%\n",
            "Epoch: 29/50\tLoss: 0.124753\tAccuracy: 82.71%\n"
          ]
        },
        {
          "name": "stderr",
          "output_type": "stream",
          "text": [
            "\r 58%|█████▊    | 29/50 [08:06<05:49, 16.66s/it]"
          ]
        },
        {
          "name": "stdout",
          "output_type": "stream",
          "text": [
            "Test Loss: 0.926795, Test Accuracy: 84.83%\n",
            "Epoch: 30/50\tLoss: 0.130297\tAccuracy: 83.32%\n"
          ]
        },
        {
          "name": "stderr",
          "output_type": "stream",
          "text": [
            "\r 60%|██████    | 30/50 [08:23<05:36, 16.84s/it]"
          ]
        },
        {
          "name": "stdout",
          "output_type": "stream",
          "text": [
            "Test Loss: 0.926795, Test Accuracy: 84.83%\n",
            "Epoch: 31/50\tLoss: 0.081910\tAccuracy: 84.16%\n"
          ]
        },
        {
          "name": "stderr",
          "output_type": "stream",
          "text": [
            "\r 62%|██████▏   | 31/50 [08:40<05:21, 16.91s/it]"
          ]
        },
        {
          "name": "stdout",
          "output_type": "stream",
          "text": [
            "Test Loss: 0.926795, Test Accuracy: 84.83%\n",
            "Epoch: 32/50\tLoss: 0.095421\tAccuracy: 83.38%\n"
          ]
        },
        {
          "name": "stderr",
          "output_type": "stream",
          "text": [
            "\r 64%|██████▍   | 32/50 [08:57<05:01, 16.77s/it]"
          ]
        },
        {
          "name": "stdout",
          "output_type": "stream",
          "text": [
            "Test Loss: 0.926795, Test Accuracy: 84.83%\n",
            "Epoch: 33/50\tLoss: 0.089698\tAccuracy: 84.25%\n"
          ]
        },
        {
          "name": "stderr",
          "output_type": "stream",
          "text": [
            "\r 66%|██████▌   | 33/50 [09:13<04:44, 16.73s/it]"
          ]
        },
        {
          "name": "stdout",
          "output_type": "stream",
          "text": [
            "Test Loss: 0.926795, Test Accuracy: 84.83%\n",
            "Epoch: 34/50\tLoss: 0.099573\tAccuracy: 84.35%\n"
          ]
        },
        {
          "name": "stderr",
          "output_type": "stream",
          "text": [
            "\r 68%|██████▊   | 34/50 [09:30<04:27, 16.75s/it]"
          ]
        },
        {
          "name": "stdout",
          "output_type": "stream",
          "text": [
            "Test Loss: 0.926795, Test Accuracy: 84.83%\n",
            "Epoch: 35/50\tLoss: 0.071936\tAccuracy: 83.90%\n"
          ]
        },
        {
          "name": "stderr",
          "output_type": "stream",
          "text": [
            "\r 70%|███████   | 35/50 [09:47<04:13, 16.92s/it]"
          ]
        },
        {
          "name": "stdout",
          "output_type": "stream",
          "text": [
            "Test Loss: 0.926795, Test Accuracy: 84.83%\n",
            "Epoch: 36/50\tLoss: 0.076816\tAccuracy: 82.11%\n"
          ]
        },
        {
          "name": "stderr",
          "output_type": "stream",
          "text": [
            "\r 72%|███████▏  | 36/50 [10:04<03:55, 16.82s/it]"
          ]
        },
        {
          "name": "stdout",
          "output_type": "stream",
          "text": [
            "Test Loss: 0.926795, Test Accuracy: 84.83%\n",
            "Epoch: 37/50\tLoss: 0.061859\tAccuracy: 83.58%\n"
          ]
        },
        {
          "name": "stderr",
          "output_type": "stream",
          "text": [
            "\r 74%|███████▍  | 37/50 [10:20<03:37, 16.70s/it]"
          ]
        },
        {
          "name": "stdout",
          "output_type": "stream",
          "text": [
            "Test Loss: 0.926795, Test Accuracy: 84.83%\n",
            "Epoch: 38/50\tLoss: 0.091619\tAccuracy: 82.97%\n"
          ]
        },
        {
          "name": "stderr",
          "output_type": "stream",
          "text": [
            "\r 76%|███████▌  | 38/50 [10:37<03:20, 16.69s/it]"
          ]
        },
        {
          "name": "stdout",
          "output_type": "stream",
          "text": [
            "Test Loss: 0.926795, Test Accuracy: 84.83%\n",
            "Epoch: 39/50\tLoss: 0.088486\tAccuracy: 84.18%\n"
          ]
        },
        {
          "name": "stderr",
          "output_type": "stream",
          "text": [
            "\r 78%|███████▊  | 39/50 [10:55<03:06, 16.93s/it]"
          ]
        },
        {
          "name": "stdout",
          "output_type": "stream",
          "text": [
            "Test Loss: 0.926795, Test Accuracy: 84.83%\n",
            "Epoch: 40/50\tLoss: 0.058704\tAccuracy: 84.45%\n"
          ]
        },
        {
          "name": "stderr",
          "output_type": "stream",
          "text": [
            "\r 80%|████████  | 40/50 [11:11<02:48, 16.89s/it]"
          ]
        },
        {
          "name": "stdout",
          "output_type": "stream",
          "text": [
            "Test Loss: 0.926795, Test Accuracy: 84.83%\n",
            "Epoch: 41/50\tLoss: 0.065889\tAccuracy: 83.95%\n"
          ]
        },
        {
          "name": "stderr",
          "output_type": "stream",
          "text": [
            "\r 82%|████████▏ | 41/50 [11:28<02:30, 16.77s/it]"
          ]
        },
        {
          "name": "stdout",
          "output_type": "stream",
          "text": [
            "Test Loss: 0.926795, Test Accuracy: 84.83%\n",
            "Epoch: 42/50\tLoss: 0.059102\tAccuracy: 83.22%\n"
          ]
        },
        {
          "name": "stderr",
          "output_type": "stream",
          "text": [
            "\r 84%|████████▍ | 42/50 [11:45<02:13, 16.73s/it]"
          ]
        },
        {
          "name": "stdout",
          "output_type": "stream",
          "text": [
            "Test Loss: 0.926795, Test Accuracy: 84.83%\n",
            "Epoch: 43/50\tLoss: 0.073577\tAccuracy: 83.07%\n"
          ]
        },
        {
          "name": "stderr",
          "output_type": "stream",
          "text": [
            "\r 86%|████████▌ | 43/50 [12:02<01:59, 17.04s/it]"
          ]
        },
        {
          "name": "stdout",
          "output_type": "stream",
          "text": [
            "Test Loss: 0.926795, Test Accuracy: 84.83%\n",
            "Epoch: 44/50\tLoss: 0.098039\tAccuracy: 83.03%\n"
          ]
        },
        {
          "name": "stderr",
          "output_type": "stream",
          "text": [
            "\r 88%|████████▊ | 44/50 [12:19<01:41, 16.97s/it]"
          ]
        },
        {
          "name": "stdout",
          "output_type": "stream",
          "text": [
            "Test Loss: 0.926795, Test Accuracy: 84.83%\n",
            "Epoch: 45/50\tLoss: 0.093164\tAccuracy: 83.78%\n"
          ]
        },
        {
          "name": "stderr",
          "output_type": "stream",
          "text": [
            "\r 90%|█████████ | 45/50 [12:36<01:24, 16.80s/it]"
          ]
        },
        {
          "name": "stdout",
          "output_type": "stream",
          "text": [
            "Test Loss: 0.926795, Test Accuracy: 84.83%\n",
            "Epoch: 46/50\tLoss: 0.114535\tAccuracy: 83.84%\n"
          ]
        },
        {
          "name": "stderr",
          "output_type": "stream",
          "text": [
            "\r 92%|█████████▏| 46/50 [12:52<01:06, 16.74s/it]"
          ]
        },
        {
          "name": "stdout",
          "output_type": "stream",
          "text": [
            "Test Loss: 0.926795, Test Accuracy: 84.83%\n",
            "Epoch: 47/50\tLoss: 0.065756\tAccuracy: 84.27%\n"
          ]
        },
        {
          "name": "stderr",
          "output_type": "stream",
          "text": [
            "\r 94%|█████████▍| 47/50 [13:10<00:50, 16.94s/it]"
          ]
        },
        {
          "name": "stdout",
          "output_type": "stream",
          "text": [
            "Test Loss: 0.926795, Test Accuracy: 84.83%\n",
            "Epoch: 48/50\tLoss: 0.042980\tAccuracy: 83.88%\n"
          ]
        },
        {
          "name": "stderr",
          "output_type": "stream",
          "text": [
            "\r 96%|█████████▌| 48/50 [13:26<00:33, 16.93s/it]"
          ]
        },
        {
          "name": "stdout",
          "output_type": "stream",
          "text": [
            "Test Loss: 0.926795, Test Accuracy: 84.83%\n",
            "Epoch: 49/50\tLoss: 0.059427\tAccuracy: 84.25%\n"
          ]
        },
        {
          "name": "stderr",
          "output_type": "stream",
          "text": [
            "\r 98%|█████████▊| 49/50 [13:43<00:16, 16.77s/it]"
          ]
        },
        {
          "name": "stdout",
          "output_type": "stream",
          "text": [
            "Test Loss: 0.926795, Test Accuracy: 84.83%\n",
            "Epoch: 50/50\tLoss: 0.047412\tAccuracy: 83.85%\n"
          ]
        },
        {
          "name": "stderr",
          "output_type": "stream",
          "text": [
            "100%|██████████| 50/50 [14:00<00:00, 16.80s/it]"
          ]
        },
        {
          "name": "stdout",
          "output_type": "stream",
          "text": [
            "Test Loss: 0.926795, Test Accuracy: 84.83%\n"
          ]
        },
        {
          "name": "stderr",
          "output_type": "stream",
          "text": [
            "\n"
          ]
        },
        {
          "data": {
            "image/png": "[encoded data removed]",
            "text/plain": [
              "<Figure size 640x480 with 1 Axes>"
            ]
          },
          "metadata": {},
          "output_type": "display_data"
        },
        {
          "name": "stderr",
          "output_type": "stream",
          "text": [
            "  0%|          | 0/207 [00:00<?, ?it/s]<ipython-input-27-f032b52d8ce3>:18: FutureWarning: The frame.append method is deprecated and will be removed from pandas in a future version. Use pandas.concat instead.\n",
            "  df_train = df_train.append(df_logit_train, ignore_index=True)\n",
            "100%|██████████| 207/207 [00:06<00:00, 34.07it/s]\n",
            "<ipython-input-27-f032b52d8ce3>:29: FutureWarning: The frame.append method is deprecated and will be removed from pandas in a future version. Use pandas.concat instead.\n",
            "  df_test = df_test.append(df_logit_test, ignore_index=True)\n",
            "<ipython-input-27-f032b52d8ce3>:32: FutureWarning: The frame.append method is deprecated and will be removed from pandas in a future version. Use pandas.concat instead.\n",
            "  df_all = df_train.append(df_test,ignore_index=True)\n"
          ]
        },
        {
          "name": "stdout",
          "output_type": "stream",
          "text": [
            "MAI 2.csv saved\n"
          ]
        },
        {
          "name": "stderr",
          "output_type": "stream",
          "text": [
            "\r  0%|          | 0/50 [00:00<?, ?it/s]"
          ]
        },
        {
          "name": "stdout",
          "output_type": "stream",
          "text": [
            "Epoch: 1/50\tLoss: 3.537674\tAccuracy: 7.79%\n"
          ]
        },
        {
          "name": "stderr",
          "output_type": "stream",
          "text": [
            "\r  2%|▏         | 1/50 [00:17<14:40, 17.97s/it]"
          ]
        },
        {
          "name": "stdout",
          "output_type": "stream",
          "text": [
            "Test Loss: 3.446238, Test Accuracy: 7.72%\n",
            "Epoch: 2/50\tLoss: 3.206226\tAccuracy: 20.21%\n"
          ]
        },
        {
          "name": "stderr",
          "output_type": "stream",
          "text": [
            "\r  4%|▍         | 2/50 [00:36<14:51, 18.58s/it]"
          ]
        },
        {
          "name": "stdout",
          "output_type": "stream",
          "text": [
            "Test Loss: 3.029579, Test Accuracy: 20.28%\n",
            "Epoch: 3/50\tLoss: 2.767801\tAccuracy: 35.93%\n"
          ]
        },
        {
          "name": "stderr",
          "output_type": "stream",
          "text": [
            "\r  6%|▌         | 3/50 [00:54<14:06, 18.02s/it]"
          ]
        },
        {
          "name": "stdout",
          "output_type": "stream",
          "text": [
            "Test Loss: 2.524736, Test Accuracy: 35.67%\n",
            "Epoch: 4/50\tLoss: 2.195213\tAccuracy: 49.28%\n"
          ]
        },
        {
          "name": "stderr",
          "output_type": "stream",
          "text": [
            "\r  8%|▊         | 4/50 [01:11<13:26, 17.52s/it]"
          ]
        },
        {
          "name": "stdout",
          "output_type": "stream",
          "text": [
            "Test Loss: 1.963905, Test Accuracy: 49.10%\n",
            "Epoch: 5/50\tLoss: 1.532684\tAccuracy: 65.93%\n"
          ]
        },
        {
          "name": "stderr",
          "output_type": "stream",
          "text": [
            "\r 10%|█         | 5/50 [01:27<12:54, 17.22s/it]"
          ]
        },
        {
          "name": "stdout",
          "output_type": "stream",
          "text": [
            "Test Loss: 1.250115, Test Accuracy: 65.28%\n",
            "Epoch: 6/50\tLoss: 1.028673\tAccuracy: 72.31%\n"
          ]
        },
        {
          "name": "stderr",
          "output_type": "stream",
          "text": [
            "\r 12%|█▏        | 6/50 [01:44<12:33, 17.12s/it]"
          ]
        },
        {
          "name": "stdout",
          "output_type": "stream",
          "text": [
            "Test Loss: 0.984109, Test Accuracy: 71.69%\n",
            "Epoch: 7/50\tLoss: 0.810359\tAccuracy: 75.30%\n"
          ]
        },
        {
          "name": "stderr",
          "output_type": "stream",
          "text": [
            "\r 14%|█▍        | 7/50 [02:02<12:29, 17.44s/it]"
          ]
        },
        {
          "name": "stdout",
          "output_type": "stream",
          "text": [
            "Test Loss: 0.860949, Test Accuracy: 74.63%\n",
            "Epoch: 8/50\tLoss: 0.656793\tAccuracy: 79.50%\n"
          ]
        },
        {
          "name": "stderr",
          "output_type": "stream",
          "text": [
            "\r 16%|█▌        | 8/50 [02:20<12:10, 17.39s/it]"
          ]
        },
        {
          "name": "stdout",
          "output_type": "stream",
          "text": [
            "Test Loss: 0.723298, Test Accuracy: 78.64%\n",
            "Epoch: 9/50\tLoss: 0.555731\tAccuracy: 80.83%\n"
          ]
        },
        {
          "name": "stderr",
          "output_type": "stream",
          "text": [
            "\r 18%|█▊        | 9/50 [02:36<11:45, 17.21s/it]"
          ]
        },
        {
          "name": "stdout",
          "output_type": "stream",
          "text": [
            "Test Loss: 0.670302, Test Accuracy: 80.48%\n",
            "Epoch: 10/50\tLoss: 0.467659\tAccuracy: 79.91%\n"
          ]
        },
        {
          "name": "stderr",
          "output_type": "stream",
          "text": [
            "\r 20%|██        | 10/50 [02:53<11:23, 17.10s/it]"
          ]
        },
        {
          "name": "stdout",
          "output_type": "stream",
          "text": [
            "Test Loss: 0.670302, Test Accuracy: 80.48%\n",
            "Epoch: 11/50\tLoss: 0.430971\tAccuracy: 81.78%\n"
          ]
        },
        {
          "name": "stderr",
          "output_type": "stream",
          "text": [
            "\r 22%|██▏       | 11/50 [03:11<11:09, 17.16s/it]"
          ]
        },
        {
          "name": "stdout",
          "output_type": "stream",
          "text": [
            "Test Loss: 0.655756, Test Accuracy: 81.26%\n",
            "Epoch: 12/50\tLoss: 0.410390\tAccuracy: 82.22%\n"
          ]
        },
        {
          "name": "stderr",
          "output_type": "stream",
          "text": [
            "\r 24%|██▍       | 12/50 [03:29<11:02, 17.43s/it]"
          ]
        },
        {
          "name": "stdout",
          "output_type": "stream",
          "text": [
            "Test Loss: 0.653517, Test Accuracy: 82.09%\n",
            "Epoch: 13/50\tLoss: 0.347962\tAccuracy: 82.86%\n"
          ]
        },
        {
          "name": "stderr",
          "output_type": "stream",
          "text": [
            "\r 26%|██▌       | 13/50 [03:46<10:41, 17.35s/it]"
          ]
        },
        {
          "name": "stdout",
          "output_type": "stream",
          "text": [
            "Test Loss: 0.649825, Test Accuracy: 82.40%\n",
            "Epoch: 14/50\tLoss: 0.295888\tAccuracy: 82.11%\n"
          ]
        },
        {
          "name": "stderr",
          "output_type": "stream",
          "text": [
            "\r 28%|██▊       | 14/50 [04:03<10:19, 17.21s/it]"
          ]
        },
        {
          "name": "stdout",
          "output_type": "stream",
          "text": [
            "Test Loss: 0.649825, Test Accuracy: 82.40%\n",
            "Epoch: 15/50\tLoss: 0.270056\tAccuracy: 81.93%\n"
          ]
        },
        {
          "name": "stderr",
          "output_type": "stream",
          "text": [
            "\r 30%|███       | 15/50 [04:19<09:57, 17.07s/it]"
          ]
        },
        {
          "name": "stdout",
          "output_type": "stream",
          "text": [
            "Test Loss: 0.649825, Test Accuracy: 82.40%\n",
            "Epoch: 16/50\tLoss: 0.247890\tAccuracy: 83.49%\n"
          ]
        },
        {
          "name": "stderr",
          "output_type": "stream",
          "text": [
            "\r 32%|███▏      | 16/50 [04:36<09:36, 16.97s/it]"
          ]
        },
        {
          "name": "stdout",
          "output_type": "stream",
          "text": [
            "Test Loss: 0.727248, Test Accuracy: 83.36%\n",
            "Epoch: 17/50\tLoss: 0.210104\tAccuracy: 82.92%\n"
          ]
        },
        {
          "name": "stderr",
          "output_type": "stream",
          "text": [
            "\r 34%|███▍      | 17/50 [04:54<09:24, 17.12s/it]"
          ]
        },
        {
          "name": "stdout",
          "output_type": "stream",
          "text": [
            "Test Loss: 0.727248, Test Accuracy: 83.36%\n",
            "Epoch: 18/50\tLoss: 0.211028\tAccuracy: 83.97%\n"
          ]
        },
        {
          "name": "stderr",
          "output_type": "stream",
          "text": [
            "\r 36%|███▌      | 18/50 [05:11<09:14, 17.34s/it]"
          ]
        },
        {
          "name": "stdout",
          "output_type": "stream",
          "text": [
            "Test Loss: 0.681941, Test Accuracy: 83.14%\n",
            "Epoch: 19/50\tLoss: 0.190854\tAccuracy: 82.43%\n"
          ]
        },
        {
          "name": "stderr",
          "output_type": "stream",
          "text": [
            "\r 38%|███▊      | 19/50 [05:29<08:58, 17.37s/it]"
          ]
        },
        {
          "name": "stdout",
          "output_type": "stream",
          "text": [
            "Test Loss: 0.681941, Test Accuracy: 83.14%\n",
            "Epoch: 20/50\tLoss: 0.181750\tAccuracy: 83.19%\n"
          ]
        },
        {
          "name": "stderr",
          "output_type": "stream",
          "text": [
            "\r 40%|████      | 20/50 [05:46<08:35, 17.17s/it]"
          ]
        },
        {
          "name": "stdout",
          "output_type": "stream",
          "text": [
            "Test Loss: 0.681941, Test Accuracy: 83.14%\n",
            "Epoch: 21/50\tLoss: 0.179446\tAccuracy: 83.21%\n"
          ]
        },
        {
          "name": "stderr",
          "output_type": "stream",
          "text": [
            "\r 42%|████▏     | 21/50 [06:02<08:12, 16.99s/it]"
          ]
        },
        {
          "name": "stdout",
          "output_type": "stream",
          "text": [
            "Test Loss: 0.681941, Test Accuracy: 83.14%\n",
            "Epoch: 22/50\tLoss: 0.177770\tAccuracy: 84.34%\n"
          ]
        },
        {
          "name": "stderr",
          "output_type": "stream",
          "text": [
            "\r 44%|████▍     | 22/50 [06:20<07:58, 17.10s/it]"
          ]
        },
        {
          "name": "stdout",
          "output_type": "stream",
          "text": [
            "Test Loss: 0.769706, Test Accuracy: 83.87%\n",
            "Epoch: 23/50\tLoss: 0.162691\tAccuracy: 82.83%\n"
          ]
        },
        {
          "name": "stderr",
          "output_type": "stream",
          "text": [
            "\r 46%|████▌     | 23/50 [06:37<07:47, 17.31s/it]"
          ]
        },
        {
          "name": "stdout",
          "output_type": "stream",
          "text": [
            "Test Loss: 0.769706, Test Accuracy: 83.87%\n",
            "Epoch: 24/50\tLoss: 0.138790\tAccuracy: 84.42%\n"
          ]
        },
        {
          "name": "stderr",
          "output_type": "stream",
          "text": [
            "\r 48%|████▊     | 24/50 [06:55<07:30, 17.33s/it]"
          ]
        },
        {
          "name": "stdout",
          "output_type": "stream",
          "text": [
            "Test Loss: 0.857519, Test Accuracy: 83.93%\n",
            "Epoch: 25/50\tLoss: 0.149941\tAccuracy: 83.99%\n"
          ]
        },
        {
          "name": "stderr",
          "output_type": "stream",
          "text": [
            "\r 50%|█████     | 25/50 [07:11<07:08, 17.15s/it]"
          ]
        },
        {
          "name": "stdout",
          "output_type": "stream",
          "text": [
            "Test Loss: 0.857519, Test Accuracy: 83.93%\n",
            "Epoch: 26/50\tLoss: 0.142291\tAccuracy: 84.20%\n"
          ]
        },
        {
          "name": "stderr",
          "output_type": "stream",
          "text": [
            "\r 52%|█████▏    | 26/50 [07:28<06:48, 17.02s/it]"
          ]
        },
        {
          "name": "stdout",
          "output_type": "stream",
          "text": [
            "Test Loss: 0.857519, Test Accuracy: 83.93%\n",
            "Epoch: 27/50\tLoss: 0.104031\tAccuracy: 84.31%\n"
          ]
        },
        {
          "name": "stderr",
          "output_type": "stream",
          "text": [
            "\r 54%|█████▍    | 27/50 [07:45<06:31, 17.03s/it]"
          ]
        },
        {
          "name": "stdout",
          "output_type": "stream",
          "text": [
            "Test Loss: 0.857519, Test Accuracy: 83.93%\n",
            "Epoch: 28/50\tLoss: 0.105490\tAccuracy: 83.92%\n"
          ]
        },
        {
          "name": "stderr",
          "output_type": "stream",
          "text": [
            "\r 56%|█████▌    | 28/50 [08:03<06:18, 17.20s/it]"
          ]
        },
        {
          "name": "stdout",
          "output_type": "stream",
          "text": [
            "Test Loss: 0.857519, Test Accuracy: 83.93%\n",
            "Epoch: 29/50\tLoss: 0.104112\tAccuracy: 83.37%\n"
          ]
        },
        {
          "name": "stderr",
          "output_type": "stream",
          "text": [
            "\r 58%|█████▊    | 29/50 [08:20<06:01, 17.22s/it]"
          ]
        },
        {
          "name": "stdout",
          "output_type": "stream",
          "text": [
            "Test Loss: 0.857519, Test Accuracy: 83.93%\n",
            "Epoch: 30/50\tLoss: 0.099049\tAccuracy: 83.49%\n"
          ]
        },
        {
          "name": "stderr",
          "output_type": "stream",
          "text": [
            "\r 60%|██████    | 30/50 [08:37<05:39, 16.99s/it]"
          ]
        },
        {
          "name": "stdout",
          "output_type": "stream",
          "text": [
            "Test Loss: 0.857519, Test Accuracy: 83.93%\n",
            "Epoch: 31/50\tLoss: 0.087654\tAccuracy: 84.20%\n"
          ]
        },
        {
          "name": "stderr",
          "output_type": "stream",
          "text": [
            "\r 62%|██████▏   | 31/50 [08:53<05:20, 16.85s/it]"
          ]
        },
        {
          "name": "stdout",
          "output_type": "stream",
          "text": [
            "Test Loss: 0.857519, Test Accuracy: 83.93%\n",
            "Epoch: 32/50\tLoss: 0.063817\tAccuracy: 84.76%\n"
          ]
        },
        {
          "name": "stderr",
          "output_type": "stream",
          "text": [
            "\r 64%|██████▍   | 32/50 [09:10<05:04, 16.92s/it]"
          ]
        },
        {
          "name": "stdout",
          "output_type": "stream",
          "text": [
            "Test Loss: 0.953167, Test Accuracy: 84.56%\n",
            "Epoch: 33/50\tLoss: 0.056637\tAccuracy: 84.48%\n"
          ]
        },
        {
          "name": "stderr",
          "output_type": "stream",
          "text": [
            "\r 66%|██████▌   | 33/50 [09:28<04:50, 17.06s/it]"
          ]
        },
        {
          "name": "stdout",
          "output_type": "stream",
          "text": [
            "Test Loss: 0.953167, Test Accuracy: 84.56%\n",
            "Epoch: 34/50\tLoss: 0.101504\tAccuracy: 84.16%\n"
          ]
        },
        {
          "name": "stderr",
          "output_type": "stream",
          "text": [
            "\r 68%|██████▊   | 34/50 [09:45<04:33, 17.07s/it]"
          ]
        },
        {
          "name": "stdout",
          "output_type": "stream",
          "text": [
            "Test Loss: 0.953167, Test Accuracy: 84.56%\n",
            "Epoch: 35/50\tLoss: 0.067454\tAccuracy: 84.96%\n"
          ]
        },
        {
          "name": "stderr",
          "output_type": "stream",
          "text": [
            "\r 70%|███████   | 35/50 [10:01<04:13, 16.88s/it]"
          ]
        },
        {
          "name": "stdout",
          "output_type": "stream",
          "text": [
            "Test Loss: 0.984834, Test Accuracy: 84.45%\n",
            "Epoch: 36/50\tLoss: 0.063916\tAccuracy: 84.23%\n"
          ]
        },
        {
          "name": "stderr",
          "output_type": "stream",
          "text": [
            "\r 72%|███████▏  | 36/50 [10:18<03:54, 16.77s/it]"
          ]
        },
        {
          "name": "stdout",
          "output_type": "stream",
          "text": [
            "Test Loss: 0.984834, Test Accuracy: 84.45%\n",
            "Epoch: 37/50\tLoss: 0.048633\tAccuracy: 84.84%\n"
          ]
        },
        {
          "name": "stderr",
          "output_type": "stream",
          "text": [
            "\r 74%|███████▍  | 37/50 [10:34<03:38, 16.78s/it]"
          ]
        },
        {
          "name": "stdout",
          "output_type": "stream",
          "text": [
            "Test Loss: 0.984834, Test Accuracy: 84.45%\n",
            "Epoch: 38/50\tLoss: 0.061330\tAccuracy: 83.57%\n"
          ]
        },
        {
          "name": "stderr",
          "output_type": "stream",
          "text": [
            "\r 76%|███████▌  | 38/50 [10:52<03:23, 16.97s/it]"
          ]
        },
        {
          "name": "stdout",
          "output_type": "stream",
          "text": [
            "Test Loss: 0.984834, Test Accuracy: 84.45%\n",
            "Epoch: 39/50\tLoss: 0.088634\tAccuracy: 84.23%\n"
          ]
        },
        {
          "name": "stderr",
          "output_type": "stream",
          "text": [
            "\r 78%|███████▊  | 39/50 [11:09<03:07, 17.00s/it]"
          ]
        },
        {
          "name": "stdout",
          "output_type": "stream",
          "text": [
            "Test Loss: 0.984834, Test Accuracy: 84.45%\n",
            "Epoch: 40/50\tLoss: 0.063041\tAccuracy: 84.68%\n"
          ]
        },
        {
          "name": "stderr",
          "output_type": "stream",
          "text": [
            "\r 80%|████████  | 40/50 [11:25<02:48, 16.84s/it]"
          ]
        },
        {
          "name": "stdout",
          "output_type": "stream",
          "text": [
            "Test Loss: 0.984834, Test Accuracy: 84.45%\n",
            "Epoch: 41/50\tLoss: 0.047698\tAccuracy: 84.70%\n"
          ]
        },
        {
          "name": "stderr",
          "output_type": "stream",
          "text": [
            "\r 82%|████████▏ | 41/50 [11:42<02:30, 16.74s/it]"
          ]
        },
        {
          "name": "stdout",
          "output_type": "stream",
          "text": [
            "Test Loss: 0.984834, Test Accuracy: 84.45%\n",
            "Epoch: 42/50\tLoss: 0.041108\tAccuracy: 84.16%\n"
          ]
        },
        {
          "name": "stderr",
          "output_type": "stream",
          "text": [
            "\r 84%|████████▍ | 42/50 [11:59<02:16, 17.01s/it]"
          ]
        },
        {
          "name": "stdout",
          "output_type": "stream",
          "text": [
            "Test Loss: 0.984834, Test Accuracy: 84.45%\n",
            "Epoch: 43/50\tLoss: 0.029553\tAccuracy: 85.55%\n"
          ]
        },
        {
          "name": "stderr",
          "output_type": "stream",
          "text": [
            "\r 86%|████████▌ | 43/50 [12:17<02:00, 17.18s/it]"
          ]
        },
        {
          "name": "stdout",
          "output_type": "stream",
          "text": [
            "Test Loss: 1.170639, Test Accuracy: 85.23%\n",
            "Epoch: 44/50\tLoss: 0.028099\tAccuracy: 84.91%\n"
          ]
        },
        {
          "name": "stderr",
          "output_type": "stream",
          "text": [
            "\r 88%|████████▊ | 44/50 [12:34<01:42, 17.08s/it]"
          ]
        },
        {
          "name": "stdout",
          "output_type": "stream",
          "text": [
            "Test Loss: 1.170639, Test Accuracy: 85.23%\n",
            "Epoch: 45/50\tLoss: 0.037328\tAccuracy: 85.19%\n"
          ]
        },
        {
          "name": "stderr",
          "output_type": "stream",
          "text": [
            "\r 90%|█████████ | 45/50 [12:50<01:24, 16.92s/it]"
          ]
        },
        {
          "name": "stdout",
          "output_type": "stream",
          "text": [
            "Test Loss: 1.170639, Test Accuracy: 85.23%\n",
            "Epoch: 46/50\tLoss: 0.029223\tAccuracy: 85.59%\n"
          ]
        },
        {
          "name": "stderr",
          "output_type": "stream",
          "text": [
            "\r 92%|█████████▏| 46/50 [13:07<01:07, 16.80s/it]"
          ]
        },
        {
          "name": "stdout",
          "output_type": "stream",
          "text": [
            "Test Loss: 1.241908, Test Accuracy: 85.26%\n",
            "Epoch: 47/50\tLoss: 0.028561\tAccuracy: 84.16%\n"
          ]
        },
        {
          "name": "stderr",
          "output_type": "stream",
          "text": [
            "\r 94%|█████████▍| 47/50 [13:24<00:50, 16.97s/it]"
          ]
        },
        {
          "name": "stdout",
          "output_type": "stream",
          "text": [
            "Test Loss: 1.241908, Test Accuracy: 85.26%\n",
            "Epoch: 48/50\tLoss: 0.048643\tAccuracy: 84.63%\n"
          ]
        },
        {
          "name": "stderr",
          "output_type": "stream",
          "text": [
            "\r 96%|█████████▌| 48/50 [13:42<00:34, 17.17s/it]"
          ]
        },
        {
          "name": "stdout",
          "output_type": "stream",
          "text": [
            "Test Loss: 1.241908, Test Accuracy: 85.26%\n",
            "Epoch: 49/50\tLoss: 0.041579\tAccuracy: 85.42%\n"
          ]
        },
        {
          "name": "stderr",
          "output_type": "stream",
          "text": [
            "\r 98%|█████████▊| 49/50 [13:59<00:17, 17.01s/it]"
          ]
        },
        {
          "name": "stdout",
          "output_type": "stream",
          "text": [
            "Test Loss: 1.241908, Test Accuracy: 85.26%\n",
            "Epoch: 50/50\tLoss: 0.032282\tAccuracy: 84.88%\n"
          ]
        },
        {
          "name": "stderr",
          "output_type": "stream",
          "text": [
            "100%|██████████| 50/50 [14:15<00:00, 17.11s/it]"
          ]
        },
        {
          "name": "stdout",
          "output_type": "stream",
          "text": [
            "Test Loss: 1.241908, Test Accuracy: 85.26%\n"
          ]
        },
        {
          "name": "stderr",
          "output_type": "stream",
          "text": [
            "\n"
          ]
        },
        {
          "data": {
            "image/png": "[encoded data removed]",
            "text/plain": [
              "<Figure size 640x480 with 1 Axes>"
            ]
          },
          "metadata": {},
          "output_type": "display_data"
        },
        {
          "name": "stderr",
          "output_type": "stream",
          "text": [
            "  0%|          | 0/207 [00:00<?, ?it/s]<ipython-input-27-f032b52d8ce3>:18: FutureWarning: The frame.append method is deprecated and will be removed from pandas in a future version. Use pandas.concat instead.\n",
            "  df_train = df_train.append(df_logit_train, ignore_index=True)\n",
            "100%|██████████| 207/207 [00:05<00:00, 36.18it/s]\n",
            "<ipython-input-27-f032b52d8ce3>:29: FutureWarning: The frame.append method is deprecated and will be removed from pandas in a future version. Use pandas.concat instead.\n",
            "  df_test = df_test.append(df_logit_test, ignore_index=True)\n",
            "<ipython-input-27-f032b52d8ce3>:32: FutureWarning: The frame.append method is deprecated and will be removed from pandas in a future version. Use pandas.concat instead.\n",
            "  df_all = df_train.append(df_test,ignore_index=True)\n"
          ]
        },
        {
          "name": "stdout",
          "output_type": "stream",
          "text": [
            "MAI 3.csv saved\n"
          ]
        },
        {
          "name": "stderr",
          "output_type": "stream",
          "text": [
            "\r  0%|          | 0/50 [00:00<?, ?it/s]"
          ]
        },
        {
          "name": "stdout",
          "output_type": "stream",
          "text": [
            "Epoch: 1/50\tLoss: 3.377349\tAccuracy: 17.34%\n"
          ]
        },
        {
          "name": "stderr",
          "output_type": "stream",
          "text": [
            "\r  2%|▏         | 1/50 [00:18<14:46, 18.09s/it]"
          ]
        },
        {
          "name": "stdout",
          "output_type": "stream",
          "text": [
            "Test Loss: 3.097079, Test Accuracy: 17.31%\n",
            "Epoch: 2/50\tLoss: 2.890410\tAccuracy: 36.24%\n"
          ]
        },
        {
          "name": "stderr",
          "output_type": "stream",
          "text": [
            "\r  4%|▍         | 2/50 [00:35<14:21, 17.95s/it]"
          ]
        },
        {
          "name": "stdout",
          "output_type": "stream",
          "text": [
            "Test Loss: 2.553361, Test Accuracy: 36.38%\n",
            "Epoch: 3/50\tLoss: 2.345499\tAccuracy: 46.17%\n"
          ]
        },
        {
          "name": "stderr",
          "output_type": "stream",
          "text": [
            "\r  6%|▌         | 3/50 [00:53<13:48, 17.63s/it]"
          ]
        },
        {
          "name": "stdout",
          "output_type": "stream",
          "text": [
            "Test Loss: 2.126724, Test Accuracy: 46.52%\n",
            "Epoch: 4/50\tLoss: 1.662842\tAccuracy: 64.04%\n"
          ]
        },
        {
          "name": "stderr",
          "output_type": "stream",
          "text": [
            "\r  8%|▊         | 4/50 [01:09<13:12, 17.23s/it]"
          ]
        },
        {
          "name": "stdout",
          "output_type": "stream",
          "text": [
            "Test Loss: 1.282839, Test Accuracy: 64.35%\n",
            "Epoch: 5/50\tLoss: 1.051080\tAccuracy: 73.01%\n"
          ]
        },
        {
          "name": "stderr",
          "output_type": "stream",
          "text": [
            "\r 10%|█         | 5/50 [01:26<12:44, 16.99s/it]"
          ]
        },
        {
          "name": "stdout",
          "output_type": "stream",
          "text": [
            "Test Loss: 0.933561, Test Accuracy: 73.46%\n",
            "Epoch: 6/50\tLoss: 0.783910\tAccuracy: 74.12%\n"
          ]
        },
        {
          "name": "stderr",
          "output_type": "stream",
          "text": [
            "\r 12%|█▏        | 6/50 [01:42<12:21, 16.86s/it]"
          ]
        },
        {
          "name": "stdout",
          "output_type": "stream",
          "text": [
            "Test Loss: 0.888100, Test Accuracy: 74.38%\n",
            "Epoch: 7/50\tLoss: 0.628655\tAccuracy: 79.42%\n"
          ]
        },
        {
          "name": "stderr",
          "output_type": "stream",
          "text": [
            "\r 14%|█▍        | 7/50 [01:59<12:06, 16.90s/it]"
          ]
        },
        {
          "name": "stdout",
          "output_type": "stream",
          "text": [
            "Test Loss: 0.710540, Test Accuracy: 79.55%\n",
            "Epoch: 8/50\tLoss: 0.530371\tAccuracy: 79.60%\n"
          ]
        },
        {
          "name": "stderr",
          "output_type": "stream",
          "text": [
            "\r 16%|█▌        | 8/50 [02:17<11:59, 17.14s/it]"
          ]
        },
        {
          "name": "stdout",
          "output_type": "stream",
          "text": [
            "Test Loss: 0.769157, Test Accuracy: 80.22%\n",
            "Epoch: 9/50\tLoss: 0.460440\tAccuracy: 81.85%\n"
          ]
        },
        {
          "name": "stderr",
          "output_type": "stream",
          "text": [
            "\r 18%|█▊        | 9/50 [02:34<11:45, 17.20s/it]"
          ]
        },
        {
          "name": "stdout",
          "output_type": "stream",
          "text": [
            "Test Loss: 0.650524, Test Accuracy: 82.18%\n",
            "Epoch: 10/50\tLoss: 0.390789\tAccuracy: 82.28%\n"
          ]
        },
        {
          "name": "stderr",
          "output_type": "stream",
          "text": [
            "\r 20%|██        | 10/50 [02:51<11:23, 17.08s/it]"
          ]
        },
        {
          "name": "stdout",
          "output_type": "stream",
          "text": [
            "Test Loss: 0.657038, Test Accuracy: 82.49%\n",
            "Epoch: 11/50\tLoss: 0.348809\tAccuracy: 82.45%\n"
          ]
        },
        {
          "name": "stderr",
          "output_type": "stream",
          "text": [
            "\r 22%|██▏       | 11/50 [03:09<11:12, 17.24s/it]"
          ]
        },
        {
          "name": "stdout",
          "output_type": "stream",
          "text": [
            "Test Loss: 0.642886, Test Accuracy: 82.84%\n",
            "Epoch: 12/50\tLoss: 0.328798\tAccuracy: 81.82%\n"
          ]
        },
        {
          "name": "stderr",
          "output_type": "stream",
          "text": [
            "\r 24%|██▍       | 12/50 [03:26<10:51, 17.14s/it]"
          ]
        },
        {
          "name": "stdout",
          "output_type": "stream",
          "text": [
            "Test Loss: 0.642886, Test Accuracy: 82.84%\n",
            "Epoch: 13/50\tLoss: 0.282654\tAccuracy: 82.83%\n"
          ]
        },
        {
          "name": "stderr",
          "output_type": "stream",
          "text": [
            "\r 26%|██▌       | 13/50 [03:43<10:39, 17.28s/it]"
          ]
        },
        {
          "name": "stdout",
          "output_type": "stream",
          "text": [
            "Test Loss: 0.672675, Test Accuracy: 83.15%\n",
            "Epoch: 14/50\tLoss: 0.307335\tAccuracy: 83.48%\n"
          ]
        },
        {
          "name": "stderr",
          "output_type": "stream",
          "text": [
            "\r 28%|██▊       | 14/50 [04:01<10:28, 17.45s/it]"
          ]
        },
        {
          "name": "stdout",
          "output_type": "stream",
          "text": [
            "Test Loss: 0.634956, Test Accuracy: 83.57%\n",
            "Epoch: 15/50\tLoss: 0.254103\tAccuracy: 83.09%\n"
          ]
        },
        {
          "name": "stderr",
          "output_type": "stream",
          "text": [
            "\r 30%|███       | 15/50 [04:18<10:06, 17.32s/it]"
          ]
        },
        {
          "name": "stdout",
          "output_type": "stream",
          "text": [
            "Test Loss: 0.634956, Test Accuracy: 83.57%\n",
            "Epoch: 16/50\tLoss: 0.206661\tAccuracy: 84.54%\n"
          ]
        },
        {
          "name": "stderr",
          "output_type": "stream",
          "text": [
            "\r 32%|███▏      | 16/50 [04:35<09:41, 17.11s/it]"
          ]
        },
        {
          "name": "stdout",
          "output_type": "stream",
          "text": [
            "Test Loss: 0.636081, Test Accuracy: 84.24%\n",
            "Epoch: 17/50\tLoss: 0.195673\tAccuracy: 83.10%\n"
          ]
        },
        {
          "name": "stderr",
          "output_type": "stream",
          "text": [
            "\r 34%|███▍      | 17/50 [04:51<09:19, 16.94s/it]"
          ]
        },
        {
          "name": "stdout",
          "output_type": "stream",
          "text": [
            "Test Loss: 0.636081, Test Accuracy: 84.24%\n",
            "Epoch: 18/50\tLoss: 0.176102\tAccuracy: 82.81%\n"
          ]
        },
        {
          "name": "stderr",
          "output_type": "stream",
          "text": [
            "\r 36%|███▌      | 18/50 [05:08<09:02, 16.95s/it]"
          ]
        },
        {
          "name": "stdout",
          "output_type": "stream",
          "text": [
            "Test Loss: 0.636081, Test Accuracy: 84.24%\n",
            "Epoch: 19/50\tLoss: 0.151341\tAccuracy: 82.46%\n"
          ]
        },
        {
          "name": "stderr",
          "output_type": "stream",
          "text": [
            "\r 38%|███▊      | 19/50 [05:26<08:53, 17.21s/it]"
          ]
        },
        {
          "name": "stdout",
          "output_type": "stream",
          "text": [
            "Test Loss: 0.636081, Test Accuracy: 84.24%\n",
            "Epoch: 20/50\tLoss: 0.184821\tAccuracy: 84.03%\n"
          ]
        },
        {
          "name": "stderr",
          "output_type": "stream",
          "text": [
            "\r 40%|████      | 20/50 [05:43<08:37, 17.23s/it]"
          ]
        },
        {
          "name": "stdout",
          "output_type": "stream",
          "text": [
            "Test Loss: 0.636081, Test Accuracy: 84.24%\n",
            "Epoch: 21/50\tLoss: 0.128472\tAccuracy: 84.11%\n"
          ]
        },
        {
          "name": "stderr",
          "output_type": "stream",
          "text": [
            "\r 42%|████▏     | 21/50 [06:01<08:25, 17.43s/it]"
          ]
        },
        {
          "name": "stdout",
          "output_type": "stream",
          "text": [
            "Test Loss: 0.636081, Test Accuracy: 84.24%\n",
            "Epoch: 22/50\tLoss: 0.149888\tAccuracy: 82.61%\n"
          ]
        },
        {
          "name": "stderr",
          "output_type": "stream",
          "text": [
            "\r 44%|████▍     | 22/50 [06:18<08:01, 17.19s/it]"
          ]
        },
        {
          "name": "stdout",
          "output_type": "stream",
          "text": [
            "Test Loss: 0.636081, Test Accuracy: 84.24%\n",
            "Epoch: 23/50\tLoss: 0.225286\tAccuracy: 82.68%\n"
          ]
        },
        {
          "name": "stderr",
          "output_type": "stream",
          "text": [
            "\r 46%|████▌     | 23/50 [06:35<07:39, 17.03s/it]"
          ]
        },
        {
          "name": "stdout",
          "output_type": "stream",
          "text": [
            "Test Loss: 0.636081, Test Accuracy: 84.24%\n",
            "Epoch: 24/50\tLoss: 0.169260\tAccuracy: 83.52%\n"
          ]
        },
        {
          "name": "stderr",
          "output_type": "stream",
          "text": [
            "\r 48%|████▊     | 24/50 [06:52<07:22, 17.00s/it]"
          ]
        },
        {
          "name": "stdout",
          "output_type": "stream",
          "text": [
            "Test Loss: 0.636081, Test Accuracy: 84.24%\n",
            "Epoch: 25/50\tLoss: 0.128703\tAccuracy: 84.22%\n"
          ]
        },
        {
          "name": "stderr",
          "output_type": "stream",
          "text": [
            "\r 50%|█████     | 25/50 [07:09<07:10, 17.21s/it]"
          ]
        },
        {
          "name": "stdout",
          "output_type": "stream",
          "text": [
            "Test Loss: 0.636081, Test Accuracy: 84.24%\n",
            "Epoch: 26/50\tLoss: 0.095523\tAccuracy: 84.17%\n"
          ]
        },
        {
          "name": "stderr",
          "output_type": "stream",
          "text": [
            "\r 52%|█████▏    | 26/50 [07:27<06:53, 17.24s/it]"
          ]
        },
        {
          "name": "stdout",
          "output_type": "stream",
          "text": [
            "Test Loss: 0.636081, Test Accuracy: 84.24%\n",
            "Epoch: 27/50\tLoss: 0.112220\tAccuracy: 85.19%\n"
          ]
        },
        {
          "name": "stderr",
          "output_type": "stream",
          "text": [
            "\r 54%|█████▍    | 27/50 [07:43<06:32, 17.07s/it]"
          ]
        },
        {
          "name": "stdout",
          "output_type": "stream",
          "text": [
            "Test Loss: 0.860689, Test Accuracy: 85.31%\n",
            "Epoch: 28/50\tLoss: 0.086031\tAccuracy: 84.59%\n"
          ]
        },
        {
          "name": "stderr",
          "output_type": "stream",
          "text": [
            "\r 56%|█████▌    | 28/50 [08:00<06:12, 16.92s/it]"
          ]
        },
        {
          "name": "stdout",
          "output_type": "stream",
          "text": [
            "Test Loss: 0.860689, Test Accuracy: 85.31%\n",
            "Epoch: 29/50\tLoss: 0.092812\tAccuracy: 83.48%\n"
          ]
        },
        {
          "name": "stderr",
          "output_type": "stream",
          "text": [
            "\r 58%|█████▊    | 29/50 [08:16<05:53, 16.83s/it]"
          ]
        },
        {
          "name": "stdout",
          "output_type": "stream",
          "text": [
            "Test Loss: 0.860689, Test Accuracy: 85.31%\n",
            "Epoch: 30/50\tLoss: 0.095944\tAccuracy: 82.80%\n"
          ]
        },
        {
          "name": "stderr",
          "output_type": "stream",
          "text": [
            "\r 60%|██████    | 30/50 [08:33<05:37, 16.88s/it]"
          ]
        },
        {
          "name": "stdout",
          "output_type": "stream",
          "text": [
            "Test Loss: 0.860689, Test Accuracy: 85.31%\n",
            "Epoch: 31/50\tLoss: 0.071839\tAccuracy: 84.55%\n"
          ]
        },
        {
          "name": "stderr",
          "output_type": "stream",
          "text": [
            "\r 62%|██████▏   | 31/50 [08:52<05:32, 17.47s/it]"
          ]
        },
        {
          "name": "stdout",
          "output_type": "stream",
          "text": [
            "Test Loss: 0.860689, Test Accuracy: 85.31%\n",
            "Epoch: 32/50\tLoss: 0.073326\tAccuracy: 85.03%\n"
          ]
        },
        {
          "name": "stderr",
          "output_type": "stream",
          "text": [
            "\r 64%|██████▍   | 32/50 [09:10<05:13, 17.41s/it]"
          ]
        },
        {
          "name": "stdout",
          "output_type": "stream",
          "text": [
            "Test Loss: 0.860689, Test Accuracy: 85.31%\n",
            "Epoch: 33/50\tLoss: 0.068195\tAccuracy: 84.94%\n"
          ]
        },
        {
          "name": "stderr",
          "output_type": "stream",
          "text": [
            "\r 66%|██████▌   | 33/50 [09:26<04:52, 17.21s/it]"
          ]
        },
        {
          "name": "stdout",
          "output_type": "stream",
          "text": [
            "Test Loss: 0.860689, Test Accuracy: 85.31%\n",
            "Epoch: 34/50\tLoss: 0.055989\tAccuracy: 84.44%\n"
          ]
        },
        {
          "name": "stderr",
          "output_type": "stream",
          "text": [
            "\r 68%|██████▊   | 34/50 [09:43<04:32, 17.04s/it]"
          ]
        },
        {
          "name": "stdout",
          "output_type": "stream",
          "text": [
            "Test Loss: 0.860689, Test Accuracy: 85.31%\n",
            "Epoch: 35/50\tLoss: 0.049210\tAccuracy: 84.36%\n"
          ]
        },
        {
          "name": "stderr",
          "output_type": "stream",
          "text": [
            "\r 70%|███████   | 35/50 [10:00<04:13, 16.90s/it]"
          ]
        },
        {
          "name": "stdout",
          "output_type": "stream",
          "text": [
            "Test Loss: 0.860689, Test Accuracy: 85.31%\n",
            "Epoch: 36/50\tLoss: 0.053742\tAccuracy: 84.78%\n"
          ]
        },
        {
          "name": "stderr",
          "output_type": "stream",
          "text": [
            "\r 72%|███████▏  | 36/50 [10:16<03:56, 16.90s/it]"
          ]
        },
        {
          "name": "stdout",
          "output_type": "stream",
          "text": [
            "Test Loss: 0.860689, Test Accuracy: 85.31%\n",
            "Epoch: 37/50\tLoss: 0.084601\tAccuracy: 82.71%\n"
          ]
        },
        {
          "name": "stderr",
          "output_type": "stream",
          "text": [
            "\r 74%|███████▍  | 37/50 [10:34<03:42, 17.11s/it]"
          ]
        },
        {
          "name": "stdout",
          "output_type": "stream",
          "text": [
            "Test Loss: 0.860689, Test Accuracy: 85.31%\n",
            "Epoch: 38/50\tLoss: 0.102078\tAccuracy: 84.76%\n"
          ]
        },
        {
          "name": "stderr",
          "output_type": "stream",
          "text": [
            "\r 76%|███████▌  | 38/50 [10:51<03:26, 17.18s/it]"
          ]
        },
        {
          "name": "stdout",
          "output_type": "stream",
          "text": [
            "Test Loss: 0.860689, Test Accuracy: 85.31%\n",
            "Epoch: 39/50\tLoss: 0.058184\tAccuracy: 85.29%\n"
          ]
        },
        {
          "name": "stderr",
          "output_type": "stream",
          "text": [
            "\r 78%|███████▊  | 39/50 [11:08<03:07, 17.03s/it]"
          ]
        },
        {
          "name": "stdout",
          "output_type": "stream",
          "text": [
            "Test Loss: 0.961959, Test Accuracy: 85.27%\n",
            "Epoch: 40/50\tLoss: 0.055243\tAccuracy: 85.17%\n"
          ]
        },
        {
          "name": "stderr",
          "output_type": "stream",
          "text": [
            "\r 80%|████████  | 40/50 [11:25<02:48, 16.89s/it]"
          ]
        },
        {
          "name": "stdout",
          "output_type": "stream",
          "text": [
            "Test Loss: 0.961959, Test Accuracy: 85.27%\n",
            "Epoch: 41/50\tLoss: 0.035045\tAccuracy: 85.27%\n"
          ]
        },
        {
          "name": "stderr",
          "output_type": "stream",
          "text": [
            "\r 82%|████████▏ | 41/50 [11:43<02:34, 17.21s/it]"
          ]
        },
        {
          "name": "stdout",
          "output_type": "stream",
          "text": [
            "Test Loss: 0.961959, Test Accuracy: 85.27%\n",
            "Epoch: 42/50\tLoss: 0.030729\tAccuracy: 85.51%\n"
          ]
        },
        {
          "name": "stderr",
          "output_type": "stream",
          "text": [
            "\r 84%|████████▍ | 42/50 [12:00<02:18, 17.33s/it]"
          ]
        },
        {
          "name": "stdout",
          "output_type": "stream",
          "text": [
            "Test Loss: 0.959657, Test Accuracy: 85.82%\n",
            "Epoch: 43/50\tLoss: 0.025979\tAccuracy: 84.59%\n"
          ]
        },
        {
          "name": "stderr",
          "output_type": "stream",
          "text": [
            "\r 86%|████████▌ | 43/50 [12:18<02:02, 17.46s/it]"
          ]
        },
        {
          "name": "stdout",
          "output_type": "stream",
          "text": [
            "Test Loss: 0.959657, Test Accuracy: 85.82%\n",
            "Epoch: 44/50\tLoss: 0.027533\tAccuracy: 84.44%\n"
          ]
        },
        {
          "name": "stderr",
          "output_type": "stream",
          "text": [
            "\r 88%|████████▊ | 44/50 [12:35<01:43, 17.29s/it]"
          ]
        },
        {
          "name": "stdout",
          "output_type": "stream",
          "text": [
            "Test Loss: 0.959657, Test Accuracy: 85.82%\n",
            "Epoch: 45/50\tLoss: 0.055483\tAccuracy: 85.22%\n"
          ]
        },
        {
          "name": "stderr",
          "output_type": "stream",
          "text": [
            "\r 90%|█████████ | 45/50 [12:52<01:25, 17.10s/it]"
          ]
        },
        {
          "name": "stdout",
          "output_type": "stream",
          "text": [
            "Test Loss: 0.959657, Test Accuracy: 85.82%\n",
            "Epoch: 46/50\tLoss: 0.052752\tAccuracy: 84.94%\n"
          ]
        },
        {
          "name": "stderr",
          "output_type": "stream",
          "text": [
            "\r 92%|█████████▏| 46/50 [13:08<01:07, 16.94s/it]"
          ]
        },
        {
          "name": "stdout",
          "output_type": "stream",
          "text": [
            "Test Loss: 0.959657, Test Accuracy: 85.82%\n",
            "Epoch: 47/50\tLoss: 0.041083\tAccuracy: 84.42%\n"
          ]
        },
        {
          "name": "stderr",
          "output_type": "stream",
          "text": [
            "\r 94%|█████████▍| 47/50 [13:25<00:50, 16.94s/it]"
          ]
        },
        {
          "name": "stdout",
          "output_type": "stream",
          "text": [
            "Test Loss: 0.959657, Test Accuracy: 85.82%\n",
            "Epoch: 48/50\tLoss: 0.033819\tAccuracy: 85.38%\n"
          ]
        },
        {
          "name": "stderr",
          "output_type": "stream",
          "text": [
            "\r 96%|█████████▌| 48/50 [13:43<00:34, 17.17s/it]"
          ]
        },
        {
          "name": "stdout",
          "output_type": "stream",
          "text": [
            "Test Loss: 0.959657, Test Accuracy: 85.82%\n",
            "Epoch: 49/50\tLoss: 0.040456\tAccuracy: 84.90%\n"
          ]
        },
        {
          "name": "stderr",
          "output_type": "stream",
          "text": [
            "\r 98%|█████████▊| 49/50 [14:00<00:17, 17.19s/it]"
          ]
        },
        {
          "name": "stdout",
          "output_type": "stream",
          "text": [
            "Test Loss: 0.959657, Test Accuracy: 85.82%\n",
            "Epoch: 50/50\tLoss: 0.037359\tAccuracy: 85.17%\n"
          ]
        },
        {
          "name": "stderr",
          "output_type": "stream",
          "text": [
            "100%|██████████| 50/50 [14:17<00:00, 17.15s/it]"
          ]
        },
        {
          "name": "stdout",
          "output_type": "stream",
          "text": [
            "Test Loss: 0.959657, Test Accuracy: 85.82%\n"
          ]
        },
        {
          "name": "stderr",
          "output_type": "stream",
          "text": [
            "\n"
          ]
        },
        {
          "data": {
            "image/png": "[encoded data removed]",
            "text/plain": [
              "<Figure size 640x480 with 1 Axes>"
            ]
          },
          "metadata": {},
          "output_type": "display_data"
        },
        {
          "name": "stderr",
          "output_type": "stream",
          "text": [
            "  0%|          | 0/207 [00:00<?, ?it/s]<ipython-input-27-f032b52d8ce3>:18: FutureWarning: The frame.append method is deprecated and will be removed from pandas in a future version. Use pandas.concat instead.\n",
            "  df_train = df_train.append(df_logit_train, ignore_index=True)\n",
            "100%|██████████| 207/207 [00:04<00:00, 41.97it/s]\n",
            "<ipython-input-27-f032b52d8ce3>:29: FutureWarning: The frame.append method is deprecated and will be removed from pandas in a future version. Use pandas.concat instead.\n",
            "  df_test = df_test.append(df_logit_test, ignore_index=True)\n",
            "<ipython-input-27-f032b52d8ce3>:32: FutureWarning: The frame.append method is deprecated and will be removed from pandas in a future version. Use pandas.concat instead.\n",
            "  df_all = df_train.append(df_test,ignore_index=True)\n"
          ]
        },
        {
          "name": "stdout",
          "output_type": "stream",
          "text": [
            "MAI 4.csv saved\n"
          ]
        },
        {
          "name": "stderr",
          "output_type": "stream",
          "text": [
            "\r  0%|          | 0/50 [00:00<?, ?it/s]"
          ]
        },
        {
          "name": "stdout",
          "output_type": "stream",
          "text": [
            "Epoch: 1/50\tLoss: 3.557258\tAccuracy: 3.67%\n"
          ]
        },
        {
          "name": "stderr",
          "output_type": "stream",
          "text": [
            "\r  2%|▏         | 1/50 [00:16<13:29, 16.53s/it]"
          ]
        },
        {
          "name": "stdout",
          "output_type": "stream",
          "text": [
            "Test Loss: 3.509566, Test Accuracy: 3.82%\n",
            "Epoch: 2/50\tLoss: 3.496014\tAccuracy: 7.33%\n"
          ]
        },
        {
          "name": "stderr",
          "output_type": "stream",
          "text": [
            "\r  4%|▍         | 2/50 [00:33<13:28, 16.84s/it]"
          ]
        },
        {
          "name": "stdout",
          "output_type": "stream",
          "text": [
            "Test Loss: 3.465964, Test Accuracy: 6.89%\n",
            "Epoch: 3/50\tLoss: 3.311912\tAccuracy: 17.12%\n"
          ]
        },
        {
          "name": "stderr",
          "output_type": "stream",
          "text": [
            "\r  6%|▌         | 3/50 [00:51<13:29, 17.22s/it]"
          ]
        },
        {
          "name": "stdout",
          "output_type": "stream",
          "text": [
            "Test Loss: 3.041519, Test Accuracy: 17.05%\n",
            "Epoch: 4/50\tLoss: 2.878479\tAccuracy: 32.62%\n"
          ]
        },
        {
          "name": "stderr",
          "output_type": "stream",
          "text": [
            "\r  8%|▊         | 4/50 [01:09<13:23, 17.47s/it]"
          ]
        },
        {
          "name": "stdout",
          "output_type": "stream",
          "text": [
            "Test Loss: 2.664270, Test Accuracy: 32.93%\n",
            "Epoch: 5/50\tLoss: 2.381186\tAccuracy: 43.35%\n"
          ]
        },
        {
          "name": "stderr",
          "output_type": "stream",
          "text": [
            "\r 10%|█         | 5/50 [01:26<13:01, 17.36s/it]"
          ]
        },
        {
          "name": "stdout",
          "output_type": "stream",
          "text": [
            "Test Loss: 2.098407, Test Accuracy: 43.19%\n",
            "Epoch: 6/50\tLoss: 1.758556\tAccuracy: 57.43%\n"
          ]
        },
        {
          "name": "stderr",
          "output_type": "stream",
          "text": [
            "\r 12%|█▏        | 6/50 [01:42<12:31, 17.07s/it]"
          ]
        },
        {
          "name": "stdout",
          "output_type": "stream",
          "text": [
            "Test Loss: 1.552319, Test Accuracy: 57.25%\n",
            "Epoch: 7/50\tLoss: 1.248155\tAccuracy: 66.00%\n"
          ]
        },
        {
          "name": "stderr",
          "output_type": "stream",
          "text": [
            "\r 14%|█▍        | 7/50 [01:59<12:06, 16.89s/it]"
          ]
        },
        {
          "name": "stdout",
          "output_type": "stream",
          "text": [
            "Test Loss: 1.207467, Test Accuracy: 66.10%\n",
            "Epoch: 8/50\tLoss: 1.005577\tAccuracy: 72.51%\n"
          ]
        },
        {
          "name": "stderr",
          "output_type": "stream",
          "text": [
            "\r 16%|█▌        | 8/50 [02:15<11:44, 16.77s/it]"
          ]
        },
        {
          "name": "stdout",
          "output_type": "stream",
          "text": [
            "Test Loss: 0.973840, Test Accuracy: 72.32%\n",
            "Epoch: 9/50\tLoss: 0.806824\tAccuracy: 73.87%\n"
          ]
        },
        {
          "name": "stderr",
          "output_type": "stream",
          "text": [
            "\r 18%|█▊        | 9/50 [02:32<11:24, 16.69s/it]"
          ]
        },
        {
          "name": "stdout",
          "output_type": "stream",
          "text": [
            "Test Loss: 0.893150, Test Accuracy: 73.94%\n",
            "Epoch: 10/50\tLoss: 0.691646\tAccuracy: 77.74%\n"
          ]
        },
        {
          "name": "stderr",
          "output_type": "stream",
          "text": [
            "\r 20%|██        | 10/50 [02:49<11:10, 16.77s/it]"
          ]
        },
        {
          "name": "stdout",
          "output_type": "stream",
          "text": [
            "Test Loss: 0.782532, Test Accuracy: 78.01%\n",
            "Epoch: 11/50\tLoss: 0.588428\tAccuracy: 79.79%\n"
          ]
        },
        {
          "name": "stderr",
          "output_type": "stream",
          "text": [
            "\r 22%|██▏       | 11/50 [03:06<11:00, 16.94s/it]"
          ]
        },
        {
          "name": "stdout",
          "output_type": "stream",
          "text": [
            "Test Loss: 0.718471, Test Accuracy: 80.00%\n",
            "Epoch: 12/50\tLoss: 0.522916\tAccuracy: 80.47%\n"
          ]
        },
        {
          "name": "stderr",
          "output_type": "stream",
          "text": [
            "\r 24%|██▍       | 12/50 [03:23<10:48, 17.08s/it]"
          ]
        },
        {
          "name": "stdout",
          "output_type": "stream",
          "text": [
            "Test Loss: 0.715526, Test Accuracy: 80.57%\n",
            "Epoch: 13/50\tLoss: 0.484575\tAccuracy: 80.95%\n"
          ]
        },
        {
          "name": "stderr",
          "output_type": "stream",
          "text": [
            "\r 26%|██▌       | 13/50 [03:41<10:40, 17.31s/it]"
          ]
        },
        {
          "name": "stdout",
          "output_type": "stream",
          "text": [
            "Test Loss: 0.668678, Test Accuracy: 81.03%\n",
            "Epoch: 14/50\tLoss: 0.454238\tAccuracy: 81.87%\n"
          ]
        },
        {
          "name": "stderr",
          "output_type": "stream",
          "text": [
            "\r 28%|██▊       | 14/50 [03:59<10:21, 17.28s/it]"
          ]
        },
        {
          "name": "stdout",
          "output_type": "stream",
          "text": [
            "Test Loss: 0.679083, Test Accuracy: 82.30%\n",
            "Epoch: 15/50\tLoss: 0.392754\tAccuracy: 81.59%\n"
          ]
        },
        {
          "name": "stderr",
          "output_type": "stream",
          "text": [
            "\r 30%|███       | 15/50 [04:15<09:59, 17.13s/it]"
          ]
        },
        {
          "name": "stdout",
          "output_type": "stream",
          "text": [
            "Test Loss: 0.679083, Test Accuracy: 82.30%\n",
            "Epoch: 16/50\tLoss: 0.343228\tAccuracy: 80.77%\n"
          ]
        },
        {
          "name": "stderr",
          "output_type": "stream",
          "text": [
            "\r 32%|███▏      | 16/50 [04:32<09:36, 16.96s/it]"
          ]
        },
        {
          "name": "stdout",
          "output_type": "stream",
          "text": [
            "Test Loss: 0.679083, Test Accuracy: 82.30%\n",
            "Epoch: 17/50\tLoss: 0.369784\tAccuracy: 82.57%\n"
          ]
        },
        {
          "name": "stderr",
          "output_type": "stream",
          "text": [
            "\r 34%|███▍      | 17/50 [04:48<09:15, 16.83s/it]"
          ]
        },
        {
          "name": "stdout",
          "output_type": "stream",
          "text": [
            "Test Loss: 0.716983, Test Accuracy: 82.51%\n",
            "Epoch: 18/50\tLoss: 0.304039\tAccuracy: 82.02%\n"
          ]
        },
        {
          "name": "stderr",
          "output_type": "stream",
          "text": [
            "\r 36%|███▌      | 18/50 [05:05<08:55, 16.73s/it]"
          ]
        },
        {
          "name": "stdout",
          "output_type": "stream",
          "text": [
            "Test Loss: 0.716983, Test Accuracy: 82.51%\n",
            "Epoch: 19/50\tLoss: 0.285856\tAccuracy: 82.13%\n"
          ]
        },
        {
          "name": "stderr",
          "output_type": "stream",
          "text": [
            "\r 38%|███▊      | 19/50 [05:22<08:40, 16.80s/it]"
          ]
        },
        {
          "name": "stdout",
          "output_type": "stream",
          "text": [
            "Test Loss: 0.716983, Test Accuracy: 82.51%\n",
            "Epoch: 20/50\tLoss: 0.253805\tAccuracy: 79.62%\n"
          ]
        },
        {
          "name": "stderr",
          "output_type": "stream",
          "text": [
            "\r 40%|████      | 20/50 [05:40<08:32, 17.07s/it]"
          ]
        },
        {
          "name": "stdout",
          "output_type": "stream",
          "text": [
            "Test Loss: 0.716983, Test Accuracy: 82.51%\n",
            "Epoch: 21/50\tLoss: 0.230651\tAccuracy: 83.29%\n"
          ]
        },
        {
          "name": "stderr",
          "output_type": "stream",
          "text": [
            "\r 42%|████▏     | 21/50 [05:58<08:23, 17.35s/it]"
          ]
        },
        {
          "name": "stdout",
          "output_type": "stream",
          "text": [
            "Test Loss: 0.692073, Test Accuracy: 83.07%\n",
            "Epoch: 22/50\tLoss: 0.216284\tAccuracy: 83.03%\n"
          ]
        },
        {
          "name": "stderr",
          "output_type": "stream",
          "text": [
            "\r 44%|████▍     | 22/50 [06:15<08:03, 17.26s/it]"
          ]
        },
        {
          "name": "stdout",
          "output_type": "stream",
          "text": [
            "Test Loss: 0.692073, Test Accuracy: 83.07%\n",
            "Epoch: 23/50\tLoss: 0.205616\tAccuracy: 83.34%\n"
          ]
        },
        {
          "name": "stderr",
          "output_type": "stream",
          "text": [
            "\r 46%|████▌     | 23/50 [06:31<07:39, 17.03s/it]"
          ]
        },
        {
          "name": "stdout",
          "output_type": "stream",
          "text": [
            "Test Loss: 0.778848, Test Accuracy: 83.48%\n",
            "Epoch: 24/50\tLoss: 0.234834\tAccuracy: 81.97%\n"
          ]
        },
        {
          "name": "stderr",
          "output_type": "stream",
          "text": [
            "\r 48%|████▊     | 24/50 [06:48<07:18, 16.85s/it]"
          ]
        },
        {
          "name": "stdout",
          "output_type": "stream",
          "text": [
            "Test Loss: 0.778848, Test Accuracy: 83.48%\n",
            "Epoch: 25/50\tLoss: 0.176115\tAccuracy: 82.65%\n"
          ]
        },
        {
          "name": "stderr",
          "output_type": "stream",
          "text": [
            "\r 50%|█████     | 25/50 [07:04<06:58, 16.73s/it]"
          ]
        },
        {
          "name": "stdout",
          "output_type": "stream",
          "text": [
            "Test Loss: 0.778848, Test Accuracy: 83.48%\n",
            "Epoch: 26/50\tLoss: 0.167561\tAccuracy: 82.82%\n"
          ]
        },
        {
          "name": "stderr",
          "output_type": "stream",
          "text": [
            "\r 52%|█████▏    | 26/50 [07:21<06:44, 16.84s/it]"
          ]
        },
        {
          "name": "stdout",
          "output_type": "stream",
          "text": [
            "Test Loss: 0.778848, Test Accuracy: 83.48%\n",
            "Epoch: 27/50\tLoss: 0.150617\tAccuracy: 83.00%\n"
          ]
        },
        {
          "name": "stderr",
          "output_type": "stream",
          "text": [
            "\r 54%|█████▍    | 27/50 [07:39<06:32, 17.09s/it]"
          ]
        },
        {
          "name": "stdout",
          "output_type": "stream",
          "text": [
            "Test Loss: 0.778848, Test Accuracy: 83.48%\n",
            "Epoch: 28/50\tLoss: 0.167131\tAccuracy: 80.30%\n"
          ]
        },
        {
          "name": "stderr",
          "output_type": "stream",
          "text": [
            "\r 56%|█████▌    | 28/50 [07:57<06:20, 17.31s/it]"
          ]
        },
        {
          "name": "stdout",
          "output_type": "stream",
          "text": [
            "Test Loss: 0.778848, Test Accuracy: 83.48%\n",
            "Epoch: 29/50\tLoss: 0.194152\tAccuracy: 84.07%\n"
          ]
        },
        {
          "name": "stderr",
          "output_type": "stream",
          "text": [
            "\r 58%|█████▊    | 29/50 [08:14<06:02, 17.25s/it]"
          ]
        },
        {
          "name": "stdout",
          "output_type": "stream",
          "text": [
            "Test Loss: 0.906744, Test Accuracy: 83.97%\n",
            "Epoch: 30/50\tLoss: 0.159644\tAccuracy: 81.93%\n"
          ]
        },
        {
          "name": "stderr",
          "output_type": "stream",
          "text": [
            "\r 60%|██████    | 30/50 [08:30<05:40, 17.02s/it]"
          ]
        },
        {
          "name": "stdout",
          "output_type": "stream",
          "text": [
            "Test Loss: 0.906744, Test Accuracy: 83.97%\n",
            "Epoch: 31/50\tLoss: 0.171806\tAccuracy: 83.85%\n"
          ]
        },
        {
          "name": "stderr",
          "output_type": "stream",
          "text": [
            "\r 62%|██████▏   | 31/50 [08:48<05:26, 17.17s/it]"
          ]
        },
        {
          "name": "stdout",
          "output_type": "stream",
          "text": [
            "Test Loss: 0.906744, Test Accuracy: 83.97%\n",
            "Epoch: 32/50\tLoss: 0.119025\tAccuracy: 82.55%\n"
          ]
        },
        {
          "name": "stderr",
          "output_type": "stream",
          "text": [
            "\r 64%|██████▍   | 32/50 [09:04<05:05, 16.95s/it]"
          ]
        },
        {
          "name": "stdout",
          "output_type": "stream",
          "text": [
            "Test Loss: 0.906744, Test Accuracy: 83.97%\n",
            "Epoch: 33/50\tLoss: 0.085232\tAccuracy: 83.64%\n"
          ]
        },
        {
          "name": "stderr",
          "output_type": "stream",
          "text": [
            "\r 66%|██████▌   | 33/50 [09:21<04:46, 16.87s/it]"
          ]
        },
        {
          "name": "stdout",
          "output_type": "stream",
          "text": [
            "Test Loss: 0.906744, Test Accuracy: 83.97%\n",
            "Epoch: 34/50\tLoss: 0.120404\tAccuracy: 83.53%\n"
          ]
        },
        {
          "name": "stderr",
          "output_type": "stream",
          "text": [
            "\r 68%|██████▊   | 34/50 [09:38<04:32, 17.06s/it]"
          ]
        },
        {
          "name": "stdout",
          "output_type": "stream",
          "text": [
            "Test Loss: 0.906744, Test Accuracy: 83.97%\n",
            "Epoch: 35/50\tLoss: 0.102972\tAccuracy: 83.04%\n"
          ]
        },
        {
          "name": "stderr",
          "output_type": "stream",
          "text": [
            "\r 70%|███████   | 35/50 [09:56<04:18, 17.21s/it]"
          ]
        },
        {
          "name": "stdout",
          "output_type": "stream",
          "text": [
            "Test Loss: 0.906744, Test Accuracy: 83.97%\n",
            "Epoch: 36/50\tLoss: 0.077835\tAccuracy: 83.61%\n"
          ]
        },
        {
          "name": "stderr",
          "output_type": "stream",
          "text": [
            "\r 72%|███████▏  | 36/50 [10:13<04:00, 17.19s/it]"
          ]
        },
        {
          "name": "stdout",
          "output_type": "stream",
          "text": [
            "Test Loss: 0.906744, Test Accuracy: 83.97%\n",
            "Epoch: 37/50\tLoss: 0.108958\tAccuracy: 83.57%\n"
          ]
        },
        {
          "name": "stderr",
          "output_type": "stream",
          "text": [
            "\r 74%|███████▍  | 37/50 [10:30<03:41, 17.06s/it]"
          ]
        },
        {
          "name": "stdout",
          "output_type": "stream",
          "text": [
            "Test Loss: 0.906744, Test Accuracy: 83.97%\n",
            "Epoch: 38/50\tLoss: 0.113002\tAccuracy: 80.16%\n"
          ]
        },
        {
          "name": "stderr",
          "output_type": "stream",
          "text": [
            "\r 76%|███████▌  | 38/50 [10:46<03:22, 16.89s/it]"
          ]
        },
        {
          "name": "stdout",
          "output_type": "stream",
          "text": [
            "Test Loss: 0.906744, Test Accuracy: 83.97%\n",
            "Epoch: 39/50\tLoss: 0.103498\tAccuracy: 82.69%\n"
          ]
        },
        {
          "name": "stderr",
          "output_type": "stream",
          "text": [
            "\r 78%|███████▊  | 39/50 [11:03<03:04, 16.77s/it]"
          ]
        },
        {
          "name": "stdout",
          "output_type": "stream",
          "text": [
            "Test Loss: 0.906744, Test Accuracy: 83.97%\n",
            "Epoch: 40/50\tLoss: 0.115128\tAccuracy: 83.70%\n"
          ]
        },
        {
          "name": "stderr",
          "output_type": "stream",
          "text": [
            "\r 80%|████████  | 40/50 [11:19<02:47, 16.70s/it]"
          ]
        },
        {
          "name": "stdout",
          "output_type": "stream",
          "text": [
            "Test Loss: 0.906744, Test Accuracy: 83.97%\n",
            "Epoch: 41/50\tLoss: 0.052958\tAccuracy: 83.90%\n"
          ]
        },
        {
          "name": "stderr",
          "output_type": "stream",
          "text": [
            "\r 82%|████████▏ | 41/50 [11:36<02:31, 16.82s/it]"
          ]
        },
        {
          "name": "stdout",
          "output_type": "stream",
          "text": [
            "Test Loss: 0.906744, Test Accuracy: 83.97%\n",
            "Epoch: 42/50\tLoss: 0.089951\tAccuracy: 83.49%\n"
          ]
        },
        {
          "name": "stderr",
          "output_type": "stream",
          "text": [
            "\r 84%|████████▍ | 42/50 [11:53<02:14, 16.84s/it]"
          ]
        },
        {
          "name": "stdout",
          "output_type": "stream",
          "text": [
            "Test Loss: 0.906744, Test Accuracy: 83.97%\n",
            "Epoch: 43/50\tLoss: 0.084868\tAccuracy: 83.54%\n"
          ]
        },
        {
          "name": "stderr",
          "output_type": "stream",
          "text": [
            "\r 86%|████████▌ | 43/50 [12:10<01:58, 16.94s/it]"
          ]
        },
        {
          "name": "stdout",
          "output_type": "stream",
          "text": [
            "Test Loss: 0.906744, Test Accuracy: 83.97%\n",
            "Epoch: 44/50\tLoss: 0.072375\tAccuracy: 83.42%\n"
          ]
        },
        {
          "name": "stderr",
          "output_type": "stream",
          "text": [
            "\r 88%|████████▊ | 44/50 [12:28<01:43, 17.17s/it]"
          ]
        },
        {
          "name": "stdout",
          "output_type": "stream",
          "text": [
            "Test Loss: 0.906744, Test Accuracy: 83.97%\n",
            "Epoch: 45/50\tLoss: 0.067683\tAccuracy: 82.43%\n"
          ]
        },
        {
          "name": "stderr",
          "output_type": "stream",
          "text": [
            "\r 90%|█████████ | 45/50 [12:46<01:26, 17.24s/it]"
          ]
        },
        {
          "name": "stdout",
          "output_type": "stream",
          "text": [
            "Test Loss: 0.906744, Test Accuracy: 83.97%\n",
            "Epoch: 46/50\tLoss: 0.048705\tAccuracy: 84.13%\n"
          ]
        },
        {
          "name": "stderr",
          "output_type": "stream",
          "text": [
            "\r 92%|█████████▏| 46/50 [13:03<01:08, 17.19s/it]"
          ]
        },
        {
          "name": "stdout",
          "output_type": "stream",
          "text": [
            "Test Loss: 1.319655, Test Accuracy: 84.36%\n",
            "Epoch: 47/50\tLoss: 0.055629\tAccuracy: 83.57%\n"
          ]
        },
        {
          "name": "stderr",
          "output_type": "stream",
          "text": [
            "\r 94%|█████████▍| 47/50 [13:19<00:50, 17.00s/it]"
          ]
        },
        {
          "name": "stdout",
          "output_type": "stream",
          "text": [
            "Test Loss: 1.319655, Test Accuracy: 84.36%\n",
            "Epoch: 48/50\tLoss: 0.056874\tAccuracy: 83.47%\n"
          ]
        },
        {
          "name": "stderr",
          "output_type": "stream",
          "text": [
            "\r 96%|█████████▌| 48/50 [13:36<00:33, 16.85s/it]"
          ]
        },
        {
          "name": "stdout",
          "output_type": "stream",
          "text": [
            "Test Loss: 1.319655, Test Accuracy: 84.36%\n",
            "Epoch: 49/50\tLoss: 0.038701\tAccuracy: 84.63%\n"
          ]
        },
        {
          "name": "stderr",
          "output_type": "stream",
          "text": [
            "\r 98%|█████████▊| 49/50 [13:52<00:16, 16.75s/it]"
          ]
        },
        {
          "name": "stdout",
          "output_type": "stream",
          "text": [
            "Test Loss: 1.162490, Test Accuracy: 84.70%\n",
            "Epoch: 50/50\tLoss: 0.031388\tAccuracy: 84.14%\n"
          ]
        },
        {
          "name": "stderr",
          "output_type": "stream",
          "text": [
            "100%|██████████| 50/50 [14:09<00:00, 16.99s/it]"
          ]
        },
        {
          "name": "stdout",
          "output_type": "stream",
          "text": [
            "Test Loss: 1.162490, Test Accuracy: 84.70%\n"
          ]
        },
        {
          "name": "stderr",
          "output_type": "stream",
          "text": [
            "\n"
          ]
        },
        {
          "data": {
            "image/png": "[encoded data removed]",
            "text/plain": [
              "<Figure size 640x480 with 1 Axes>"
            ]
          },
          "metadata": {},
          "output_type": "display_data"
        },
        {
          "name": "stderr",
          "output_type": "stream",
          "text": [
            "  0%|          | 0/207 [00:00<?, ?it/s]<ipython-input-27-f032b52d8ce3>:18: FutureWarning: The frame.append method is deprecated and will be removed from pandas in a future version. Use pandas.concat instead.\n",
            "  df_train = df_train.append(df_logit_train, ignore_index=True)\n",
            "100%|██████████| 207/207 [00:05<00:00, 35.55it/s]\n",
            "<ipython-input-27-f032b52d8ce3>:29: FutureWarning: The frame.append method is deprecated and will be removed from pandas in a future version. Use pandas.concat instead.\n",
            "  df_test = df_test.append(df_logit_test, ignore_index=True)\n",
            "<ipython-input-27-f032b52d8ce3>:32: FutureWarning: The frame.append method is deprecated and will be removed from pandas in a future version. Use pandas.concat instead.\n",
            "  df_all = df_train.append(df_test,ignore_index=True)\n"
          ]
        },
        {
          "name": "stdout",
          "output_type": "stream",
          "text": [
            "MAI 5.csv saved\n"
          ]
        },
        {
          "name": "stderr",
          "output_type": "stream",
          "text": [
            "\r  0%|          | 0/50 [00:00<?, ?it/s]"
          ]
        },
        {
          "name": "stdout",
          "output_type": "stream",
          "text": [
            "Epoch: 1/50\tLoss: 3.439026\tAccuracy: 10.77%\n"
          ]
        },
        {
          "name": "stderr",
          "output_type": "stream",
          "text": [
            "\r  2%|▏         | 1/50 [00:18<14:45, 18.06s/it]"
          ]
        },
        {
          "name": "stdout",
          "output_type": "stream",
          "text": [
            "Test Loss: 3.305550, Test Accuracy: 11.19%\n",
            "Epoch: 2/50\tLoss: 2.948865\tAccuracy: 30.14%\n"
          ]
        },
        {
          "name": "stderr",
          "output_type": "stream",
          "text": [
            "\r  4%|▍         | 2/50 [00:36<14:31, 18.16s/it]"
          ]
        },
        {
          "name": "stdout",
          "output_type": "stream",
          "text": [
            "Test Loss: 2.682900, Test Accuracy: 30.00%\n",
            "Epoch: 3/50\tLoss: 2.426386\tAccuracy: 47.15%\n"
          ]
        },
        {
          "name": "stderr",
          "output_type": "stream",
          "text": [
            "\r  6%|▌         | 3/50 [00:53<14:00, 17.89s/it]"
          ]
        },
        {
          "name": "stdout",
          "output_type": "stream",
          "text": [
            "Test Loss: 2.099071, Test Accuracy: 47.31%\n",
            "Epoch: 4/50\tLoss: 1.756956\tAccuracy: 60.01%\n"
          ]
        },
        {
          "name": "stderr",
          "output_type": "stream",
          "text": [
            "\r  8%|▊         | 4/50 [01:10<13:28, 17.59s/it]"
          ]
        },
        {
          "name": "stdout",
          "output_type": "stream",
          "text": [
            "Test Loss: 1.464689, Test Accuracy: 59.61%\n",
            "Epoch: 5/50\tLoss: 1.194181\tAccuracy: 68.98%\n"
          ]
        },
        {
          "name": "stderr",
          "output_type": "stream",
          "text": [
            "\r 10%|█         | 5/50 [01:27<12:55, 17.22s/it]"
          ]
        },
        {
          "name": "stdout",
          "output_type": "stream",
          "text": [
            "Test Loss: 1.064281, Test Accuracy: 69.42%\n",
            "Epoch: 6/50\tLoss: 0.852562\tAccuracy: 73.58%\n"
          ]
        },
        {
          "name": "stderr",
          "output_type": "stream",
          "text": [
            "\r 12%|█▏        | 6/50 [01:44<12:29, 17.03s/it]"
          ]
        },
        {
          "name": "stdout",
          "output_type": "stream",
          "text": [
            "Test Loss: 0.866871, Test Accuracy: 74.52%\n",
            "Epoch: 7/50\tLoss: 0.682709\tAccuracy: 77.66%\n"
          ]
        },
        {
          "name": "stderr",
          "output_type": "stream",
          "text": [
            "\r 14%|█▍        | 7/50 [02:00<12:08, 16.93s/it]"
          ]
        },
        {
          "name": "stdout",
          "output_type": "stream",
          "text": [
            "Test Loss: 0.733446, Test Accuracy: 78.65%\n",
            "Epoch: 8/50\tLoss: 0.586326\tAccuracy: 78.97%\n"
          ]
        },
        {
          "name": "stderr",
          "output_type": "stream",
          "text": [
            "\r 16%|█▌        | 8/50 [02:17<11:47, 16.84s/it]"
          ]
        },
        {
          "name": "stdout",
          "output_type": "stream",
          "text": [
            "Test Loss: 0.701187, Test Accuracy: 79.72%\n",
            "Epoch: 9/50\tLoss: 0.493306\tAccuracy: 81.35%\n"
          ]
        },
        {
          "name": "stderr",
          "output_type": "stream",
          "text": [
            "\r 18%|█▊        | 9/50 [02:34<11:33, 16.90s/it]"
          ]
        },
        {
          "name": "stdout",
          "output_type": "stream",
          "text": [
            "Test Loss: 0.631799, Test Accuracy: 82.26%\n",
            "Epoch: 10/50\tLoss: 0.438580\tAccuracy: 81.69%\n"
          ]
        },
        {
          "name": "stderr",
          "output_type": "stream",
          "text": [
            "\r 20%|██        | 10/50 [02:52<11:24, 17.12s/it]"
          ]
        },
        {
          "name": "stdout",
          "output_type": "stream",
          "text": [
            "Test Loss: 0.615024, Test Accuracy: 82.40%\n",
            "Epoch: 11/50\tLoss: 0.375769\tAccuracy: 83.10%\n"
          ]
        },
        {
          "name": "stderr",
          "output_type": "stream",
          "text": [
            "\r 22%|██▏       | 11/50 [03:11<11:32, 17.75s/it]"
          ]
        },
        {
          "name": "stdout",
          "output_type": "stream",
          "text": [
            "Test Loss: 0.599413, Test Accuracy: 83.60%\n",
            "Epoch: 12/50\tLoss: 0.315587\tAccuracy: 83.01%\n"
          ]
        },
        {
          "name": "stderr",
          "output_type": "stream",
          "text": [
            "\r 24%|██▍       | 12/50 [03:29<11:16, 17.80s/it]"
          ]
        },
        {
          "name": "stdout",
          "output_type": "stream",
          "text": [
            "Test Loss: 0.599413, Test Accuracy: 83.60%\n",
            "Epoch: 13/50\tLoss: 0.285180\tAccuracy: 83.50%\n"
          ]
        },
        {
          "name": "stderr",
          "output_type": "stream",
          "text": [
            "\r 26%|██▌       | 13/50 [03:46<10:53, 17.65s/it]"
          ]
        },
        {
          "name": "stdout",
          "output_type": "stream",
          "text": [
            "Test Loss: 0.620428, Test Accuracy: 83.83%\n",
            "Epoch: 14/50\tLoss: 0.260276\tAccuracy: 84.00%\n"
          ]
        },
        {
          "name": "stderr",
          "output_type": "stream",
          "text": [
            "\r 28%|██▊       | 14/50 [04:03<10:27, 17.42s/it]"
          ]
        },
        {
          "name": "stdout",
          "output_type": "stream",
          "text": [
            "Test Loss: 0.627366, Test Accuracy: 84.68%\n",
            "Epoch: 15/50\tLoss: 0.226850\tAccuracy: 83.57%\n"
          ]
        },
        {
          "name": "stderr",
          "output_type": "stream",
          "text": [
            "\r 30%|███       | 15/50 [04:20<10:01, 17.19s/it]"
          ]
        },
        {
          "name": "stdout",
          "output_type": "stream",
          "text": [
            "Test Loss: 0.627366, Test Accuracy: 84.68%\n",
            "Epoch: 16/50\tLoss: 0.250000\tAccuracy: 84.17%\n"
          ]
        },
        {
          "name": "stderr",
          "output_type": "stream",
          "text": [
            "\r 32%|███▏      | 16/50 [04:36<09:38, 17.03s/it]"
          ]
        },
        {
          "name": "stdout",
          "output_type": "stream",
          "text": [
            "Test Loss: 0.720325, Test Accuracy: 84.73%\n",
            "Epoch: 17/50\tLoss: 0.186902\tAccuracy: 83.58%\n"
          ]
        },
        {
          "name": "stderr",
          "output_type": "stream",
          "text": [
            "\r 34%|███▍      | 17/50 [04:53<09:18, 16.93s/it]"
          ]
        },
        {
          "name": "stdout",
          "output_type": "stream",
          "text": [
            "Test Loss: 0.720325, Test Accuracy: 84.73%\n",
            "Epoch: 18/50\tLoss: 0.193230\tAccuracy: 83.10%\n"
          ]
        },
        {
          "name": "stderr",
          "output_type": "stream",
          "text": [
            "\r 36%|███▌      | 18/50 [05:10<09:00, 16.89s/it]"
          ]
        },
        {
          "name": "stdout",
          "output_type": "stream",
          "text": [
            "Test Loss: 0.720325, Test Accuracy: 84.73%\n",
            "Epoch: 19/50\tLoss: 0.182246\tAccuracy: 82.50%\n"
          ]
        },
        {
          "name": "stderr",
          "output_type": "stream",
          "text": [
            "\r 38%|███▊      | 19/50 [05:27<08:48, 17.06s/it]"
          ]
        },
        {
          "name": "stdout",
          "output_type": "stream",
          "text": [
            "Test Loss: 0.720325, Test Accuracy: 84.73%\n",
            "Epoch: 20/50\tLoss: 0.164141\tAccuracy: 84.37%\n"
          ]
        },
        {
          "name": "stderr",
          "output_type": "stream",
          "text": [
            "\r 40%|████      | 20/50 [05:45<08:39, 17.31s/it]"
          ]
        },
        {
          "name": "stdout",
          "output_type": "stream",
          "text": [
            "Test Loss: 0.708268, Test Accuracy: 84.79%\n",
            "Epoch: 21/50\tLoss: 0.163723\tAccuracy: 83.69%\n"
          ]
        },
        {
          "name": "stderr",
          "output_type": "stream",
          "text": [
            "\r 42%|████▏     | 21/50 [06:04<08:37, 17.85s/it]"
          ]
        },
        {
          "name": "stdout",
          "output_type": "stream",
          "text": [
            "Test Loss: 0.708268, Test Accuracy: 84.79%\n",
            "Epoch: 22/50\tLoss: 0.132613\tAccuracy: 84.29%\n"
          ]
        },
        {
          "name": "stderr",
          "output_type": "stream",
          "text": [
            "\r 44%|████▍     | 22/50 [06:22<08:20, 17.88s/it]"
          ]
        },
        {
          "name": "stdout",
          "output_type": "stream",
          "text": [
            "Test Loss: 0.708268, Test Accuracy: 84.79%\n",
            "Epoch: 23/50\tLoss: 0.113602\tAccuracy: 82.84%\n"
          ]
        },
        {
          "name": "stderr",
          "output_type": "stream",
          "text": [
            "\r 46%|████▌     | 23/50 [06:39<07:57, 17.70s/it]"
          ]
        },
        {
          "name": "stdout",
          "output_type": "stream",
          "text": [
            "Test Loss: 0.708268, Test Accuracy: 84.79%\n",
            "Epoch: 24/50\tLoss: 0.092935\tAccuracy: 83.92%\n"
          ]
        },
        {
          "name": "stderr",
          "output_type": "stream",
          "text": [
            "\r 48%|████▊     | 24/50 [06:56<07:32, 17.42s/it]"
          ]
        },
        {
          "name": "stdout",
          "output_type": "stream",
          "text": [
            "Test Loss: 0.708268, Test Accuracy: 84.79%\n",
            "Epoch: 25/50\tLoss: 0.109931\tAccuracy: 82.97%\n"
          ]
        },
        {
          "name": "stderr",
          "output_type": "stream",
          "text": [
            "\r 50%|█████     | 25/50 [07:13<07:10, 17.20s/it]"
          ]
        },
        {
          "name": "stdout",
          "output_type": "stream",
          "text": [
            "Test Loss: 0.708268, Test Accuracy: 84.79%\n",
            "Epoch: 26/50\tLoss: 0.123986\tAccuracy: 83.38%\n"
          ]
        },
        {
          "name": "stderr",
          "output_type": "stream",
          "text": [
            "\r 52%|█████▏    | 26/50 [07:30<06:49, 17.08s/it]"
          ]
        },
        {
          "name": "stdout",
          "output_type": "stream",
          "text": [
            "Test Loss: 0.708268, Test Accuracy: 84.79%\n",
            "Epoch: 27/50\tLoss: 0.119561\tAccuracy: 83.79%\n"
          ]
        },
        {
          "name": "stderr",
          "output_type": "stream",
          "text": [
            "\r 54%|█████▍    | 27/50 [07:46<06:29, 16.94s/it]"
          ]
        },
        {
          "name": "stdout",
          "output_type": "stream",
          "text": [
            "Test Loss: 0.708268, Test Accuracy: 84.79%\n",
            "Epoch: 28/50\tLoss: 0.102813\tAccuracy: 83.47%\n"
          ]
        },
        {
          "name": "stderr",
          "output_type": "stream",
          "text": [
            "\r 56%|█████▌    | 28/50 [08:03<06:12, 16.94s/it]"
          ]
        },
        {
          "name": "stdout",
          "output_type": "stream",
          "text": [
            "Test Loss: 0.708268, Test Accuracy: 84.79%\n",
            "Epoch: 29/50\tLoss: 0.074936\tAccuracy: 83.79%\n"
          ]
        },
        {
          "name": "stderr",
          "output_type": "stream",
          "text": [
            "\r 58%|█████▊    | 29/50 [08:21<05:58, 17.08s/it]"
          ]
        },
        {
          "name": "stdout",
          "output_type": "stream",
          "text": [
            "Test Loss: 0.708268, Test Accuracy: 84.79%\n",
            "Epoch: 30/50\tLoss: 0.072189\tAccuracy: 83.90%\n"
          ]
        },
        {
          "name": "stderr",
          "output_type": "stream",
          "text": [
            "\r 60%|██████    | 30/50 [08:39<05:45, 17.29s/it]"
          ]
        },
        {
          "name": "stdout",
          "output_type": "stream",
          "text": [
            "Test Loss: 0.708268, Test Accuracy: 84.79%\n",
            "Epoch: 31/50\tLoss: 0.146905\tAccuracy: 83.50%\n"
          ]
        },
        {
          "name": "stderr",
          "output_type": "stream",
          "text": [
            "\r 62%|██████▏   | 31/50 [08:57<05:33, 17.55s/it]"
          ]
        },
        {
          "name": "stdout",
          "output_type": "stream",
          "text": [
            "Test Loss: 0.708268, Test Accuracy: 84.79%\n",
            "Epoch: 32/50\tLoss: 0.090852\tAccuracy: 84.08%\n"
          ]
        },
        {
          "name": "stderr",
          "output_type": "stream",
          "text": [
            "\r 64%|██████▍   | 32/50 [09:14<05:15, 17.52s/it]"
          ]
        },
        {
          "name": "stdout",
          "output_type": "stream",
          "text": [
            "Test Loss: 0.708268, Test Accuracy: 84.79%\n",
            "Epoch: 33/50\tLoss: 0.083160\tAccuracy: 84.81%\n"
          ]
        },
        {
          "name": "stderr",
          "output_type": "stream",
          "text": [
            "\r 66%|██████▌   | 33/50 [09:31<04:53, 17.25s/it]"
          ]
        },
        {
          "name": "stdout",
          "output_type": "stream",
          "text": [
            "Test Loss: 0.971954, Test Accuracy: 85.31%\n",
            "Epoch: 34/50\tLoss: 0.069330\tAccuracy: 84.32%\n"
          ]
        },
        {
          "name": "stderr",
          "output_type": "stream",
          "text": [
            "\r 68%|██████▊   | 34/50 [09:47<04:33, 17.08s/it]"
          ]
        },
        {
          "name": "stdout",
          "output_type": "stream",
          "text": [
            "Test Loss: 0.971954, Test Accuracy: 85.31%\n",
            "Epoch: 35/50\tLoss: 0.070212\tAccuracy: 84.19%\n"
          ]
        },
        {
          "name": "stderr",
          "output_type": "stream",
          "text": [
            "\r 70%|███████   | 35/50 [10:04<04:14, 16.95s/it]"
          ]
        },
        {
          "name": "stdout",
          "output_type": "stream",
          "text": [
            "Test Loss: 0.971954, Test Accuracy: 85.31%\n",
            "Epoch: 36/50\tLoss: 0.102468\tAccuracy: 84.11%\n"
          ]
        },
        {
          "name": "stderr",
          "output_type": "stream",
          "text": [
            "\r 72%|███████▏  | 36/50 [10:21<03:55, 16.86s/it]"
          ]
        },
        {
          "name": "stdout",
          "output_type": "stream",
          "text": [
            "Test Loss: 0.971954, Test Accuracy: 85.31%\n",
            "Epoch: 37/50\tLoss: 0.056680\tAccuracy: 84.33%\n"
          ]
        },
        {
          "name": "stderr",
          "output_type": "stream",
          "text": [
            "\r 74%|███████▍  | 37/50 [10:38<03:39, 16.90s/it]"
          ]
        },
        {
          "name": "stdout",
          "output_type": "stream",
          "text": [
            "Test Loss: 0.971954, Test Accuracy: 85.31%\n",
            "Epoch: 38/50\tLoss: 0.046062\tAccuracy: 83.51%\n"
          ]
        },
        {
          "name": "stderr",
          "output_type": "stream",
          "text": [
            "\r 76%|███████▌  | 38/50 [10:55<03:25, 17.13s/it]"
          ]
        },
        {
          "name": "stdout",
          "output_type": "stream",
          "text": [
            "Test Loss: 0.971954, Test Accuracy: 85.31%\n",
            "Epoch: 39/50\tLoss: 0.045915\tAccuracy: 84.69%\n"
          ]
        },
        {
          "name": "stderr",
          "output_type": "stream",
          "text": [
            "\r 78%|███████▊  | 39/50 [11:13<03:10, 17.35s/it]"
          ]
        },
        {
          "name": "stdout",
          "output_type": "stream",
          "text": [
            "Test Loss: 0.971954, Test Accuracy: 85.31%\n",
            "Epoch: 40/50\tLoss: 0.049427\tAccuracy: 84.87%\n"
          ]
        },
        {
          "name": "stderr",
          "output_type": "stream",
          "text": [
            "\r 80%|████████  | 40/50 [11:31<02:54, 17.47s/it]"
          ]
        },
        {
          "name": "stdout",
          "output_type": "stream",
          "text": [
            "Test Loss: 1.146965, Test Accuracy: 85.37%\n",
            "Epoch: 41/50\tLoss: 0.049325\tAccuracy: 84.30%\n"
          ]
        },
        {
          "name": "stderr",
          "output_type": "stream",
          "text": [
            "\r 82%|████████▏ | 41/50 [11:48<02:36, 17.35s/it]"
          ]
        },
        {
          "name": "stdout",
          "output_type": "stream",
          "text": [
            "Test Loss: 1.146965, Test Accuracy: 85.37%\n",
            "Epoch: 42/50\tLoss: 0.062552\tAccuracy: 84.50%\n"
          ]
        },
        {
          "name": "stderr",
          "output_type": "stream",
          "text": [
            "\r 84%|████████▍ | 42/50 [12:06<02:19, 17.46s/it]"
          ]
        },
        {
          "name": "stdout",
          "output_type": "stream",
          "text": [
            "Test Loss: 1.146965, Test Accuracy: 85.37%\n",
            "Epoch: 43/50\tLoss: 0.069160\tAccuracy: 84.96%\n"
          ]
        },
        {
          "name": "stderr",
          "output_type": "stream",
          "text": [
            "\r 86%|████████▌ | 43/50 [12:23<02:00, 17.28s/it]"
          ]
        },
        {
          "name": "stdout",
          "output_type": "stream",
          "text": [
            "Test Loss: 1.078279, Test Accuracy: 85.18%\n",
            "Epoch: 44/50\tLoss: 0.061724\tAccuracy: 84.14%\n"
          ]
        },
        {
          "name": "stderr",
          "output_type": "stream",
          "text": [
            "\r 88%|████████▊ | 44/50 [12:39<01:42, 17.08s/it]"
          ]
        },
        {
          "name": "stdout",
          "output_type": "stream",
          "text": [
            "Test Loss: 1.078279, Test Accuracy: 85.18%\n",
            "Epoch: 45/50\tLoss: 0.047930\tAccuracy: 84.63%\n"
          ]
        },
        {
          "name": "stderr",
          "output_type": "stream",
          "text": [
            "\r 90%|█████████ | 45/50 [12:56<01:24, 16.94s/it]"
          ]
        },
        {
          "name": "stdout",
          "output_type": "stream",
          "text": [
            "Test Loss: 1.078279, Test Accuracy: 85.18%\n",
            "Epoch: 46/50\tLoss: 0.047853\tAccuracy: 84.39%\n"
          ]
        },
        {
          "name": "stderr",
          "output_type": "stream",
          "text": [
            "\r 92%|█████████▏| 46/50 [13:13<01:07, 16.85s/it]"
          ]
        },
        {
          "name": "stdout",
          "output_type": "stream",
          "text": [
            "Test Loss: 1.078279, Test Accuracy: 85.18%\n",
            "Epoch: 47/50\tLoss: 0.046416\tAccuracy: 84.79%\n"
          ]
        },
        {
          "name": "stderr",
          "output_type": "stream",
          "text": [
            "\r 94%|█████████▍| 47/50 [13:29<00:50, 16.77s/it]"
          ]
        },
        {
          "name": "stdout",
          "output_type": "stream",
          "text": [
            "Test Loss: 1.078279, Test Accuracy: 85.18%\n",
            "Epoch: 48/50\tLoss: 0.045565\tAccuracy: 84.52%\n"
          ]
        },
        {
          "name": "stderr",
          "output_type": "stream",
          "text": [
            "\r 96%|█████████▌| 48/50 [13:46<00:33, 16.83s/it]"
          ]
        },
        {
          "name": "stdout",
          "output_type": "stream",
          "text": [
            "Test Loss: 1.078279, Test Accuracy: 85.18%\n",
            "Epoch: 49/50\tLoss: 0.032755\tAccuracy: 85.20%\n"
          ]
        },
        {
          "name": "stderr",
          "output_type": "stream",
          "text": [
            "\r 98%|█████████▊| 49/50 [14:04<00:17, 17.07s/it]"
          ]
        },
        {
          "name": "stdout",
          "output_type": "stream",
          "text": [
            "Test Loss: 1.073903, Test Accuracy: 85.46%\n",
            "Epoch: 50/50\tLoss: 0.023780\tAccuracy: 84.77%\n"
          ]
        },
        {
          "name": "stderr",
          "output_type": "stream",
          "text": [
            "100%|██████████| 50/50 [14:22<00:00, 17.24s/it]"
          ]
        },
        {
          "name": "stdout",
          "output_type": "stream",
          "text": [
            "Test Loss: 1.073903, Test Accuracy: 85.46%\n"
          ]
        },
        {
          "name": "stderr",
          "output_type": "stream",
          "text": [
            "\n"
          ]
        },
        {
          "data": {
            "image/png": "[encoded data removed]",
            "text/plain": [
              "<Figure size 640x480 with 1 Axes>"
            ]
          },
          "metadata": {},
          "output_type": "display_data"
        },
        {
          "name": "stderr",
          "output_type": "stream",
          "text": [
            "  0%|          | 0/207 [00:00<?, ?it/s]<ipython-input-27-f032b52d8ce3>:18: FutureWarning: The frame.append method is deprecated and will be removed from pandas in a future version. Use pandas.concat instead.\n",
            "  df_train = df_train.append(df_logit_train, ignore_index=True)\n",
            "100%|██████████| 207/207 [00:04<00:00, 43.78it/s]\n",
            "<ipython-input-27-f032b52d8ce3>:29: FutureWarning: The frame.append method is deprecated and will be removed from pandas in a future version. Use pandas.concat instead.\n",
            "  df_test = df_test.append(df_logit_test, ignore_index=True)\n",
            "<ipython-input-27-f032b52d8ce3>:32: FutureWarning: The frame.append method is deprecated and will be removed from pandas in a future version. Use pandas.concat instead.\n",
            "  df_all = df_train.append(df_test,ignore_index=True)\n"
          ]
        },
        {
          "name": "stdout",
          "output_type": "stream",
          "text": [
            "MAI 6.csv saved\n"
          ]
        },
        {
          "name": "stderr",
          "output_type": "stream",
          "text": [
            "\r  0%|          | 0/50 [00:00<?, ?it/s]"
          ]
        },
        {
          "name": "stdout",
          "output_type": "stream",
          "text": [
            "Epoch: 1/50\tLoss: 3.434422\tAccuracy: 14.13%\n"
          ]
        },
        {
          "name": "stderr",
          "output_type": "stream",
          "text": [
            "\r  2%|▏         | 1/50 [00:18<14:46, 18.09s/it]"
          ]
        },
        {
          "name": "stdout",
          "output_type": "stream",
          "text": [
            "Test Loss: 3.184889, Test Accuracy: 13.88%\n",
            "Epoch: 2/50\tLoss: 2.979995\tAccuracy: 28.34%\n"
          ]
        },
        {
          "name": "stderr",
          "output_type": "stream",
          "text": [
            "\r  4%|▍         | 2/50 [00:35<14:15, 17.83s/it]"
          ]
        },
        {
          "name": "stdout",
          "output_type": "stream",
          "text": [
            "Test Loss: 2.810892, Test Accuracy: 27.42%\n",
            "Epoch: 3/50\tLoss: 2.498026\tAccuracy: 40.24%\n"
          ]
        },
        {
          "name": "stderr",
          "output_type": "stream",
          "text": [
            "\r  6%|▌         | 3/50 [00:52<13:35, 17.35s/it]"
          ]
        },
        {
          "name": "stdout",
          "output_type": "stream",
          "text": [
            "Test Loss: 2.348016, Test Accuracy: 39.45%\n",
            "Epoch: 4/50\tLoss: 1.851117\tAccuracy: 60.23%\n"
          ]
        },
        {
          "name": "stderr",
          "output_type": "stream",
          "text": [
            "\r  8%|▊         | 4/50 [01:09<13:03, 17.03s/it]"
          ]
        },
        {
          "name": "stdout",
          "output_type": "stream",
          "text": [
            "Test Loss: 1.524650, Test Accuracy: 59.23%\n",
            "Epoch: 5/50\tLoss: 1.219799\tAccuracy: 70.65%\n"
          ]
        },
        {
          "name": "stderr",
          "output_type": "stream",
          "text": [
            "\r 10%|█         | 5/50 [01:25<12:38, 16.85s/it]"
          ]
        },
        {
          "name": "stdout",
          "output_type": "stream",
          "text": [
            "Test Loss: 1.037784, Test Accuracy: 70.07%\n",
            "Epoch: 6/50\tLoss: 0.869210\tAccuracy: 75.88%\n"
          ]
        },
        {
          "name": "stderr",
          "output_type": "stream",
          "text": [
            "\r 12%|█▏        | 6/50 [01:42<12:17, 16.76s/it]"
          ]
        },
        {
          "name": "stdout",
          "output_type": "stream",
          "text": [
            "Test Loss: 0.857031, Test Accuracy: 75.45%\n",
            "Epoch: 7/50\tLoss: 0.701138\tAccuracy: 77.48%\n"
          ]
        },
        {
          "name": "stderr",
          "output_type": "stream",
          "text": [
            "\r 14%|█▍        | 7/50 [01:58<11:58, 16.71s/it]"
          ]
        },
        {
          "name": "stdout",
          "output_type": "stream",
          "text": [
            "Test Loss: 0.788655, Test Accuracy: 76.79%\n",
            "Epoch: 8/50\tLoss: 0.587362\tAccuracy: 80.25%\n"
          ]
        },
        {
          "name": "stderr",
          "output_type": "stream",
          "text": [
            "\r 16%|█▌        | 8/50 [02:15<11:43, 16.76s/it]"
          ]
        },
        {
          "name": "stdout",
          "output_type": "stream",
          "text": [
            "Test Loss: 0.716790, Test Accuracy: 79.59%\n",
            "Epoch: 9/50\tLoss: 0.500762\tAccuracy: 80.07%\n"
          ]
        },
        {
          "name": "stderr",
          "output_type": "stream",
          "text": [
            "\r 18%|█▊        | 9/50 [02:32<11:33, 16.91s/it]"
          ]
        },
        {
          "name": "stdout",
          "output_type": "stream",
          "text": [
            "Test Loss: 0.716790, Test Accuracy: 79.59%\n",
            "Epoch: 10/50\tLoss: 0.428968\tAccuracy: 81.60%\n"
          ]
        },
        {
          "name": "stderr",
          "output_type": "stream",
          "text": [
            "\r 20%|██        | 10/50 [02:50<11:26, 17.16s/it]"
          ]
        },
        {
          "name": "stdout",
          "output_type": "stream",
          "text": [
            "Test Loss: 0.678133, Test Accuracy: 80.75%\n",
            "Epoch: 11/50\tLoss: 0.402394\tAccuracy: 80.21%\n"
          ]
        },
        {
          "name": "stderr",
          "output_type": "stream",
          "text": [
            "\r 22%|██▏       | 11/50 [03:08<11:21, 17.48s/it]"
          ]
        },
        {
          "name": "stdout",
          "output_type": "stream",
          "text": [
            "Test Loss: 0.678133, Test Accuracy: 80.75%\n",
            "Epoch: 12/50\tLoss: 0.358994\tAccuracy: 82.28%\n"
          ]
        },
        {
          "name": "stderr",
          "output_type": "stream",
          "text": [
            "\r 24%|██▍       | 12/50 [03:27<11:17, 17.82s/it]"
          ]
        },
        {
          "name": "stdout",
          "output_type": "stream",
          "text": [
            "Test Loss: 0.669400, Test Accuracy: 81.56%\n",
            "Epoch: 13/50\tLoss: 0.322128\tAccuracy: 82.82%\n"
          ]
        },
        {
          "name": "stderr",
          "output_type": "stream",
          "text": [
            "\r 26%|██▌       | 13/50 [03:44<10:55, 17.72s/it]"
          ]
        },
        {
          "name": "stdout",
          "output_type": "stream",
          "text": [
            "Test Loss: 0.679518, Test Accuracy: 82.13%\n",
            "Epoch: 14/50\tLoss: 0.257442\tAccuracy: 83.63%\n"
          ]
        },
        {
          "name": "stderr",
          "output_type": "stream",
          "text": [
            "\r 28%|██▊       | 14/50 [04:02<10:32, 17.56s/it]"
          ]
        },
        {
          "name": "stdout",
          "output_type": "stream",
          "text": [
            "Test Loss: 0.703181, Test Accuracy: 82.97%\n",
            "Epoch: 15/50\tLoss: 0.279789\tAccuracy: 83.28%\n"
          ]
        },
        {
          "name": "stderr",
          "output_type": "stream",
          "text": [
            "\r 30%|███       | 15/50 [04:18<10:07, 17.36s/it]"
          ]
        },
        {
          "name": "stdout",
          "output_type": "stream",
          "text": [
            "Test Loss: 0.703181, Test Accuracy: 82.97%\n",
            "Epoch: 16/50\tLoss: 0.232099\tAccuracy: 82.80%\n"
          ]
        },
        {
          "name": "stderr",
          "output_type": "stream",
          "text": [
            "\r 32%|███▏      | 16/50 [04:35<09:43, 17.16s/it]"
          ]
        },
        {
          "name": "stdout",
          "output_type": "stream",
          "text": [
            "Test Loss: 0.703181, Test Accuracy: 82.97%\n",
            "Epoch: 17/50\tLoss: 0.215661\tAccuracy: 83.94%\n"
          ]
        },
        {
          "name": "stderr",
          "output_type": "stream",
          "text": [
            "\r 34%|███▍      | 17/50 [04:52<09:21, 17.01s/it]"
          ]
        },
        {
          "name": "stdout",
          "output_type": "stream",
          "text": [
            "Test Loss: 0.763837, Test Accuracy: 83.31%\n",
            "Epoch: 18/50\tLoss: 0.183922\tAccuracy: 84.27%\n"
          ]
        },
        {
          "name": "stderr",
          "output_type": "stream",
          "text": [
            "\r 36%|███▌      | 18/50 [05:09<09:01, 16.92s/it]"
          ]
        },
        {
          "name": "stdout",
          "output_type": "stream",
          "text": [
            "Test Loss: 0.779426, Test Accuracy: 83.84%\n",
            "Epoch: 19/50\tLoss: 0.164268\tAccuracy: 83.89%\n"
          ]
        },
        {
          "name": "stderr",
          "output_type": "stream",
          "text": [
            "\r 38%|███▊      | 19/50 [05:25<08:42, 16.86s/it]"
          ]
        },
        {
          "name": "stdout",
          "output_type": "stream",
          "text": [
            "Test Loss: 0.779426, Test Accuracy: 83.84%\n",
            "Epoch: 20/50\tLoss: 0.212086\tAccuracy: 84.09%\n"
          ]
        },
        {
          "name": "stderr",
          "output_type": "stream",
          "text": [
            "\r 40%|████      | 20/50 [05:42<08:24, 16.81s/it]"
          ]
        },
        {
          "name": "stdout",
          "output_type": "stream",
          "text": [
            "Test Loss: 0.779426, Test Accuracy: 83.84%\n",
            "Epoch: 21/50\tLoss: 0.135192\tAccuracy: 84.30%\n"
          ]
        },
        {
          "name": "stderr",
          "output_type": "stream",
          "text": [
            "\r 42%|████▏     | 21/50 [05:59<08:08, 16.85s/it]"
          ]
        },
        {
          "name": "stdout",
          "output_type": "stream",
          "text": [
            "Test Loss: 0.807775, Test Accuracy: 83.47%\n",
            "Epoch: 22/50\tLoss: 0.123692\tAccuracy: 83.21%\n"
          ]
        },
        {
          "name": "stderr",
          "output_type": "stream",
          "text": [
            "\r 44%|████▍     | 22/50 [06:16<07:56, 17.03s/it]"
          ]
        },
        {
          "name": "stdout",
          "output_type": "stream",
          "text": [
            "Test Loss: 0.807775, Test Accuracy: 83.47%\n",
            "Epoch: 23/50\tLoss: 0.147747\tAccuracy: 83.70%\n"
          ]
        },
        {
          "name": "stderr",
          "output_type": "stream",
          "text": [
            "\r 46%|████▌     | 23/50 [06:33<07:40, 17.05s/it]"
          ]
        },
        {
          "name": "stdout",
          "output_type": "stream",
          "text": [
            "Test Loss: 0.807775, Test Accuracy: 83.47%\n",
            "Epoch: 24/50\tLoss: 0.121914\tAccuracy: 84.06%\n"
          ]
        },
        {
          "name": "stderr",
          "output_type": "stream",
          "text": [
            "\r 48%|████▊     | 24/50 [06:50<07:20, 16.94s/it]"
          ]
        },
        {
          "name": "stdout",
          "output_type": "stream",
          "text": [
            "Test Loss: 0.807775, Test Accuracy: 83.47%\n",
            "Epoch: 25/50\tLoss: 0.123975\tAccuracy: 84.03%\n"
          ]
        },
        {
          "name": "stderr",
          "output_type": "stream",
          "text": [
            "\r 50%|█████     | 25/50 [07:07<07:03, 16.95s/it]"
          ]
        },
        {
          "name": "stdout",
          "output_type": "stream",
          "text": [
            "Test Loss: 0.807775, Test Accuracy: 83.47%\n",
            "Epoch: 26/50\tLoss: 0.104342\tAccuracy: 83.54%\n"
          ]
        },
        {
          "name": "stderr",
          "output_type": "stream",
          "text": [
            "\r 52%|█████▏    | 26/50 [07:24<06:48, 17.04s/it]"
          ]
        },
        {
          "name": "stdout",
          "output_type": "stream",
          "text": [
            "Test Loss: 0.807775, Test Accuracy: 83.47%\n",
            "Epoch: 27/50\tLoss: 0.103520\tAccuracy: 84.09%\n"
          ]
        },
        {
          "name": "stderr",
          "output_type": "stream",
          "text": [
            "\r 54%|█████▍    | 27/50 [07:42<06:36, 17.23s/it]"
          ]
        },
        {
          "name": "stdout",
          "output_type": "stream",
          "text": [
            "Test Loss: 0.807775, Test Accuracy: 83.47%\n",
            "Epoch: 28/50\tLoss: 0.084765\tAccuracy: 84.62%\n"
          ]
        },
        {
          "name": "stderr",
          "output_type": "stream",
          "text": [
            "\r 56%|█████▌    | 28/50 [08:00<06:24, 17.46s/it]"
          ]
        },
        {
          "name": "stdout",
          "output_type": "stream",
          "text": [
            "Test Loss: 0.934320, Test Accuracy: 83.79%\n",
            "Epoch: 29/50\tLoss: 0.097603\tAccuracy: 83.86%\n"
          ]
        },
        {
          "name": "stderr",
          "output_type": "stream",
          "text": [
            "\r 58%|█████▊    | 29/50 [08:18<06:10, 17.63s/it]"
          ]
        },
        {
          "name": "stdout",
          "output_type": "stream",
          "text": [
            "Test Loss: 0.934320, Test Accuracy: 83.79%\n",
            "Epoch: 30/50\tLoss: 0.073916\tAccuracy: 84.31%\n"
          ]
        },
        {
          "name": "stderr",
          "output_type": "stream",
          "text": [
            "\r 60%|██████    | 30/50 [08:35<05:51, 17.56s/it]"
          ]
        },
        {
          "name": "stdout",
          "output_type": "stream",
          "text": [
            "Test Loss: 0.934320, Test Accuracy: 83.79%\n",
            "Epoch: 31/50\tLoss: 0.093599\tAccuracy: 84.35%\n"
          ]
        },
        {
          "name": "stderr",
          "output_type": "stream",
          "text": [
            "\r 62%|██████▏   | 31/50 [08:53<05:30, 17.41s/it]"
          ]
        },
        {
          "name": "stdout",
          "output_type": "stream",
          "text": [
            "Test Loss: 0.934320, Test Accuracy: 83.79%\n",
            "Epoch: 32/50\tLoss: 0.081576\tAccuracy: 84.36%\n"
          ]
        },
        {
          "name": "stderr",
          "output_type": "stream",
          "text": [
            "\r 64%|██████▍   | 32/50 [09:09<05:09, 17.18s/it]"
          ]
        },
        {
          "name": "stdout",
          "output_type": "stream",
          "text": [
            "Test Loss: 0.934320, Test Accuracy: 83.79%\n",
            "Epoch: 33/50\tLoss: 0.059941\tAccuracy: 84.70%\n"
          ]
        },
        {
          "name": "stderr",
          "output_type": "stream",
          "text": [
            "\r 66%|██████▌   | 33/50 [09:27<04:56, 17.44s/it]"
          ]
        },
        {
          "name": "stdout",
          "output_type": "stream",
          "text": [
            "Test Loss: 0.988276, Test Accuracy: 84.25%\n",
            "Epoch: 34/50\tLoss: 0.069656\tAccuracy: 84.80%\n"
          ]
        },
        {
          "name": "stderr",
          "output_type": "stream",
          "text": [
            "\r 68%|██████▊   | 34/50 [09:44<04:37, 17.33s/it]"
          ]
        },
        {
          "name": "stdout",
          "output_type": "stream",
          "text": [
            "Test Loss: 0.924218, Test Accuracy: 84.28%\n",
            "Epoch: 35/50\tLoss: 0.068394\tAccuracy: 84.34%\n"
          ]
        },
        {
          "name": "stderr",
          "output_type": "stream",
          "text": [
            "\r 70%|███████   | 35/50 [10:01<04:17, 17.17s/it]"
          ]
        },
        {
          "name": "stdout",
          "output_type": "stream",
          "text": [
            "Test Loss: 0.924218, Test Accuracy: 84.28%\n",
            "Epoch: 36/50\tLoss: 0.068896\tAccuracy: 85.05%\n"
          ]
        },
        {
          "name": "stderr",
          "output_type": "stream",
          "text": [
            "\r 72%|███████▏  | 36/50 [10:18<03:58, 17.02s/it]"
          ]
        },
        {
          "name": "stdout",
          "output_type": "stream",
          "text": [
            "Test Loss: 1.040919, Test Accuracy: 84.29%\n",
            "Epoch: 37/50\tLoss: 0.058737\tAccuracy: 84.52%\n"
          ]
        },
        {
          "name": "stderr",
          "output_type": "stream",
          "text": [
            "\r 74%|███████▍  | 37/50 [10:34<03:39, 16.92s/it]"
          ]
        },
        {
          "name": "stdout",
          "output_type": "stream",
          "text": [
            "Test Loss: 1.040919, Test Accuracy: 84.29%\n",
            "Epoch: 38/50\tLoss: 0.098375\tAccuracy: 84.33%\n"
          ]
        },
        {
          "name": "stderr",
          "output_type": "stream",
          "text": [
            "\r 76%|███████▌  | 38/50 [10:51<03:22, 16.86s/it]"
          ]
        },
        {
          "name": "stdout",
          "output_type": "stream",
          "text": [
            "Test Loss: 1.040919, Test Accuracy: 84.29%\n",
            "Epoch: 39/50\tLoss: 0.052559\tAccuracy: 85.43%\n"
          ]
        },
        {
          "name": "stderr",
          "output_type": "stream",
          "text": [
            "\r 78%|███████▊  | 39/50 [11:08<03:05, 16.82s/it]"
          ]
        },
        {
          "name": "stdout",
          "output_type": "stream",
          "text": [
            "Test Loss: 1.100062, Test Accuracy: 84.65%\n",
            "Epoch: 40/50\tLoss: 0.058950\tAccuracy: 84.82%\n"
          ]
        },
        {
          "name": "stderr",
          "output_type": "stream",
          "text": [
            "\r 80%|████████  | 40/50 [11:25<02:48, 16.87s/it]"
          ]
        },
        {
          "name": "stdout",
          "output_type": "stream",
          "text": [
            "Test Loss: 1.100062, Test Accuracy: 84.65%\n",
            "Epoch: 41/50\tLoss: 0.047201\tAccuracy: 85.09%\n"
          ]
        },
        {
          "name": "stderr",
          "output_type": "stream",
          "text": [
            "\r 82%|████████▏ | 41/50 [11:42<02:33, 17.01s/it]"
          ]
        },
        {
          "name": "stdout",
          "output_type": "stream",
          "text": [
            "Test Loss: 1.100062, Test Accuracy: 84.65%\n",
            "Epoch: 42/50\tLoss: 0.062083\tAccuracy: 84.65%\n"
          ]
        },
        {
          "name": "stderr",
          "output_type": "stream",
          "text": [
            "\r 84%|████████▍ | 42/50 [12:00<02:18, 17.26s/it]"
          ]
        },
        {
          "name": "stdout",
          "output_type": "stream",
          "text": [
            "Test Loss: 1.100062, Test Accuracy: 84.65%\n",
            "Epoch: 43/50\tLoss: 0.048103\tAccuracy: 84.99%\n"
          ]
        },
        {
          "name": "stderr",
          "output_type": "stream",
          "text": [
            "\r 86%|████████▌ | 43/50 [12:19<02:03, 17.63s/it]"
          ]
        },
        {
          "name": "stdout",
          "output_type": "stream",
          "text": [
            "Test Loss: 1.100062, Test Accuracy: 84.65%\n",
            "Epoch: 44/50\tLoss: 0.057679\tAccuracy: 84.59%\n"
          ]
        },
        {
          "name": "stderr",
          "output_type": "stream",
          "text": [
            "\r 88%|████████▊ | 44/50 [12:37<01:47, 17.92s/it]"
          ]
        },
        {
          "name": "stdout",
          "output_type": "stream",
          "text": [
            "Test Loss: 1.100062, Test Accuracy: 84.65%\n",
            "Epoch: 45/50\tLoss: 0.050328\tAccuracy: 84.72%\n"
          ]
        },
        {
          "name": "stderr",
          "output_type": "stream",
          "text": [
            "\r 90%|█████████ | 45/50 [12:55<01:29, 17.81s/it]"
          ]
        },
        {
          "name": "stdout",
          "output_type": "stream",
          "text": [
            "Test Loss: 1.100062, Test Accuracy: 84.65%\n",
            "Epoch: 46/50\tLoss: 0.057782\tAccuracy: 84.84%\n"
          ]
        },
        {
          "name": "stderr",
          "output_type": "stream",
          "text": [
            "\r 92%|█████████▏| 46/50 [13:12<01:10, 17.67s/it]"
          ]
        },
        {
          "name": "stdout",
          "output_type": "stream",
          "text": [
            "Test Loss: 1.100062, Test Accuracy: 84.65%\n",
            "Epoch: 47/50\tLoss: 0.069383\tAccuracy: 84.81%\n"
          ]
        },
        {
          "name": "stderr",
          "output_type": "stream",
          "text": [
            "\r 94%|█████████▍| 47/50 [13:29<00:52, 17.40s/it]"
          ]
        },
        {
          "name": "stdout",
          "output_type": "stream",
          "text": [
            "Test Loss: 1.100062, Test Accuracy: 84.65%\n",
            "Epoch: 48/50\tLoss: 0.058701\tAccuracy: 84.30%\n"
          ]
        },
        {
          "name": "stderr",
          "output_type": "stream",
          "text": [
            "\r 96%|█████████▌| 48/50 [13:46<00:34, 17.21s/it]"
          ]
        },
        {
          "name": "stdout",
          "output_type": "stream",
          "text": [
            "Test Loss: 1.100062, Test Accuracy: 84.65%\n",
            "Epoch: 49/50\tLoss: 0.036950\tAccuracy: 85.41%\n"
          ]
        },
        {
          "name": "stderr",
          "output_type": "stream",
          "text": [
            "\r 98%|█████████▊| 49/50 [14:02<00:17, 17.05s/it]"
          ]
        },
        {
          "name": "stdout",
          "output_type": "stream",
          "text": [
            "Test Loss: 1.100062, Test Accuracy: 84.65%\n",
            "Epoch: 50/50\tLoss: 0.027535\tAccuracy: 85.55%\n"
          ]
        },
        {
          "name": "stderr",
          "output_type": "stream",
          "text": [
            "100%|██████████| 50/50 [14:19<00:00, 17.19s/it]"
          ]
        },
        {
          "name": "stdout",
          "output_type": "stream",
          "text": [
            "Test Loss: 1.105702, Test Accuracy: 84.98%\n"
          ]
        },
        {
          "name": "stderr",
          "output_type": "stream",
          "text": [
            "\n"
          ]
        },
        {
          "data": {
            "image/png": "[encoded data removed]",
            "text/plain": [
              "<Figure size 640x480 with 1 Axes>"
            ]
          },
          "metadata": {},
          "output_type": "display_data"
        },
        {
          "name": "stderr",
          "output_type": "stream",
          "text": [
            "  0%|          | 0/207 [00:00<?, ?it/s]<ipython-input-27-f032b52d8ce3>:18: FutureWarning: The frame.append method is deprecated and will be removed from pandas in a future version. Use pandas.concat instead.\n",
            "  df_train = df_train.append(df_logit_train, ignore_index=True)\n",
            "100%|██████████| 207/207 [00:05<00:00, 37.40it/s]\n",
            "<ipython-input-27-f032b52d8ce3>:29: FutureWarning: The frame.append method is deprecated and will be removed from pandas in a future version. Use pandas.concat instead.\n",
            "  df_test = df_test.append(df_logit_test, ignore_index=True)\n",
            "<ipython-input-27-f032b52d8ce3>:32: FutureWarning: The frame.append method is deprecated and will be removed from pandas in a future version. Use pandas.concat instead.\n",
            "  df_all = df_train.append(df_test,ignore_index=True)\n"
          ]
        },
        {
          "name": "stdout",
          "output_type": "stream",
          "text": [
            "MAI 7.csv saved\n"
          ]
        },
        {
          "name": "stderr",
          "output_type": "stream",
          "text": [
            "\r  0%|          | 0/50 [00:00<?, ?it/s]"
          ]
        },
        {
          "name": "stdout",
          "output_type": "stream",
          "text": [
            "Epoch: 1/50\tLoss: 3.480227\tAccuracy: 15.03%\n"
          ]
        },
        {
          "name": "stderr",
          "output_type": "stream",
          "text": [
            "\r  2%|▏         | 1/50 [00:16<13:40, 16.75s/it]"
          ]
        },
        {
          "name": "stdout",
          "output_type": "stream",
          "text": [
            "Test Loss: 3.220257, Test Accuracy: 14.54%\n",
            "Epoch: 2/50\tLoss: 3.010367\tAccuracy: 30.50%\n"
          ]
        },
        {
          "name": "stderr",
          "output_type": "stream",
          "text": [
            "\r  4%|▍         | 2/50 [00:33<13:30, 16.89s/it]"
          ]
        },
        {
          "name": "stdout",
          "output_type": "stream",
          "text": [
            "Test Loss: 2.716696, Test Accuracy: 30.57%\n",
            "Epoch: 3/50\tLoss: 2.481987\tAccuracy: 45.03%\n"
          ]
        },
        {
          "name": "stderr",
          "output_type": "stream",
          "text": [
            "\r  6%|▌         | 3/50 [00:52<13:46, 17.58s/it]"
          ]
        },
        {
          "name": "stdout",
          "output_type": "stream",
          "text": [
            "Test Loss: 2.196143, Test Accuracy: 45.44%\n",
            "Epoch: 4/50\tLoss: 1.869034\tAccuracy: 54.19%\n"
          ]
        },
        {
          "name": "stderr",
          "output_type": "stream",
          "text": [
            "\r  8%|▊         | 4/50 [01:09<13:16, 17.31s/it]"
          ]
        },
        {
          "name": "stdout",
          "output_type": "stream",
          "text": [
            "Test Loss: 1.598223, Test Accuracy: 54.57%\n",
            "Epoch: 5/50\tLoss: 1.150396\tAccuracy: 69.37%\n"
          ]
        },
        {
          "name": "stderr",
          "output_type": "stream",
          "text": [
            "\r 10%|█         | 5/50 [01:26<12:56, 17.25s/it]"
          ]
        },
        {
          "name": "stdout",
          "output_type": "stream",
          "text": [
            "Test Loss: 1.053858, Test Accuracy: 69.31%\n",
            "Epoch: 6/50\tLoss: 0.823503\tAccuracy: 76.57%\n"
          ]
        },
        {
          "name": "stderr",
          "output_type": "stream",
          "text": [
            "\r 12%|█▏        | 6/50 [01:43<12:40, 17.28s/it]"
          ]
        },
        {
          "name": "stdout",
          "output_type": "stream",
          "text": [
            "Test Loss: 0.788134, Test Accuracy: 76.52%\n",
            "Epoch: 7/50\tLoss: 0.679135\tAccuracy: 77.33%\n"
          ]
        },
        {
          "name": "stderr",
          "output_type": "stream",
          "text": [
            "\r 14%|█▍        | 7/50 [02:01<12:29, 17.42s/it]"
          ]
        },
        {
          "name": "stdout",
          "output_type": "stream",
          "text": [
            "Test Loss: 0.754990, Test Accuracy: 77.98%\n",
            "Epoch: 8/50\tLoss: 0.588461\tAccuracy: 77.44%\n"
          ]
        },
        {
          "name": "stderr",
          "output_type": "stream",
          "text": [
            "\r 16%|█▌        | 8/50 [02:19<12:20, 17.64s/it]"
          ]
        },
        {
          "name": "stdout",
          "output_type": "stream",
          "text": [
            "Test Loss: 0.759799, Test Accuracy: 77.67%\n",
            "Epoch: 9/50\tLoss: 0.476322\tAccuracy: 80.19%\n"
          ]
        },
        {
          "name": "stderr",
          "output_type": "stream",
          "text": [
            "\r 18%|█▊        | 9/50 [02:37<12:12, 17.86s/it]"
          ]
        },
        {
          "name": "stdout",
          "output_type": "stream",
          "text": [
            "Test Loss: 0.676669, Test Accuracy: 80.36%\n",
            "Epoch: 10/50\tLoss: 0.423052\tAccuracy: 81.66%\n"
          ]
        },
        {
          "name": "stderr",
          "output_type": "stream",
          "text": [
            "\r 20%|██        | 10/50 [02:55<11:57, 17.94s/it]"
          ]
        },
        {
          "name": "stdout",
          "output_type": "stream",
          "text": [
            "Test Loss: 0.628766, Test Accuracy: 81.60%\n",
            "Epoch: 11/50\tLoss: 0.377056\tAccuracy: 81.84%\n"
          ]
        },
        {
          "name": "stderr",
          "output_type": "stream",
          "text": [
            "\r 22%|██▏       | 11/50 [03:13<11:36, 17.86s/it]"
          ]
        },
        {
          "name": "stdout",
          "output_type": "stream",
          "text": [
            "Test Loss: 0.649263, Test Accuracy: 81.68%\n",
            "Epoch: 12/50\tLoss: 0.365352\tAccuracy: 82.25%\n"
          ]
        },
        {
          "name": "stderr",
          "output_type": "stream",
          "text": [
            "\r 24%|██▍       | 12/50 [03:30<11:13, 17.72s/it]"
          ]
        },
        {
          "name": "stdout",
          "output_type": "stream",
          "text": [
            "Test Loss: 0.643469, Test Accuracy: 82.18%\n",
            "Epoch: 13/50\tLoss: 0.300963\tAccuracy: 82.77%\n"
          ]
        },
        {
          "name": "stderr",
          "output_type": "stream",
          "text": [
            "\r 26%|██▌       | 13/50 [03:49<11:01, 17.87s/it]"
          ]
        },
        {
          "name": "stdout",
          "output_type": "stream",
          "text": [
            "Test Loss: 0.666007, Test Accuracy: 82.76%\n",
            "Epoch: 14/50\tLoss: 0.270687\tAccuracy: 82.29%\n"
          ]
        },
        {
          "name": "stderr",
          "output_type": "stream",
          "text": [
            "\r 28%|██▊       | 14/50 [04:06<10:35, 17.66s/it]"
          ]
        },
        {
          "name": "stdout",
          "output_type": "stream",
          "text": [
            "Test Loss: 0.666007, Test Accuracy: 82.76%\n",
            "Epoch: 15/50\tLoss: 0.217780\tAccuracy: 83.15%\n"
          ]
        },
        {
          "name": "stderr",
          "output_type": "stream",
          "text": [
            "\r 30%|███       | 15/50 [04:23<10:09, 17.43s/it]"
          ]
        },
        {
          "name": "stdout",
          "output_type": "stream",
          "text": [
            "Test Loss: 0.723354, Test Accuracy: 82.97%\n",
            "Epoch: 16/50\tLoss: 0.225769\tAccuracy: 82.51%\n"
          ]
        },
        {
          "name": "stderr",
          "output_type": "stream",
          "text": [
            "\r 32%|███▏      | 16/50 [04:39<09:46, 17.24s/it]"
          ]
        },
        {
          "name": "stdout",
          "output_type": "stream",
          "text": [
            "Test Loss: 0.723354, Test Accuracy: 82.97%\n",
            "Epoch: 17/50\tLoss: 0.217925\tAccuracy: 82.07%\n"
          ]
        },
        {
          "name": "stderr",
          "output_type": "stream",
          "text": [
            "\r 34%|███▍      | 17/50 [04:56<09:25, 17.13s/it]"
          ]
        },
        {
          "name": "stdout",
          "output_type": "stream",
          "text": [
            "Test Loss: 0.723354, Test Accuracy: 82.97%\n",
            "Epoch: 18/50\tLoss: 0.180182\tAccuracy: 83.35%\n"
          ]
        },
        {
          "name": "stderr",
          "output_type": "stream",
          "text": [
            "\r 36%|███▌      | 18/50 [05:13<09:05, 17.05s/it]"
          ]
        },
        {
          "name": "stdout",
          "output_type": "stream",
          "text": [
            "Test Loss: 0.768177, Test Accuracy: 83.35%\n",
            "Epoch: 19/50\tLoss: 0.164081\tAccuracy: 83.34%\n"
          ]
        },
        {
          "name": "stderr",
          "output_type": "stream",
          "text": [
            "\r 38%|███▊      | 19/50 [05:30<08:47, 17.00s/it]"
          ]
        },
        {
          "name": "stdout",
          "output_type": "stream",
          "text": [
            "Test Loss: 0.768177, Test Accuracy: 83.35%\n",
            "Epoch: 20/50\tLoss: 0.253659\tAccuracy: 82.65%\n"
          ]
        },
        {
          "name": "stderr",
          "output_type": "stream",
          "text": [
            "\r 40%|████      | 20/50 [05:47<08:29, 16.97s/it]"
          ]
        },
        {
          "name": "stdout",
          "output_type": "stream",
          "text": [
            "Test Loss: 0.768177, Test Accuracy: 83.35%\n",
            "Epoch: 21/50\tLoss: 0.148435\tAccuracy: 83.92%\n"
          ]
        },
        {
          "name": "stderr",
          "output_type": "stream",
          "text": [
            "\r 42%|████▏     | 21/50 [06:04<08:13, 17.03s/it]"
          ]
        },
        {
          "name": "stdout",
          "output_type": "stream",
          "text": [
            "Test Loss: 0.777199, Test Accuracy: 83.82%\n",
            "Epoch: 22/50\tLoss: 0.121915\tAccuracy: 84.11%\n"
          ]
        },
        {
          "name": "stderr",
          "output_type": "stream",
          "text": [
            "\r 44%|████▍     | 22/50 [06:21<07:59, 17.11s/it]"
          ]
        },
        {
          "name": "stdout",
          "output_type": "stream",
          "text": [
            "Test Loss: 0.860652, Test Accuracy: 84.12%\n",
            "Epoch: 23/50\tLoss: 0.124944\tAccuracy: 83.68%\n"
          ]
        },
        {
          "name": "stderr",
          "output_type": "stream",
          "text": [
            "\r 46%|████▌     | 23/50 [06:39<07:44, 17.19s/it]"
          ]
        },
        {
          "name": "stdout",
          "output_type": "stream",
          "text": [
            "Test Loss: 0.860652, Test Accuracy: 84.12%\n",
            "Epoch: 24/50\tLoss: 0.104727\tAccuracy: 84.54%\n"
          ]
        },
        {
          "name": "stderr",
          "output_type": "stream",
          "text": [
            "\r 48%|████▊     | 24/50 [06:59<07:46, 17.96s/it]"
          ]
        },
        {
          "name": "stdout",
          "output_type": "stream",
          "text": [
            "Test Loss: 0.778613, Test Accuracy: 84.39%\n",
            "Epoch: 25/50\tLoss: 0.108783\tAccuracy: 83.47%\n"
          ]
        },
        {
          "name": "stderr",
          "output_type": "stream",
          "text": [
            "\r 50%|█████     | 25/50 [07:18<07:42, 18.48s/it]"
          ]
        },
        {
          "name": "stdout",
          "output_type": "stream",
          "text": [
            "Test Loss: 0.778613, Test Accuracy: 84.39%\n",
            "Epoch: 26/50\tLoss: 0.106195\tAccuracy: 83.41%\n"
          ]
        },
        {
          "name": "stderr",
          "output_type": "stream",
          "text": [
            "\r 52%|█████▏    | 26/50 [07:39<07:38, 19.09s/it]"
          ]
        },
        {
          "name": "stdout",
          "output_type": "stream",
          "text": [
            "Test Loss: 0.778613, Test Accuracy: 84.39%\n",
            "Epoch: 27/50\tLoss: 0.119306\tAccuracy: 83.59%\n"
          ]
        },
        {
          "name": "stderr",
          "output_type": "stream",
          "text": [
            "\r 54%|█████▍    | 27/50 [07:59<07:26, 19.40s/it]"
          ]
        },
        {
          "name": "stdout",
          "output_type": "stream",
          "text": [
            "Test Loss: 0.778613, Test Accuracy: 84.39%\n",
            "Epoch: 28/50\tLoss: 0.093272\tAccuracy: 84.22%\n"
          ]
        },
        {
          "name": "stderr",
          "output_type": "stream",
          "text": [
            "\r 56%|█████▌    | 28/50 [08:16<06:49, 18.62s/it]"
          ]
        },
        {
          "name": "stdout",
          "output_type": "stream",
          "text": [
            "Test Loss: 0.778613, Test Accuracy: 84.39%\n",
            "Epoch: 29/50\tLoss: 0.079621\tAccuracy: 84.30%\n"
          ]
        },
        {
          "name": "stderr",
          "output_type": "stream",
          "text": [
            "\r 58%|█████▊    | 29/50 [08:33<06:19, 18.07s/it]"
          ]
        },
        {
          "name": "stdout",
          "output_type": "stream",
          "text": [
            "Test Loss: 0.778613, Test Accuracy: 84.39%\n",
            "Epoch: 30/50\tLoss: 0.068348\tAccuracy: 84.37%\n"
          ]
        },
        {
          "name": "stderr",
          "output_type": "stream",
          "text": [
            "\r 60%|██████    | 30/50 [08:49<05:53, 17.68s/it]"
          ]
        },
        {
          "name": "stdout",
          "output_type": "stream",
          "text": [
            "Test Loss: 0.778613, Test Accuracy: 84.39%\n",
            "Epoch: 31/50\tLoss: 0.140697\tAccuracy: 84.18%\n"
          ]
        },
        {
          "name": "stderr",
          "output_type": "stream",
          "text": [
            "\r 62%|██████▏   | 31/50 [09:07<05:38, 17.82s/it]"
          ]
        },
        {
          "name": "stdout",
          "output_type": "stream",
          "text": [
            "Test Loss: 0.778613, Test Accuracy: 84.39%\n",
            "Epoch: 32/50\tLoss: 0.115549\tAccuracy: 84.32%\n"
          ]
        },
        {
          "name": "stderr",
          "output_type": "stream",
          "text": [
            "\r 64%|██████▍   | 32/50 [09:27<05:31, 18.39s/it]"
          ]
        },
        {
          "name": "stdout",
          "output_type": "stream",
          "text": [
            "Test Loss: 0.778613, Test Accuracy: 84.39%\n",
            "Epoch: 33/50\tLoss: 0.074616\tAccuracy: 84.11%\n"
          ]
        },
        {
          "name": "stderr",
          "output_type": "stream",
          "text": [
            "\r 66%|██████▌   | 33/50 [09:46<05:13, 18.42s/it]"
          ]
        },
        {
          "name": "stdout",
          "output_type": "stream",
          "text": [
            "Test Loss: 0.778613, Test Accuracy: 84.39%\n",
            "Epoch: 34/50\tLoss: 0.094490\tAccuracy: 84.13%\n"
          ]
        },
        {
          "name": "stderr",
          "output_type": "stream",
          "text": [
            "\r 68%|██████▊   | 34/50 [10:05<04:59, 18.73s/it]"
          ]
        },
        {
          "name": "stdout",
          "output_type": "stream",
          "text": [
            "Test Loss: 0.778613, Test Accuracy: 84.39%\n",
            "Epoch: 35/50\tLoss: 0.061953\tAccuracy: 84.68%\n"
          ]
        },
        {
          "name": "stderr",
          "output_type": "stream",
          "text": [
            "\r 70%|███████   | 35/50 [10:23<04:39, 18.63s/it]"
          ]
        },
        {
          "name": "stdout",
          "output_type": "stream",
          "text": [
            "Test Loss: 0.986653, Test Accuracy: 84.94%\n",
            "Epoch: 36/50\tLoss: 0.079462\tAccuracy: 83.14%\n"
          ]
        },
        {
          "name": "stderr",
          "output_type": "stream",
          "text": [
            "\r 72%|███████▏  | 36/50 [10:42<04:18, 18.49s/it]"
          ]
        },
        {
          "name": "stdout",
          "output_type": "stream",
          "text": [
            "Test Loss: 0.986653, Test Accuracy: 84.94%\n",
            "Epoch: 37/50\tLoss: 0.054345\tAccuracy: 84.59%\n"
          ]
        },
        {
          "name": "stderr",
          "output_type": "stream",
          "text": [
            "\r 74%|███████▍  | 37/50 [11:00<03:59, 18.44s/it]"
          ]
        },
        {
          "name": "stdout",
          "output_type": "stream",
          "text": [
            "Test Loss: 0.986653, Test Accuracy: 84.94%\n",
            "Epoch: 38/50\tLoss: 0.053161\tAccuracy: 84.41%\n"
          ]
        },
        {
          "name": "stderr",
          "output_type": "stream",
          "text": [
            "\r 76%|███████▌  | 38/50 [11:17<03:37, 18.14s/it]"
          ]
        },
        {
          "name": "stdout",
          "output_type": "stream",
          "text": [
            "Test Loss: 0.986653, Test Accuracy: 84.94%\n",
            "Epoch: 39/50\tLoss: 0.047353\tAccuracy: 83.51%\n"
          ]
        },
        {
          "name": "stderr",
          "output_type": "stream",
          "text": [
            "\r 78%|███████▊  | 39/50 [11:37<03:25, 18.68s/it]"
          ]
        },
        {
          "name": "stdout",
          "output_type": "stream",
          "text": [
            "Test Loss: 0.986653, Test Accuracy: 84.94%\n",
            "Epoch: 40/50\tLoss: 0.050959\tAccuracy: 85.05%\n"
          ]
        },
        {
          "name": "stderr",
          "output_type": "stream",
          "text": [
            "\r 80%|████████  | 40/50 [11:55<03:02, 18.28s/it]"
          ]
        },
        {
          "name": "stdout",
          "output_type": "stream",
          "text": [
            "Test Loss: 1.078210, Test Accuracy: 84.91%\n",
            "Epoch: 41/50\tLoss: 0.048063\tAccuracy: 83.95%\n"
          ]
        },
        {
          "name": "stderr",
          "output_type": "stream",
          "text": [
            "\r 82%|████████▏ | 41/50 [12:13<02:45, 18.44s/it]"
          ]
        },
        {
          "name": "stdout",
          "output_type": "stream",
          "text": [
            "Test Loss: 1.078210, Test Accuracy: 84.91%\n",
            "Epoch: 42/50\tLoss: 0.045672\tAccuracy: 84.19%\n"
          ]
        },
        {
          "name": "stderr",
          "output_type": "stream",
          "text": [
            "\r 84%|████████▍ | 42/50 [12:31<02:25, 18.20s/it]"
          ]
        },
        {
          "name": "stdout",
          "output_type": "stream",
          "text": [
            "Test Loss: 1.078210, Test Accuracy: 84.91%\n",
            "Epoch: 43/50\tLoss: 0.027045\tAccuracy: 83.51%\n"
          ]
        },
        {
          "name": "stderr",
          "output_type": "stream",
          "text": [
            "\r 86%|████████▌ | 43/50 [12:49<02:06, 18.08s/it]"
          ]
        },
        {
          "name": "stdout",
          "output_type": "stream",
          "text": [
            "Test Loss: 1.078210, Test Accuracy: 84.91%\n",
            "Epoch: 44/50\tLoss: 0.068215\tAccuracy: 82.42%\n"
          ]
        },
        {
          "name": "stderr",
          "output_type": "stream",
          "text": [
            "\r 88%|████████▊ | 44/50 [13:09<01:51, 18.64s/it]"
          ]
        },
        {
          "name": "stdout",
          "output_type": "stream",
          "text": [
            "Test Loss: 1.078210, Test Accuracy: 84.91%\n",
            "Epoch: 45/50\tLoss: 0.065544\tAccuracy: 83.81%\n"
          ]
        },
        {
          "name": "stderr",
          "output_type": "stream",
          "text": [
            "\r 90%|█████████ | 45/50 [13:27<01:33, 18.63s/it]"
          ]
        },
        {
          "name": "stdout",
          "output_type": "stream",
          "text": [
            "Test Loss: 1.078210, Test Accuracy: 84.91%\n",
            "Epoch: 46/50\tLoss: 0.065889\tAccuracy: 84.32%\n"
          ]
        },
        {
          "name": "stderr",
          "output_type": "stream",
          "text": [
            "\r 92%|█████████▏| 46/50 [13:46<01:14, 18.58s/it]"
          ]
        },
        {
          "name": "stdout",
          "output_type": "stream",
          "text": [
            "Test Loss: 1.078210, Test Accuracy: 84.91%\n",
            "Epoch: 47/50\tLoss: 0.038336\tAccuracy: 84.75%\n"
          ]
        },
        {
          "name": "stderr",
          "output_type": "stream",
          "text": [
            "\r 94%|█████████▍| 47/50 [14:04<00:55, 18.44s/it]"
          ]
        },
        {
          "name": "stdout",
          "output_type": "stream",
          "text": [
            "Test Loss: 1.078210, Test Accuracy: 84.91%\n",
            "Epoch: 48/50\tLoss: 0.057747\tAccuracy: 83.84%\n"
          ]
        },
        {
          "name": "stderr",
          "output_type": "stream",
          "text": [
            "\r 96%|█████████▌| 48/50 [14:22<00:36, 18.18s/it]"
          ]
        },
        {
          "name": "stdout",
          "output_type": "stream",
          "text": [
            "Test Loss: 1.078210, Test Accuracy: 84.91%\n",
            "Epoch: 49/50\tLoss: 0.046283\tAccuracy: 84.44%\n"
          ]
        },
        {
          "name": "stderr",
          "output_type": "stream",
          "text": [
            "\r 98%|█████████▊| 49/50 [14:39<00:17, 17.95s/it]"
          ]
        },
        {
          "name": "stdout",
          "output_type": "stream",
          "text": [
            "Test Loss: 1.078210, Test Accuracy: 84.91%\n",
            "Epoch: 50/50\tLoss: 0.027203\tAccuracy: 84.19%\n"
          ]
        },
        {
          "name": "stderr",
          "output_type": "stream",
          "text": [
            "100%|██████████| 50/50 [14:56<00:00, 17.93s/it]"
          ]
        },
        {
          "name": "stdout",
          "output_type": "stream",
          "text": [
            "Test Loss: 1.078210, Test Accuracy: 84.91%\n"
          ]
        },
        {
          "name": "stderr",
          "output_type": "stream",
          "text": [
            "\n"
          ]
        },
        {
          "data": {
            "image/png": "[encoded data removed]",
            "text/plain": [
              "<Figure size 640x480 with 1 Axes>"
            ]
          },
          "metadata": {},
          "output_type": "display_data"
        },
        {
          "name": "stderr",
          "output_type": "stream",
          "text": [
            "  0%|          | 0/207 [00:00<?, ?it/s]<ipython-input-27-f032b52d8ce3>:18: FutureWarning: The frame.append method is deprecated and will be removed from pandas in a future version. Use pandas.concat instead.\n",
            "  df_train = df_train.append(df_logit_train, ignore_index=True)\n",
            "100%|██████████| 207/207 [00:05<00:00, 36.30it/s]\n",
            "<ipython-input-27-f032b52d8ce3>:29: FutureWarning: The frame.append method is deprecated and will be removed from pandas in a future version. Use pandas.concat instead.\n",
            "  df_test = df_test.append(df_logit_test, ignore_index=True)\n",
            "<ipython-input-27-f032b52d8ce3>:32: FutureWarning: The frame.append method is deprecated and will be removed from pandas in a future version. Use pandas.concat instead.\n",
            "  df_all = df_train.append(df_test,ignore_index=True)\n"
          ]
        },
        {
          "name": "stdout",
          "output_type": "stream",
          "text": [
            "MAI 8.csv saved\n"
          ]
        },
        {
          "name": "stderr",
          "output_type": "stream",
          "text": [
            "\r  0%|          | 0/50 [00:00<?, ?it/s]"
          ]
        },
        {
          "name": "stdout",
          "output_type": "stream",
          "text": [
            "Epoch: 1/50\tLoss: 3.551603\tAccuracy: 7.53%\n"
          ]
        },
        {
          "name": "stderr",
          "output_type": "stream",
          "text": [
            "\r  2%|▏         | 1/50 [00:16<13:42, 16.79s/it]"
          ]
        },
        {
          "name": "stdout",
          "output_type": "stream",
          "text": [
            "Test Loss: 3.457044, Test Accuracy: 7.49%\n",
            "Epoch: 2/50\tLoss: 3.273938\tAccuracy: 15.39%\n"
          ]
        },
        {
          "name": "stderr",
          "output_type": "stream",
          "text": [
            "\r  4%|▍         | 2/50 [00:33<13:29, 16.87s/it]"
          ]
        },
        {
          "name": "stdout",
          "output_type": "stream",
          "text": [
            "Test Loss: 3.109254, Test Accuracy: 15.41%\n",
            "Epoch: 3/50\tLoss: 2.875756\tAccuracy: 28.25%\n"
          ]
        },
        {
          "name": "stderr",
          "output_type": "stream",
          "text": [
            "\r  6%|▌         | 3/50 [00:50<13:10, 16.83s/it]"
          ]
        },
        {
          "name": "stdout",
          "output_type": "stream",
          "text": [
            "Test Loss: 2.731688, Test Accuracy: 27.69%\n",
            "Epoch: 4/50\tLoss: 2.401545\tAccuracy: 43.33%\n"
          ]
        },
        {
          "name": "stderr",
          "output_type": "stream",
          "text": [
            "\r  8%|▊         | 4/50 [01:08<13:13, 17.26s/it]"
          ]
        },
        {
          "name": "stdout",
          "output_type": "stream",
          "text": [
            "Test Loss: 2.174632, Test Accuracy: 42.99%\n",
            "Epoch: 5/50\tLoss: 1.793063\tAccuracy: 60.31%\n"
          ]
        },
        {
          "name": "stderr",
          "output_type": "stream",
          "text": [
            "\r 10%|█         | 5/50 [01:25<13:00, 17.34s/it]"
          ]
        },
        {
          "name": "stdout",
          "output_type": "stream",
          "text": [
            "Test Loss: 1.454960, Test Accuracy: 60.64%\n",
            "Epoch: 6/50\tLoss: 1.230593\tAccuracy: 66.56%\n"
          ]
        },
        {
          "name": "stderr",
          "output_type": "stream",
          "text": [
            "\r 12%|█▏        | 6/50 [01:43<12:42, 17.33s/it]"
          ]
        },
        {
          "name": "stdout",
          "output_type": "stream",
          "text": [
            "Test Loss: 1.119076, Test Accuracy: 67.12%\n",
            "Epoch: 7/50\tLoss: 0.914211\tAccuracy: 72.91%\n"
          ]
        },
        {
          "name": "stderr",
          "output_type": "stream",
          "text": [
            "\r 14%|█▍        | 7/50 [02:00<12:22, 17.27s/it]"
          ]
        },
        {
          "name": "stdout",
          "output_type": "stream",
          "text": [
            "Test Loss: 0.898884, Test Accuracy: 73.09%\n",
            "Epoch: 8/50\tLoss: 0.750406\tAccuracy: 75.02%\n"
          ]
        },
        {
          "name": "stderr",
          "output_type": "stream",
          "text": [
            "\r 16%|█▌        | 8/50 [02:17<12:01, 17.17s/it]"
          ]
        },
        {
          "name": "stdout",
          "output_type": "stream",
          "text": [
            "Test Loss: 0.832780, Test Accuracy: 76.04%\n",
            "Epoch: 9/50\tLoss: 0.630085\tAccuracy: 78.58%\n"
          ]
        },
        {
          "name": "stderr",
          "output_type": "stream",
          "text": [
            "\r 18%|█▊        | 9/50 [02:34<11:41, 17.12s/it]"
          ]
        },
        {
          "name": "stdout",
          "output_type": "stream",
          "text": [
            "Test Loss: 0.720522, Test Accuracy: 79.12%\n",
            "Epoch: 10/50\tLoss: 0.572551\tAccuracy: 79.71%\n"
          ]
        },
        {
          "name": "stderr",
          "output_type": "stream",
          "text": [
            "\r 20%|██        | 10/50 [02:51<11:23, 17.08s/it]"
          ]
        },
        {
          "name": "stdout",
          "output_type": "stream",
          "text": [
            "Test Loss: 0.679181, Test Accuracy: 80.37%\n",
            "Epoch: 11/50\tLoss: 0.506949\tAccuracy: 81.79%\n"
          ]
        },
        {
          "name": "stderr",
          "output_type": "stream",
          "text": [
            "\r 22%|██▏       | 11/50 [03:08<11:05, 17.05s/it]"
          ]
        },
        {
          "name": "stdout",
          "output_type": "stream",
          "text": [
            "Test Loss: 0.658950, Test Accuracy: 81.81%\n",
            "Epoch: 12/50\tLoss: 0.442317\tAccuracy: 81.57%\n"
          ]
        },
        {
          "name": "stderr",
          "output_type": "stream",
          "text": [
            "\r 24%|██▍       | 12/50 [03:25<10:47, 17.04s/it]"
          ]
        },
        {
          "name": "stdout",
          "output_type": "stream",
          "text": [
            "Test Loss: 0.658950, Test Accuracy: 81.81%\n",
            "Epoch: 13/50\tLoss: 0.381560\tAccuracy: 81.52%\n"
          ]
        },
        {
          "name": "stderr",
          "output_type": "stream",
          "text": [
            "\r 26%|██▌       | 13/50 [03:42<10:28, 16.99s/it]"
          ]
        },
        {
          "name": "stdout",
          "output_type": "stream",
          "text": [
            "Test Loss: 0.658950, Test Accuracy: 81.81%\n",
            "Epoch: 14/50\tLoss: 0.340365\tAccuracy: 81.10%\n"
          ]
        },
        {
          "name": "stderr",
          "output_type": "stream",
          "text": [
            "\r 28%|██▊       | 14/50 [03:58<10:09, 16.92s/it]"
          ]
        },
        {
          "name": "stdout",
          "output_type": "stream",
          "text": [
            "Test Loss: 0.658950, Test Accuracy: 81.81%\n",
            "Epoch: 15/50\tLoss: 0.293823\tAccuracy: 81.75%\n"
          ]
        },
        {
          "name": "stderr",
          "output_type": "stream",
          "text": [
            "\r 30%|███       | 15/50 [04:17<10:07, 17.35s/it]"
          ]
        },
        {
          "name": "stdout",
          "output_type": "stream",
          "text": [
            "Test Loss: 0.658950, Test Accuracy: 81.81%\n",
            "Epoch: 16/50\tLoss: 0.304153\tAccuracy: 83.63%\n"
          ]
        },
        {
          "name": "stderr",
          "output_type": "stream",
          "text": [
            "\r 32%|███▏      | 16/50 [04:34<09:51, 17.41s/it]"
          ]
        },
        {
          "name": "stdout",
          "output_type": "stream",
          "text": [
            "Test Loss: 0.649922, Test Accuracy: 84.04%\n",
            "Epoch: 17/50\tLoss: 0.309423\tAccuracy: 82.50%\n"
          ]
        },
        {
          "name": "stderr",
          "output_type": "stream",
          "text": [
            "\r 34%|███▍      | 17/50 [04:52<09:35, 17.44s/it]"
          ]
        },
        {
          "name": "stdout",
          "output_type": "stream",
          "text": [
            "Test Loss: 0.649922, Test Accuracy: 84.04%\n",
            "Epoch: 18/50\tLoss: 0.233597\tAccuracy: 83.35%\n"
          ]
        },
        {
          "name": "stderr",
          "output_type": "stream",
          "text": [
            "\r 36%|███▌      | 18/50 [05:09<09:16, 17.39s/it]"
          ]
        },
        {
          "name": "stdout",
          "output_type": "stream",
          "text": [
            "Test Loss: 0.649922, Test Accuracy: 84.04%\n",
            "Epoch: 19/50\tLoss: 0.253810\tAccuracy: 83.60%\n"
          ]
        },
        {
          "name": "stderr",
          "output_type": "stream",
          "text": [
            "\r 38%|███▊      | 19/50 [05:26<08:56, 17.31s/it]"
          ]
        },
        {
          "name": "stdout",
          "output_type": "stream",
          "text": [
            "Test Loss: 0.649922, Test Accuracy: 84.04%\n",
            "Epoch: 20/50\tLoss: 0.228970\tAccuracy: 81.93%\n"
          ]
        },
        {
          "name": "stderr",
          "output_type": "stream",
          "text": [
            "\r 40%|████      | 20/50 [05:43<08:34, 17.16s/it]"
          ]
        },
        {
          "name": "stdout",
          "output_type": "stream",
          "text": [
            "Test Loss: 0.649922, Test Accuracy: 84.04%\n",
            "Epoch: 21/50\tLoss: 0.188123\tAccuracy: 84.08%\n"
          ]
        },
        {
          "name": "stderr",
          "output_type": "stream",
          "text": [
            "\r 42%|████▏     | 21/50 [06:00<08:14, 17.05s/it]"
          ]
        },
        {
          "name": "stdout",
          "output_type": "stream",
          "text": [
            "Test Loss: 0.756777, Test Accuracy: 84.29%\n",
            "Epoch: 22/50\tLoss: 0.163716\tAccuracy: 82.69%\n"
          ]
        },
        {
          "name": "stderr",
          "output_type": "stream",
          "text": [
            "\r 44%|████▍     | 22/50 [06:17<07:55, 16.99s/it]"
          ]
        },
        {
          "name": "stdout",
          "output_type": "stream",
          "text": [
            "Test Loss: 0.756777, Test Accuracy: 84.29%\n",
            "Epoch: 23/50\tLoss: 0.163831\tAccuracy: 83.10%\n"
          ]
        },
        {
          "name": "stderr",
          "output_type": "stream",
          "text": [
            "\r 46%|████▌     | 23/50 [06:34<07:37, 16.94s/it]"
          ]
        },
        {
          "name": "stdout",
          "output_type": "stream",
          "text": [
            "Test Loss: 0.756777, Test Accuracy: 84.29%\n",
            "Epoch: 24/50\tLoss: 0.151495\tAccuracy: 84.40%\n"
          ]
        },
        {
          "name": "stderr",
          "output_type": "stream",
          "text": [
            "\r 48%|████▊     | 24/50 [06:50<07:19, 16.90s/it]"
          ]
        },
        {
          "name": "stdout",
          "output_type": "stream",
          "text": [
            "Test Loss: 0.763764, Test Accuracy: 84.64%\n",
            "Epoch: 25/50\tLoss: 0.161147\tAccuracy: 82.90%\n"
          ]
        },
        {
          "name": "stderr",
          "output_type": "stream",
          "text": [
            "\r 50%|█████     | 25/50 [07:07<07:01, 16.88s/it]"
          ]
        },
        {
          "name": "stdout",
          "output_type": "stream",
          "text": [
            "Test Loss: 0.763764, Test Accuracy: 84.64%\n",
            "Epoch: 26/50\tLoss: 0.155615\tAccuracy: 83.09%\n"
          ]
        },
        {
          "name": "stderr",
          "output_type": "stream",
          "text": [
            "\r 52%|█████▏    | 26/50 [07:25<06:52, 17.20s/it]"
          ]
        },
        {
          "name": "stdout",
          "output_type": "stream",
          "text": [
            "Test Loss: 0.763764, Test Accuracy: 84.64%\n",
            "Epoch: 27/50\tLoss: 0.139581\tAccuracy: 83.99%\n"
          ]
        },
        {
          "name": "stderr",
          "output_type": "stream",
          "text": [
            "\r 54%|█████▍    | 27/50 [07:42<06:36, 17.23s/it]"
          ]
        },
        {
          "name": "stdout",
          "output_type": "stream",
          "text": [
            "Test Loss: 0.763764, Test Accuracy: 84.64%\n",
            "Epoch: 28/50\tLoss: 0.096609\tAccuracy: 83.58%\n"
          ]
        },
        {
          "name": "stderr",
          "output_type": "stream",
          "text": [
            "\r 56%|█████▌    | 28/50 [07:59<06:17, 17.16s/it]"
          ]
        },
        {
          "name": "stdout",
          "output_type": "stream",
          "text": [
            "Test Loss: 0.763764, Test Accuracy: 84.64%\n",
            "Epoch: 29/50\tLoss: 0.115689\tAccuracy: 83.27%\n"
          ]
        },
        {
          "name": "stderr",
          "output_type": "stream",
          "text": [
            "\r 58%|█████▊    | 29/50 [08:16<05:57, 17.04s/it]"
          ]
        },
        {
          "name": "stdout",
          "output_type": "stream",
          "text": [
            "Test Loss: 0.763764, Test Accuracy: 84.64%\n",
            "Epoch: 30/50\tLoss: 0.134467\tAccuracy: 83.44%\n"
          ]
        },
        {
          "name": "stderr",
          "output_type": "stream",
          "text": [
            "\r 60%|██████    | 30/50 [08:33<05:39, 16.96s/it]"
          ]
        },
        {
          "name": "stdout",
          "output_type": "stream",
          "text": [
            "Test Loss: 0.763764, Test Accuracy: 84.64%\n",
            "Epoch: 31/50\tLoss: 0.092056\tAccuracy: 84.17%\n"
          ]
        },
        {
          "name": "stderr",
          "output_type": "stream",
          "text": [
            "\r 62%|██████▏   | 31/50 [08:50<05:21, 16.91s/it]"
          ]
        },
        {
          "name": "stdout",
          "output_type": "stream",
          "text": [
            "Test Loss: 0.763764, Test Accuracy: 84.64%\n",
            "Epoch: 32/50\tLoss: 0.077379\tAccuracy: 83.73%\n"
          ]
        },
        {
          "name": "stderr",
          "output_type": "stream",
          "text": [
            "\r 64%|██████▍   | 32/50 [09:06<05:03, 16.86s/it]"
          ]
        },
        {
          "name": "stdout",
          "output_type": "stream",
          "text": [
            "Test Loss: 0.763764, Test Accuracy: 84.64%\n",
            "Epoch: 33/50\tLoss: 0.081645\tAccuracy: 84.75%\n"
          ]
        },
        {
          "name": "stderr",
          "output_type": "stream",
          "text": [
            "\r 66%|██████▌   | 33/50 [09:23<04:46, 16.83s/it]"
          ]
        },
        {
          "name": "stdout",
          "output_type": "stream",
          "text": [
            "Test Loss: 1.033914, Test Accuracy: 84.78%\n",
            "Epoch: 34/50\tLoss: 0.077483\tAccuracy: 83.45%\n"
          ]
        },
        {
          "name": "stderr",
          "output_type": "stream",
          "text": [
            "\r 68%|██████▊   | 34/50 [09:40<04:29, 16.82s/it]"
          ]
        },
        {
          "name": "stdout",
          "output_type": "stream",
          "text": [
            "Test Loss: 1.033914, Test Accuracy: 84.78%\n",
            "Epoch: 35/50\tLoss: 0.091210\tAccuracy: 83.52%\n"
          ]
        },
        {
          "name": "stderr",
          "output_type": "stream",
          "text": [
            "\r 70%|███████   | 35/50 [09:57<04:12, 16.82s/it]"
          ]
        },
        {
          "name": "stdout",
          "output_type": "stream",
          "text": [
            "Test Loss: 1.033914, Test Accuracy: 84.78%\n",
            "Epoch: 36/50\tLoss: 0.070056\tAccuracy: 82.59%\n"
          ]
        },
        {
          "name": "stderr",
          "output_type": "stream",
          "text": [
            "\r 72%|███████▏  | 36/50 [10:14<03:55, 16.83s/it]"
          ]
        },
        {
          "name": "stdout",
          "output_type": "stream",
          "text": [
            "Test Loss: 1.033914, Test Accuracy: 84.78%\n",
            "Epoch: 37/50\tLoss: 0.080186\tAccuracy: 83.53%\n"
          ]
        },
        {
          "name": "stderr",
          "output_type": "stream",
          "text": [
            "\r 74%|███████▍  | 37/50 [10:32<03:42, 17.15s/it]"
          ]
        },
        {
          "name": "stdout",
          "output_type": "stream",
          "text": [
            "Test Loss: 1.033914, Test Accuracy: 84.78%\n",
            "Epoch: 38/50\tLoss: 0.068537\tAccuracy: 84.63%\n"
          ]
        },
        {
          "name": "stderr",
          "output_type": "stream",
          "text": [
            "\r 76%|███████▌  | 38/50 [10:48<03:24, 17.05s/it]"
          ]
        },
        {
          "name": "stdout",
          "output_type": "stream",
          "text": [
            "Test Loss: 1.033914, Test Accuracy: 84.78%\n",
            "Epoch: 39/50\tLoss: 0.074585\tAccuracy: 83.55%\n"
          ]
        },
        {
          "name": "stderr",
          "output_type": "stream",
          "text": [
            "\r 78%|███████▊  | 39/50 [11:05<03:06, 16.94s/it]"
          ]
        },
        {
          "name": "stdout",
          "output_type": "stream",
          "text": [
            "Test Loss: 1.033914, Test Accuracy: 84.78%\n",
            "Epoch: 40/50\tLoss: 0.060287\tAccuracy: 84.57%\n"
          ]
        },
        {
          "name": "stderr",
          "output_type": "stream",
          "text": [
            "\r 80%|████████  | 40/50 [11:22<02:48, 16.89s/it]"
          ]
        },
        {
          "name": "stdout",
          "output_type": "stream",
          "text": [
            "Test Loss: 1.033914, Test Accuracy: 84.78%\n",
            "Epoch: 41/50\tLoss: 0.066397\tAccuracy: 83.44%\n"
          ]
        },
        {
          "name": "stderr",
          "output_type": "stream",
          "text": [
            "\r 82%|████████▏ | 41/50 [11:39<02:31, 16.83s/it]"
          ]
        },
        {
          "name": "stdout",
          "output_type": "stream",
          "text": [
            "Test Loss: 1.033914, Test Accuracy: 84.78%\n",
            "Epoch: 42/50\tLoss: 0.062517\tAccuracy: 84.10%\n"
          ]
        },
        {
          "name": "stderr",
          "output_type": "stream",
          "text": [
            "\r 84%|████████▍ | 42/50 [11:55<02:14, 16.80s/it]"
          ]
        },
        {
          "name": "stdout",
          "output_type": "stream",
          "text": [
            "Test Loss: 1.033914, Test Accuracy: 84.78%\n",
            "Epoch: 43/50\tLoss: 0.099125\tAccuracy: 83.83%\n"
          ]
        },
        {
          "name": "stderr",
          "output_type": "stream",
          "text": [
            "\r 86%|████████▌ | 43/50 [12:12<01:57, 16.78s/it]"
          ]
        },
        {
          "name": "stdout",
          "output_type": "stream",
          "text": [
            "Test Loss: 1.033914, Test Accuracy: 84.78%\n",
            "Epoch: 44/50\tLoss: 0.070930\tAccuracy: 83.95%\n"
          ]
        },
        {
          "name": "stderr",
          "output_type": "stream",
          "text": [
            "\r 88%|████████▊ | 44/50 [12:29<01:40, 16.77s/it]"
          ]
        },
        {
          "name": "stdout",
          "output_type": "stream",
          "text": [
            "Test Loss: 1.033914, Test Accuracy: 84.78%\n",
            "Epoch: 45/50\tLoss: 0.065825\tAccuracy: 83.91%\n"
          ]
        },
        {
          "name": "stderr",
          "output_type": "stream",
          "text": [
            "\r 90%|█████████ | 45/50 [12:46<01:23, 16.76s/it]"
          ]
        },
        {
          "name": "stdout",
          "output_type": "stream",
          "text": [
            "Test Loss: 1.033914, Test Accuracy: 84.78%\n",
            "Epoch: 46/50\tLoss: 0.052421\tAccuracy: 84.60%\n"
          ]
        },
        {
          "name": "stderr",
          "output_type": "stream",
          "text": [
            "\r 92%|█████████▏| 46/50 [13:02<01:06, 16.74s/it]"
          ]
        },
        {
          "name": "stdout",
          "output_type": "stream",
          "text": [
            "Test Loss: 1.033914, Test Accuracy: 84.78%\n",
            "Epoch: 47/50\tLoss: 0.040341\tAccuracy: 84.60%\n"
          ]
        },
        {
          "name": "stderr",
          "output_type": "stream",
          "text": [
            "\r 94%|█████████▍| 47/50 [13:19<00:50, 16.75s/it]"
          ]
        },
        {
          "name": "stdout",
          "output_type": "stream",
          "text": [
            "Test Loss: 1.033914, Test Accuracy: 84.78%\n",
            "Epoch: 48/50\tLoss: 0.045977\tAccuracy: 84.16%\n"
          ]
        },
        {
          "name": "stderr",
          "output_type": "stream",
          "text": [
            "\r 96%|█████████▌| 48/50 [13:37<00:34, 17.23s/it]"
          ]
        },
        {
          "name": "stdout",
          "output_type": "stream",
          "text": [
            "Test Loss: 1.033914, Test Accuracy: 84.78%\n",
            "Epoch: 49/50\tLoss: 0.049430\tAccuracy: 84.23%\n"
          ]
        },
        {
          "name": "stderr",
          "output_type": "stream",
          "text": [
            "\r 98%|█████████▊| 49/50 [13:55<00:17, 17.21s/it]"
          ]
        },
        {
          "name": "stdout",
          "output_type": "stream",
          "text": [
            "Test Loss: 1.033914, Test Accuracy: 84.78%\n",
            "Epoch: 50/50\tLoss: 0.055186\tAccuracy: 84.89%\n"
          ]
        },
        {
          "name": "stderr",
          "output_type": "stream",
          "text": [
            "100%|██████████| 50/50 [14:12<00:00, 17.05s/it]"
          ]
        },
        {
          "name": "stdout",
          "output_type": "stream",
          "text": [
            "Test Loss: 1.021205, Test Accuracy: 85.05%\n"
          ]
        },
        {
          "name": "stderr",
          "output_type": "stream",
          "text": [
            "\n"
          ]
        },
        {
          "data": {
            "image/png": "[encoded data removed]",
            "text/plain": [
              "<Figure size 640x480 with 1 Axes>"
            ]
          },
          "metadata": {},
          "output_type": "display_data"
        },
        {
          "name": "stderr",
          "output_type": "stream",
          "text": [
            "  0%|          | 0/207 [00:00<?, ?it/s]<ipython-input-27-f032b52d8ce3>:18: FutureWarning: The frame.append method is deprecated and will be removed from pandas in a future version. Use pandas.concat instead.\n",
            "  df_train = df_train.append(df_logit_train, ignore_index=True)\n",
            "100%|██████████| 207/207 [00:06<00:00, 34.26it/s]\n",
            "<ipython-input-27-f032b52d8ce3>:29: FutureWarning: The frame.append method is deprecated and will be removed from pandas in a future version. Use pandas.concat instead.\n",
            "  df_test = df_test.append(df_logit_test, ignore_index=True)\n",
            "<ipython-input-27-f032b52d8ce3>:32: FutureWarning: The frame.append method is deprecated and will be removed from pandas in a future version. Use pandas.concat instead.\n",
            "  df_all = df_train.append(df_test,ignore_index=True)\n"
          ]
        },
        {
          "name": "stdout",
          "output_type": "stream",
          "text": [
            "MAI 9.csv saved\n"
          ]
        }
      ],
      "source": [
        "membership_inference_attack(all_mel)"
      ]
    },
    {
      "cell_type": "markdown",
      "metadata": {
        "id": "GBpwE_qA59xz"
      },
      "source": [
        "# Plotting Membership Inference"
      ]
    },
    {
      "cell_type": "code",
      "execution_count": null,
      "metadata": {
        "colab": {
          "base_uri": "https://localhost:8080/"
        },
        "id": "z-dbir1q6BE2",
        "outputId": "1f08bcc3-89d0-4264-f269-5147248b726b"
      },
      "outputs": [
        {
          "name": "stderr",
          "output_type": "stream",
          "text": [
            "<ipython-input-2-7c7f21627f25>:5: FutureWarning: The frame.append method is deprecated and will be removed from pandas in a future version. Use pandas.concat instead.\n",
            "  df_mia = df_mia.append(df, ignore_index=True)\n",
            "<ipython-input-2-7c7f21627f25>:5: FutureWarning: The frame.append method is deprecated and will be removed from pandas in a future version. Use pandas.concat instead.\n",
            "  df_mia = df_mia.append(df, ignore_index=True)\n",
            "<ipython-input-2-7c7f21627f25>:5: FutureWarning: The frame.append method is deprecated and will be removed from pandas in a future version. Use pandas.concat instead.\n",
            "  df_mia = df_mia.append(df, ignore_index=True)\n",
            "<ipython-input-2-7c7f21627f25>:5: FutureWarning: The frame.append method is deprecated and will be removed from pandas in a future version. Use pandas.concat instead.\n",
            "  df_mia = df_mia.append(df, ignore_index=True)\n",
            "<ipython-input-2-7c7f21627f25>:5: FutureWarning: The frame.append method is deprecated and will be removed from pandas in a future version. Use pandas.concat instead.\n",
            "  df_mia = df_mia.append(df, ignore_index=True)\n",
            "<ipython-input-2-7c7f21627f25>:5: FutureWarning: The frame.append method is deprecated and will be removed from pandas in a future version. Use pandas.concat instead.\n",
            "  df_mia = df_mia.append(df, ignore_index=True)\n",
            "<ipython-input-2-7c7f21627f25>:5: FutureWarning: The frame.append method is deprecated and will be removed from pandas in a future version. Use pandas.concat instead.\n",
            "  df_mia = df_mia.append(df, ignore_index=True)\n",
            "<ipython-input-2-7c7f21627f25>:5: FutureWarning: The frame.append method is deprecated and will be removed from pandas in a future version. Use pandas.concat instead.\n",
            "  df_mia = df_mia.append(df, ignore_index=True)\n",
            "<ipython-input-2-7c7f21627f25>:5: FutureWarning: The frame.append method is deprecated and will be removed from pandas in a future version. Use pandas.concat instead.\n",
            "  df_mia = df_mia.append(df, ignore_index=True)\n",
            "<ipython-input-2-7c7f21627f25>:5: FutureWarning: The frame.append method is deprecated and will be removed from pandas in a future version. Use pandas.concat instead.\n",
            "  df_mia = df_mia.append(df, ignore_index=True)\n"
          ]
        }
      ],
      "source": [
        "df_mia = pd.DataFrame()\n",
        "for i in range (10):\n",
        "  path = (f\"MAI {i}.csv\")\n",
        "  df = pd.read_csv(path)\n",
        "  df_mia = df_mia.append(df, ignore_index=True)\n"
      ]
    },
    {
      "cell_type": "code",
      "execution_count": null,
      "metadata": {
        "colab": {
          "base_uri": "https://localhost:8080/",
          "height": 609
        },
        "id": "1xuGTb3MqIC5",
        "outputId": "42e6a28f-ccec-4c93-e8bf-5f14fc1d7898"
      },
      "outputs": [
        {
          "data": {
            "application/vnd.google.colaboratory.intrinsic+json": {
              "type": "dataframe",
              "variable_name": "df_mia"
            },
            "text/html": [
              "\n",
              "  <div id=\"df-c9c61cf2-194a-4f2e-8eda-85ca929cc839\" class=\"colab-df-container\">\n",
              "    <div>\n",
              "<style scoped>\n",
              "    .dataframe tbody tr th:only-of-type {\n",
              "        vertical-align: middle;\n",
              "    }\n",
              "\n",
              "    .dataframe tbody tr th {\n",
              "        vertical-align: top;\n",
              "    }\n",
              "\n",
              "    .dataframe thead th {\n",
              "        text-align: right;\n",
              "    }\n",
              "</style>\n",
              "<table border=\"1\" class=\"dataframe\">\n",
              "  <thead>\n",
              "    <tr style=\"text-align: right;\">\n",
              "      <th></th>\n",
              "      <th>0</th>\n",
              "      <th>1</th>\n",
              "      <th>2</th>\n",
              "      <th>3</th>\n",
              "      <th>4</th>\n",
              "      <th>5</th>\n",
              "      <th>6</th>\n",
              "      <th>7</th>\n",
              "      <th>8</th>\n",
              "      <th>9</th>\n",
              "      <th>...</th>\n",
              "      <th>26</th>\n",
              "      <th>27</th>\n",
              "      <th>28</th>\n",
              "      <th>29</th>\n",
              "      <th>30</th>\n",
              "      <th>31</th>\n",
              "      <th>32</th>\n",
              "      <th>33</th>\n",
              "      <th>34</th>\n",
              "      <th>label</th>\n",
              "    </tr>\n",
              "  </thead>\n",
              "  <tbody>\n",
              "    <tr>\n",
              "      <th>0</th>\n",
              "      <td>1.970460e-18</td>\n",
              "      <td>1.658503e-17</td>\n",
              "      <td>1.712880e-17</td>\n",
              "      <td>2.675474e-16</td>\n",
              "      <td>3.908157e-18</td>\n",
              "      <td>5.991500e-12</td>\n",
              "      <td>4.538617e-12</td>\n",
              "      <td>6.847980e-08</td>\n",
              "      <td>2.930603e-08</td>\n",
              "      <td>6.656424e-18</td>\n",
              "      <td>...</td>\n",
              "      <td>2.467679e-15</td>\n",
              "      <td>1.985548e-20</td>\n",
              "      <td>2.602776e-20</td>\n",
              "      <td>1.133089e-21</td>\n",
              "      <td>1.633511e-12</td>\n",
              "      <td>1.997537e-20</td>\n",
              "      <td>3.063995e-09</td>\n",
              "      <td>5.315932e-21</td>\n",
              "      <td>2.497018e-20</td>\n",
              "      <td>0</td>\n",
              "    </tr>\n",
              "    <tr>\n",
              "      <th>1</th>\n",
              "      <td>2.720270e-25</td>\n",
              "      <td>2.005303e-19</td>\n",
              "      <td>6.699119e-18</td>\n",
              "      <td>2.962567e-22</td>\n",
              "      <td>1.125561e-17</td>\n",
              "      <td>7.735267e-18</td>\n",
              "      <td>1.540497e-25</td>\n",
              "      <td>5.143722e-27</td>\n",
              "      <td>2.096732e-21</td>\n",
              "      <td>1.374576e-23</td>\n",
              "      <td>...</td>\n",
              "      <td>6.127717e-19</td>\n",
              "      <td>4.581320e-24</td>\n",
              "      <td>9.090624e-25</td>\n",
              "      <td>4.188155e-19</td>\n",
              "      <td>8.826179e-24</td>\n",
              "      <td>5.531325e-28</td>\n",
              "      <td>4.897549e-20</td>\n",
              "      <td>1.943647e-22</td>\n",
              "      <td>4.795508e-24</td>\n",
              "      <td>0</td>\n",
              "    </tr>\n",
              "    <tr>\n",
              "      <th>2</th>\n",
              "      <td>1.299161e-15</td>\n",
              "      <td>3.309004e-15</td>\n",
              "      <td>2.647442e-12</td>\n",
              "      <td>7.314780e-14</td>\n",
              "      <td>1.391761e-15</td>\n",
              "      <td>2.684169e-11</td>\n",
              "      <td>4.312010e-12</td>\n",
              "      <td>1.099852e-17</td>\n",
              "      <td>6.013370e-11</td>\n",
              "      <td>2.079981e-11</td>\n",
              "      <td>...</td>\n",
              "      <td>3.801445e-13</td>\n",
              "      <td>1.149149e-09</td>\n",
              "      <td>5.301487e-08</td>\n",
              "      <td>9.999998e-01</td>\n",
              "      <td>1.268849e-14</td>\n",
              "      <td>3.197010e-11</td>\n",
              "      <td>2.813450e-16</td>\n",
              "      <td>1.877090e-14</td>\n",
              "      <td>1.303632e-07</td>\n",
              "      <td>0</td>\n",
              "    </tr>\n",
              "    <tr>\n",
              "      <th>3</th>\n",
              "      <td>9.946154e-11</td>\n",
              "      <td>1.000000e+00</td>\n",
              "      <td>1.760951e-10</td>\n",
              "      <td>7.869125e-14</td>\n",
              "      <td>1.002065e-17</td>\n",
              "      <td>1.564919e-15</td>\n",
              "      <td>5.586325e-15</td>\n",
              "      <td>6.522866e-13</td>\n",
              "      <td>2.464254e-16</td>\n",
              "      <td>9.369654e-23</td>\n",
              "      <td>...</td>\n",
              "      <td>4.716096e-19</td>\n",
              "      <td>6.842670e-18</td>\n",
              "      <td>2.673159e-23</td>\n",
              "      <td>3.682964e-24</td>\n",
              "      <td>2.271219e-14</td>\n",
              "      <td>3.749241e-20</td>\n",
              "      <td>5.847194e-20</td>\n",
              "      <td>9.414713e-18</td>\n",
              "      <td>2.308404e-21</td>\n",
              "      <td>0</td>\n",
              "    </tr>\n",
              "    <tr>\n",
              "      <th>4</th>\n",
              "      <td>6.658223e-21</td>\n",
              "      <td>3.440059e-17</td>\n",
              "      <td>3.533589e-12</td>\n",
              "      <td>2.453941e-21</td>\n",
              "      <td>3.833965e-15</td>\n",
              "      <td>1.108917e-21</td>\n",
              "      <td>9.627171e-20</td>\n",
              "      <td>9.999702e-01</td>\n",
              "      <td>9.925973e-16</td>\n",
              "      <td>1.266410e-18</td>\n",
              "      <td>...</td>\n",
              "      <td>1.138405e-23</td>\n",
              "      <td>2.893122e-12</td>\n",
              "      <td>4.875517e-21</td>\n",
              "      <td>9.591446e-32</td>\n",
              "      <td>1.564986e-22</td>\n",
              "      <td>3.977793e-29</td>\n",
              "      <td>7.379522e-20</td>\n",
              "      <td>3.561193e-32</td>\n",
              "      <td>2.025416e-26</td>\n",
              "      <td>0</td>\n",
              "    </tr>\n",
              "    <tr>\n",
              "      <th>...</th>\n",
              "      <td>...</td>\n",
              "      <td>...</td>\n",
              "      <td>...</td>\n",
              "      <td>...</td>\n",
              "      <td>...</td>\n",
              "      <td>...</td>\n",
              "      <td>...</td>\n",
              "      <td>...</td>\n",
              "      <td>...</td>\n",
              "      <td>...</td>\n",
              "      <td>...</td>\n",
              "      <td>...</td>\n",
              "      <td>...</td>\n",
              "      <td>...</td>\n",
              "      <td>...</td>\n",
              "      <td>...</td>\n",
              "      <td>...</td>\n",
              "      <td>...</td>\n",
              "      <td>...</td>\n",
              "      <td>...</td>\n",
              "      <td>...</td>\n",
              "    </tr>\n",
              "    <tr>\n",
              "      <th>793715</th>\n",
              "      <td>3.462149e-11</td>\n",
              "      <td>2.355559e-12</td>\n",
              "      <td>4.212363e-11</td>\n",
              "      <td>9.266784e-14</td>\n",
              "      <td>6.243328e-08</td>\n",
              "      <td>6.159819e-08</td>\n",
              "      <td>4.233090e-17</td>\n",
              "      <td>6.553418e-08</td>\n",
              "      <td>2.166346e-06</td>\n",
              "      <td>6.575805e-08</td>\n",
              "      <td>...</td>\n",
              "      <td>3.421989e-11</td>\n",
              "      <td>1.468936e-10</td>\n",
              "      <td>7.731325e-14</td>\n",
              "      <td>1.164631e-11</td>\n",
              "      <td>3.546101e-09</td>\n",
              "      <td>1.319805e-11</td>\n",
              "      <td>4.020156e-07</td>\n",
              "      <td>1.940924e-10</td>\n",
              "      <td>4.210487e-13</td>\n",
              "      <td>1</td>\n",
              "    </tr>\n",
              "    <tr>\n",
              "      <th>793716</th>\n",
              "      <td>1.530559e-29</td>\n",
              "      <td>8.313126e-30</td>\n",
              "      <td>2.710226e-30</td>\n",
              "      <td>1.461172e-36</td>\n",
              "      <td>1.753000e-42</td>\n",
              "      <td>1.822319e-36</td>\n",
              "      <td>8.128727e-32</td>\n",
              "      <td>1.493533e-18</td>\n",
              "      <td>7.089416e-37</td>\n",
              "      <td>2.157825e-36</td>\n",
              "      <td>...</td>\n",
              "      <td>0.000000e+00</td>\n",
              "      <td>2.039708e-07</td>\n",
              "      <td>7.095472e-23</td>\n",
              "      <td>2.000000e-43</td>\n",
              "      <td>1.212481e-38</td>\n",
              "      <td>7.855632e-20</td>\n",
              "      <td>1.108004e-25</td>\n",
              "      <td>1.094700e-31</td>\n",
              "      <td>7.621989e-35</td>\n",
              "      <td>1</td>\n",
              "    </tr>\n",
              "    <tr>\n",
              "      <th>793717</th>\n",
              "      <td>5.625357e-15</td>\n",
              "      <td>4.480041e-20</td>\n",
              "      <td>2.535668e-11</td>\n",
              "      <td>3.017805e-14</td>\n",
              "      <td>3.678753e-17</td>\n",
              "      <td>1.159042e-17</td>\n",
              "      <td>1.894627e-18</td>\n",
              "      <td>3.867486e-15</td>\n",
              "      <td>1.453245e-16</td>\n",
              "      <td>1.422698e-15</td>\n",
              "      <td>...</td>\n",
              "      <td>4.724447e-15</td>\n",
              "      <td>1.042861e-05</td>\n",
              "      <td>9.999894e-01</td>\n",
              "      <td>1.946754e-07</td>\n",
              "      <td>3.346824e-16</td>\n",
              "      <td>8.091283e-14</td>\n",
              "      <td>2.335013e-19</td>\n",
              "      <td>1.496430e-19</td>\n",
              "      <td>1.346973e-12</td>\n",
              "      <td>1</td>\n",
              "    </tr>\n",
              "    <tr>\n",
              "      <th>793718</th>\n",
              "      <td>4.486849e-08</td>\n",
              "      <td>4.777220e-08</td>\n",
              "      <td>3.819120e-11</td>\n",
              "      <td>4.712990e-07</td>\n",
              "      <td>1.729104e-13</td>\n",
              "      <td>6.970836e-11</td>\n",
              "      <td>1.490629e-18</td>\n",
              "      <td>1.847476e-11</td>\n",
              "      <td>9.484613e-15</td>\n",
              "      <td>2.061678e-17</td>\n",
              "      <td>...</td>\n",
              "      <td>5.727277e-11</td>\n",
              "      <td>2.377391e-15</td>\n",
              "      <td>2.503364e-16</td>\n",
              "      <td>7.754256e-18</td>\n",
              "      <td>3.538759e-07</td>\n",
              "      <td>1.492914e-13</td>\n",
              "      <td>4.885814e-13</td>\n",
              "      <td>8.235372e-09</td>\n",
              "      <td>2.029234e-14</td>\n",
              "      <td>1</td>\n",
              "    </tr>\n",
              "    <tr>\n",
              "      <th>793719</th>\n",
              "      <td>1.299833e-08</td>\n",
              "      <td>2.036278e-09</td>\n",
              "      <td>1.354902e-09</td>\n",
              "      <td>1.637726e-07</td>\n",
              "      <td>4.629340e-10</td>\n",
              "      <td>1.231859e-12</td>\n",
              "      <td>1.477646e-10</td>\n",
              "      <td>7.543492e-06</td>\n",
              "      <td>1.361416e-06</td>\n",
              "      <td>1.119422e-10</td>\n",
              "      <td>...</td>\n",
              "      <td>1.798515e-08</td>\n",
              "      <td>1.448479e-12</td>\n",
              "      <td>4.588771e-13</td>\n",
              "      <td>7.629157e-14</td>\n",
              "      <td>5.188167e-02</td>\n",
              "      <td>1.420462e-12</td>\n",
              "      <td>9.278272e-10</td>\n",
              "      <td>6.258713e-12</td>\n",
              "      <td>1.919063e-14</td>\n",
              "      <td>1</td>\n",
              "    </tr>\n",
              "  </tbody>\n",
              "</table>\n",
              "<p>793720 rows × 36 columns</p>\n",
              "</div>\n",
              "    <div class=\"colab-df-buttons\">\n",
              "\n",
              "  <div class=\"colab-df-container\">\n",
              "    <button class=\"colab-df-convert\" onclick=\"convertToInteractive('df-c9c61cf2-194a-4f2e-8eda-85ca929cc839')\"\n",
              "            title=\"Convert this dataframe to an interactive table.\"\n",
              "            style=\"display:none;\">\n",
              "\n",
              "  <svg xmlns=\"http://www.w3.org/2000/svg\" height=\"24px\" viewBox=\"0 -960 960 960\">\n",
              "    <path d=\"M120-120v-720h720v720H120Zm60-500h600v-160H180v160Zm220 220h160v-160H400v160Zm0 220h160v-160H400v160ZM180-400h160v-160H180v160Zm440 0h160v-160H620v160ZM180-180h160v-160H180v160Zm440 0h160v-160H620v160Z\"/>\n",
              "  </svg>\n",
              "    </button>\n",
              "\n",
              "  <style>\n",
              "    .colab-df-container {\n",
              "      display:flex;\n",
              "      gap: 12px;\n",
              "    }\n",
              "\n",
              "    .colab-df-convert {\n",
              "      background-color: #E8F0FE;\n",
              "      border: none;\n",
              "      border-radius: 50%;\n",
              "      cursor: pointer;\n",
              "      display: none;\n",
              "      fill: #1967D2;\n",
              "      height: 32px;\n",
              "      padding: 0 0 0 0;\n",
              "      width: 32px;\n",
              "    }\n",
              "\n",
              "    .colab-df-convert:hover {\n",
              "      background-color: #E2EBFA;\n",
              "      box-shadow: 0px 1px 2px rgba(60, 64, 67, 0.3), 0px 1px 3px 1px rgba(60, 64, 67, 0.15);\n",
              "      fill: #174EA6;\n",
              "    }\n",
              "\n",
              "    .colab-df-buttons div {\n",
              "      margin-bottom: 4px;\n",
              "    }\n",
              "\n",
              "    [theme=dark] .colab-df-convert {\n",
              "      background-color: #3B4455;\n",
              "      fill: #D2E3FC;\n",
              "    }\n",
              "\n",
              "    [theme=dark] .colab-df-convert:hover {\n",
              "      background-color: #434B5C;\n",
              "      box-shadow: 0px 1px 3px 1px rgba(0, 0, 0, 0.15);\n",
              "      filter: drop-shadow(0px 1px 2px rgba(0, 0, 0, 0.3));\n",
              "      fill: #FFFFFF;\n",
              "    }\n",
              "  </style>\n",
              "\n",
              "    <script>\n",
              "      const buttonEl =\n",
              "        document.querySelector('#df-c9c61cf2-194a-4f2e-8eda-85ca929cc839 button.colab-df-convert');\n",
              "      buttonEl.style.display =\n",
              "        google.colab.kernel.accessAllowed ? 'block' : 'none';\n",
              "\n",
              "      async function convertToInteractive(key) {\n",
              "        const element = document.querySelector('#df-c9c61cf2-194a-4f2e-8eda-85ca929cc839');\n",
              "        const dataTable =\n",
              "          await google.colab.kernel.invokeFunction('convertToInteractive',\n",
              "                                                    [key], {});\n",
              "        if (!dataTable) return;\n",
              "\n",
              "        const docLinkHtml = 'Like what you see? Visit the ' +\n",
              "          '<a target=\"_blank\" href=https://colab.research.google.com/notebooks/data_table.ipynb>data table notebook</a>'\n",
              "          + ' to learn more about interactive tables.';\n",
              "        element.innerHTML = '';\n",
              "        dataTable['output_type'] = 'display_data';\n",
              "        await google.colab.output.renderOutput(dataTable, element);\n",
              "        const docLink = document.createElement('div');\n",
              "        docLink.innerHTML = docLinkHtml;\n",
              "        element.appendChild(docLink);\n",
              "      }\n",
              "    </script>\n",
              "  </div>\n",
              "\n",
              "\n",
              "<div id=\"df-c9f3e3b9-964b-4622-8b70-a96efa8e437d\">\n",
              "  <button class=\"colab-df-quickchart\" onclick=\"quickchart('df-c9f3e3b9-964b-4622-8b70-a96efa8e437d')\"\n",
              "            title=\"Suggest charts\"\n",
              "            style=\"display:none;\">\n",
              "\n",
              "<svg xmlns=\"http://www.w3.org/2000/svg\" height=\"24px\"viewBox=\"0 0 24 24\"\n",
              "     width=\"24px\">\n",
              "    <g>\n",
              "        <path d=\"M19 3H5c-1.1 0-2 .9-2 2v14c0 1.1.9 2 2 2h14c1.1 0 2-.9 2-2V5c0-1.1-.9-2-2-2zM9 17H7v-7h2v7zm4 0h-2V7h2v10zm4 0h-2v-4h2v4z\"/>\n",
              "    </g>\n",
              "</svg>\n",
              "  </button>\n",
              "\n",
              "<style>\n",
              "  .colab-df-quickchart {\n",
              "      --bg-color: #E8F0FE;\n",
              "      --fill-color: #1967D2;\n",
              "      --hover-bg-color: #E2EBFA;\n",
              "      --hover-fill-color: #174EA6;\n",
              "      --disabled-fill-color: #AAA;\n",
              "      --disabled-bg-color: #DDD;\n",
              "  }\n",
              "\n",
              "  [theme=dark] .colab-df-quickchart {\n",
              "      --bg-color: #3B4455;\n",
              "      --fill-color: #D2E3FC;\n",
              "      --hover-bg-color: #434B5C;\n",
              "      --hover-fill-color: #FFFFFF;\n",
              "      --disabled-bg-color: #3B4455;\n",
              "      --disabled-fill-color: #666;\n",
              "  }\n",
              "\n",
              "  .colab-df-quickchart {\n",
              "    background-color: var(--bg-color);\n",
              "    border: none;\n",
              "    border-radius: 50%;\n",
              "    cursor: pointer;\n",
              "    display: none;\n",
              "    fill: var(--fill-color);\n",
              "    height: 32px;\n",
              "    padding: 0;\n",
              "    width: 32px;\n",
              "  }\n",
              "\n",
              "  .colab-df-quickchart:hover {\n",
              "    background-color: var(--hover-bg-color);\n",
              "    box-shadow: 0 1px 2px rgba(60, 64, 67, 0.3), 0 1px 3px 1px rgba(60, 64, 67, 0.15);\n",
              "    fill: var(--button-hover-fill-color);\n",
              "  }\n",
              "\n",
              "  .colab-df-quickchart-complete:disabled,\n",
              "  .colab-df-quickchart-complete:disabled:hover {\n",
              "    background-color: var(--disabled-bg-color);\n",
              "    fill: var(--disabled-fill-color);\n",
              "    box-shadow: none;\n",
              "  }\n",
              "\n",
              "  .colab-df-spinner {\n",
              "    border: 2px solid var(--fill-color);\n",
              "    border-color: transparent;\n",
              "    border-bottom-color: var(--fill-color);\n",
              "    animation:\n",
              "      spin 1s steps(1) infinite;\n",
              "  }\n",
              "\n",
              "  @keyframes spin {\n",
              "    0% {\n",
              "      border-color: transparent;\n",
              "      border-bottom-color: var(--fill-color);\n",
              "      border-left-color: var(--fill-color);\n",
              "    }\n",
              "    20% {\n",
              "      border-color: transparent;\n",
              "      border-left-color: var(--fill-color);\n",
              "      border-top-color: var(--fill-color);\n",
              "    }\n",
              "    30% {\n",
              "      border-color: transparent;\n",
              "      border-left-color: var(--fill-color);\n",
              "      border-top-color: var(--fill-color);\n",
              "      border-right-color: var(--fill-color);\n",
              "    }\n",
              "    40% {\n",
              "      border-color: transparent;\n",
              "      border-right-color: var(--fill-color);\n",
              "      border-top-color: var(--fill-color);\n",
              "    }\n",
              "    60% {\n",
              "      border-color: transparent;\n",
              "      border-right-color: var(--fill-color);\n",
              "    }\n",
              "    80% {\n",
              "      border-color: transparent;\n",
              "      border-right-color: var(--fill-color);\n",
              "      border-bottom-color: var(--fill-color);\n",
              "    }\n",
              "    90% {\n",
              "      border-color: transparent;\n",
              "      border-bottom-color: var(--fill-color);\n",
              "    }\n",
              "  }\n",
              "</style>\n",
              "\n",
              "  <script>\n",
              "    async function quickchart(key) {\n",
              "      const quickchartButtonEl =\n",
              "        document.querySelector('#' + key + ' button');\n",
              "      quickchartButtonEl.disabled = true;  // To prevent multiple clicks.\n",
              "      quickchartButtonEl.classList.add('colab-df-spinner');\n",
              "      try {\n",
              "        const charts = await google.colab.kernel.invokeFunction(\n",
              "            'suggestCharts', [key], {});\n",
              "      } catch (error) {\n",
              "        console.error('Error during call to suggestCharts:', error);\n",
              "      }\n",
              "      quickchartButtonEl.classList.remove('colab-df-spinner');\n",
              "      quickchartButtonEl.classList.add('colab-df-quickchart-complete');\n",
              "    }\n",
              "    (() => {\n",
              "      let quickchartButtonEl =\n",
              "        document.querySelector('#df-c9f3e3b9-964b-4622-8b70-a96efa8e437d button');\n",
              "      quickchartButtonEl.style.display =\n",
              "        google.colab.kernel.accessAllowed ? 'block' : 'none';\n",
              "    })();\n",
              "  </script>\n",
              "</div>\n",
              "    </div>\n",
              "  </div>\n"
            ],
            "text/plain": [
              "                   0             1             2             3             4  \\\n",
              "0       1.970460e-18  1.658503e-17  1.712880e-17  2.675474e-16  3.908157e-18   \n",
              "1       2.720270e-25  2.005303e-19  6.699119e-18  2.962567e-22  1.125561e-17   \n",
              "2       1.299161e-15  3.309004e-15  2.647442e-12  7.314780e-14  1.391761e-15   \n",
              "3       9.946154e-11  1.000000e+00  1.760951e-10  7.869125e-14  1.002065e-17   \n",
              "4       6.658223e-21  3.440059e-17  3.533589e-12  2.453941e-21  3.833965e-15   \n",
              "...              ...           ...           ...           ...           ...   \n",
              "793715  3.462149e-11  2.355559e-12  4.212363e-11  9.266784e-14  6.243328e-08   \n",
              "793716  1.530559e-29  8.313126e-30  2.710226e-30  1.461172e-36  1.753000e-42   \n",
              "793717  5.625357e-15  4.480041e-20  2.535668e-11  3.017805e-14  3.678753e-17   \n",
              "793718  4.486849e-08  4.777220e-08  3.819120e-11  4.712990e-07  1.729104e-13   \n",
              "793719  1.299833e-08  2.036278e-09  1.354902e-09  1.637726e-07  4.629340e-10   \n",
              "\n",
              "                   5             6             7             8             9  \\\n",
              "0       5.991500e-12  4.538617e-12  6.847980e-08  2.930603e-08  6.656424e-18   \n",
              "1       7.735267e-18  1.540497e-25  5.143722e-27  2.096732e-21  1.374576e-23   \n",
              "2       2.684169e-11  4.312010e-12  1.099852e-17  6.013370e-11  2.079981e-11   \n",
              "3       1.564919e-15  5.586325e-15  6.522866e-13  2.464254e-16  9.369654e-23   \n",
              "4       1.108917e-21  9.627171e-20  9.999702e-01  9.925973e-16  1.266410e-18   \n",
              "...              ...           ...           ...           ...           ...   \n",
              "793715  6.159819e-08  4.233090e-17  6.553418e-08  2.166346e-06  6.575805e-08   \n",
              "793716  1.822319e-36  8.128727e-32  1.493533e-18  7.089416e-37  2.157825e-36   \n",
              "793717  1.159042e-17  1.894627e-18  3.867486e-15  1.453245e-16  1.422698e-15   \n",
              "793718  6.970836e-11  1.490629e-18  1.847476e-11  9.484613e-15  2.061678e-17   \n",
              "793719  1.231859e-12  1.477646e-10  7.543492e-06  1.361416e-06  1.119422e-10   \n",
              "\n",
              "        ...            26            27            28            29  \\\n",
              "0       ...  2.467679e-15  1.985548e-20  2.602776e-20  1.133089e-21   \n",
              "1       ...  6.127717e-19  4.581320e-24  9.090624e-25  4.188155e-19   \n",
              "2       ...  3.801445e-13  1.149149e-09  5.301487e-08  9.999998e-01   \n",
              "3       ...  4.716096e-19  6.842670e-18  2.673159e-23  3.682964e-24   \n",
              "4       ...  1.138405e-23  2.893122e-12  4.875517e-21  9.591446e-32   \n",
              "...     ...           ...           ...           ...           ...   \n",
              "793715  ...  3.421989e-11  1.468936e-10  7.731325e-14  1.164631e-11   \n",
              "793716  ...  0.000000e+00  2.039708e-07  7.095472e-23  2.000000e-43   \n",
              "793717  ...  4.724447e-15  1.042861e-05  9.999894e-01  1.946754e-07   \n",
              "793718  ...  5.727277e-11  2.377391e-15  2.503364e-16  7.754256e-18   \n",
              "793719  ...  1.798515e-08  1.448479e-12  4.588771e-13  7.629157e-14   \n",
              "\n",
              "                  30            31            32            33            34  \\\n",
              "0       1.633511e-12  1.997537e-20  3.063995e-09  5.315932e-21  2.497018e-20   \n",
              "1       8.826179e-24  5.531325e-28  4.897549e-20  1.943647e-22  4.795508e-24   \n",
              "2       1.268849e-14  3.197010e-11  2.813450e-16  1.877090e-14  1.303632e-07   \n",
              "3       2.271219e-14  3.749241e-20  5.847194e-20  9.414713e-18  2.308404e-21   \n",
              "4       1.564986e-22  3.977793e-29  7.379522e-20  3.561193e-32  2.025416e-26   \n",
              "...              ...           ...           ...           ...           ...   \n",
              "793715  3.546101e-09  1.319805e-11  4.020156e-07  1.940924e-10  4.210487e-13   \n",
              "793716  1.212481e-38  7.855632e-20  1.108004e-25  1.094700e-31  7.621989e-35   \n",
              "793717  3.346824e-16  8.091283e-14  2.335013e-19  1.496430e-19  1.346973e-12   \n",
              "793718  3.538759e-07  1.492914e-13  4.885814e-13  8.235372e-09  2.029234e-14   \n",
              "793719  5.188167e-02  1.420462e-12  9.278272e-10  6.258713e-12  1.919063e-14   \n",
              "\n",
              "        label  \n",
              "0           0  \n",
              "1           0  \n",
              "2           0  \n",
              "3           0  \n",
              "4           0  \n",
              "...       ...  \n",
              "793715      1  \n",
              "793716      1  \n",
              "793717      1  \n",
              "793718      1  \n",
              "793719      1  \n",
              "\n",
              "[793720 rows x 36 columns]"
            ]
          },
          "execution_count": 3,
          "metadata": {},
          "output_type": "execute_result"
        }
      ],
      "source": [
        "df_mia"
      ]
    },
    {
      "cell_type": "code",
      "execution_count": null,
      "metadata": {
        "colab": {
          "base_uri": "https://localhost:8080/",
          "height": 520
        },
        "id": "gQM9sBfnk3y0",
        "outputId": "9c671b97-fcb4-44db-f0cc-c8cf88024397"
      },
      "outputs": [
        {
          "ename": "KeyboardInterrupt",
          "evalue": "",
          "output_type": "error",
          "traceback": [
            "\u001b[0;31m---------------------------------------------------------------------------\u001b[0m",
            "\u001b[0;31mKeyboardInterrupt\u001b[0m                         Traceback (most recent call last)",
            "\u001b[0;32m<ipython-input-4-c24eb4ad55b2>\u001b[0m in \u001b[0;36m<cell line: 13>\u001b[0;34m()\u001b[0m\n\u001b[1;32m     11\u001b[0m \u001b[0;34m\u001b[0m\u001b[0m\n\u001b[1;32m     12\u001b[0m \u001b[0mtsne\u001b[0m \u001b[0;34m=\u001b[0m \u001b[0mTSNE\u001b[0m\u001b[0;34m(\u001b[0m\u001b[0mn_components\u001b[0m\u001b[0;34m=\u001b[0m\u001b[0;36m2\u001b[0m\u001b[0;34m,\u001b[0m \u001b[0mrandom_state\u001b[0m\u001b[0;34m=\u001b[0m\u001b[0;36m42\u001b[0m\u001b[0;34m)\u001b[0m\u001b[0;34m\u001b[0m\u001b[0;34m\u001b[0m\u001b[0m\n\u001b[0;32m---> 13\u001b[0;31m \u001b[0mX_tsne\u001b[0m \u001b[0;34m=\u001b[0m \u001b[0;34m(\u001b[0m\u001b[0mtsne\u001b[0m\u001b[0;34m.\u001b[0m\u001b[0mfit_transform\u001b[0m\u001b[0;34m(\u001b[0m\u001b[0mX_scaled\u001b[0m\u001b[0;34m)\u001b[0m\u001b[0;34m)\u001b[0m\u001b[0;34m\u001b[0m\u001b[0;34m\u001b[0m\u001b[0m\n\u001b[0m\u001b[1;32m     14\u001b[0m \u001b[0;34m\u001b[0m\u001b[0m\n\u001b[1;32m     15\u001b[0m \u001b[0mreduced_df\u001b[0m \u001b[0;34m=\u001b[0m \u001b[0mpd\u001b[0m\u001b[0;34m.\u001b[0m\u001b[0mDataFrame\u001b[0m\u001b[0;34m(\u001b[0m\u001b[0mX_tsne\u001b[0m\u001b[0;34m,\u001b[0m \u001b[0mcolumns\u001b[0m\u001b[0;34m=\u001b[0m\u001b[0;34m[\u001b[0m\u001b[0;34m'TSNE1'\u001b[0m\u001b[0;34m,\u001b[0m \u001b[0;34m'TSNE2'\u001b[0m\u001b[0;34m]\u001b[0m\u001b[0;34m)\u001b[0m\u001b[0;34m\u001b[0m\u001b[0;34m\u001b[0m\u001b[0m\n",
            "\u001b[0;32m/usr/local/lib/python3.10/dist-packages/sklearn/manifold/_t_sne.py\u001b[0m in \u001b[0;36mfit_transform\u001b[0;34m(self, X, y)\u001b[0m\n\u001b[1;32m   1117\u001b[0m         \u001b[0mself\u001b[0m\u001b[0;34m.\u001b[0m\u001b[0m_validate_params\u001b[0m\u001b[0;34m(\u001b[0m\u001b[0;34m)\u001b[0m\u001b[0;34m\u001b[0m\u001b[0;34m\u001b[0m\u001b[0m\n\u001b[1;32m   1118\u001b[0m         \u001b[0mself\u001b[0m\u001b[0;34m.\u001b[0m\u001b[0m_check_params_vs_input\u001b[0m\u001b[0;34m(\u001b[0m\u001b[0mX\u001b[0m\u001b[0;34m)\u001b[0m\u001b[0;34m\u001b[0m\u001b[0;34m\u001b[0m\u001b[0m\n\u001b[0;32m-> 1119\u001b[0;31m         \u001b[0membedding\u001b[0m \u001b[0;34m=\u001b[0m \u001b[0mself\u001b[0m\u001b[0;34m.\u001b[0m\u001b[0m_fit\u001b[0m\u001b[0;34m(\u001b[0m\u001b[0mX\u001b[0m\u001b[0;34m)\u001b[0m\u001b[0;34m\u001b[0m\u001b[0;34m\u001b[0m\u001b[0m\n\u001b[0m\u001b[1;32m   1120\u001b[0m         \u001b[0mself\u001b[0m\u001b[0;34m.\u001b[0m\u001b[0membedding_\u001b[0m \u001b[0;34m=\u001b[0m \u001b[0membedding\u001b[0m\u001b[0;34m\u001b[0m\u001b[0;34m\u001b[0m\u001b[0m\n\u001b[1;32m   1121\u001b[0m         \u001b[0;32mreturn\u001b[0m \u001b[0mself\u001b[0m\u001b[0;34m.\u001b[0m\u001b[0membedding_\u001b[0m\u001b[0;34m\u001b[0m\u001b[0;34m\u001b[0m\u001b[0m\n",
            "\u001b[0;32m/usr/local/lib/python3.10/dist-packages/sklearn/manifold/_t_sne.py\u001b[0m in \u001b[0;36m_fit\u001b[0;34m(self, X, skip_num_points)\u001b[0m\n\u001b[1;32m    961\u001b[0m \u001b[0;34m\u001b[0m\u001b[0m\n\u001b[1;32m    962\u001b[0m             \u001b[0mt0\u001b[0m \u001b[0;34m=\u001b[0m \u001b[0mtime\u001b[0m\u001b[0;34m(\u001b[0m\u001b[0;34m)\u001b[0m\u001b[0;34m\u001b[0m\u001b[0;34m\u001b[0m\u001b[0m\n\u001b[0;32m--> 963\u001b[0;31m             \u001b[0mdistances_nn\u001b[0m \u001b[0;34m=\u001b[0m \u001b[0mknn\u001b[0m\u001b[0;34m.\u001b[0m\u001b[0mkneighbors_graph\u001b[0m\u001b[0;34m(\u001b[0m\u001b[0mmode\u001b[0m\u001b[0;34m=\u001b[0m\u001b[0;34m\"distance\"\u001b[0m\u001b[0;34m)\u001b[0m\u001b[0;34m\u001b[0m\u001b[0;34m\u001b[0m\u001b[0m\n\u001b[0m\u001b[1;32m    964\u001b[0m             \u001b[0mduration\u001b[0m \u001b[0;34m=\u001b[0m \u001b[0mtime\u001b[0m\u001b[0;34m(\u001b[0m\u001b[0;34m)\u001b[0m \u001b[0;34m-\u001b[0m \u001b[0mt0\u001b[0m\u001b[0;34m\u001b[0m\u001b[0;34m\u001b[0m\u001b[0m\n\u001b[1;32m    965\u001b[0m             \u001b[0;32mif\u001b[0m \u001b[0mself\u001b[0m\u001b[0;34m.\u001b[0m\u001b[0mverbose\u001b[0m\u001b[0;34m:\u001b[0m\u001b[0;34m\u001b[0m\u001b[0;34m\u001b[0m\u001b[0m\n",
            "\u001b[0;32m/usr/local/lib/python3.10/dist-packages/sklearn/neighbors/_base.py\u001b[0m in \u001b[0;36mkneighbors_graph\u001b[0;34m(self, X, n_neighbors, mode)\u001b[0m\n\u001b[1;32m    986\u001b[0m \u001b[0;34m\u001b[0m\u001b[0m\n\u001b[1;32m    987\u001b[0m         \u001b[0;32melif\u001b[0m \u001b[0mmode\u001b[0m \u001b[0;34m==\u001b[0m \u001b[0;34m\"distance\"\u001b[0m\u001b[0;34m:\u001b[0m\u001b[0;34m\u001b[0m\u001b[0;34m\u001b[0m\u001b[0m\n\u001b[0;32m--> 988\u001b[0;31m             \u001b[0mA_data\u001b[0m\u001b[0;34m,\u001b[0m \u001b[0mA_ind\u001b[0m \u001b[0;34m=\u001b[0m \u001b[0mself\u001b[0m\u001b[0;34m.\u001b[0m\u001b[0mkneighbors\u001b[0m\u001b[0;34m(\u001b[0m\u001b[0mX\u001b[0m\u001b[0;34m,\u001b[0m \u001b[0mn_neighbors\u001b[0m\u001b[0;34m,\u001b[0m \u001b[0mreturn_distance\u001b[0m\u001b[0;34m=\u001b[0m\u001b[0;32mTrue\u001b[0m\u001b[0;34m)\u001b[0m\u001b[0;34m\u001b[0m\u001b[0;34m\u001b[0m\u001b[0m\n\u001b[0m\u001b[1;32m    989\u001b[0m             \u001b[0mA_data\u001b[0m \u001b[0;34m=\u001b[0m \u001b[0mnp\u001b[0m\u001b[0;34m.\u001b[0m\u001b[0mravel\u001b[0m\u001b[0;34m(\u001b[0m\u001b[0mA_data\u001b[0m\u001b[0;34m)\u001b[0m\u001b[0;34m\u001b[0m\u001b[0;34m\u001b[0m\u001b[0m\n\u001b[1;32m    990\u001b[0m \u001b[0;34m\u001b[0m\u001b[0m\n",
            "\u001b[0;32m/usr/local/lib/python3.10/dist-packages/sklearn/neighbors/_base.py\u001b[0m in \u001b[0;36mkneighbors\u001b[0;34m(self, X, n_neighbors, return_distance)\u001b[0m\n\u001b[1;32m    822\u001b[0m         )\n\u001b[1;32m    823\u001b[0m         \u001b[0;32mif\u001b[0m \u001b[0muse_pairwise_distances_reductions\u001b[0m\u001b[0;34m:\u001b[0m\u001b[0;34m\u001b[0m\u001b[0;34m\u001b[0m\u001b[0m\n\u001b[0;32m--> 824\u001b[0;31m             results = ArgKmin.compute(\n\u001b[0m\u001b[1;32m    825\u001b[0m                 \u001b[0mX\u001b[0m\u001b[0;34m=\u001b[0m\u001b[0mX\u001b[0m\u001b[0;34m,\u001b[0m\u001b[0;34m\u001b[0m\u001b[0;34m\u001b[0m\u001b[0m\n\u001b[1;32m    826\u001b[0m                 \u001b[0mY\u001b[0m\u001b[0;34m=\u001b[0m\u001b[0mself\u001b[0m\u001b[0;34m.\u001b[0m\u001b[0m_fit_X\u001b[0m\u001b[0;34m,\u001b[0m\u001b[0;34m\u001b[0m\u001b[0;34m\u001b[0m\u001b[0m\n",
            "\u001b[0;32m/usr/local/lib/python3.10/dist-packages/sklearn/metrics/_pairwise_distances_reduction/_dispatcher.py\u001b[0m in \u001b[0;36mcompute\u001b[0;34m(cls, X, Y, k, metric, chunk_size, metric_kwargs, strategy, return_distance)\u001b[0m\n\u001b[1;32m    275\u001b[0m         \"\"\"\n\u001b[1;32m    276\u001b[0m         \u001b[0;32mif\u001b[0m \u001b[0mX\u001b[0m\u001b[0;34m.\u001b[0m\u001b[0mdtype\u001b[0m \u001b[0;34m==\u001b[0m \u001b[0mY\u001b[0m\u001b[0;34m.\u001b[0m\u001b[0mdtype\u001b[0m \u001b[0;34m==\u001b[0m \u001b[0mnp\u001b[0m\u001b[0;34m.\u001b[0m\u001b[0mfloat64\u001b[0m\u001b[0;34m:\u001b[0m\u001b[0;34m\u001b[0m\u001b[0;34m\u001b[0m\u001b[0m\n\u001b[0;32m--> 277\u001b[0;31m             return ArgKmin64.compute(\n\u001b[0m\u001b[1;32m    278\u001b[0m                 \u001b[0mX\u001b[0m\u001b[0;34m=\u001b[0m\u001b[0mX\u001b[0m\u001b[0;34m,\u001b[0m\u001b[0;34m\u001b[0m\u001b[0;34m\u001b[0m\u001b[0m\n\u001b[1;32m    279\u001b[0m                 \u001b[0mY\u001b[0m\u001b[0;34m=\u001b[0m\u001b[0mY\u001b[0m\u001b[0;34m,\u001b[0m\u001b[0;34m\u001b[0m\u001b[0;34m\u001b[0m\u001b[0m\n",
            "\u001b[0;32msklearn/metrics/_pairwise_distances_reduction/_argkmin.pyx\u001b[0m in \u001b[0;36msklearn.metrics._pairwise_distances_reduction._argkmin.ArgKmin64.compute\u001b[0;34m()\u001b[0m\n",
            "\u001b[0;32msklearn/metrics/_pairwise_distances_reduction/_argkmin.pyx\u001b[0m in \u001b[0;36msklearn.metrics._pairwise_distances_reduction._argkmin.EuclideanArgKmin64.__init__\u001b[0;34m()\u001b[0m\n",
            "\u001b[0;32msklearn/metrics/_pairwise_distances_reduction/_argkmin.pyx\u001b[0m in \u001b[0;36msklearn.metrics._pairwise_distances_reduction._argkmin.ArgKmin64.__init__\u001b[0;34m()\u001b[0m\n",
            "\u001b[0;32m/usr/local/lib/python3.10/dist-packages/numpy/core/numeric.py\u001b[0m in \u001b[0;36mfull\u001b[0;34m(shape, fill_value, dtype, order, like)\u001b[0m\n\u001b[1;32m    328\u001b[0m         \u001b[0mdtype\u001b[0m \u001b[0;34m=\u001b[0m \u001b[0mfill_value\u001b[0m\u001b[0;34m.\u001b[0m\u001b[0mdtype\u001b[0m\u001b[0;34m\u001b[0m\u001b[0;34m\u001b[0m\u001b[0m\n\u001b[1;32m    329\u001b[0m     \u001b[0ma\u001b[0m \u001b[0;34m=\u001b[0m \u001b[0mempty\u001b[0m\u001b[0;34m(\u001b[0m\u001b[0mshape\u001b[0m\u001b[0;34m,\u001b[0m \u001b[0mdtype\u001b[0m\u001b[0;34m,\u001b[0m \u001b[0morder\u001b[0m\u001b[0;34m)\u001b[0m\u001b[0;34m\u001b[0m\u001b[0;34m\u001b[0m\u001b[0m\n\u001b[0;32m--> 330\u001b[0;31m     \u001b[0mmultiarray\u001b[0m\u001b[0;34m.\u001b[0m\u001b[0mcopyto\u001b[0m\u001b[0;34m(\u001b[0m\u001b[0ma\u001b[0m\u001b[0;34m,\u001b[0m \u001b[0mfill_value\u001b[0m\u001b[0;34m,\u001b[0m \u001b[0mcasting\u001b[0m\u001b[0;34m=\u001b[0m\u001b[0;34m'unsafe'\u001b[0m\u001b[0;34m)\u001b[0m\u001b[0;34m\u001b[0m\u001b[0;34m\u001b[0m\u001b[0m\n\u001b[0m\u001b[1;32m    331\u001b[0m     \u001b[0;32mreturn\u001b[0m \u001b[0ma\u001b[0m\u001b[0;34m\u001b[0m\u001b[0;34m\u001b[0m\u001b[0m\n\u001b[1;32m    332\u001b[0m \u001b[0;34m\u001b[0m\u001b[0m\n",
            "\u001b[0;31mKeyboardInterrupt\u001b[0m: "
          ]
        }
      ],
      "source": [
        "import pandas as pd\n",
        "import matplotlib.pyplot as plt\n",
        "from sklearn.manifold import TSNE\n",
        "from sklearn.preprocessing import StandardScaler\n",
        "\n",
        "X = df_mia.drop('label', axis=1)\n",
        "y = df_mia['label']\n",
        "\n",
        "scaler = StandardScaler()\n",
        "X_scaled = scaler.fit_transform(X)\n",
        "\n",
        "tsne = TSNE(n_components=2, random_state=42)\n",
        "X_tsne = (tsne.fit_transform(X_scaled))\n",
        "\n",
        "reduced_df = pd.DataFrame(X_tsne, columns=['TSNE1', 'TSNE2'])\n",
        "\n",
        "reduced_df['label'] = y.values\n",
        "\n",
        "plt.figure(figsize=(10, 8))\n",
        "\n",
        "class_labels = reduced_df['label'].unique()\n",
        "colors = ['b', 'r']\n",
        "for i, class_label in enumerate(class_labels):\n",
        "    class_data = reduced_df[reduced_df['label'] == class_label]\n",
        "    plt.scatter(class_data['TSNE1'], class_data['TSNE2'], label=f'Class {class_label}', color=colors[i])\n",
        "\n",
        "plt.title('t-SNE Plot of Data with 2 Classes')\n",
        "plt.xlabel('t-SNE Component 1')\n",
        "plt.ylabel('t-SNE Component 2')\n",
        "plt.legend()\n",
        "plt.grid(True)\n",
        "plt.show()"
      ]
    },
    {
      "cell_type": "markdown",
      "metadata": {
        "id": "DbNetKoSqtlw"
      },
      "source": [
        "Fitting XGBoost Model"
      ]
    },
    {
      "cell_type": "code",
      "execution_count": null,
      "metadata": {
        "id": "o1sxM_4efQeO"
      },
      "outputs": [],
      "source": [
        "def modelstats(model,X_train,X_test,y_train,y_test):\n",
        "  y_pred_train = model.predict(X_train)\n",
        "  y_pred_test = model.predict(X_test)\n",
        "\n",
        "  train_accuracy = accuracy_score(y_train, y_pred_train)\n",
        "  test_accuracy = accuracy_score(y_test, y_pred_test)\n",
        "\n",
        "  train_precision = precision_score(y_train, y_pred_train)\n",
        "  test_precision = precision_score(y_test, y_pred_test)\n",
        "\n",
        "  train_recall = recall_score(y_train, y_pred_train)\n",
        "  test_recall = recall_score(y_test, y_pred_test)\n",
        "\n",
        "  train_f1 = f1_score(y_train, y_pred_train)\n",
        "  test_f1 = f1_score(y_test, y_pred_test)\n",
        "\n",
        "  print(\"Training Accuracy:\", train_accuracy)\n",
        "  print(\"Testing Accuracy:\", test_accuracy)\n",
        "  print(\"Training Precision:\", train_precision)\n",
        "  print(\"Testing Precision:\", test_precision)\n",
        "  print(\"Training Recall:\", train_recall)\n",
        "  print(\"Testing Recall:\", test_recall)\n",
        "  print(\"Training F1 Score:\", train_f1)\n",
        "  print(\"Testing F1 Score:\", test_f1)"
      ]
    },
    {
      "cell_type": "code",
      "execution_count": null,
      "metadata": {
        "id": "sTNx4AjEg5eA"
      },
      "outputs": [],
      "source": [
        "def create_mai_attack_models(num_models):\n",
        "  for i in range(num_models):\n",
        "    df_shuffled = df_mia.sample(frac=1, random_state=i)\n",
        "    X = df_shuffled.drop(['label'], axis=1)\n",
        "    y = df_shuffled['label']\n",
        "\n",
        "    X_train, X_test, y_train, y_test = train_test_split(X, y, test_size=0.2, shuffle=True, random_state=i)\n",
        "\n",
        "    params = {\n",
        "        'learning_rate': 0.05,\n",
        "        'n_estimators': 150,\n",
        "        'max_depth': 8,\n",
        "        'min_child_weight': 0.5,\n",
        "        'subsample': 0.5,\n",
        "        'colsample_bytree': 0.5,\n",
        "        'reg_alpha': 0.1,\n",
        "        'reg_lambda': 0.1,\n",
        "        'scale_pos_weight': 1,\n",
        "        'random_state': i\n",
        "    }\n",
        "    model = XGBClassifier(**params)\n",
        "    model.fit(X_train, y_train)\n",
        "    print(f\"ATTACK MODEL: {i} STATS\")\n",
        "    modelstats(model,X_train,X_test,y_train,y_test)\n",
        "    save_path = f\"xgboost_model_{i}.json\"\n",
        "    model.save_model(save_path)\n"
      ]
    },
    {
      "cell_type": "code",
      "execution_count": null,
      "metadata": {
        "colab": {
          "base_uri": "https://localhost:8080/"
        },
        "id": "4LghsxtOhbFy",
        "outputId": "b7eb8362-38ab-4e50-b6d4-cd6182ff92a1"
      },
      "outputs": [
        {
          "name": "stdout",
          "output_type": "stream",
          "text": [
            "ATTACK MODEL: 0 STATS\n",
            "Training Accuracy: 0.7061054276067127\n",
            "Testing Accuracy: 0.6976578642342388\n",
            "Training Precision: 0.7234699707205599\n",
            "Testing Precision: 0.6733160075858678\n",
            "Training Recall: 0.19146231986770612\n",
            "Testing Recall: 0.18110712261477424\n",
            "Training F1 Score: 0.30279232763709457\n",
            "Testing F1 Score: 0.2854377893906234\n",
            "ATTACK MODEL: 1 STATS\n",
            "Training Accuracy: 0.7067007256967193\n",
            "Testing Accuracy: 0.6964798669556015\n",
            "Training Precision: 0.7246547689229504\n",
            "Testing Precision: 0.6788289896465548\n",
            "Training Recall: 0.19189267180411468\n",
            "Testing Recall: 0.17873324434584797\n",
            "Training F1 Score: 0.3034342436959075\n",
            "Testing F1 Score: 0.2829632716233109\n",
            "ATTACK MODEL: 2 STATS\n",
            "Training Accuracy: 0.7071117648541048\n",
            "Testing Accuracy: 0.695692435619614\n",
            "Training Precision: 0.7278298936835522\n",
            "Testing Precision: 0.6700957786449095\n",
            "Training Recall: 0.19261105174060658\n",
            "Testing Recall: 0.17786524048058452\n",
            "Training F1 Score: 0.3046107020935302\n",
            "Testing F1 Score: 0.28111374019673496\n",
            "ATTACK MODEL: 3 STATS\n",
            "Training Accuracy: 0.7063967772010281\n",
            "Testing Accuracy: 0.697078314770952\n",
            "Training Precision: 0.724649055526818\n",
            "Testing Precision: 0.6741974690784299\n",
            "Training Recall: 0.19197618372554578\n",
            "Testing Recall: 0.17805891238670696\n",
            "Training F1 Score: 0.3035381402629229\n",
            "Testing F1 Score: 0.2817153867985122\n",
            "ATTACK MODEL: 4 STATS\n",
            "Training Accuracy: 0.7064361487678275\n",
            "Testing Accuracy: 0.6985082900771052\n",
            "Training Precision: 0.7260075746748607\n",
            "Testing Precision: 0.680573569678628\n",
            "Training Recall: 0.19195779091956847\n",
            "Testing Recall: 0.17863897715236798\n",
            "Training F1 Score: 0.30363413577202975\n",
            "Testing F1 Score: 0.28299625468164796\n",
            "ATTACK MODEL: 5 STATS\n",
            "Training Accuracy: 0.706336932419493\n",
            "Testing Accuracy: 0.6973365922491559\n",
            "Training Precision: 0.7240964281921484\n",
            "Testing Precision: 0.665642243486764\n",
            "Training Recall: 0.1931621268136984\n",
            "Testing Recall: 0.18053003466631307\n",
            "Training F1 Score: 0.30496964094688933\n",
            "Testing F1 Score: 0.28402825380740915\n",
            "ATTACK MODEL: 6 STATS\n",
            "Training Accuracy: 0.706647180365872\n",
            "Testing Accuracy: 0.6965113642090409\n",
            "Training Precision: 0.7253322880661369\n",
            "Testing Precision: 0.6742309631870903\n",
            "Training Recall: 0.1924222228524432\n",
            "Testing Recall: 0.1765382729090429\n",
            "Training F1 Score: 0.3041555220178414\n",
            "Testing F1 Score: 0.27981164511547946\n",
            "ATTACK MODEL: 7 STATS\n",
            "Training Accuracy: 0.7060613314518974\n",
            "Testing Accuracy: 0.6983256060071562\n",
            "Training Precision: 0.7246433736230383\n",
            "Testing Precision: 0.6723626606411524\n",
            "Training Recall: 0.19162547389393275\n",
            "Testing Recall: 0.1804400144018495\n",
            "Training F1 Score: 0.30309909640803523\n",
            "Testing F1 Score: 0.2845233292994487\n",
            "ATTACK MODEL: 8 STATS\n",
            "Training Accuracy: 0.7063290581061331\n",
            "Testing Accuracy: 0.6973743889532833\n",
            "Training Precision: 0.7241146711635751\n",
            "Testing Precision: 0.6701052780329259\n",
            "Training Recall: 0.19266973668673987\n",
            "Testing Recall: 0.1794343013905969\n",
            "Training F1 Score: 0.3043572334551966\n",
            "Testing F1 Score: 0.2830706781279847\n",
            "ATTACK MODEL: 9 STATS\n",
            "Training Accuracy: 0.7060518822758656\n",
            "Testing Accuracy: 0.6990563422869526\n",
            "Training Precision: 0.7256883553594996\n",
            "Testing Precision: 0.6828237283359165\n",
            "Training Recall: 0.18968230340662612\n",
            "Testing Recall: 0.18299567622679985\n",
            "Training F1 Score: 0.3007530064061739\n",
            "Testing F1 Score: 0.2886370743183883\n"
          ]
        }
      ],
      "source": [
        "create_mai_attack_models(10)"
      ]
    },
    {
      "cell_type": "markdown",
      "metadata": {
        "id": "-oIPFQSSq6HU"
      },
      "source": [
        "# Testing ACC on Base Model"
      ]
    },
    {
      "cell_type": "code",
      "execution_count": null,
      "metadata": {
        "colab": {
          "base_uri": "https://localhost:8080/"
        },
        "id": "4fIucb7A76cy",
        "outputId": "2bd4655d-f2d4-4b71-c031-7b81e6a83963"
      },
      "outputs": [
        {
          "name": "stdout",
          "output_type": "stream",
          "text": [
            "Base Accuracy: 0.8658083632417996\n",
            "Base Precision: 0.32972675591417566\n",
            "Base Recall: 0.16338028169014085\n",
            "Base F1 Score: 0.21849556446712845\n"
          ]
        }
      ],
      "source": [
        "df_base = pd.read_csv('/content/SpeechCommands_VGGish_logits.csv')\n",
        "df_base = df_base.sample(frac=1, random_state=42)\n",
        "X = df_base.drop(['label'], axis=1)\n",
        "y = df_base['label']\n",
        "y_pred_base = model.predict(X)\n",
        "\n",
        "base_accuracy = accuracy_score(y, y_pred_base)\n",
        "base_precision = precision_score(y, y_pred_base)\n",
        "base_recall = recall_score(y, y_pred_base)\n",
        "base_f1 = f1_score(y, y_pred_base)\n",
        "\n",
        "print(\"Base Accuracy:\", base_accuracy)\n",
        "print(\"Base Precision:\", base_precision)\n",
        "print(\"Base Recall:\", base_recall)\n",
        "print(\"Base F1 Score:\", base_f1)"
      ]
    },
    {
      "cell_type": "markdown",
      "metadata": {
        "id": "LXYx5UuB6P2R"
      },
      "source": [
        "# Using TabNetClassifier"
      ]
    },
    {
      "cell_type": "code",
      "execution_count": null,
      "metadata": {
        "colab": {
          "base_uri": "https://localhost:8080/"
        },
        "id": "geeOm18s84Tk",
        "outputId": "227c55a0-9e66-4bb8-c59f-8c474a34d428"
      },
      "outputs": [
        {
          "name": "stdout",
          "output_type": "stream",
          "text": [
            "Requirement already satisfied: pytorch-tabnet in /usr/local/lib/python3.10/dist-packages (4.1.0)\n",
            "Requirement already satisfied: numpy>=1.17 in /usr/local/lib/python3.10/dist-packages (from pytorch-tabnet) (1.25.2)\n",
            "Requirement already satisfied: scikit_learn>0.21 in /usr/local/lib/python3.10/dist-packages (from pytorch-tabnet) (1.2.2)\n",
            "Requirement already satisfied: scipy>1.4 in /usr/local/lib/python3.10/dist-packages (from pytorch-tabnet) (1.11.4)\n",
            "Requirement already satisfied: torch>=1.3 in /usr/local/lib/python3.10/dist-packages (from pytorch-tabnet) (2.2.1+cu121)\n",
            "Requirement already satisfied: tqdm>=4.36 in /usr/local/lib/python3.10/dist-packages (from pytorch-tabnet) (4.66.2)\n",
            "Requirement already satisfied: joblib>=1.1.1 in /usr/local/lib/python3.10/dist-packages (from scikit_learn>0.21->pytorch-tabnet) (1.3.2)\n",
            "Requirement already satisfied: threadpoolctl>=2.0.0 in /usr/local/lib/python3.10/dist-packages (from scikit_learn>0.21->pytorch-tabnet) (3.4.0)\n",
            "Requirement already satisfied: filelock in /usr/local/lib/python3.10/dist-packages (from torch>=1.3->pytorch-tabnet) (3.13.3)\n",
            "Requirement already satisfied: typing-extensions>=4.8.0 in /usr/local/lib/python3.10/dist-packages (from torch>=1.3->pytorch-tabnet) (4.10.0)\n",
            "Requirement already satisfied: sympy in /usr/local/lib/python3.10/dist-packages (from torch>=1.3->pytorch-tabnet) (1.12)\n",
            "Requirement already satisfied: networkx in /usr/local/lib/python3.10/dist-packages (from torch>=1.3->pytorch-tabnet) (3.2.1)\n",
            "Requirement already satisfied: jinja2 in /usr/local/lib/python3.10/dist-packages (from torch>=1.3->pytorch-tabnet) (3.1.3)\n",
            "Requirement already satisfied: fsspec in /usr/local/lib/python3.10/dist-packages (from torch>=1.3->pytorch-tabnet) (2023.6.0)\n",
            "Requirement already satisfied: nvidia-cuda-nvrtc-cu12==12.1.105 in /usr/local/lib/python3.10/dist-packages (from torch>=1.3->pytorch-tabnet) (12.1.105)\n",
            "Requirement already satisfied: nvidia-cuda-runtime-cu12==12.1.105 in /usr/local/lib/python3.10/dist-packages (from torch>=1.3->pytorch-tabnet) (12.1.105)\n",
            "Requirement already satisfied: nvidia-cuda-cupti-cu12==12.1.105 in /usr/local/lib/python3.10/dist-packages (from torch>=1.3->pytorch-tabnet) (12.1.105)\n",
            "Requirement already satisfied: nvidia-cudnn-cu12==8.9.2.26 in /usr/local/lib/python3.10/dist-packages (from torch>=1.3->pytorch-tabnet) (8.9.2.26)\n",
            "Requirement already satisfied: nvidia-cublas-cu12==12.1.3.1 in /usr/local/lib/python3.10/dist-packages (from torch>=1.3->pytorch-tabnet) (12.1.3.1)\n",
            "Requirement already satisfied: nvidia-cufft-cu12==11.0.2.54 in /usr/local/lib/python3.10/dist-packages (from torch>=1.3->pytorch-tabnet) (11.0.2.54)\n",
            "Requirement already satisfied: nvidia-curand-cu12==10.3.2.106 in /usr/local/lib/python3.10/dist-packages (from torch>=1.3->pytorch-tabnet) (10.3.2.106)\n",
            "Requirement already satisfied: nvidia-cusolver-cu12==11.4.5.107 in /usr/local/lib/python3.10/dist-packages (from torch>=1.3->pytorch-tabnet) (11.4.5.107)\n",
            "Requirement already satisfied: nvidia-cusparse-cu12==12.1.0.106 in /usr/local/lib/python3.10/dist-packages (from torch>=1.3->pytorch-tabnet) (12.1.0.106)\n",
            "Requirement already satisfied: nvidia-nccl-cu12==2.19.3 in /usr/local/lib/python3.10/dist-packages (from torch>=1.3->pytorch-tabnet) (2.19.3)\n",
            "Requirement already satisfied: nvidia-nvtx-cu12==12.1.105 in /usr/local/lib/python3.10/dist-packages (from torch>=1.3->pytorch-tabnet) (12.1.105)\n",
            "Requirement already satisfied: triton==2.2.0 in /usr/local/lib/python3.10/dist-packages (from torch>=1.3->pytorch-tabnet) (2.2.0)\n",
            "Requirement already satisfied: nvidia-nvjitlink-cu12 in /usr/local/lib/python3.10/dist-packages (from nvidia-cusolver-cu12==11.4.5.107->torch>=1.3->pytorch-tabnet) (12.4.99)\n",
            "Requirement already satisfied: MarkupSafe>=2.0 in /usr/local/lib/python3.10/dist-packages (from jinja2->torch>=1.3->pytorch-tabnet) (2.1.5)\n",
            "Requirement already satisfied: mpmath>=0.19 in /usr/local/lib/python3.10/dist-packages (from sympy->torch>=1.3->pytorch-tabnet) (1.3.0)\n"
          ]
        }
      ],
      "source": [
        "!pip install pytorch-tabnet\n",
        "import torch\n",
        "from pytorch_tabnet.tab_model import TabNetClassifier\n",
        "from sklearn.model_selection import train_test_split\n",
        "from sklearn.preprocessing import LabelEncoder\n",
        "import pandas as pd"
      ]
    },
    {
      "cell_type": "code",
      "execution_count": null,
      "metadata": {
        "colab": {
          "base_uri": "https://localhost:8080/"
        },
        "id": "U_6PPbdg9yik",
        "outputId": "0ba0fb96-3d09-4614-dc99-6c3b2e4aab84"
      },
      "outputs": [
        {
          "data": {
            "text/plain": [
              "array([0, 0, 0, ..., 0, 1, 1])"
            ]
          },
          "execution_count": 16,
          "metadata": {},
          "output_type": "execute_result"
        }
      ],
      "source": [
        "X_train_tensor.shape\n",
        "y_train"
      ]
    },
    {
      "cell_type": "code",
      "execution_count": null,
      "metadata": {
        "colab": {
          "base_uri": "https://localhost:8080/",
          "height": 1000
        },
        "id": "9sYris7x6SW3",
        "outputId": "4382085d-3173-49eb-eb5a-4127ccf64db3"
      },
      "outputs": [
        {
          "name": "stderr",
          "output_type": "stream",
          "text": [
            "/usr/local/lib/python3.10/dist-packages/pytorch_tabnet/abstract_model.py:82: UserWarning: Device used : cuda\n",
            "  warnings.warn(f\"Device used : {self.device}\")\n"
          ]
        },
        {
          "name": "stdout",
          "output_type": "stream",
          "text": [
            "epoch 0  | loss: 0.64064 | val_0_auc: 0.54199 | val_1_auc: 0.54298 |  0:00:53s\n",
            "epoch 1  | loss: 0.62993 | val_0_auc: 0.54864 | val_1_auc: 0.55115 |  0:01:44s\n",
            "epoch 2  | loss: 0.62684 | val_0_auc: 0.54582 | val_1_auc: 0.54726 |  0:02:33s\n",
            "epoch 3  | loss: 0.62619 | val_0_auc: 0.53754 | val_1_auc: 0.53615 |  0:03:22s\n",
            "epoch 4  | loss: 0.62658 | val_0_auc: 0.5413  | val_1_auc: 0.5413  |  0:04:11s\n",
            "epoch 5  | loss: 0.62462 | val_0_auc: 0.55672 | val_1_auc: 0.55774 |  0:05:03s\n",
            "epoch 6  | loss: 0.62204 | val_0_auc: 0.55349 | val_1_auc: 0.55441 |  0:05:52s\n",
            "epoch 7  | loss: 0.62082 | val_0_auc: 0.55718 | val_1_auc: 0.55743 |  0:06:41s\n",
            "epoch 8  | loss: 0.62509 | val_0_auc: 0.52131 | val_1_auc: 0.52051 |  0:07:30s\n",
            "epoch 9  | loss: 0.63072 | val_0_auc: 0.54005 | val_1_auc: 0.54002 |  0:08:20s\n",
            "epoch 10 | loss: 0.62877 | val_0_auc: 0.54686 | val_1_auc: 0.54695 |  0:09:08s\n",
            "epoch 11 | loss: 0.62698 | val_0_auc: 0.54383 | val_1_auc: 0.54487 |  0:09:56s\n",
            "epoch 12 | loss: 0.62554 | val_0_auc: 0.54299 | val_1_auc: 0.54388 |  0:10:48s\n",
            "epoch 13 | loss: 0.62644 | val_0_auc: 0.54467 | val_1_auc: 0.54471 |  0:11:37s\n",
            "epoch 14 | loss: 0.62663 | val_0_auc: 0.55085 | val_1_auc: 0.55087 |  0:12:26s\n",
            "epoch 15 | loss: 0.62389 | val_0_auc: 0.55356 | val_1_auc: 0.55164 |  0:13:14s\n",
            "epoch 16 | loss: 0.62191 | val_0_auc: 0.54377 | val_1_auc: 0.54197 |  0:14:06s\n",
            "epoch 17 | loss: 0.62099 | val_0_auc: 0.54906 | val_1_auc: 0.54655 |  0:14:55s\n",
            "epoch 18 | loss: 0.62397 | val_0_auc: 0.55312 | val_1_auc: 0.55428 |  0:15:43s\n",
            "epoch 19 | loss: 0.6218  | val_0_auc: 0.55608 | val_1_auc: 0.55594 |  0:16:32s\n",
            "epoch 20 | loss: 0.62124 | val_0_auc: 0.54917 | val_1_auc: 0.55042 |  0:17:24s\n",
            "epoch 21 | loss: 0.62071 | val_0_auc: 0.55496 | val_1_auc: 0.55588 |  0:18:12s\n",
            "epoch 22 | loss: 0.62093 | val_0_auc: 0.55379 | val_1_auc: 0.55383 |  0:19:01s\n",
            "epoch 23 | loss: 0.61901 | val_0_auc: 0.55403 | val_1_auc: 0.55435 |  0:19:50s\n",
            "epoch 24 | loss: 0.61819 | val_0_auc: 0.55322 | val_1_auc: 0.55353 |  0:20:42s\n",
            "epoch 25 | loss: 0.62712 | val_0_auc: 0.55241 | val_1_auc: 0.55313 |  0:21:30s\n",
            "epoch 26 | loss: 0.62391 | val_0_auc: 0.5562  | val_1_auc: 0.55581 |  0:22:18s\n",
            "epoch 27 | loss: 0.62004 | val_0_auc: 0.56163 | val_1_auc: 0.56136 |  0:23:09s\n",
            "epoch 28 | loss: 0.61904 | val_0_auc: 0.55566 | val_1_auc: 0.55659 |  0:23:58s\n",
            "epoch 29 | loss: 0.6185  | val_0_auc: 0.55917 | val_1_auc: 0.55933 |  0:24:47s\n",
            "epoch 30 | loss: 0.6207  | val_0_auc: 0.54421 | val_1_auc: 0.54588 |  0:25:36s\n",
            "epoch 31 | loss: 0.62145 | val_0_auc: 0.55761 | val_1_auc: 0.5583  |  0:26:27s\n",
            "epoch 32 | loss: 0.61936 | val_0_auc: 0.55008 | val_1_auc: 0.55222 |  0:27:16s\n",
            "epoch 33 | loss: 0.61822 | val_0_auc: 0.55842 | val_1_auc: 0.55949 |  0:28:04s\n",
            "epoch 34 | loss: 0.61867 | val_0_auc: 0.55043 | val_1_auc: 0.55222 |  0:28:52s\n",
            "epoch 35 | loss: 0.61797 | val_0_auc: 0.55714 | val_1_auc: 0.55773 |  0:29:42s\n",
            "epoch 36 | loss: 0.61822 | val_0_auc: 0.55243 | val_1_auc: 0.55371 |  0:30:31s\n",
            "epoch 37 | loss: 0.61817 | val_0_auc: 0.55597 | val_1_auc: 0.55643 |  0:31:20s\n",
            "epoch 38 | loss: 0.62042 | val_0_auc: 0.55099 | val_1_auc: 0.55208 |  0:32:09s\n",
            "epoch 39 | loss: 0.61939 | val_0_auc: 0.54617 | val_1_auc: 0.54817 |  0:33:01s\n",
            "epoch 40 | loss: 0.61909 | val_0_auc: 0.54514 | val_1_auc: 0.54688 |  0:33:49s\n",
            "epoch 41 | loss: 0.61833 | val_0_auc: 0.54656 | val_1_auc: 0.54895 |  0:34:38s\n",
            "epoch 42 | loss: 0.6177  | val_0_auc: 0.55403 | val_1_auc: 0.55489 |  0:35:27s\n",
            "epoch 43 | loss: 0.61839 | val_0_auc: 0.5438  | val_1_auc: 0.54657 |  0:36:17s\n",
            "epoch 44 | loss: 0.61908 | val_0_auc: 0.55291 | val_1_auc: 0.55404 |  0:37:05s\n",
            "epoch 45 | loss: 0.61845 | val_0_auc: 0.55081 | val_1_auc: 0.55353 |  0:37:53s\n",
            "epoch 46 | loss: 0.61969 | val_0_auc: 0.55182 | val_1_auc: 0.55223 |  0:38:42s\n",
            "epoch 47 | loss: 0.61877 | val_0_auc: 0.5406  | val_1_auc: 0.54362 |  0:39:34s\n",
            "epoch 48 | loss: 0.61893 | val_0_auc: 0.55472 | val_1_auc: 0.55521 |  0:40:23s\n",
            "epoch 49 | loss: 0.61849 | val_0_auc: 0.5563  | val_1_auc: 0.55737 |  0:41:11s\n",
            "epoch 50 | loss: 0.61837 | val_0_auc: 0.55806 | val_1_auc: 0.55775 |  0:42:01s\n",
            "epoch 51 | loss: 0.61831 | val_0_auc: 0.5532  | val_1_auc: 0.55626 |  0:42:50s\n",
            "epoch 52 | loss: 0.61652 | val_0_auc: 0.55433 | val_1_auc: 0.55782 |  0:43:38s\n",
            "epoch 53 | loss: 0.61965 | val_0_auc: 0.5581  | val_1_auc: 0.55861 |  0:44:27s\n",
            "epoch 54 | loss: 0.61884 | val_0_auc: 0.56251 | val_1_auc: 0.56072 |  0:45:19s\n",
            "epoch 55 | loss: 0.61717 | val_0_auc: 0.55146 | val_1_auc: 0.55321 |  0:46:10s\n",
            "epoch 56 | loss: 0.61725 | val_0_auc: 0.56142 | val_1_auc: 0.55944 |  0:46:59s\n",
            "epoch 57 | loss: 0.61682 | val_0_auc: 0.5649  | val_1_auc: 0.56535 |  0:47:49s\n",
            "epoch 58 | loss: 0.61687 | val_0_auc: 0.5527  | val_1_auc: 0.55558 |  0:48:41s\n",
            "epoch 59 | loss: 0.61764 | val_0_auc: 0.56056 | val_1_auc: 0.56079 |  0:49:31s\n",
            "epoch 60 | loss: 0.61746 | val_0_auc: 0.5566  | val_1_auc: 0.55698 |  0:50:23s\n",
            "epoch 61 | loss: 0.6168  | val_0_auc: 0.55711 | val_1_auc: 0.55843 |  0:51:13s\n",
            "epoch 62 | loss: 0.62498 | val_0_auc: 0.53939 | val_1_auc: 0.5418  |  0:52:02s\n",
            "epoch 63 | loss: 0.61876 | val_0_auc: 0.56689 | val_1_auc: 0.56666 |  0:52:52s\n",
            "epoch 64 | loss: 0.61655 | val_0_auc: 0.56533 | val_1_auc: 0.56317 |  0:53:43s\n",
            "epoch 65 | loss: 0.61642 | val_0_auc: 0.57679 | val_1_auc: 0.57468 |  0:54:32s\n",
            "epoch 66 | loss: 0.61554 | val_0_auc: 0.56419 | val_1_auc: 0.56293 |  0:55:21s\n",
            "epoch 67 | loss: 0.61577 | val_0_auc: 0.57292 | val_1_auc: 0.5694  |  0:56:10s\n",
            "epoch 68 | loss: 0.61516 | val_0_auc: 0.57071 | val_1_auc: 0.57148 |  0:57:02s\n",
            "epoch 69 | loss: 0.61518 | val_0_auc: 0.5775  | val_1_auc: 0.57499 |  0:57:52s\n",
            "epoch 70 | loss: 0.6148  | val_0_auc: 0.57598 | val_1_auc: 0.57369 |  0:58:41s\n",
            "epoch 71 | loss: 0.61479 | val_0_auc: 0.57596 | val_1_auc: 0.57343 |  0:59:33s\n",
            "epoch 72 | loss: 0.61671 | val_0_auc: 0.56067 | val_1_auc: 0.56163 |  1:00:23s\n",
            "epoch 73 | loss: 0.62453 | val_0_auc: 0.54448 | val_1_auc: 0.54392 |  1:01:12s\n",
            "epoch 74 | loss: 0.62553 | val_0_auc: 0.55095 | val_1_auc: 0.55104 |  1:02:01s\n",
            "epoch 75 | loss: 0.62029 | val_0_auc: 0.55892 | val_1_auc: 0.55605 |  1:02:53s\n",
            "epoch 76 | loss: 0.61775 | val_0_auc: 0.56322 | val_1_auc: 0.56056 |  1:03:42s\n",
            "epoch 77 | loss: 0.61709 | val_0_auc: 0.56704 | val_1_auc: 0.56845 |  1:04:31s\n",
            "epoch 78 | loss: 0.61743 | val_0_auc: 0.56384 | val_1_auc: 0.56126 |  1:05:20s\n",
            "epoch 79 | loss: 0.61661 | val_0_auc: 0.56708 | val_1_auc: 0.56386 |  1:06:12s\n",
            "epoch 80 | loss: 0.61566 | val_0_auc: 0.5712  | val_1_auc: 0.57065 |  1:07:01s\n",
            "epoch 81 | loss: 0.61572 | val_0_auc: 0.56399 | val_1_auc: 0.56272 |  1:07:50s\n",
            "epoch 82 | loss: 0.61841 | val_0_auc: 0.56859 | val_1_auc: 0.56716 |  1:08:42s\n",
            "epoch 83 | loss: 0.61656 | val_0_auc: 0.56521 | val_1_auc: 0.56462 |  1:09:31s\n",
            "epoch 84 | loss: 0.61624 | val_0_auc: 0.56718 | val_1_auc: 0.56464 |  1:10:20s\n",
            "epoch 85 | loss: 0.61871 | val_0_auc: 0.56857 | val_1_auc: 0.56735 |  1:11:09s\n",
            "epoch 86 | loss: 0.6162  | val_0_auc: 0.56708 | val_1_auc: 0.56587 |  1:12:01s\n",
            "epoch 87 | loss: 0.61695 | val_0_auc: 0.57256 | val_1_auc: 0.56988 |  1:12:50s\n",
            "epoch 88 | loss: 0.61512 | val_0_auc: 0.57264 | val_1_auc: 0.5697  |  1:13:39s\n",
            "epoch 89 | loss: 0.61462 | val_0_auc: 0.57414 | val_1_auc: 0.57401 |  1:14:28s\n",
            "epoch 90 | loss: 0.61439 | val_0_auc: 0.57124 | val_1_auc: 0.57102 |  1:15:20s\n",
            "epoch 91 | loss: 0.61544 | val_0_auc: 0.55726 | val_1_auc: 0.55392 |  1:16:09s\n",
            "epoch 92 | loss: 0.61798 | val_0_auc: 0.55853 | val_1_auc: 0.55525 |  1:16:58s\n",
            "epoch 93 | loss: 0.61579 | val_0_auc: 0.57223 | val_1_auc: 0.57012 |  1:17:47s\n",
            "epoch 94 | loss: 0.61546 | val_0_auc: 0.57396 | val_1_auc: 0.57019 |  1:18:40s\n",
            "epoch 95 | loss: 0.61483 | val_0_auc: 0.57236 | val_1_auc: 0.57322 |  1:19:29s\n",
            "epoch 96 | loss: 0.61459 | val_0_auc: 0.573   | val_1_auc: 0.56921 |  1:20:18s\n",
            "epoch 97 | loss: 0.61542 | val_0_auc: 0.57532 | val_1_auc: 0.57268 |  1:21:11s\n",
            "epoch 98 | loss: 0.61485 | val_0_auc: 0.56837 | val_1_auc: 0.56666 |  1:22:00s\n",
            "epoch 99 | loss: 0.61537 | val_0_auc: 0.57253 | val_1_auc: 0.57157 |  1:22:50s\n",
            "Stop training because you reached max_epochs = 100 with best_epoch = 69 and best_val_1_auc = 0.57499\n"
          ]
        },
        {
          "name": "stderr",
          "output_type": "stream",
          "text": [
            "/usr/local/lib/python3.10/dist-packages/pytorch_tabnet/callbacks.py:172: UserWarning: Best weights from best epoch are automatically used!\n",
            "  warnings.warn(wrn_msg)\n"
          ]
        },
        {
          "ename": "NameError",
          "evalue": "name 'tabnet_model' is not defined",
          "output_type": "error",
          "traceback": [
            "\u001b[0;31m---------------------------------------------------------------------------\u001b[0m",
            "\u001b[0;31mNameError\u001b[0m                                 Traceback (most recent call last)",
            "\u001b[0;32m<ipython-input-31-a1b77a31314c>\u001b[0m in \u001b[0;36m<cell line: 21>\u001b[0;34m()\u001b[0m\n\u001b[1;32m     19\u001b[0m \u001b[0;34m\u001b[0m\u001b[0m\n\u001b[1;32m     20\u001b[0m \u001b[0;34m\u001b[0m\u001b[0m\n\u001b[0;32m---> 21\u001b[0;31m \u001b[0my_pred_train\u001b[0m \u001b[0;34m=\u001b[0m \u001b[0mtabnet_model\u001b[0m\u001b[0;34m.\u001b[0m\u001b[0mpredict\u001b[0m\u001b[0;34m(\u001b[0m\u001b[0mX_train\u001b[0m\u001b[0;34m)\u001b[0m\u001b[0;34m\u001b[0m\u001b[0;34m\u001b[0m\u001b[0m\n\u001b[0m\u001b[1;32m     22\u001b[0m \u001b[0;34m\u001b[0m\u001b[0m\n\u001b[1;32m     23\u001b[0m \u001b[0maccuracy_train\u001b[0m \u001b[0;34m=\u001b[0m \u001b[0maccuracy_score\u001b[0m\u001b[0;34m(\u001b[0m\u001b[0my_train\u001b[0m\u001b[0;34m,\u001b[0m\u001b[0my_pred_train\u001b[0m\u001b[0;34m)\u001b[0m\u001b[0;34m\u001b[0m\u001b[0;34m\u001b[0m\u001b[0m\n",
            "\u001b[0;31mNameError\u001b[0m: name 'tabnet_model' is not defined"
          ]
        }
      ],
      "source": [
        "from pytorch_tabnet.tab_model import TabNetClassifier\n",
        "label_encoder = LabelEncoder()\n",
        "\n",
        "X_train, X_test, y_train, y_test\n",
        "\n",
        "y_train = label_encoder.fit_transform(y_train)\n",
        "y_test = label_encoder.transform(y_test)\n",
        "X_train = X_train\n",
        "X_test = X_test\n",
        "\n",
        "clf = TabNetClassifier(  n_d = 32,\n",
        "  n_a = 32)\n",
        "clf.fit(\n",
        "  X_train, y_train,\n",
        "  eval_set=[(X_train, y_train),(X_test, y_test)],\n",
        "  max_epochs = 100,\n",
        "  patience =50\n",
        ")"
      ]
    },
    {
      "cell_type": "code",
      "execution_count": null,
      "metadata": {
        "colab": {
          "base_uri": "https://localhost:8080/"
        },
        "id": "V9RroJo9ZbuQ",
        "outputId": "da70a38c-cf0b-420d-c253-593553226754"
      },
      "outputs": [
        {
          "name": "stdout",
          "output_type": "stream",
          "text": [
            "TRAIN\n",
            "Accuracy: 0.6820903467217658\n",
            "Precision: 0.5731381605158701\n",
            "Recall: 0.1834043196177129\n",
            "F1 Score: 0.27788529299187614\n",
            "TEST\n",
            "Accuracy: 0.6830116413848712\n",
            "Precision: 0.5735015399194504\n",
            "Recall: 0.1833832051816219\n",
            "F1 Score: 0.2779037396320639\n"
          ]
        }
      ],
      "source": [
        "y_pred_train = clf.predict(X_train)\n",
        "\n",
        "accuracy_train = accuracy_score(y_train,y_pred_train)\n",
        "\n",
        "precision_train = precision_score(y_train, y_pred_train)\n",
        "\n",
        "recall_train = recall_score(y_train, y_pred_train)\n",
        "\n",
        "f1_train = f1_score(y_train, y_pred_train)\n",
        "print(\"TRAIN\")\n",
        "print(\"Accuracy:\", accuracy_train)\n",
        "print(\"Precision:\", precision_train)\n",
        "print(\"Recall:\", recall_train)\n",
        "print(\"F1 Score:\", f1_train)\n",
        "\n",
        "\n",
        "y_pred_test = clf.predict(X_test)\n",
        "\n",
        "accuracy_test = accuracy_score(y_test,y_pred_test)\n",
        "\n",
        "precision_test = precision_score(y_test,y_pred_test)\n",
        "\n",
        "recall_test = recall_score(y_test,y_pred_test)\n",
        "\n",
        "f1_test = f1_score(y_test,y_pred_test)\n",
        "print(\"TEST\")\n",
        "print(\"Accuracy:\", accuracy_test)\n",
        "print(\"Precision:\", precision_test)\n",
        "print(\"Recall:\", recall_test)\n",
        "print(\"F1 Score:\", f1_test)"
      ]
    },
    {
      "cell_type": "code",
      "execution_count": null,
      "metadata": {
        "colab": {
          "base_uri": "https://localhost:8080/"
        },
        "id": "w4xmjA5YC--i",
        "outputId": "52ff6db5-58f2-45e2-8e32-f0a0cde4cbee"
      },
      "outputs": [
        {
          "name": "stdout",
          "output_type": "stream",
          "text": [
            "Successfully saved model at ./tabnet_model_mai.zip\n"
          ]
        }
      ],
      "source": [
        "saving_path_name = \"./tabnet_model_mai\"\n",
        "saved_filepath = clf.save_model(saving_path_name)"
      ]
    },
    {
      "cell_type": "markdown",
      "metadata": {
        "id": "dj2928LfSMAa"
      },
      "source": [
        "# Machine Unlearning Approaches"
      ]
    },
    {
      "cell_type": "code",
      "execution_count": null,
      "metadata": {
        "id": "aEo74_nAQDz_"
      },
      "outputs": [],
      "source": [
        "path = '/content/SpeechCommands_VGGish.pth'\n",
        "architecture = 'VGGish'"
      ]
    },
    {
      "cell_type": "code",
      "execution_count": null,
      "metadata": {
        "id": "V62XxjnaP2OX"
      },
      "outputs": [],
      "source": [
        "def load_model(path,architecture):\n",
        "  if architecture == 'VGGish':\n",
        "    model = VGGish(num_classes=len(labels))\n",
        "  model.load_state_dict(torch.load(path))\n",
        "  model.to(device)\n",
        "  optimizer = optim.SGD(model.parameters(), lr=0.005,momentum=0.9)\n",
        "  criterion = torch.nn.CrossEntropyLoss()\n",
        "  return model,optimizer,criterion\n",
        "\n"
      ]
    },
    {
      "cell_type": "markdown",
      "metadata": {
        "id": "P3XqjWUy4n2B"
      },
      "source": [
        "Create forget set 1  train, 10 train, 100 examples"
      ]
    },
    {
      "cell_type": "code",
      "execution_count": null,
      "metadata": {
        "id": "dJkoAN1w4y9g"
      },
      "outputs": [],
      "source": [
        "def create_forget_set(forget_instances,train_set):\n",
        "  random.seed(42)\n",
        "  forget_set = []\n",
        "  remain_set = train_set\n",
        "  for i in range(forget_instances):\n",
        "    index = random.randint(0, (len(remain_set)-1))\n",
        "    forget_set.append(remain_set[i])\n",
        "    remain_set.pop(index)\n",
        "  return forget_set, remain_set\n"
      ]
    },
    {
      "cell_type": "code",
      "execution_count": null,
      "metadata": {
        "id": "HehhGfgSsu80"
      },
      "outputs": [],
      "source": [
        "forget_set, remain_set = create_forget_set(1000,train_mel)"
      ]
    },
    {
      "cell_type": "code",
      "execution_count": null,
      "metadata": {
        "id": "GmLUovBcsztN"
      },
      "outputs": [],
      "source": [
        "remain_loader,forget_loader,test_loader =  loaders(256,remain_set,forget_set,test_mel)"
      ]
    },
    {
      "cell_type": "markdown",
      "metadata": {
        "id": "Z-93OK2nNolH"
      },
      "source": [
        "# Naive Approach"
      ]
    },
    {
      "cell_type": "code",
      "execution_count": null,
      "metadata": {
        "id": "pWlcHZ8rNnVy"
      },
      "outputs": [],
      "source": [
        "def naive(model, remain_loader,forget_loader,test_loader,optimizer,criterion, device, n_epoch, log_interval,seed):\n",
        "    set_seed(seed)\n",
        "    losses = []\n",
        "    accuracies = []\n",
        "    forget_set_acc = evaluate(model, forget_loader, device)\n",
        "    print(f\"Staring forget set Accuracy: {forget_set_acc}\")\n",
        "    remain_set_acc = evaluate(model, remain_loader, device)\n",
        "    print(f\"Staring remain set Accuracy: {remain_set_acc}\")\n",
        "    test_set_acc = evaluate(model, test_loader, device)\n",
        "    print(f\"Staring test set Accuracy: {test_set_acc}\")\n",
        "\n",
        "    for epoch in tqdm(range(1, n_epoch + 1)):\n",
        "        model.train()\n",
        "        epoch_loss = 0.0\n",
        "\n",
        "        for batch_idx, (data, target) in enumerate(remain_loader):\n",
        "            data = data.to(device)\n",
        "            target = target.to(device)\n",
        "\n",
        "            optimizer.zero_grad()\n",
        "            output = model(data)\n",
        "            loss = criterion(output, target)\n",
        "            loss.backward()\n",
        "            optimizer.step()\n",
        "\n",
        "            epoch_loss += loss.item()\n",
        "\n",
        "        epoch_loss /= len(remain_loader)\n",
        "        accuracy = evaluate(model, remain_loader, device)\n",
        "        accuracies.append(accuracy)\n",
        "\n",
        "        losses.append(epoch_loss)\n",
        "\n",
        "        test_loss, test_accuracy = evaluate_test(model, test_loader, criterion, device)\n",
        "        forget_loss, forget_accuracy = evaluate_test(model, forget_loader, criterion, device)\n",
        "        print(f\"Epoch: {epoch}/{n_epoch}\\tRemain Loss: {epoch_loss:.6f}\\tRemain Accuracy: {accuracy:.2f}%\")\n",
        "        print(f'Test Loss: {test_loss:.6f}, Test Accuracy: {test_accuracy:.2f}%')\n",
        "        print(f'Forget Loss: {forget_loss:.6f}, Forget Accuracy: {forget_accuracy:.2f}%')"
      ]
    },
    {
      "cell_type": "code",
      "execution_count": null,
      "metadata": {
        "colab": {
          "base_uri": "https://localhost:8080/"
        },
        "id": "bCbYYcbSS1QY",
        "outputId": "efdfd588-136c-49b9-c85e-164b6d8005da"
      },
      "outputs": [
        {
          "name": "stdout",
          "output_type": "stream",
          "text": [
            "Staring forget set Accuracy: 0.0\n",
            "Staring remain set Accuracy: 3.944257361897256\n",
            "Staring test set Accuracy: 3.8891412994093595\n"
          ]
        },
        {
          "name": "stderr",
          "output_type": "stream",
          "text": [
            "  2%|▎         | 1/40 [00:14<09:41, 14.91s/it]"
          ]
        },
        {
          "name": "stdout",
          "output_type": "stream",
          "text": [
            "Epoch: 1/40\tRemain Loss: 3.244105\tRemain Accuracy: 14.67%\n",
            "Test Loss: 3.172553, Test Accuracy: 14.14%\n",
            "Forget Loss: 3.608317, Forget Accuracy: 0.10%\n"
          ]
        },
        {
          "name": "stderr",
          "output_type": "stream",
          "text": [
            "\r  5%|▌         | 2/40 [00:30<09:33, 15.08s/it]"
          ]
        },
        {
          "name": "stdout",
          "output_type": "stream",
          "text": [
            "Epoch: 2/40\tRemain Loss: 2.725851\tRemain Accuracy: 39.61%\n",
            "Test Loss: 2.304221, Test Accuracy: 38.62%\n",
            "Forget Loss: 3.129019, Forget Accuracy: 8.60%\n"
          ]
        },
        {
          "name": "stderr",
          "output_type": "stream",
          "text": [
            "\r  8%|▊         | 3/40 [00:45<09:28, 15.38s/it]"
          ]
        },
        {
          "name": "stdout",
          "output_type": "stream",
          "text": [
            "Epoch: 3/40\tRemain Loss: 1.911881\tRemain Accuracy: 39.31%\n",
            "Test Loss: 2.150649, Test Accuracy: 38.46%\n",
            "Forget Loss: 4.088039, Forget Accuracy: 7.90%\n"
          ]
        },
        {
          "name": "stderr",
          "output_type": "stream",
          "text": [
            "\r 10%|█         | 4/40 [01:01<09:13, 15.36s/it]"
          ]
        },
        {
          "name": "stdout",
          "output_type": "stream",
          "text": [
            "Epoch: 4/40\tRemain Loss: 1.345629\tRemain Accuracy: 64.57%\n",
            "Test Loss: 1.278977, Test Accuracy: 62.51%\n",
            "Forget Loss: 2.172512, Forget Accuracy: 37.70%\n"
          ]
        },
        {
          "name": "stderr",
          "output_type": "stream",
          "text": [
            "\r 12%|█▎        | 5/40 [01:15<08:50, 15.16s/it]"
          ]
        },
        {
          "name": "stdout",
          "output_type": "stream",
          "text": [
            "Epoch: 5/40\tRemain Loss: 1.023991\tRemain Accuracy: 72.80%\n",
            "Test Loss: 1.054537, Test Accuracy: 69.05%\n",
            "Forget Loss: 1.754024, Forget Accuracy: 45.40%\n"
          ]
        },
        {
          "name": "stderr",
          "output_type": "stream",
          "text": [
            "\r 15%|█▌        | 6/40 [01:30<08:32, 15.07s/it]"
          ]
        },
        {
          "name": "stdout",
          "output_type": "stream",
          "text": [
            "Epoch: 6/40\tRemain Loss: 0.865715\tRemain Accuracy: 76.73%\n",
            "Test Loss: 0.961002, Test Accuracy: 72.47%\n",
            "Forget Loss: 0.620568, Forget Accuracy: 82.00%\n"
          ]
        },
        {
          "name": "stderr",
          "output_type": "stream",
          "text": [
            "\r 18%|█▊        | 7/40 [01:46<08:20, 15.16s/it]"
          ]
        },
        {
          "name": "stdout",
          "output_type": "stream",
          "text": [
            "Epoch: 7/40\tRemain Loss: 0.743882\tRemain Accuracy: 80.36%\n",
            "Test Loss: 0.902560, Test Accuracy: 73.86%\n",
            "Forget Loss: 1.033339, Forget Accuracy: 70.80%\n"
          ]
        },
        {
          "name": "stderr",
          "output_type": "stream",
          "text": [
            "\r 20%|██        | 8/40 [02:01<08:09, 15.28s/it]"
          ]
        },
        {
          "name": "stdout",
          "output_type": "stream",
          "text": [
            "Epoch: 8/40\tRemain Loss: 0.662601\tRemain Accuracy: 78.55%\n",
            "Test Loss: 0.971000, Test Accuracy: 71.76%\n",
            "Forget Loss: 1.092363, Forget Accuracy: 65.00%\n"
          ]
        },
        {
          "name": "stderr",
          "output_type": "stream",
          "text": [
            "\r 22%|██▎       | 9/40 [02:16<07:50, 15.16s/it]"
          ]
        },
        {
          "name": "stdout",
          "output_type": "stream",
          "text": [
            "Epoch: 9/40\tRemain Loss: 0.598119\tRemain Accuracy: 83.23%\n",
            "Test Loss: 0.920185, Test Accuracy: 74.72%\n",
            "Forget Loss: 0.489704, Forget Accuracy: 85.40%\n"
          ]
        },
        {
          "name": "stderr",
          "output_type": "stream",
          "text": [
            "\r 25%|██▌       | 10/40 [02:31<07:33, 15.10s/it]"
          ]
        },
        {
          "name": "stdout",
          "output_type": "stream",
          "text": [
            "Epoch: 10/40\tRemain Loss: 0.554724\tRemain Accuracy: 85.39%\n",
            "Test Loss: 0.840546, Test Accuracy: 76.58%\n",
            "Forget Loss: 0.502903, Forget Accuracy: 84.70%\n"
          ]
        },
        {
          "name": "stderr",
          "output_type": "stream",
          "text": [
            "\r 28%|██▊       | 11/40 [02:46<07:17, 15.09s/it]"
          ]
        },
        {
          "name": "stdout",
          "output_type": "stream",
          "text": [
            "Epoch: 11/40\tRemain Loss: 0.478827\tRemain Accuracy: 86.48%\n",
            "Test Loss: 0.900072, Test Accuracy: 76.08%\n",
            "Forget Loss: 0.497534, Forget Accuracy: 85.40%\n"
          ]
        },
        {
          "name": "stderr",
          "output_type": "stream",
          "text": [
            "\r 30%|███       | 12/40 [03:02<07:06, 15.22s/it]"
          ]
        },
        {
          "name": "stdout",
          "output_type": "stream",
          "text": [
            "Epoch: 12/40\tRemain Loss: 0.447508\tRemain Accuracy: 87.19%\n",
            "Test Loss: 0.943356, Test Accuracy: 75.95%\n",
            "Forget Loss: 0.233262, Forget Accuracy: 93.10%\n"
          ]
        },
        {
          "name": "stderr",
          "output_type": "stream",
          "text": [
            "\r 32%|███▎      | 13/40 [03:17<06:49, 15.16s/it]"
          ]
        },
        {
          "name": "stdout",
          "output_type": "stream",
          "text": [
            "Epoch: 13/40\tRemain Loss: 0.409196\tRemain Accuracy: 89.72%\n",
            "Test Loss: 0.905944, Test Accuracy: 77.36%\n",
            "Forget Loss: 0.257265, Forget Accuracy: 93.80%\n"
          ]
        },
        {
          "name": "stderr",
          "output_type": "stream",
          "text": [
            "\r 35%|███▌      | 14/40 [03:32<06:31, 15.08s/it]"
          ]
        },
        {
          "name": "stdout",
          "output_type": "stream",
          "text": [
            "Epoch: 14/40\tRemain Loss: 0.386768\tRemain Accuracy: 89.68%\n",
            "Test Loss: 0.958005, Test Accuracy: 77.51%\n",
            "Forget Loss: 0.435993, Forget Accuracy: 87.20%\n"
          ]
        },
        {
          "name": "stderr",
          "output_type": "stream",
          "text": [
            "\r 38%|███▊      | 15/40 [03:46<06:15, 15.01s/it]"
          ]
        },
        {
          "name": "stdout",
          "output_type": "stream",
          "text": [
            "Epoch: 15/40\tRemain Loss: 0.374272\tRemain Accuracy: 90.30%\n",
            "Test Loss: 0.979086, Test Accuracy: 77.29%\n",
            "Forget Loss: 0.282584, Forget Accuracy: 91.00%\n"
          ]
        },
        {
          "name": "stderr",
          "output_type": "stream",
          "text": [
            "\r 40%|████      | 16/40 [04:02<06:03, 15.17s/it]"
          ]
        },
        {
          "name": "stdout",
          "output_type": "stream",
          "text": [
            "Epoch: 16/40\tRemain Loss: 0.326365\tRemain Accuracy: 90.91%\n",
            "Test Loss: 0.997680, Test Accuracy: 76.56%\n",
            "Forget Loss: 0.276950, Forget Accuracy: 91.30%\n"
          ]
        },
        {
          "name": "stderr",
          "output_type": "stream",
          "text": [
            "\r 42%|████▎     | 17/40 [04:17<05:48, 15.13s/it]"
          ]
        },
        {
          "name": "stdout",
          "output_type": "stream",
          "text": [
            "Epoch: 17/40\tRemain Loss: 0.326559\tRemain Accuracy: 90.50%\n",
            "Test Loss: 0.930402, Test Accuracy: 77.04%\n",
            "Forget Loss: 0.212186, Forget Accuracy: 93.70%\n"
          ]
        },
        {
          "name": "stderr",
          "output_type": "stream",
          "text": [
            "\r 45%|████▌     | 18/40 [04:32<05:31, 15.05s/it]"
          ]
        },
        {
          "name": "stdout",
          "output_type": "stream",
          "text": [
            "Epoch: 18/40\tRemain Loss: 0.356118\tRemain Accuracy: 84.55%\n",
            "Test Loss: 1.040396, Test Accuracy: 73.66%\n",
            "Forget Loss: 0.806855, Forget Accuracy: 77.80%\n"
          ]
        },
        {
          "name": "stderr",
          "output_type": "stream",
          "text": [
            "\r 48%|████▊     | 19/40 [04:47<05:14, 14.97s/it]"
          ]
        },
        {
          "name": "stdout",
          "output_type": "stream",
          "text": [
            "Epoch: 19/40\tRemain Loss: 0.347245\tRemain Accuracy: 92.36%\n",
            "Test Loss: 1.054175, Test Accuracy: 77.63%\n",
            "Forget Loss: 0.263877, Forget Accuracy: 92.20%\n"
          ]
        },
        {
          "name": "stderr",
          "output_type": "stream",
          "text": [
            "\r 50%|█████     | 20/40 [05:02<05:01, 15.08s/it]"
          ]
        },
        {
          "name": "stdout",
          "output_type": "stream",
          "text": [
            "Epoch: 20/40\tRemain Loss: 0.283402\tRemain Accuracy: 88.84%\n",
            "Test Loss: 1.219885, Test Accuracy: 74.77%\n",
            "Forget Loss: 0.327274, Forget Accuracy: 92.10%\n"
          ]
        },
        {
          "name": "stderr",
          "output_type": "stream",
          "text": [
            "\r 52%|█████▎    | 21/40 [05:17<04:48, 15.16s/it]"
          ]
        },
        {
          "name": "stdout",
          "output_type": "stream",
          "text": [
            "Epoch: 21/40\tRemain Loss: 0.301614\tRemain Accuracy: 92.58%\n",
            "Test Loss: 1.093618, Test Accuracy: 77.26%\n",
            "Forget Loss: 0.303042, Forget Accuracy: 90.80%\n"
          ]
        },
        {
          "name": "stderr",
          "output_type": "stream",
          "text": [
            "\r 55%|█████▌    | 22/40 [05:32<04:31, 15.06s/it]"
          ]
        },
        {
          "name": "stdout",
          "output_type": "stream",
          "text": [
            "Epoch: 22/40\tRemain Loss: 0.233333\tRemain Accuracy: 92.68%\n",
            "Test Loss: 1.035255, Test Accuracy: 76.87%\n",
            "Forget Loss: 0.156424, Forget Accuracy: 95.40%\n"
          ]
        },
        {
          "name": "stderr",
          "output_type": "stream",
          "text": [
            "\r 57%|█████▊    | 23/40 [05:47<04:14, 14.99s/it]"
          ]
        },
        {
          "name": "stdout",
          "output_type": "stream",
          "text": [
            "Epoch: 23/40\tRemain Loss: 0.275623\tRemain Accuracy: 93.82%\n",
            "Test Loss: 1.174077, Test Accuracy: 77.57%\n",
            "Forget Loss: 0.091726, Forget Accuracy: 97.40%\n"
          ]
        },
        {
          "name": "stderr",
          "output_type": "stream",
          "text": [
            "\r 60%|██████    | 24/40 [06:02<04:01, 15.12s/it]"
          ]
        },
        {
          "name": "stdout",
          "output_type": "stream",
          "text": [
            "Epoch: 24/40\tRemain Loss: 0.238702\tRemain Accuracy: 93.67%\n",
            "Test Loss: 1.080513, Test Accuracy: 76.69%\n",
            "Forget Loss: 0.139360, Forget Accuracy: 95.70%\n"
          ]
        },
        {
          "name": "stderr",
          "output_type": "stream",
          "text": [
            "\r 62%|██████▎   | 25/40 [06:23<04:09, 16.60s/it]"
          ]
        },
        {
          "name": "stdout",
          "output_type": "stream",
          "text": [
            "Epoch: 25/40\tRemain Loss: 0.243276\tRemain Accuracy: 92.95%\n",
            "Test Loss: 1.021895, Test Accuracy: 77.00%\n",
            "Forget Loss: 0.181297, Forget Accuracy: 93.80%\n"
          ]
        },
        {
          "name": "stderr",
          "output_type": "stream",
          "text": [
            "\r 65%|██████▌   | 26/40 [06:39<03:51, 16.52s/it]"
          ]
        },
        {
          "name": "stdout",
          "output_type": "stream",
          "text": [
            "Epoch: 26/40\tRemain Loss: 0.220100\tRemain Accuracy: 92.83%\n",
            "Test Loss: 1.051682, Test Accuracy: 76.51%\n",
            "Forget Loss: 0.504750, Forget Accuracy: 84.30%\n"
          ]
        },
        {
          "name": "stderr",
          "output_type": "stream",
          "text": [
            "\r 68%|██████▊   | 27/40 [06:54<03:31, 16.23s/it]"
          ]
        },
        {
          "name": "stdout",
          "output_type": "stream",
          "text": [
            "Epoch: 27/40\tRemain Loss: 0.218079\tRemain Accuracy: 95.92%\n",
            "Test Loss: 1.236592, Test Accuracy: 79.03%\n",
            "Forget Loss: 0.340123, Forget Accuracy: 90.70%\n"
          ]
        },
        {
          "name": "stderr",
          "output_type": "stream",
          "text": [
            "\r 70%|███████   | 28/40 [07:09<03:10, 15.88s/it]"
          ]
        },
        {
          "name": "stdout",
          "output_type": "stream",
          "text": [
            "Epoch: 28/40\tRemain Loss: 0.189948\tRemain Accuracy: 95.18%\n",
            "Test Loss: 1.275207, Test Accuracy: 76.86%\n",
            "Forget Loss: 0.093833, Forget Accuracy: 97.50%\n"
          ]
        },
        {
          "name": "stderr",
          "output_type": "stream",
          "text": [
            "\r 72%|███████▎  | 29/40 [07:24<02:51, 15.55s/it]"
          ]
        },
        {
          "name": "stdout",
          "output_type": "stream",
          "text": [
            "Epoch: 29/40\tRemain Loss: 0.180787\tRemain Accuracy: 95.77%\n",
            "Test Loss: 1.183386, Test Accuracy: 78.29%\n",
            "Forget Loss: 0.090752, Forget Accuracy: 97.40%\n"
          ]
        },
        {
          "name": "stderr",
          "output_type": "stream",
          "text": [
            "\r 75%|███████▌  | 30/40 [07:39<02:33, 15.30s/it]"
          ]
        },
        {
          "name": "stdout",
          "output_type": "stream",
          "text": [
            "Epoch: 30/40\tRemain Loss: 0.165265\tRemain Accuracy: 95.33%\n",
            "Test Loss: 1.679964, Test Accuracy: 77.35%\n",
            "Forget Loss: 0.198949, Forget Accuracy: 94.40%\n"
          ]
        },
        {
          "name": "stderr",
          "output_type": "stream",
          "text": [
            "\r 78%|███████▊  | 31/40 [07:54<02:17, 15.25s/it]"
          ]
        },
        {
          "name": "stdout",
          "output_type": "stream",
          "text": [
            "Epoch: 31/40\tRemain Loss: 0.208845\tRemain Accuracy: 95.75%\n",
            "Test Loss: 1.342620, Test Accuracy: 78.08%\n",
            "Forget Loss: 0.165217, Forget Accuracy: 95.20%\n"
          ]
        },
        {
          "name": "stderr",
          "output_type": "stream",
          "text": [
            "\r 80%|████████  | 32/40 [08:09<02:02, 15.25s/it]"
          ]
        },
        {
          "name": "stdout",
          "output_type": "stream",
          "text": [
            "Epoch: 32/40\tRemain Loss: 0.204890\tRemain Accuracy: 96.36%\n",
            "Test Loss: 1.435605, Test Accuracy: 78.27%\n",
            "Forget Loss: 0.074024, Forget Accuracy: 98.70%\n"
          ]
        },
        {
          "name": "stderr",
          "output_type": "stream",
          "text": [
            "\r 82%|████████▎ | 33/40 [08:24<01:45, 15.11s/it]"
          ]
        },
        {
          "name": "stdout",
          "output_type": "stream",
          "text": [
            "Epoch: 33/40\tRemain Loss: 0.201411\tRemain Accuracy: 95.90%\n",
            "Test Loss: 1.202666, Test Accuracy: 78.29%\n",
            "Forget Loss: 0.186552, Forget Accuracy: 94.60%\n"
          ]
        },
        {
          "name": "stderr",
          "output_type": "stream",
          "text": [
            "\r 85%|████████▌ | 34/40 [08:39<01:30, 15.03s/it]"
          ]
        },
        {
          "name": "stdout",
          "output_type": "stream",
          "text": [
            "Epoch: 34/40\tRemain Loss: 0.198100\tRemain Accuracy: 95.96%\n",
            "Test Loss: 1.314637, Test Accuracy: 78.02%\n",
            "Forget Loss: 0.146397, Forget Accuracy: 96.20%\n"
          ]
        },
        {
          "name": "stderr",
          "output_type": "stream",
          "text": [
            "\r 88%|████████▊ | 35/40 [08:54<01:14, 14.97s/it]"
          ]
        },
        {
          "name": "stdout",
          "output_type": "stream",
          "text": [
            "Epoch: 35/40\tRemain Loss: 0.169026\tRemain Accuracy: 97.51%\n",
            "Test Loss: 1.381911, Test Accuracy: 78.40%\n",
            "Forget Loss: 0.084545, Forget Accuracy: 97.80%\n"
          ]
        },
        {
          "name": "stderr",
          "output_type": "stream",
          "text": [
            "\r 90%|█████████ | 36/40 [09:09<01:00, 15.12s/it]"
          ]
        },
        {
          "name": "stdout",
          "output_type": "stream",
          "text": [
            "Epoch: 36/40\tRemain Loss: 0.118308\tRemain Accuracy: 97.07%\n",
            "Test Loss: 1.450566, Test Accuracy: 78.41%\n",
            "Forget Loss: 0.098081, Forget Accuracy: 97.60%\n"
          ]
        },
        {
          "name": "stderr",
          "output_type": "stream",
          "text": [
            "\r 92%|█████████▎| 37/40 [09:24<00:45, 15.09s/it]"
          ]
        },
        {
          "name": "stdout",
          "output_type": "stream",
          "text": [
            "Epoch: 37/40\tRemain Loss: 0.129358\tRemain Accuracy: 96.69%\n",
            "Test Loss: 1.495320, Test Accuracy: 77.65%\n",
            "Forget Loss: 0.100799, Forget Accuracy: 97.10%\n"
          ]
        },
        {
          "name": "stderr",
          "output_type": "stream",
          "text": [
            "\r 95%|█████████▌| 38/40 [09:39<00:29, 14.97s/it]"
          ]
        },
        {
          "name": "stdout",
          "output_type": "stream",
          "text": [
            "Epoch: 38/40\tRemain Loss: 0.153309\tRemain Accuracy: 95.02%\n",
            "Test Loss: 1.294568, Test Accuracy: 76.62%\n",
            "Forget Loss: 0.281569, Forget Accuracy: 90.70%\n"
          ]
        },
        {
          "name": "stderr",
          "output_type": "stream",
          "text": [
            "\r 98%|█████████▊| 39/40 [09:54<00:14, 14.89s/it]"
          ]
        },
        {
          "name": "stdout",
          "output_type": "stream",
          "text": [
            "Epoch: 39/40\tRemain Loss: 0.131531\tRemain Accuracy: 96.79%\n",
            "Test Loss: 1.352163, Test Accuracy: 77.88%\n",
            "Forget Loss: 0.154892, Forget Accuracy: 95.80%\n"
          ]
        },
        {
          "name": "stderr",
          "output_type": "stream",
          "text": [
            "100%|██████████| 40/40 [10:09<00:00, 15.23s/it]"
          ]
        },
        {
          "name": "stdout",
          "output_type": "stream",
          "text": [
            "Epoch: 40/40\tRemain Loss: 0.145609\tRemain Accuracy: 96.67%\n",
            "Test Loss: 1.505620, Test Accuracy: 77.07%\n",
            "Forget Loss: 0.145919, Forget Accuracy: 96.10%\n"
          ]
        },
        {
          "name": "stderr",
          "output_type": "stream",
          "text": [
            "\n"
          ]
        }
      ],
      "source": [
        "model = VGGish(num_classes=len(labels))\n",
        "model.to(device)\n",
        "optimizer = optim.SGD(model.parameters(), lr=0.01,momentum=0.9)\n",
        "criterion = torch.nn.CrossEntropyLoss()\n",
        "naive(model, remain_loader,forget_loader,test_loader,optimizer,criterion, device, 40, 1,42)"
      ]
    },
    {
      "cell_type": "markdown",
      "metadata": {
        "id": "mIwKIvL7WWN5"
      },
      "source": [
        "# Gradient Ascent"
      ]
    },
    {
      "cell_type": "code",
      "execution_count": null,
      "metadata": {
        "id": "15jAplWESOv6"
      },
      "outputs": [],
      "source": [
        "def GradientAscent(model,remain_loader,test_loader,forget_loader, optimizer, criterion, device, n_epoch, log_interval, seed):\n",
        "    set_seed(seed)\n",
        "    model.to(device)\n",
        "    losses = []\n",
        "    accuracies = []\n",
        "    forget_set_acc = evaluate(model, forget_loader, device)\n",
        "    print(f\"Staring forget set Accuracy: {forget_set_acc}\")\n",
        "    remain_set_acc = evaluate(model, remain_loader, device)\n",
        "    print(f\"Staring remain set Accuracy: {remain_set_acc}\")\n",
        "    test_set_acc = evaluate(model, test_loader, device)\n",
        "    print(f\"Staring test set Accuracy: {test_set_acc}\")\n",
        "    for epoch in tqdm(range(1, n_epoch + 1)):\n",
        "        epoch_loss = 0.0\n",
        "        model.train()\n",
        "\n",
        "        for batch_idx, (data, target) in enumerate(forget_loader):\n",
        "            data = data.to(device)\n",
        "            target = target.to(device)\n",
        "            optimizer.zero_grad()\n",
        "            output = model(data)\n",
        "            loss = -criterion(output, target)\n",
        "            optimizer.zero_grad()\n",
        "            loss.backward()\n",
        "            optimizer.step()\n",
        "            epoch_loss += loss.item()\n",
        "\n",
        "        epoch_loss /= len(forget_loader)\n",
        "        accuracy = evaluate(model, forget_loader, device)\n",
        "        accuracies.append(accuracy)\n",
        "\n",
        "        losses.append(epoch_loss)\n",
        "\n",
        "        remain_loss, remain_accuracy = evaluate_test(model, remain_loader, criterion, device)\n",
        "        test_loss, test_accuracy = evaluate_test(model, test_loader, criterion, device)\n",
        "        print(f\"Epoch: {epoch}/{n_epoch}\\tForget Loss: {epoch_loss:.6f}\\tForget Accuracy: {accuracy:.2f}%\")\n",
        "        print(f'Remain Loss: {remain_loss:.6f}, Remain Accuracy: {remain_accuracy:.2f}%')\n",
        "        print(f'Test Loss: {test_loss:.6f}, Test Accuracy: {test_accuracy:.2f}%')\n",
        "    return model\n"
      ]
    },
    {
      "cell_type": "code",
      "execution_count": null,
      "metadata": {
        "id": "wE2ao4h9JztA"
      },
      "outputs": [],
      "source": [
        "model,optimizer,criterion, = load_model(path,architecture)"
      ]
    },
    {
      "cell_type": "code",
      "execution_count": null,
      "metadata": {
        "colab": {
          "base_uri": "https://localhost:8080/"
        },
        "id": "oxZBBjkpKaB3",
        "outputId": "4026d88e-8674-4905-8328-0935bf4ea926"
      },
      "outputs": [
        {
          "name": "stdout",
          "output_type": "stream",
          "text": [
            "Staring forget set Accuracy: 97.9\n",
            "Staring remain set Accuracy: 97.5949941486948\n",
            "Staring test set Accuracy: 77.70104497955475\n"
          ]
        },
        {
          "name": "stderr",
          "output_type": "stream",
          "text": [
            "100%|██████████| 1/1 [00:05<00:00,  5.40s/it]"
          ]
        },
        {
          "name": "stdout",
          "output_type": "stream",
          "text": [
            "Epoch: 1/1\tForget Loss: -0.340262\tForget Accuracy: 23.80%\n",
            "Remain Loss: 0.667800, Remain Accuracy: 87.09%\n",
            "Test Loss: 2.560647, Test Accuracy: 71.24%\n"
          ]
        },
        {
          "name": "stderr",
          "output_type": "stream",
          "text": [
            "\n"
          ]
        }
      ],
      "source": [
        "GA_model = GradientAscent(model,remain_loader,test_loader,forget_loader, optimizer, criterion, device, 1, 1, 42)"
      ]
    },
    {
      "cell_type": "code",
      "execution_count": null,
      "metadata": {
        "id": "f4EIy5l3t8iG"
      },
      "outputs": [],
      "source": [
        "optimizer_new = optim.SGD(model.parameters(), lr=0.005,momentum=0.9)\n",
        "scheduler_new = optim.lr_scheduler.StepLR(optimizer, step_size=20, gamma=0.1)\n",
        "criterion_new = torch.nn.CrossEntropyLoss()"
      ]
    },
    {
      "cell_type": "code",
      "execution_count": null,
      "metadata": {
        "colab": {
          "base_uri": "https://localhost:8080/"
        },
        "id": "EmYD1WoAtufU",
        "outputId": "78cefce6-5fa7-4d8d-caf3-78615cda2c34"
      },
      "outputs": [
        {
          "name": "stdout",
          "output_type": "stream",
          "text": [
            "Staring forget set Accuracy: 23.8\n",
            "Staring remain set Accuracy: 87.08533352439636\n",
            "Staring test set Accuracy: 71.240345297592\n"
          ]
        },
        {
          "name": "stderr",
          "output_type": "stream",
          "text": [
            " 25%|██▌       | 1/4 [00:14<00:44, 14.97s/it]"
          ]
        },
        {
          "name": "stdout",
          "output_type": "stream",
          "text": [
            "Epoch: 1/4\tRemain Loss: 0.063721\tRemain Accuracy: 99.30%\n",
            "Test Loss: 1.906918, Test Accuracy: 78.99%\n",
            "Forget Loss: 0.015506, Forget Accuracy: 99.60%\n"
          ]
        },
        {
          "name": "stderr",
          "output_type": "stream",
          "text": [
            "\r 50%|█████     | 2/4 [00:30<00:30, 15.04s/it]"
          ]
        },
        {
          "name": "stdout",
          "output_type": "stream",
          "text": [
            "Epoch: 2/4\tRemain Loss: 0.034052\tRemain Accuracy: 99.14%\n",
            "Test Loss: 1.691828, Test Accuracy: 78.25%\n",
            "Forget Loss: 0.035872, Forget Accuracy: 99.20%\n"
          ]
        },
        {
          "name": "stderr",
          "output_type": "stream",
          "text": [
            "\r 75%|███████▌  | 3/4 [00:45<00:15, 15.32s/it]"
          ]
        },
        {
          "name": "stdout",
          "output_type": "stream",
          "text": [
            "Epoch: 3/4\tRemain Loss: 0.022620\tRemain Accuracy: 99.59%\n",
            "Test Loss: 2.111296, Test Accuracy: 78.90%\n",
            "Forget Loss: 0.015596, Forget Accuracy: 99.70%\n"
          ]
        },
        {
          "name": "stderr",
          "output_type": "stream",
          "text": [
            "100%|██████████| 4/4 [01:00<00:00, 15.24s/it]"
          ]
        },
        {
          "name": "stdout",
          "output_type": "stream",
          "text": [
            "Epoch: 4/4\tRemain Loss: 0.012421\tRemain Accuracy: 99.76%\n",
            "Test Loss: 2.382092, Test Accuracy: 79.64%\n",
            "Forget Loss: 0.007869, Forget Accuracy: 99.80%\n"
          ]
        },
        {
          "name": "stderr",
          "output_type": "stream",
          "text": [
            "\n"
          ]
        }
      ],
      "source": [
        "GA_model = fine_tuning(model, remain_loader,forget_loader,test_loader,optimizer_new,criterion_new, device, 4, 1,42)"
      ]
    },
    {
      "cell_type": "markdown",
      "metadata": {
        "id": "ld8lnTbF7mb3"
      },
      "source": [
        "# Fine tuning"
      ]
    },
    {
      "cell_type": "code",
      "execution_count": null,
      "metadata": {
        "id": "45HkeTBj36zv"
      },
      "outputs": [],
      "source": [
        "def fine_tuning(model, remain_loader,forget_loader,test_loader,optimizer,criterion, device, n_epoch, log_interval,seed):\n",
        "    set_seed(seed)\n",
        "    losses = []\n",
        "    accuracies = []\n",
        "    forget_set_acc = evaluate(model, forget_loader, device)\n",
        "    print(f\"Staring forget set Accuracy: {forget_set_acc}\")\n",
        "    remain_set_acc = evaluate(model, remain_loader, device)\n",
        "    print(f\"Staring remain set Accuracy: {remain_set_acc}\")\n",
        "    test_set_acc = evaluate(model, test_loader, device)\n",
        "    print(f\"Staring test set Accuracy: {test_set_acc}\")\n",
        "\n",
        "    for epoch in tqdm(range(1, n_epoch + 1)):\n",
        "        model.train()\n",
        "        epoch_loss = 0.0\n",
        "\n",
        "        for batch_idx, (data, target) in enumerate(remain_loader):\n",
        "            data = data.to(device)\n",
        "            target = target.to(device)\n",
        "\n",
        "            optimizer.zero_grad()\n",
        "            output = model(data)\n",
        "            loss = criterion(output, target)\n",
        "            loss.backward()\n",
        "            optimizer.step()\n",
        "\n",
        "            epoch_loss += loss.item()\n",
        "\n",
        "        epoch_loss /= len(remain_loader)\n",
        "        accuracy = evaluate(model, remain_loader, device)\n",
        "        accuracies.append(accuracy)\n",
        "\n",
        "        losses.append(epoch_loss)\n",
        "\n",
        "        test_loss, test_accuracy = evaluate_test(model, test_loader, criterion, device)\n",
        "        forget_loss, forget_accuracy = evaluate_test(model, forget_loader, criterion, device)\n",
        "        print(f\"Epoch: {epoch}/{n_epoch}\\tRemain Loss: {epoch_loss:.6f}\\tRemain Accuracy: {accuracy:.2f}%\")\n",
        "        print(f'Test Loss: {test_loss:.6f}, Test Accuracy: {test_accuracy:.2f}%')\n",
        "        print(f'Forget Loss: {forget_loss:.6f}, Forget Accuracy: {forget_accuracy:.2f}%')\n",
        "\n",
        "    # return model"
      ]
    },
    {
      "cell_type": "code",
      "execution_count": null,
      "metadata": {
        "id": "XASrkETAyCg9"
      },
      "outputs": [],
      "source": [
        "model,optimizer,criterion, = load_model(path,architecture)"
      ]
    },
    {
      "cell_type": "code",
      "execution_count": null,
      "metadata": {
        "colab": {
          "base_uri": "https://localhost:8080/"
        },
        "id": "6RtCs7Q1OdkT",
        "outputId": "43a853de-519d-4f45-e9e0-f3b9d0aa96cc"
      },
      "outputs": [
        {
          "name": "stdout",
          "output_type": "stream",
          "text": [
            "Staring forget set Accuracy: 97.9\n",
            "Staring remain set Accuracy: 97.5949941486948\n",
            "Staring test set Accuracy: 77.70104497955475\n"
          ]
        },
        {
          "name": "stderr",
          "output_type": "stream",
          "text": [
            " 10%|█         | 1/10 [00:15<02:19, 15.51s/it]"
          ]
        },
        {
          "name": "stdout",
          "output_type": "stream",
          "text": [
            "Epoch: 1/10\tRemain Loss: 0.048912\tRemain Accuracy: 99.30%\n",
            "Test Loss: 1.823260, Test Accuracy: 79.26%\n",
            "Forget Loss: 0.018450, Forget Accuracy: 99.60%\n"
          ]
        },
        {
          "name": "stderr",
          "output_type": "stream",
          "text": [
            "\r 20%|██        | 2/10 [00:30<02:02, 15.30s/it]"
          ]
        },
        {
          "name": "stdout",
          "output_type": "stream",
          "text": [
            "Epoch: 2/10\tRemain Loss: 0.024615\tRemain Accuracy: 99.25%\n",
            "Test Loss: 2.109015, Test Accuracy: 78.70%\n",
            "Forget Loss: 0.010681, Forget Accuracy: 99.80%\n"
          ]
        },
        {
          "name": "stderr",
          "output_type": "stream",
          "text": [
            "\r 30%|███       | 3/10 [00:45<01:45, 15.08s/it]"
          ]
        },
        {
          "name": "stdout",
          "output_type": "stream",
          "text": [
            "Epoch: 3/10\tRemain Loss: 0.015282\tRemain Accuracy: 99.67%\n",
            "Test Loss: 2.447355, Test Accuracy: 79.01%\n",
            "Forget Loss: 0.024071, Forget Accuracy: 99.60%\n"
          ]
        },
        {
          "name": "stderr",
          "output_type": "stream",
          "text": [
            "\r 40%|████      | 4/10 [01:00<01:30, 15.12s/it]"
          ]
        },
        {
          "name": "stdout",
          "output_type": "stream",
          "text": [
            "Epoch: 4/10\tRemain Loss: 0.020316\tRemain Accuracy: 99.67%\n",
            "Test Loss: 2.357532, Test Accuracy: 79.51%\n",
            "Forget Loss: 0.007529, Forget Accuracy: 99.90%\n"
          ]
        },
        {
          "name": "stderr",
          "output_type": "stream",
          "text": [
            "\r 50%|█████     | 5/10 [01:15<01:15, 15.17s/it]"
          ]
        },
        {
          "name": "stdout",
          "output_type": "stream",
          "text": [
            "Epoch: 5/10\tRemain Loss: 0.013355\tRemain Accuracy: 99.71%\n",
            "Test Loss: 2.485144, Test Accuracy: 79.52%\n",
            "Forget Loss: 0.011518, Forget Accuracy: 99.60%\n"
          ]
        },
        {
          "name": "stderr",
          "output_type": "stream",
          "text": [
            "\r 60%|██████    | 6/10 [01:30<01:00, 15.06s/it]"
          ]
        },
        {
          "name": "stdout",
          "output_type": "stream",
          "text": [
            "Epoch: 6/10\tRemain Loss: 0.031569\tRemain Accuracy: 99.04%\n",
            "Test Loss: 2.061207, Test Accuracy: 78.71%\n",
            "Forget Loss: 0.012432, Forget Accuracy: 99.60%\n"
          ]
        },
        {
          "name": "stderr",
          "output_type": "stream",
          "text": [
            "\r 70%|███████   | 7/10 [01:46<00:45, 15.19s/it]"
          ]
        },
        {
          "name": "stdout",
          "output_type": "stream",
          "text": [
            "Epoch: 7/10\tRemain Loss: 0.026904\tRemain Accuracy: 99.74%\n",
            "Test Loss: 2.230119, Test Accuracy: 79.54%\n",
            "Forget Loss: 0.015845, Forget Accuracy: 99.70%\n"
          ]
        },
        {
          "name": "stderr",
          "output_type": "stream",
          "text": [
            "\r 80%|████████  | 8/10 [02:01<00:30, 15.15s/it]"
          ]
        },
        {
          "name": "stdout",
          "output_type": "stream",
          "text": [
            "Epoch: 8/10\tRemain Loss: 0.011148\tRemain Accuracy: 99.83%\n",
            "Test Loss: 2.496648, Test Accuracy: 79.49%\n",
            "Forget Loss: 0.006300, Forget Accuracy: 99.90%\n"
          ]
        },
        {
          "name": "stderr",
          "output_type": "stream",
          "text": [
            "\r 90%|█████████ | 9/10 [02:16<00:15, 15.26s/it]"
          ]
        },
        {
          "name": "stdout",
          "output_type": "stream",
          "text": [
            "Epoch: 9/10\tRemain Loss: 0.010208\tRemain Accuracy: 99.77%\n",
            "Test Loss: 2.446600, Test Accuracy: 79.31%\n",
            "Forget Loss: 0.008183, Forget Accuracy: 99.80%\n"
          ]
        },
        {
          "name": "stderr",
          "output_type": "stream",
          "text": [
            "100%|██████████| 10/10 [02:31<00:00, 15.16s/it]"
          ]
        },
        {
          "name": "stdout",
          "output_type": "stream",
          "text": [
            "Epoch: 10/10\tRemain Loss: 0.024242\tRemain Accuracy: 99.68%\n",
            "Test Loss: 2.188324, Test Accuracy: 79.28%\n",
            "Forget Loss: 0.007187, Forget Accuracy: 99.90%\n"
          ]
        },
        {
          "name": "stderr",
          "output_type": "stream",
          "text": [
            "\n"
          ]
        }
      ],
      "source": [
        "fine_tuning(model, remain_loader,forget_loader,test_loader,optimizer,criterion, device, 10, 1,42)"
      ]
    },
    {
      "cell_type": "markdown",
      "metadata": {
        "id": "dl5ySEGJ7pye"
      },
      "source": [
        "# Knowledge distillation\n",
        "\n",
        "Machine Unlearning Methodology base on Stochastic Teacher Network and incompetant teacher"
      ]
    },
    {
      "cell_type": "code",
      "execution_count": null,
      "metadata": {
        "id": "wRA0nz_MRqfV"
      },
      "outputs": [],
      "source": [
        "def train_knowledge_distillation(optimizer,criterion,teacher, student, train_loader, epochs, T, soft_target_loss_weight,ce_loss_weight,device):\n",
        "    teacher.eval()  # Teacher set to evaluation mode\n",
        "    student.train() # Student to train mode\n",
        "    teacher.to(device)\n",
        "    student.to(device)\n",
        "    for epoch in range(epochs):\n",
        "        running_loss = 0.0\n",
        "        for inputs, labels in train_loader:\n",
        "            inputs, labels = inputs.to(device), labels.to(device)\n",
        "\n",
        "            optimizer.zero_grad()\n",
        "\n",
        "            # Forward pass with the teacher model - do not save gradients here as we do not change the teacher's weights\n",
        "            with torch.no_grad():\n",
        "                teacher_logits = teacher(inputs)\n",
        "\n",
        "            # Forward pass with the student model\n",
        "            student_logits = student(inputs)\n",
        "            #Soften the student logits by applying softmax first and log() second\n",
        "            soft_targets = nn.functional.softmax(teacher_logits / T, dim=-1)\n",
        "            soft_prob = nn.functional.log_softmax(student_logits / T, dim=-1)\n",
        "\n",
        "            # Calculate the soft targets loss. Scaled by T**2 as suggested by the authors of the paper \"Distilling the knowledge in a neural network\"\n",
        "            soft_targets_loss = torch.sum(soft_targets * (soft_targets.log() - soft_prob)) / soft_prob.size()[0] * (T**2)\n",
        "\n",
        "            # Calculate the true label loss\n",
        "            label_loss = criterion(student_logits, labels)\n",
        "\n",
        "            # Weighted sum of the two losses\n",
        "            loss = soft_target_loss_weight * soft_targets_loss + ce_loss_weight * label_loss\n",
        "\n",
        "            loss.backward()\n",
        "            optimizer.step()\n",
        "\n",
        "            running_loss += loss.item()\n",
        "\n",
        "        print(f\"Epoch {epoch+1}/{epochs}, Loss: {running_loss / len(train_loader)}\")\n",
        "    return student\n"
      ]
    },
    {
      "cell_type": "code",
      "execution_count": null,
      "metadata": {
        "id": "dibp5sJHSjBj"
      },
      "outputs": [],
      "source": [
        "def stochastic_teacher_unlearning(model,forget_loader,remain_loader,test_loader,optimizer_bt,optimizer_gt,criterion_bt,criterion_gt,device,architecture='VGG'):\n",
        "  if architecture =='VGG':\n",
        "    stochastic_teacher = VGGish(num_classes = len(labels))\n",
        "\n",
        "  forget_set_acc = evaluate(model, forget_loader, device)\n",
        "  print(f\"Staring forget set Accuracy: {forget_set_acc}\")\n",
        "  remain_set_acc = evaluate(model, remain_loader, device)\n",
        "  print(f\"Staring remain set Accuracy: {remain_set_acc}\")\n",
        "  test_set_acc = evaluate(model, test_loader, device)\n",
        "  print(f\"Staring test set Accuracy: {test_set_acc}\")\n",
        "  orignial_model = deepcopy(model)\n",
        "  erased_model = train_knowledge_distillation(optimizer_bt,criterion_bt,teacher=stochastic_teacher, student=model, train_loader=forget_loader, epochs=1, T=1, soft_target_loss_weight=0.5,ce_loss_weight=0.5,device=device)\n",
        "  retrained_model = train_knowledge_distillation(optimizer_gt,criterion_gt,teacher=orignial_model, student=erased_model, train_loader=remain_loader, epochs=1, T=1, soft_target_loss_weight=0,ce_loss_weight=1,device=device)\n",
        "\n",
        "  erased_forget_acc = evaluate(erased_model, forget_loader, device)\n",
        "  print(f\"Erased model forget set ACC: {erased_forget_acc}\")\n",
        "\n",
        "  retrained_forget_acc = evaluate(retrained_model, forget_loader, device)\n",
        "  print(f\"Retrained model forget set ACC: {retrained_forget_acc}\")\n",
        "\n",
        "  retrained_remain_acc = evaluate(retrained_model, remain_loader, device)\n",
        "  print(f\"Retrained model remain set ACC: {retrained_remain_acc}\")\n",
        "\n",
        "  retrained_test_acc = evaluate(retrained_model, test_loader, device)\n",
        "  print(f\"Retrained model test set ACC: {retrained_test_acc}\")\n"
      ]
    },
    {
      "cell_type": "code",
      "execution_count": null,
      "metadata": {
        "id": "YUzGBkJG8j4r"
      },
      "outputs": [],
      "source": [
        "model,optimizer,criterion, = load_model(path,architecture)\n",
        "model.to(device)\n",
        "optimizer_bt = optim.SGD(model.parameters(), lr=0.001,momentum=0.9)\n",
        "optimizer_gt = optim.SGD(model.parameters(), lr=0.01,momentum=0.9)\n",
        "criterion_bt = torch.nn.CrossEntropyLoss()\n",
        "criterion_gt = torch.nn.CrossEntropyLoss()"
      ]
    },
    {
      "cell_type": "code",
      "execution_count": null,
      "metadata": {
        "colab": {
          "base_uri": "https://localhost:8080/"
        },
        "id": "TJjzGelB8fAA",
        "outputId": "7a4fcdec-575b-4995-9e9f-f8a980f495ee"
      },
      "outputs": [
        {
          "name": "stdout",
          "output_type": "stream",
          "text": [
            "Staring forget set Accuracy: 97.9\n",
            "Staring remain set Accuracy: 97.5949941486948\n",
            "Staring test set Accuracy: 77.70104497955475\n",
            "Epoch 1/1, Loss: 7.100536644458771\n",
            "Epoch 1/1, Loss: nan\n",
            "Erased model forget set ACC: 90.7\n",
            "Retrained model forget set ACC: 90.7\n",
            "Retrained model remain set ACC: 95.88259176996011\n",
            "Retrained model test set ACC: 76.1744661517492\n"
          ]
        }
      ],
      "source": [
        "stochastic_teacher_unlearning(model,forget_loader,remain_loader,test_loader,optimizer_bt,optimizer_gt,criterion_bt,criterion_gt,device)"
      ]
    },
    {
      "cell_type": "markdown",
      "metadata": {
        "id": "wMDOOQnH7uRb"
      },
      "source": [
        "# Pruning First"
      ]
    },
    {
      "cell_type": "code",
      "execution_count": null,
      "metadata": {
        "id": "ock4-6ut7vFz"
      },
      "outputs": [],
      "source": [
        "def global_unstructured_pruning(model, pruning_ratio):\n",
        "    all_weights = []\n",
        "    for param in model.parameters():\n",
        "        all_weights.append(param.data.view(-1))\n",
        "    all_weights = torch.cat(all_weights)\n",
        "    threshold = np.percentile(all_weights.cpu().numpy(), pruning_ratio)\n",
        "\n",
        "    for param in model.parameters():\n",
        "        param.data[param.data.abs() < threshold] = 0"
      ]
    },
    {
      "cell_type": "code",
      "execution_count": null,
      "metadata": {
        "colab": {
          "base_uri": "https://localhost:8080/"
        },
        "id": "E-PHEkMhRUFy",
        "outputId": "b85cc7d5-ff9a-49ad-d7d0-b535309fe846"
      },
      "outputs": [
        {
          "name": "stdout",
          "output_type": "stream",
          "text": [
            "Staring forget set Accuracy: 82.8\n",
            "Staring remain set Accuracy: 92.24642353896492\n",
            "Staring test set Accuracy: 75.48387096774194\n"
          ]
        },
        {
          "name": "stderr",
          "output_type": "stream",
          "text": [
            " 50%|█████     | 1/2 [00:15<00:15, 15.58s/it]"
          ]
        },
        {
          "name": "stdout",
          "output_type": "stream",
          "text": [
            "Epoch: 1/2\tRemain Loss: 0.144572\tRemain Accuracy: 98.25%\n",
            "Test Loss: 1.560091, Test Accuracy: 78.57%\n",
            "Forget Loss: 0.039307, Forget Accuracy: 98.80%\n"
          ]
        },
        {
          "name": "stderr",
          "output_type": "stream",
          "text": [
            "100%|██████████| 2/2 [00:30<00:00, 15.45s/it]"
          ]
        },
        {
          "name": "stdout",
          "output_type": "stream",
          "text": [
            "Epoch: 2/2\tRemain Loss: 0.054575\tRemain Accuracy: 99.26%\n",
            "Test Loss: 1.621969, Test Accuracy: 79.32%\n",
            "Forget Loss: 0.032491, Forget Accuracy: 99.00%\n"
          ]
        },
        {
          "name": "stderr",
          "output_type": "stream",
          "text": [
            "\n"
          ]
        }
      ],
      "source": [
        "model,optimizer,criterion, = load_model(path,architecture)\n",
        "pruning_ratio = 95\n",
        "global_unstructured_pruning(model, pruning_ratio)\n",
        "\n",
        "fine_tuning(model, remain_loader,forget_loader,test_loader,optimizer,criterion, device, 2, 1,42)"
      ]
    },
    {
      "cell_type": "markdown",
      "metadata": {
        "id": "dUNDGPsy7wcB"
      },
      "source": [
        "Fisher"
      ]
    },
    {
      "cell_type": "code",
      "execution_count": null,
      "metadata": {
        "id": "0_0hs-SB7y15"
      },
      "outputs": [],
      "source": []
    }
  ],
  "metadata": {
    "accelerator": "GPU",
    "colab": {
      "gpuType": "T4",
      "provenance": []
    },
    "kernelspec": {
      "display_name": "Python 3",
      "name": "python3"
    },
    "language_info": {
      "codemirror_mode": {
        "name": "ipython",
        "version": 3
      },
      "file_extension": ".py",
      "mimetype": "text/x-python",
      "name": "python",
      "nbconvert_exporter": "python",
      "pygments_lexer": "ipython3",
      "version": "3.10.9"
    }
  },
  "nbformat": 4,
  "nbformat_minor": 0
}
